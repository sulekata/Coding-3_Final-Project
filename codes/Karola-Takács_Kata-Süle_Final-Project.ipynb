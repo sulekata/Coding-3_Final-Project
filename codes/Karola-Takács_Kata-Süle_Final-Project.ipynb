{
 "cells": [
  {
   "cell_type": "markdown",
   "metadata": {},
   "source": [
    "<h1>Analysing the connection between top universities and Nobel Prize Laureates</h1>\n",
    "<h2>Coding 3 - Final Project</h2>\n",
    "<h2>Karola Takács and Kata Süle</h2>\n",
    "<h3>30th March 2021</h3>"
   ]
  },
  {
   "cell_type": "markdown",
   "metadata": {},
   "source": [
    "<h1><code style=\"background:indigo;color:white\">Executive Summary</h1></code>\n",
    "<hr>\n",
    "\n",
    "The motivation for this project was to find out whether there is a connection between top ranked universities and Nobel Prize Laureates. To investigate this issue we combined data from two sources: a Kaggle dataset containing the ranking of Times Higher Education and API data about Nobel Prize Laureates. After joining the above-mentioned two datasets we were able to answer the following six questions:\n",
    "1. Does average age of Laureates differ for Nobel Prize categories?\n",
    "2. What is the distribution of prize amount by category?\n",
    "3. What is the relationship between a university's total score and its student-staff ratio?\n",
    "4. Is there a positive relationship between total score and number of Nobel Prize Laureates?\n",
    "5. Which are the top 5 universities based on awarded prize amount?\n",
    "6. Is the age at award distribution different for those Laureates who worked in their home countries as opposed to who did not?\n",
    "\n",
    "Our findings indicate that the average age of Laureates is the highest in the Economic Sciences category and that the Literature category stands out in terms of average awarded prize amount. Furthermore, we found a negative association between a university's total score and its student-staff ratio. As for the connection between a university's total score and the number of Nobel Prize Laureates affiliated with it we found a nonlinear but positive relationship. In addition, up until 2020 Laureates of Harvard University won the highest prize amount in total. Lastly, we found that Laureates who left their home countries were awarded at higher ages compared to those who stayed."
   ]
  },
  {
   "cell_type": "markdown",
   "metadata": {},
   "source": [
    "<h1><code style=\"background:indigo;color:white\">Setup</h1></code>\n",
    "<hr>"
   ]
  },
  {
   "cell_type": "code",
   "execution_count": 1,
   "metadata": {},
   "outputs": [],
   "source": [
    "# import libraries and set working directory\n",
    "import pandas as pd\n",
    "import numpy as np\n",
    "import requests\n",
    "import json\n",
    "import os\n",
    "import seaborn as sns\n",
    "import matplotlib.pyplot as plt\n",
    "%matplotlib inline\n",
    "\n",
    "os.chdir(r'C:\\CEU\\Winter_Term\\Coding_3\\Project')"
   ]
  },
  {
   "cell_type": "code",
   "execution_count": 2,
   "metadata": {},
   "outputs": [
    {
     "name": "stdout",
     "output_type": "stream",
     "text": [
      "['Solarize_Light2', '_classic_test_patch', 'bmh', 'classic', 'dark_background', 'fast', 'fivethirtyeight', 'ggplot', 'grayscale', 'seaborn', 'seaborn-bright', 'seaborn-colorblind', 'seaborn-dark', 'seaborn-dark-palette', 'seaborn-darkgrid', 'seaborn-deep', 'seaborn-muted', 'seaborn-notebook', 'seaborn-paper', 'seaborn-pastel', 'seaborn-poster', 'seaborn-talk', 'seaborn-ticks', 'seaborn-white', 'seaborn-whitegrid', 'tableau-colorblind10']\n"
     ]
    }
   ],
   "source": [
    "# check available styles for plots\n",
    "print(plt.style.available)"
   ]
  },
  {
   "cell_type": "code",
   "execution_count": 3,
   "metadata": {},
   "outputs": [],
   "source": [
    "# set style for plots\n",
    "plt.style.use('seaborn-notebook')"
   ]
  },
  {
   "cell_type": "markdown",
   "metadata": {},
   "source": [
    "<h1><code style=\"background:indigo;color:white\">Tabular Data</h1></code>\n",
    "<hr>"
   ]
  },
  {
   "cell_type": "markdown",
   "metadata": {},
   "source": [
    "## 1. Description of dataset\n",
    "* ##### Source:\n",
    "The dataset was downloaded from [Kaggle](https://www.kaggle.com/maxplattner/university-rankings-the-by-subject-cwur?select=THE.csvm).\n",
    "* ##### About:\n",
    "[Times Higher Education](https://www.timeshighereducation.com/world-university-rankings/about-the-times-higher-education-world-university-rankings) creates global university rankings for each year to assess the performance of universities and help prospective students with their decisions. The universities are ranked based on scores calculated from multiple features. The total score is a weighted average of 13 indicators which are combined into 5 main scores. Our dataset contains these scores and some extra features which add up to 15 variables in total. The dataset has data for 10 consecutive years, from 2011 to 2020. This means that there are 7342 observations in total.\n",
    "* ##### Variables:\n",
    "|Variable Name|Type|Description|\n",
    "|:-:|:-:|:-|\n",
    "|world_rank|Qualitative, ordinal|Ranking of university in a given year.|\n",
    "|university_name|Qualitative, nominal|Name of university.|\n",
    "|country|Qualitative, nominal|Name of country where university is located.|\n",
    "|teaching_score|Quantitative, ratio|University's score on learning environment, has 30% weight in the total score.|\n",
    "|international_score|Quantitative, ratio|University's score on international outlook meaning the ratio of international students, staff and research. Has 7.5% weight in the total score.|\n",
    "|research_score|Quantitative, ratio|University's score on research meaning its volume, the income generated by it as well as the university's reputation in the field. Has 30% weight in the total score.|\n",
    "|citations_score|Quantitative, ratio|University's score on the degree of influence its research has, has 30% weight in the total score.|\n",
    "|income_score|Quantitative, ratio|University's score on the extent to which businesses are willing to pay for its research and a university’s ability to attract funding. Has 2.5% weight in the total score.|\n",
    "|total_score|Quantitative, ratio|University's total score calculated from the above mentioned 5 scores.|\n",
    "|num_students|Quantitative, ratio|Number of students who study at the university.|\n",
    "|student_staff_ratio|Quantitative, ratio|The number of students divided by the number of staff.|\n",
    "|international_students|Quantitative, ratio|The proportion of international students who study at the university.|\n",
    "|year|Quantitative, interval|The year when the ranking was published.|\n",
    "|female_percentage|Quantitative, ratio|The proportion of female students who study at the university.|\n",
    "|male_percentage|Quantitative, ratio|The proportion of male students who study at the university.|"
   ]
  },
  {
   "cell_type": "markdown",
   "metadata": {},
   "source": [
    "## 2. Exploratory Data Analysis"
   ]
  },
  {
   "cell_type": "markdown",
   "metadata": {},
   "source": [
    "##### Import Data"
   ]
  },
  {
   "cell_type": "code",
   "execution_count": 23,
   "metadata": {},
   "outputs": [],
   "source": [
    "data = pd.read_csv('universities.csv')"
   ]
  },
  {
   "cell_type": "code",
   "execution_count": 24,
   "metadata": {},
   "outputs": [],
   "source": [
    "# rename some variables\n",
    "data.rename(columns={'teaching': 'teaching_score', 'international': 'international_score', 'research': 'research_score', 'citations': 'citations_score', 'income': 'income_score'}, inplace=True)"
   ]
  },
  {
   "cell_type": "code",
   "execution_count": 25,
   "metadata": {},
   "outputs": [
    {
     "data": {
      "text/html": [
       "<div>\n",
       "<style scoped>\n",
       "    .dataframe tbody tr th:only-of-type {\n",
       "        vertical-align: middle;\n",
       "    }\n",
       "\n",
       "    .dataframe tbody tr th {\n",
       "        vertical-align: top;\n",
       "    }\n",
       "\n",
       "    .dataframe thead th {\n",
       "        text-align: right;\n",
       "    }\n",
       "</style>\n",
       "<table border=\"1\" class=\"dataframe\">\n",
       "  <thead>\n",
       "    <tr style=\"text-align: right;\">\n",
       "      <th></th>\n",
       "      <th>world_rank</th>\n",
       "      <th>university_name</th>\n",
       "      <th>country</th>\n",
       "      <th>teaching_score</th>\n",
       "      <th>international_score</th>\n",
       "      <th>research_score</th>\n",
       "      <th>citations_score</th>\n",
       "      <th>income_score</th>\n",
       "      <th>total_score</th>\n",
       "      <th>num_students</th>\n",
       "      <th>student_staff_ratio</th>\n",
       "      <th>international_students</th>\n",
       "      <th>year</th>\n",
       "      <th>female_percentage</th>\n",
       "      <th>male_percentage</th>\n",
       "    </tr>\n",
       "  </thead>\n",
       "  <tbody>\n",
       "    <tr>\n",
       "      <th>0</th>\n",
       "      <td>1</td>\n",
       "      <td>Harvard University</td>\n",
       "      <td>United States of America</td>\n",
       "      <td>99.7</td>\n",
       "      <td>72.4</td>\n",
       "      <td>98.7</td>\n",
       "      <td>98.8</td>\n",
       "      <td>34.5</td>\n",
       "      <td>96.1</td>\n",
       "      <td>20152.0</td>\n",
       "      <td>8.9</td>\n",
       "      <td>0.25</td>\n",
       "      <td>2011</td>\n",
       "      <td>NaN</td>\n",
       "      <td>NaN</td>\n",
       "    </tr>\n",
       "    <tr>\n",
       "      <th>1</th>\n",
       "      <td>2</td>\n",
       "      <td>California Institute of Technology</td>\n",
       "      <td>United States of America</td>\n",
       "      <td>97.7</td>\n",
       "      <td>54.6</td>\n",
       "      <td>98.0</td>\n",
       "      <td>99.9</td>\n",
       "      <td>83.7</td>\n",
       "      <td>96.0</td>\n",
       "      <td>2243.0</td>\n",
       "      <td>6.9</td>\n",
       "      <td>0.27</td>\n",
       "      <td>2011</td>\n",
       "      <td>0.33</td>\n",
       "      <td>0.67</td>\n",
       "    </tr>\n",
       "    <tr>\n",
       "      <th>2</th>\n",
       "      <td>3</td>\n",
       "      <td>Massachusetts Institute of Technology</td>\n",
       "      <td>United States of America</td>\n",
       "      <td>97.8</td>\n",
       "      <td>82.3</td>\n",
       "      <td>91.4</td>\n",
       "      <td>99.9</td>\n",
       "      <td>87.5</td>\n",
       "      <td>95.6</td>\n",
       "      <td>11074.0</td>\n",
       "      <td>9.0</td>\n",
       "      <td>0.33</td>\n",
       "      <td>2011</td>\n",
       "      <td>0.37</td>\n",
       "      <td>0.63</td>\n",
       "    </tr>\n",
       "  </tbody>\n",
       "</table>\n",
       "</div>"
      ],
      "text/plain": [
       "   world_rank                        university_name  \\\n",
       "0           1                     Harvard University   \n",
       "1           2     California Institute of Technology   \n",
       "2           3  Massachusetts Institute of Technology   \n",
       "\n",
       "                    country  teaching_score  international_score  \\\n",
       "0  United States of America            99.7                 72.4   \n",
       "1  United States of America            97.7                 54.6   \n",
       "2  United States of America            97.8                 82.3   \n",
       "\n",
       "   research_score  citations_score  income_score  total_score  num_students  \\\n",
       "0            98.7             98.8          34.5         96.1       20152.0   \n",
       "1            98.0             99.9          83.7         96.0        2243.0   \n",
       "2            91.4             99.9          87.5         95.6       11074.0   \n",
       "\n",
       "   student_staff_ratio  international_students  year  female_percentage  \\\n",
       "0                  8.9                    0.25  2011                NaN   \n",
       "1                  6.9                    0.27  2011               0.33   \n",
       "2                  9.0                    0.33  2011               0.37   \n",
       "\n",
       "   male_percentage  \n",
       "0              NaN  \n",
       "1             0.67  \n",
       "2             0.63  "
      ]
     },
     "execution_count": 25,
     "metadata": {},
     "output_type": "execute_result"
    }
   ],
   "source": [
    "data.head(3)"
   ]
  },
  {
   "cell_type": "markdown",
   "metadata": {},
   "source": [
    "##### Check Data Types"
   ]
  },
  {
   "cell_type": "code",
   "execution_count": 26,
   "metadata": {},
   "outputs": [
    {
     "data": {
      "text/plain": [
       "world_rank                  int64\n",
       "university_name            object\n",
       "country                    object\n",
       "teaching_score            float64\n",
       "international_score       float64\n",
       "research_score            float64\n",
       "citations_score           float64\n",
       "income_score              float64\n",
       "total_score               float64\n",
       "num_students              float64\n",
       "student_staff_ratio       float64\n",
       "international_students    float64\n",
       "year                        int64\n",
       "female_percentage         float64\n",
       "male_percentage           float64\n",
       "dtype: object"
      ]
     },
     "execution_count": 26,
     "metadata": {},
     "output_type": "execute_result"
    }
   ],
   "source": [
    "# checking whether the datatypes are correct\n",
    "data.dtypes"
   ]
  },
  {
   "cell_type": "markdown",
   "metadata": {},
   "source": [
    "All the data types are correct so no transformation is needed."
   ]
  },
  {
   "cell_type": "markdown",
   "metadata": {},
   "source": [
    "##### Check for Duplicates and Missing Values"
   ]
  },
  {
   "cell_type": "code",
   "execution_count": 27,
   "metadata": {},
   "outputs": [
    {
     "data": {
      "text/plain": [
       "0"
      ]
     },
     "execution_count": 27,
     "metadata": {},
     "output_type": "execute_result"
    }
   ],
   "source": [
    "# check if there are duplicates\n",
    "data.duplicated().sum()"
   ]
  },
  {
   "cell_type": "markdown",
   "metadata": {},
   "source": [
    "There are no duplicates in the data."
   ]
  },
  {
   "cell_type": "code",
   "execution_count": 28,
   "metadata": {},
   "outputs": [
    {
     "data": {
      "text/plain": [
       "world_rank                   0\n",
       "university_name              0\n",
       "country                      0\n",
       "teaching_score               0\n",
       "international_score          9\n",
       "research_score               0\n",
       "citations_score              0\n",
       "income_score               218\n",
       "total_score               5338\n",
       "num_students                59\n",
       "student_staff_ratio         59\n",
       "international_students      72\n",
       "year                         0\n",
       "female_percentage          469\n",
       "male_percentage            469\n",
       "dtype: int64"
      ]
     },
     "execution_count": 28,
     "metadata": {},
     "output_type": "execute_result"
    }
   ],
   "source": [
    "# check missing values in each column\n",
    "data.isnull().sum()"
   ]
  },
  {
   "cell_type": "markdown",
   "metadata": {},
   "source": [
    "Lot less observations are present for the total_score measure, which is available only for 2004 universities, which is strange given that for the 5 variables it is calculated from, there are values in at least 7124 cases (we knew this from summary stats). Since we know from the dataset description how the total_score is calculated, we decided to compute it for the missing ones. Prior to that the missing values for international_score and income_score were dropped."
   ]
  },
  {
   "cell_type": "code",
   "execution_count": 29,
   "metadata": {},
   "outputs": [],
   "source": [
    "# drop observations where international score or income score is missing\n",
    "data = data.dropna(subset=['international_score', 'income_score'])"
   ]
  },
  {
   "cell_type": "code",
   "execution_count": 30,
   "metadata": {},
   "outputs": [],
   "source": [
    "# calculate total score where it is missing but we have the other scores to compute it from\n",
    "data['total_score'] = np.where(data['total_score'].isnull() == True,0.3*data['teaching_score']+0.075*data['international_score']+0.3*data['research_score']+0.3*data['citations_score']+0.025*data['income_score'], data['total_score'])"
   ]
  },
  {
   "cell_type": "markdown",
   "metadata": {},
   "source": [
    "As for those observations where the number of students, the student-staff ratio or the international students variables had missing values we decided to impute these with their respective means, plus add flags for these observations."
   ]
  },
  {
   "cell_type": "code",
   "execution_count": 31,
   "metadata": {},
   "outputs": [],
   "source": [
    "# impute num_students, student_staff_ratio and international_students with mean because around 50 values are missing for each\n",
    "# plus add flags for these observations\n",
    "data['f_num_students'] = np.where(data['num_students'].isnull() == True, 1, 0)\n",
    "data['f_student_staff_ratio'] = np.where(data['student_staff_ratio'].isnull() == True, 1, 0)\n",
    "data['f_international_students'] = np.where(data['international_students'].isnull() == True, 1, 0)"
   ]
  },
  {
   "cell_type": "code",
   "execution_count": 32,
   "metadata": {},
   "outputs": [],
   "source": [
    "# impute with mean\n",
    "# mean is calculated by year\n",
    "cols = ['num_students', 'student_staff_ratio', 'international_students']\n",
    "years = range(2011,2021)\n",
    "\n",
    "for i in cols:\n",
    "    for j in years:\n",
    "        mean = data[data['year']==j][i].mean()\n",
    "        data[i] = np.where((data[i].isnull() == True) & (data['year'] == j), mean, data[i])"
   ]
  },
  {
   "cell_type": "markdown",
   "metadata": {},
   "source": [
    "We decided not to impute or drop the observations where female or male ratio was missing because there were a lot of them and we do not intend to use them when answering our questions."
   ]
  },
  {
   "cell_type": "markdown",
   "metadata": {},
   "source": [
    "##### Describe Data"
   ]
  },
  {
   "cell_type": "code",
   "execution_count": 33,
   "metadata": {},
   "outputs": [
    {
     "data": {
      "text/html": [
       "<div>\n",
       "<style scoped>\n",
       "    .dataframe tbody tr th:only-of-type {\n",
       "        vertical-align: middle;\n",
       "    }\n",
       "\n",
       "    .dataframe tbody tr th {\n",
       "        vertical-align: top;\n",
       "    }\n",
       "\n",
       "    .dataframe thead th {\n",
       "        text-align: right;\n",
       "    }\n",
       "</style>\n",
       "<table border=\"1\" class=\"dataframe\">\n",
       "  <thead>\n",
       "    <tr style=\"text-align: right;\">\n",
       "      <th></th>\n",
       "      <th>male_percentage</th>\n",
       "      <th>teaching_score</th>\n",
       "      <th>num_students</th>\n",
       "      <th>citations_score</th>\n",
       "      <th>year</th>\n",
       "      <th>international_students</th>\n",
       "      <th>total_score</th>\n",
       "      <th>international_score</th>\n",
       "      <th>world_rank</th>\n",
       "      <th>student_staff_ratio</th>\n",
       "      <th>research_score</th>\n",
       "      <th>income_score</th>\n",
       "      <th>female_percentage</th>\n",
       "    </tr>\n",
       "  </thead>\n",
       "  <tbody>\n",
       "    <tr>\n",
       "      <th>count</th>\n",
       "      <td>6685.000000</td>\n",
       "      <td>7119.000000</td>\n",
       "      <td>7.119000e+03</td>\n",
       "      <td>7119.000000</td>\n",
       "      <td>7119.000000</td>\n",
       "      <td>7119.000000</td>\n",
       "      <td>7119.000000</td>\n",
       "      <td>7119.000000</td>\n",
       "      <td>7119.000000</td>\n",
       "      <td>7119.000000</td>\n",
       "      <td>7119.000000</td>\n",
       "      <td>7119.000000</td>\n",
       "      <td>6685.000000</td>\n",
       "    </tr>\n",
       "    <tr>\n",
       "      <th>mean</th>\n",
       "      <td>0.506667</td>\n",
       "      <td>31.684843</td>\n",
       "      <td>2.421193e+04</td>\n",
       "      <td>52.553125</td>\n",
       "      <td>2017.149881</td>\n",
       "      <td>0.130480</td>\n",
       "      <td>38.606496</td>\n",
       "      <td>49.091530</td>\n",
       "      <td>468.490097</td>\n",
       "      <td>19.067278</td>\n",
       "      <td>28.234218</td>\n",
       "      <td>47.036452</td>\n",
       "      <td>0.493333</td>\n",
       "    </tr>\n",
       "    <tr>\n",
       "      <th>std</th>\n",
       "      <td>0.118230</td>\n",
       "      <td>15.945800</td>\n",
       "      <td>3.911498e+04</td>\n",
       "      <td>27.195640</td>\n",
       "      <td>2.488611</td>\n",
       "      <td>0.114564</td>\n",
       "      <td>17.805114</td>\n",
       "      <td>23.148142</td>\n",
       "      <td>316.808919</td>\n",
       "      <td>20.016521</td>\n",
       "      <td>19.770307</td>\n",
       "      <td>18.695089</td>\n",
       "      <td>0.118230</td>\n",
       "    </tr>\n",
       "    <tr>\n",
       "      <th>min</th>\n",
       "      <td>0.050000</td>\n",
       "      <td>8.200000</td>\n",
       "      <td>4.620000e+02</td>\n",
       "      <td>0.700000</td>\n",
       "      <td>2011.000000</td>\n",
       "      <td>0.000000</td>\n",
       "      <td>8.222500</td>\n",
       "      <td>7.100000</td>\n",
       "      <td>1.000000</td>\n",
       "      <td>0.600000</td>\n",
       "      <td>0.800000</td>\n",
       "      <td>0.000000</td>\n",
       "      <td>0.000000</td>\n",
       "    </tr>\n",
       "    <tr>\n",
       "      <th>25%</th>\n",
       "      <td>0.430000</td>\n",
       "      <td>20.100000</td>\n",
       "      <td>1.155450e+04</td>\n",
       "      <td>28.750000</td>\n",
       "      <td>2016.000000</td>\n",
       "      <td>0.040000</td>\n",
       "      <td>24.327500</td>\n",
       "      <td>29.300000</td>\n",
       "      <td>192.000000</td>\n",
       "      <td>12.300000</td>\n",
       "      <td>13.200000</td>\n",
       "      <td>34.800000</td>\n",
       "      <td>0.440000</td>\n",
       "    </tr>\n",
       "    <tr>\n",
       "      <th>50%</th>\n",
       "      <td>0.480000</td>\n",
       "      <td>27.100000</td>\n",
       "      <td>1.959900e+04</td>\n",
       "      <td>53.300000</td>\n",
       "      <td>2018.000000</td>\n",
       "      <td>0.100000</td>\n",
       "      <td>36.550000</td>\n",
       "      <td>46.200000</td>\n",
       "      <td>376.000000</td>\n",
       "      <td>16.400000</td>\n",
       "      <td>22.400000</td>\n",
       "      <td>39.600000</td>\n",
       "      <td>0.520000</td>\n",
       "    </tr>\n",
       "    <tr>\n",
       "      <th>75%</th>\n",
       "      <td>0.560000</td>\n",
       "      <td>38.400000</td>\n",
       "      <td>2.968850e+04</td>\n",
       "      <td>75.200000</td>\n",
       "      <td>2019.000000</td>\n",
       "      <td>0.190000</td>\n",
       "      <td>49.600000</td>\n",
       "      <td>66.300000</td>\n",
       "      <td>700.000000</td>\n",
       "      <td>22.000000</td>\n",
       "      <td>36.900000</td>\n",
       "      <td>52.500000</td>\n",
       "      <td>0.570000</td>\n",
       "    </tr>\n",
       "    <tr>\n",
       "      <th>max</th>\n",
       "      <td>1.000000</td>\n",
       "      <td>99.700000</td>\n",
       "      <td>1.824383e+06</td>\n",
       "      <td>100.000000</td>\n",
       "      <td>2020.000000</td>\n",
       "      <td>0.840000</td>\n",
       "      <td>96.100000</td>\n",
       "      <td>100.000000</td>\n",
       "      <td>1001.000000</td>\n",
       "      <td>865.800000</td>\n",
       "      <td>99.600000</td>\n",
       "      <td>100.000000</td>\n",
       "      <td>0.950000</td>\n",
       "    </tr>\n",
       "  </tbody>\n",
       "</table>\n",
       "</div>"
      ],
      "text/plain": [
       "       male_percentage  teaching_score  num_students  citations_score  \\\n",
       "count      6685.000000     7119.000000  7.119000e+03      7119.000000   \n",
       "mean          0.506667       31.684843  2.421193e+04        52.553125   \n",
       "std           0.118230       15.945800  3.911498e+04        27.195640   \n",
       "min           0.050000        8.200000  4.620000e+02         0.700000   \n",
       "25%           0.430000       20.100000  1.155450e+04        28.750000   \n",
       "50%           0.480000       27.100000  1.959900e+04        53.300000   \n",
       "75%           0.560000       38.400000  2.968850e+04        75.200000   \n",
       "max           1.000000       99.700000  1.824383e+06       100.000000   \n",
       "\n",
       "              year  international_students  total_score  international_score  \\\n",
       "count  7119.000000             7119.000000  7119.000000          7119.000000   \n",
       "mean   2017.149881                0.130480    38.606496            49.091530   \n",
       "std       2.488611                0.114564    17.805114            23.148142   \n",
       "min    2011.000000                0.000000     8.222500             7.100000   \n",
       "25%    2016.000000                0.040000    24.327500            29.300000   \n",
       "50%    2018.000000                0.100000    36.550000            46.200000   \n",
       "75%    2019.000000                0.190000    49.600000            66.300000   \n",
       "max    2020.000000                0.840000    96.100000           100.000000   \n",
       "\n",
       "        world_rank  student_staff_ratio  research_score  income_score  \\\n",
       "count  7119.000000          7119.000000     7119.000000   7119.000000   \n",
       "mean    468.490097            19.067278       28.234218     47.036452   \n",
       "std     316.808919            20.016521       19.770307     18.695089   \n",
       "min       1.000000             0.600000        0.800000      0.000000   \n",
       "25%     192.000000            12.300000       13.200000     34.800000   \n",
       "50%     376.000000            16.400000       22.400000     39.600000   \n",
       "75%     700.000000            22.000000       36.900000     52.500000   \n",
       "max    1001.000000           865.800000       99.600000    100.000000   \n",
       "\n",
       "       female_percentage  \n",
       "count        6685.000000  \n",
       "mean            0.493333  \n",
       "std             0.118230  \n",
       "min             0.000000  \n",
       "25%             0.440000  \n",
       "50%             0.520000  \n",
       "75%             0.570000  \n",
       "max             0.950000  "
      ]
     },
     "execution_count": 33,
     "metadata": {},
     "output_type": "execute_result"
    }
   ],
   "source": [
    "# summary statistics of numeric variables\n",
    "to_drop = set(data.columns) - {'f_num_students', 'f_student_staff_ratio', 'f_international_students'}\n",
    "data[list(to_drop)].describe()"
   ]
  },
  {
   "cell_type": "markdown",
   "metadata": {},
   "source": [
    "We can see from the summary table that the year is indeed from 2011 to 2020 and that we have 7119 observations for all the measures after removing/imputing missing data. Interesting to see that maximums for student_staff_ratio and international_students are somewhat off:\n",
    "- The maximum of the student_staff_ratio is 865.8 which needs to be looked into, it is maybe a wrong calculation but definitely seems as an extreme value, given the average is 19.9 and the upper-quartile is 22.\n",
    "- The maximum of international_students seems to have similar distribution and again an extreme value. We will visualize these on histograms."
   ]
  },
  {
   "cell_type": "code",
   "execution_count": 34,
   "metadata": {},
   "outputs": [
    {
     "data": {
      "text/plain": [
       "Text(0.5, 1.0, 'Student-staff Ratio')"
      ]
     },
     "execution_count": 34,
     "metadata": {},
     "output_type": "execute_result"
    },
    {
     "data": {
      "image/png": "[encoded data removed]",
      "text/plain": [
       "<Figure size 576x396 with 2 Axes>"
      ]
     },
     "metadata": {
      "needs_background": "light"
     },
     "output_type": "display_data"
    }
   ],
   "source": [
    "# check histograms for international_students and student_staff_ratio because they seemed to have extreme values based on the\n",
    "# summary statistics\n",
    "fig, axes = plt.subplots(1, 2)\n",
    "fig.suptitle('Distribution of international student ratio and student-staff ratio', fontsize=14)\n",
    "data.hist('international_students', bins=15, alpha=0.5, ax=axes[0],align='mid')\n",
    "axes[0].set_title('International Students')\n",
    "data.hist('student_staff_ratio', bins=30, alpha=0.5, ax=axes[1], align='mid')\n",
    "axes[1].set_title('Student-staff Ratio')"
   ]
  },
  {
   "cell_type": "markdown",
   "metadata": {},
   "source": [
    "Based on the histograms we decided to exclude those observations where the student-staff ratio was greater than or equal to 100. As for the observations where the international students ratio was high we decided to keep them as is."
   ]
  },
  {
   "cell_type": "code",
   "execution_count": 35,
   "metadata": {},
   "outputs": [],
   "source": [
    "# drop extreme values from student_staff_ratio\n",
    "data = data[data['student_staff_ratio'] < 100] # there are 11 observations above 100"
   ]
  },
  {
   "cell_type": "code",
   "execution_count": 36,
   "metadata": {},
   "outputs": [
    {
     "data": {
      "text/html": [
       "<div>\n",
       "<style scoped>\n",
       "    .dataframe tbody tr th:only-of-type {\n",
       "        vertical-align: middle;\n",
       "    }\n",
       "\n",
       "    .dataframe tbody tr th {\n",
       "        vertical-align: top;\n",
       "    }\n",
       "\n",
       "    .dataframe thead th {\n",
       "        text-align: right;\n",
       "    }\n",
       "</style>\n",
       "<table border=\"1\" class=\"dataframe\">\n",
       "  <thead>\n",
       "    <tr style=\"text-align: right;\">\n",
       "      <th></th>\n",
       "      <th>international_students</th>\n",
       "      <th>male_percentage</th>\n",
       "      <th>total_score</th>\n",
       "      <th>international_score</th>\n",
       "      <th>world_rank</th>\n",
       "      <th>student_staff_ratio</th>\n",
       "      <th>teaching_score</th>\n",
       "      <th>num_students</th>\n",
       "      <th>citations_score</th>\n",
       "      <th>research_score</th>\n",
       "      <th>income_score</th>\n",
       "      <th>female_percentage</th>\n",
       "    </tr>\n",
       "  </thead>\n",
       "  <tbody>\n",
       "    <tr>\n",
       "      <th>international_students</th>\n",
       "      <td>1.000000</td>\n",
       "      <td>-0.109589</td>\n",
       "      <td>0.527437</td>\n",
       "      <td>0.824787</td>\n",
       "      <td>-0.509589</td>\n",
       "      <td>-0.052401</td>\n",
       "      <td>0.369315</td>\n",
       "      <td>-0.155206</td>\n",
       "      <td>0.434029</td>\n",
       "      <td>0.438664</td>\n",
       "      <td>0.109711</td>\n",
       "      <td>0.109589</td>\n",
       "    </tr>\n",
       "    <tr>\n",
       "      <th>male_percentage</th>\n",
       "      <td>-0.109589</td>\n",
       "      <td>1.000000</td>\n",
       "      <td>-0.058678</td>\n",
       "      <td>-0.245720</td>\n",
       "      <td>0.082607</td>\n",
       "      <td>-0.115196</td>\n",
       "      <td>0.081630</td>\n",
       "      <td>-0.148513</td>\n",
       "      <td>-0.169920</td>\n",
       "      <td>0.044670</td>\n",
       "      <td>0.300574</td>\n",
       "      <td>-1.000000</td>\n",
       "    </tr>\n",
       "    <tr>\n",
       "      <th>total_score</th>\n",
       "      <td>0.527437</td>\n",
       "      <td>-0.058678</td>\n",
       "      <td>1.000000</td>\n",
       "      <td>0.563429</td>\n",
       "      <td>-0.898375</td>\n",
       "      <td>-0.073602</td>\n",
       "      <td>0.867802</td>\n",
       "      <td>-0.012357</td>\n",
       "      <td>0.868047</td>\n",
       "      <td>0.912394</td>\n",
       "      <td>0.361561</td>\n",
       "      <td>0.058678</td>\n",
       "    </tr>\n",
       "    <tr>\n",
       "      <th>international_score</th>\n",
       "      <td>0.824787</td>\n",
       "      <td>-0.245720</td>\n",
       "      <td>0.563429</td>\n",
       "      <td>1.000000</td>\n",
       "      <td>-0.558210</td>\n",
       "      <td>0.053912</td>\n",
       "      <td>0.297265</td>\n",
       "      <td>-0.085695</td>\n",
       "      <td>0.530699</td>\n",
       "      <td>0.422435</td>\n",
       "      <td>0.099903</td>\n",
       "      <td>0.245720</td>\n",
       "    </tr>\n",
       "    <tr>\n",
       "      <th>world_rank</th>\n",
       "      <td>-0.509589</td>\n",
       "      <td>0.082607</td>\n",
       "      <td>-0.898375</td>\n",
       "      <td>-0.558210</td>\n",
       "      <td>1.000000</td>\n",
       "      <td>0.005872</td>\n",
       "      <td>-0.711278</td>\n",
       "      <td>0.019070</td>\n",
       "      <td>-0.847865</td>\n",
       "      <td>-0.766845</td>\n",
       "      <td>-0.317347</td>\n",
       "      <td>-0.082607</td>\n",
       "    </tr>\n",
       "    <tr>\n",
       "      <th>student_staff_ratio</th>\n",
       "      <td>-0.052401</td>\n",
       "      <td>-0.115196</td>\n",
       "      <td>-0.073602</td>\n",
       "      <td>0.053912</td>\n",
       "      <td>0.005872</td>\n",
       "      <td>1.000000</td>\n",
       "      <td>-0.188298</td>\n",
       "      <td>0.271165</td>\n",
       "      <td>-0.010099</td>\n",
       "      <td>-0.070777</td>\n",
       "      <td>0.007262</td>\n",
       "      <td>0.115196</td>\n",
       "    </tr>\n",
       "    <tr>\n",
       "      <th>teaching_score</th>\n",
       "      <td>0.369315</td>\n",
       "      <td>0.081630</td>\n",
       "      <td>0.867802</td>\n",
       "      <td>0.297265</td>\n",
       "      <td>-0.711278</td>\n",
       "      <td>-0.188298</td>\n",
       "      <td>1.000000</td>\n",
       "      <td>0.018930</td>\n",
       "      <td>0.556468</td>\n",
       "      <td>0.913441</td>\n",
       "      <td>0.382307</td>\n",
       "      <td>-0.081630</td>\n",
       "    </tr>\n",
       "    <tr>\n",
       "      <th>num_students</th>\n",
       "      <td>-0.155206</td>\n",
       "      <td>-0.148513</td>\n",
       "      <td>-0.012357</td>\n",
       "      <td>-0.085695</td>\n",
       "      <td>0.019070</td>\n",
       "      <td>0.271165</td>\n",
       "      <td>0.018930</td>\n",
       "      <td>1.000000</td>\n",
       "      <td>-0.041039</td>\n",
       "      <td>0.032474</td>\n",
       "      <td>-0.045647</td>\n",
       "      <td>0.148513</td>\n",
       "    </tr>\n",
       "    <tr>\n",
       "      <th>citations_score</th>\n",
       "      <td>0.434029</td>\n",
       "      <td>-0.169920</td>\n",
       "      <td>0.868047</td>\n",
       "      <td>0.530699</td>\n",
       "      <td>-0.847865</td>\n",
       "      <td>-0.010099</td>\n",
       "      <td>0.556468</td>\n",
       "      <td>-0.041039</td>\n",
       "      <td>1.000000</td>\n",
       "      <td>0.611628</td>\n",
       "      <td>0.163976</td>\n",
       "      <td>0.169920</td>\n",
       "    </tr>\n",
       "    <tr>\n",
       "      <th>research_score</th>\n",
       "      <td>0.438664</td>\n",
       "      <td>0.044670</td>\n",
       "      <td>0.912394</td>\n",
       "      <td>0.422435</td>\n",
       "      <td>-0.766845</td>\n",
       "      <td>-0.070777</td>\n",
       "      <td>0.913441</td>\n",
       "      <td>0.032474</td>\n",
       "      <td>0.611628</td>\n",
       "      <td>1.000000</td>\n",
       "      <td>0.442840</td>\n",
       "      <td>-0.044670</td>\n",
       "    </tr>\n",
       "    <tr>\n",
       "      <th>income_score</th>\n",
       "      <td>0.109711</td>\n",
       "      <td>0.300574</td>\n",
       "      <td>0.361561</td>\n",
       "      <td>0.099903</td>\n",
       "      <td>-0.317347</td>\n",
       "      <td>0.007262</td>\n",
       "      <td>0.382307</td>\n",
       "      <td>-0.045647</td>\n",
       "      <td>0.163976</td>\n",
       "      <td>0.442840</td>\n",
       "      <td>1.000000</td>\n",
       "      <td>-0.300574</td>\n",
       "    </tr>\n",
       "    <tr>\n",
       "      <th>female_percentage</th>\n",
       "      <td>0.109589</td>\n",
       "      <td>-1.000000</td>\n",
       "      <td>0.058678</td>\n",
       "      <td>0.245720</td>\n",
       "      <td>-0.082607</td>\n",
       "      <td>0.115196</td>\n",
       "      <td>-0.081630</td>\n",
       "      <td>0.148513</td>\n",
       "      <td>0.169920</td>\n",
       "      <td>-0.044670</td>\n",
       "      <td>-0.300574</td>\n",
       "      <td>1.000000</td>\n",
       "    </tr>\n",
       "  </tbody>\n",
       "</table>\n",
       "</div>"
      ],
      "text/plain": [
       "                        international_students  male_percentage  total_score  \\\n",
       "international_students                1.000000        -0.109589     0.527437   \n",
       "male_percentage                      -0.109589         1.000000    -0.058678   \n",
       "total_score                           0.527437        -0.058678     1.000000   \n",
       "international_score                   0.824787        -0.245720     0.563429   \n",
       "world_rank                           -0.509589         0.082607    -0.898375   \n",
       "student_staff_ratio                  -0.052401        -0.115196    -0.073602   \n",
       "teaching_score                        0.369315         0.081630     0.867802   \n",
       "num_students                         -0.155206        -0.148513    -0.012357   \n",
       "citations_score                       0.434029        -0.169920     0.868047   \n",
       "research_score                        0.438664         0.044670     0.912394   \n",
       "income_score                          0.109711         0.300574     0.361561   \n",
       "female_percentage                     0.109589        -1.000000     0.058678   \n",
       "\n",
       "                        international_score  world_rank  student_staff_ratio  \\\n",
       "international_students             0.824787   -0.509589            -0.052401   \n",
       "male_percentage                   -0.245720    0.082607            -0.115196   \n",
       "total_score                        0.563429   -0.898375            -0.073602   \n",
       "international_score                1.000000   -0.558210             0.053912   \n",
       "world_rank                        -0.558210    1.000000             0.005872   \n",
       "student_staff_ratio                0.053912    0.005872             1.000000   \n",
       "teaching_score                     0.297265   -0.711278            -0.188298   \n",
       "num_students                      -0.085695    0.019070             0.271165   \n",
       "citations_score                    0.530699   -0.847865            -0.010099   \n",
       "research_score                     0.422435   -0.766845            -0.070777   \n",
       "income_score                       0.099903   -0.317347             0.007262   \n",
       "female_percentage                  0.245720   -0.082607             0.115196   \n",
       "\n",
       "                        teaching_score  num_students  citations_score  \\\n",
       "international_students        0.369315     -0.155206         0.434029   \n",
       "male_percentage               0.081630     -0.148513        -0.169920   \n",
       "total_score                   0.867802     -0.012357         0.868047   \n",
       "international_score           0.297265     -0.085695         0.530699   \n",
       "world_rank                   -0.711278      0.019070        -0.847865   \n",
       "student_staff_ratio          -0.188298      0.271165        -0.010099   \n",
       "teaching_score                1.000000      0.018930         0.556468   \n",
       "num_students                  0.018930      1.000000        -0.041039   \n",
       "citations_score               0.556468     -0.041039         1.000000   \n",
       "research_score                0.913441      0.032474         0.611628   \n",
       "income_score                  0.382307     -0.045647         0.163976   \n",
       "female_percentage            -0.081630      0.148513         0.169920   \n",
       "\n",
       "                        research_score  income_score  female_percentage  \n",
       "international_students        0.438664      0.109711           0.109589  \n",
       "male_percentage               0.044670      0.300574          -1.000000  \n",
       "total_score                   0.912394      0.361561           0.058678  \n",
       "international_score           0.422435      0.099903           0.245720  \n",
       "world_rank                   -0.766845     -0.317347          -0.082607  \n",
       "student_staff_ratio          -0.070777      0.007262           0.115196  \n",
       "teaching_score                0.913441      0.382307          -0.081630  \n",
       "num_students                  0.032474     -0.045647           0.148513  \n",
       "citations_score               0.611628      0.163976           0.169920  \n",
       "research_score                1.000000      0.442840          -0.044670  \n",
       "income_score                  0.442840      1.000000          -0.300574  \n",
       "female_percentage            -0.044670     -0.300574           1.000000  "
      ]
     },
     "execution_count": 36,
     "metadata": {},
     "output_type": "execute_result"
    }
   ],
   "source": [
    "# check correlation for numeric variables\n",
    "to_drop = set(data.columns) - {'year', 'f_num_students', 'f_student_staff_ratio', 'f_international_students'}\n",
    "data[list(to_drop)].corr()"
   ]
  },
  {
   "cell_type": "markdown",
   "metadata": {},
   "source": [
    "From the correlation matrix we can tell that among the 5 \"pillars\" of the world rank which comprise the total_score, the citation_score is the one that has the strongest negative correlation with a university's rank: not only doing research is important but how effective and far-reaching the findings are. Besides some obvious strong relations (e.g. teaching_score and research_score, num_students and student_staff_ratio (the more students the higher the student_staff ratio, etc), an interesting point is a moderate correlation between the gender ratios and income_score: with the female_percentage the extent to which businesses are willing to pay for a university's research is negatively correlated whilst the same for male_percentage it positively correlated with the willingness of funding. This might be the result of male students' prevalence in Science, Technology, Engineering and Mathematics programs."
   ]
  },
  {
   "cell_type": "code",
   "execution_count": 45,
   "metadata": {},
   "outputs": [
    {
     "data": {
      "text/plain": [
       "Text(0.5, 1.0, 'Number of ranked universities between 2011 and 2020')"
      ]
     },
     "execution_count": 45,
     "metadata": {},
     "output_type": "execute_result"
    },
    {
     "data": {
      "image/png": "[encoded data removed]",
      "text/plain": [
       "<Figure size 432x432 with 1 Axes>"
      ]
     },
     "metadata": {
      "needs_background": "light"
     },
     "output_type": "display_data"
    }
   ],
   "source": [
    "# check the number of ranked universities over the years\n",
    "data_bar = data.groupby('year')['world_rank'].count()\n",
    "data_bar.plot(kind='bar', figsize=(6,6), xlabel='').set_title('Number of ranked universities between 2011 and 2020', fontsize=14)"
   ]
  },
  {
   "cell_type": "markdown",
   "metadata": {},
   "source": [
    "From this dataset we can see that the number of universities were the same for 3 consecutive years (2012-2014), and it is steadily increasing since 2015 with about the same number in each year (around 100 as read from the graph). Within the timespan of 10 years, the number of universities grew more than sevenfold."
   ]
  },
  {
   "cell_type": "code",
   "execution_count": 44,
   "metadata": {},
   "outputs": [
    {
     "data": {
      "text/plain": [
       "Text(0.5, 0, '')"
      ]
     },
     "execution_count": 44,
     "metadata": {},
     "output_type": "execute_result"
    },
    {
     "data": {
      "image/png": "[encoded data removed]",
      "text/plain": [
       "<Figure size 576x396 with 1 Axes>"
      ]
     },
     "metadata": {
      "needs_background": "light"
     },
     "output_type": "display_data"
    }
   ],
   "source": [
    "# check the ratio of international students over the years\n",
    "sns.boxplot(data=data,x='year', y='international_students', color = 'yellow').set_title('Change of international student ratio between 2011 and 2020', fontsize=14)\n",
    "plt.ylabel('International Students')\n",
    "plt.xlabel('')"
   ]
  },
  {
   "cell_type": "markdown",
   "metadata": {},
   "source": [
    "Although the mean of the international student ratio is decreasing, since 2015 there is a growing number of universities where they open programmes and courses for international students. This might also mean that there is an increase in the English language courses offered and accessible to anyone (true mainly outside of English speaking countries)."
   ]
  },
  {
   "cell_type": "code",
   "execution_count": 43,
   "metadata": {},
   "outputs": [
    {
     "data": {
      "image/png": "[encoded data removed]",
      "text/plain": [
       "<Figure size 864x576 with 2 Axes>"
      ]
     },
     "metadata": {
      "needs_background": "light"
     },
     "output_type": "display_data"
    }
   ],
   "source": [
    "# check female and male percentages over the years \n",
    "fig, axes = plt.subplots(nrows=1, ncols=2, figsize=(12,8), sharey = True)\n",
    "fig.suptitle('Change of female and male ratios between 2011 and 2020', fontsize=14)\n",
    "sns.boxplot(x=\"year\", y='female_percentage', data=data, orient='v', color='skyblue', ax=axes[0])\n",
    "axes[0].set_xlabel('')\n",
    "axes[0].set_ylabel('Female Percentage')\n",
    "sns.boxplot(x=\"year\", y='male_percentage', data=data, orient='v', color='orange', ax=axes[1])\n",
    "axes[1].set_xlabel('')\n",
    "axes[1].set_ylabel('Male Percentage')\n",
    "plt.show()"
   ]
  },
  {
   "cell_type": "markdown",
   "metadata": {},
   "source": [
    "The gender ratios got higher maximums and lower minimums over the years, but the main difference between the two genders is that the male ratio is always higher for the majority of universities and it hasn't changed over the years."
   ]
  },
  {
   "cell_type": "code",
   "execution_count": 46,
   "metadata": {},
   "outputs": [],
   "source": [
    "# export data to csv\n",
    "data.to_csv('ranking.csv', encoding = 'utf-8', index=False)"
   ]
  },
  {
   "cell_type": "markdown",
   "metadata": {},
   "source": [
    "<h1><code style=\"background:indigo;color:white\">API Data</h1></code>\n",
    "<hr>"
   ]
  },
  {
   "cell_type": "markdown",
   "metadata": {},
   "source": [
    "## 1. Description of Data\n",
    "* ##### Source:\n",
    "The data that we use for enrichment purposes is acquired through the API of the [Nobel Prize website](https://www.nobelprize.org/). Detailed documentation about the API can be found on [this](https://app.swaggerhub.com/apis/NobelMedia/NobelMasterData/2#/default/get_laureates) website.\n",
    "* ##### About:\n",
    "The data that we collect with the help of the API contains information about every Nobel Prize Laureate. The Nobel Prize was first awarded in 1901, therefore we have data about the Laureates since that year up until 2020. Our aim is to join this data with the university ranking dataset on the names of universities where Nobel Prize Laureates worked or carried out research. This way we can investigate the connection between top universities and Nobel Prize winners.\n",
    "* ##### Variables:\n",
    "The variables that we extract from the response of the get request are the following:\n",
    "|Variable Name|Type|Description|\n",
    "|:-:|:-:|:-|\n",
    "|id|Qualitative, nominal|ID of Nobel Prize Laureate.|\n",
    "|gender|Qualitative, nominal|Gender of Nobel Prize Laureate.|\n",
    "|birth_date|Quantitative, interval|Birth year of Nobel Prize Laureate.|\n",
    "|birth_place|Qualitative, nominal|Birth country of Nobel Prize Laureate.|\n",
    "|award_year|Quantitative, interval|Year when Nobel Prize Laureate was awarded the Nobel Prize.|\n",
    "|portion|Quantitative, ratio|An integer indicating the number of Nobel Prize Laureates among who the Prize was shared.|\n",
    "|prize_amount|Quantitative, ratio|Amount of Prize for the Nobel Prize in SEK adjusted to its value in 2019.|\n",
    "|category|Qualitative, nominal|Nobel Prize category in which Nobel Prize Laureate was awarded.|\n",
    "|university|Qualitative, nominal|Name of university where Nobel Prize Laureate worked or did research.|\n",
    "|university_country|Qualitative, nominal|Country of university where Nobel Prize Laureate worked or did research.|"
   ]
  },
  {
   "cell_type": "markdown",
   "metadata": {},
   "source": [
    " ## 2. Collect Data with API and Transform it for Further Analysis"
   ]
  },
  {
   "cell_type": "markdown",
   "metadata": {},
   "source": [
    "##### Send Request to Collect Data"
   ]
  },
  {
   "cell_type": "code",
   "execution_count": 47,
   "metadata": {},
   "outputs": [],
   "source": [
    "# loop to collect all Nobel Prize Laureates between 1901 and 2020\n",
    "nobel_json_list = []\n",
    "\n",
    "for year in range(1901, 2021):\n",
    "    nobel_url = 'http://api.nobelprize.org/2.0/laureates?nobelPrizeYear={}'.format(year)\n",
    "    resp = requests.get(nobel_url)\n",
    "    nobel_json = json.loads(resp.text)\n",
    "    nobel_json_list.append(nobel_json)"
   ]
  },
  {
   "cell_type": "markdown",
   "metadata": {},
   "source": [
    "##### Parse Response and Save it to a Data Frame"
   ]
  },
  {
   "cell_type": "code",
   "execution_count": 48,
   "metadata": {},
   "outputs": [
    {
     "data": {
      "text/plain": [
       "dict_keys(['laureates', 'meta', 'links'])"
      ]
     },
     "execution_count": 48,
     "metadata": {},
     "output_type": "execute_result"
    }
   ],
   "source": [
    "# check the keys of an item in the list of responses\n",
    "# we only want to keep values that belong to the 'laureates' key\n",
    "nobel_json_list[0].keys()"
   ]
  },
  {
   "cell_type": "code",
   "execution_count": 49,
   "metadata": {},
   "outputs": [
    {
     "data": {
      "text/plain": [
       "dict_keys(['id', 'knownName', 'givenName', 'familyName', 'fullName', 'gender', 'birth', 'death', 'wikipedia', 'wikidata', 'sameas', 'links', 'nobelPrizes'])"
      ]
     },
     "execution_count": 49,
     "metadata": {},
     "output_type": "execute_result"
    }
   ],
   "source": [
    "# check the keys for one laureate in a year\n",
    "# we only want to keep 'id', 'knownName', 'gender', 'birth' and 'nobelPrizes'\n",
    "nobel_json_list[0]['laureates'][0].keys()"
   ]
  },
  {
   "cell_type": "code",
   "execution_count": 50,
   "metadata": {},
   "outputs": [],
   "source": [
    "# extract the needed keys and values from the dictionaries that belong to laureates to a data frame\n",
    "extracted_df = pd.DataFrame()\n",
    "for i in range(0, len(nobel_json_list)):\n",
    "    temp_df = pd.DataFrame(nobel_json_list[i]['laureates'], columns=['id', 'knownName', 'gender', 'birth', 'nobelPrizes'])\n",
    "    extracted_df = extracted_df.append(temp_df, ignore_index=True)"
   ]
  },
  {
   "cell_type": "code",
   "execution_count": 51,
   "metadata": {},
   "outputs": [
    {
     "data": {
      "text/html": [
       "<div>\n",
       "<style scoped>\n",
       "    .dataframe tbody tr th:only-of-type {\n",
       "        vertical-align: middle;\n",
       "    }\n",
       "\n",
       "    .dataframe tbody tr th {\n",
       "        vertical-align: top;\n",
       "    }\n",
       "\n",
       "    .dataframe thead th {\n",
       "        text-align: right;\n",
       "    }\n",
       "</style>\n",
       "<table border=\"1\" class=\"dataframe\">\n",
       "  <thead>\n",
       "    <tr style=\"text-align: right;\">\n",
       "      <th></th>\n",
       "      <th>id</th>\n",
       "      <th>knownName</th>\n",
       "      <th>gender</th>\n",
       "      <th>birth</th>\n",
       "      <th>nobelPrizes</th>\n",
       "    </tr>\n",
       "  </thead>\n",
       "  <tbody>\n",
       "    <tr>\n",
       "      <th>0</th>\n",
       "      <td>293</td>\n",
       "      <td>{'en': 'Emil von Behring', 'se': 'Emil von Beh...</td>\n",
       "      <td>male</td>\n",
       "      <td>{'date': '1854-03-15', 'place': {'city': {'en'...</td>\n",
       "      <td>[{'awardYear': '1901', 'category': {'en': 'Phy...</td>\n",
       "    </tr>\n",
       "    <tr>\n",
       "      <th>1</th>\n",
       "      <td>463</td>\n",
       "      <td>{'en': 'Frédéric Passy', 'se': 'Frédéric Passy'}</td>\n",
       "      <td>male</td>\n",
       "      <td>{'date': '1822-05-20', 'place': {'city': {'en'...</td>\n",
       "      <td>[{'awardYear': '1901', 'category': {'en': 'Pea...</td>\n",
       "    </tr>\n",
       "    <tr>\n",
       "      <th>2</th>\n",
       "      <td>462</td>\n",
       "      <td>{'en': 'Henry Dunant', 'se': 'Henry Dunant'}</td>\n",
       "      <td>male</td>\n",
       "      <td>{'date': '1828-05-08', 'place': {'city': {'en'...</td>\n",
       "      <td>[{'awardYear': '1901', 'category': {'en': 'Pea...</td>\n",
       "    </tr>\n",
       "    <tr>\n",
       "      <th>3</th>\n",
       "      <td>160</td>\n",
       "      <td>{'en': 'Jacobus H. van 't Hoff', 'se': 'Jacobu...</td>\n",
       "      <td>male</td>\n",
       "      <td>{'date': '1852-08-30', 'place': {'city': {'en'...</td>\n",
       "      <td>[{'awardYear': '1901', 'category': {'en': 'Che...</td>\n",
       "    </tr>\n",
       "    <tr>\n",
       "      <th>4</th>\n",
       "      <td>569</td>\n",
       "      <td>{'en': 'Sully Prudhomme', 'se': 'Sully Prudhom...</td>\n",
       "      <td>male</td>\n",
       "      <td>{'date': '1839-03-16', 'place': {'city': {'en'...</td>\n",
       "      <td>[{'awardYear': '1901', 'category': {'en': 'Lit...</td>\n",
       "    </tr>\n",
       "  </tbody>\n",
       "</table>\n",
       "</div>"
      ],
      "text/plain": [
       "    id                                          knownName gender  \\\n",
       "0  293  {'en': 'Emil von Behring', 'se': 'Emil von Beh...   male   \n",
       "1  463   {'en': 'Frédéric Passy', 'se': 'Frédéric Passy'}   male   \n",
       "2  462       {'en': 'Henry Dunant', 'se': 'Henry Dunant'}   male   \n",
       "3  160  {'en': 'Jacobus H. van 't Hoff', 'se': 'Jacobu...   male   \n",
       "4  569  {'en': 'Sully Prudhomme', 'se': 'Sully Prudhom...   male   \n",
       "\n",
       "                                               birth  \\\n",
       "0  {'date': '1854-03-15', 'place': {'city': {'en'...   \n",
       "1  {'date': '1822-05-20', 'place': {'city': {'en'...   \n",
       "2  {'date': '1828-05-08', 'place': {'city': {'en'...   \n",
       "3  {'date': '1852-08-30', 'place': {'city': {'en'...   \n",
       "4  {'date': '1839-03-16', 'place': {'city': {'en'...   \n",
       "\n",
       "                                         nobelPrizes  \n",
       "0  [{'awardYear': '1901', 'category': {'en': 'Phy...  \n",
       "1  [{'awardYear': '1901', 'category': {'en': 'Pea...  \n",
       "2  [{'awardYear': '1901', 'category': {'en': 'Pea...  \n",
       "3  [{'awardYear': '1901', 'category': {'en': 'Che...  \n",
       "4  [{'awardYear': '1901', 'category': {'en': 'Lit...  "
      ]
     },
     "execution_count": 51,
     "metadata": {},
     "output_type": "execute_result"
    }
   ],
   "source": [
    "extracted_df.head(5)"
   ]
  },
  {
   "cell_type": "markdown",
   "metadata": {},
   "source": [
    "##### Transform and Filter the Data Frame"
   ]
  },
  {
   "cell_type": "code",
   "execution_count": 52,
   "metadata": {},
   "outputs": [],
   "source": [
    "# remove observations where knownName is missing because these belong to organisations and we are only interested in people\n",
    "# furthemore there is no corresponding university in case of organisations and we need that for the join with the university\n",
    "# ranking table\n",
    "extracted_df = extracted_df[extracted_df['knownName'].notna()].reset_index(drop=True)"
   ]
  },
  {
   "cell_type": "code",
   "execution_count": 53,
   "metadata": {},
   "outputs": [
    {
     "data": {
      "text/html": [
       "<div>\n",
       "<style scoped>\n",
       "    .dataframe tbody tr th:only-of-type {\n",
       "        vertical-align: middle;\n",
       "    }\n",
       "\n",
       "    .dataframe tbody tr th {\n",
       "        vertical-align: top;\n",
       "    }\n",
       "\n",
       "    .dataframe thead th {\n",
       "        text-align: right;\n",
       "    }\n",
       "</style>\n",
       "<table border=\"1\" class=\"dataframe\">\n",
       "  <thead>\n",
       "    <tr style=\"text-align: right;\">\n",
       "      <th></th>\n",
       "      <th>id</th>\n",
       "      <th>knownName</th>\n",
       "      <th>gender</th>\n",
       "      <th>birth</th>\n",
       "      <th>nobelPrizes</th>\n",
       "    </tr>\n",
       "  </thead>\n",
       "  <tbody>\n",
       "    <tr>\n",
       "      <th>929</th>\n",
       "      <td>986</td>\n",
       "      <td>{'en': 'Michael Houghton', 'se': 'Michael Houg...</td>\n",
       "      <td>male</td>\n",
       "      <td>NaN</td>\n",
       "      <td>[{'awardYear': '2020', 'category': {'en': 'Phy...</td>\n",
       "    </tr>\n",
       "  </tbody>\n",
       "</table>\n",
       "</div>"
      ],
      "text/plain": [
       "      id                                          knownName gender birth  \\\n",
       "929  986  {'en': 'Michael Houghton', 'se': 'Michael Houg...   male   NaN   \n",
       "\n",
       "                                           nobelPrizes  \n",
       "929  [{'awardYear': '2020', 'category': {'en': 'Phy...  "
      ]
     },
     "execution_count": 53,
     "metadata": {},
     "output_type": "execute_result"
    }
   ],
   "source": [
    "# there is one laureate where the 'birth' information is missing\n",
    "# we fill this in manually\n",
    "extracted_df[extracted_df['birth'].isna()]"
   ]
  },
  {
   "cell_type": "code",
   "execution_count": 54,
   "metadata": {},
   "outputs": [],
   "source": [
    "# fill in missing value from Wikipedia: https://en.wikipedia.org/wiki/Michael_Houghton_(virologist)\n",
    "extracted_df.at[929, 'birth'] = {'date': '1949-01-01'}"
   ]
  },
  {
   "cell_type": "code",
   "execution_count": 55,
   "metadata": {},
   "outputs": [],
   "source": [
    "# extract the dictionaries from the lists in the nobelPrizes column and save it in the same column\n",
    "# this way we can parse the dictionaries in the next step\n",
    "extracted_df['nobelPrizes'] = [extracted_df['nobelPrizes'][i][0] for i in range(0, len(extracted_df))]"
   ]
  },
  {
   "cell_type": "code",
   "execution_count": 56,
   "metadata": {},
   "outputs": [],
   "source": [
    "# extract dictionaries and create new variables from their contents\n",
    "to_extract = ['knownName', 'birth', 'nobelPrizes']\n",
    "for column in to_extract:\n",
    "    temp_df = pd.json_normalize(extracted_df[column])\n",
    "    extracted_df = extracted_df.join(temp_df, rsuffix = \"_\" + column)"
   ]
  },
  {
   "cell_type": "code",
   "execution_count": 57,
   "metadata": {},
   "outputs": [
    {
     "data": {
      "text/html": [
       "<div>\n",
       "<style scoped>\n",
       "    .dataframe tbody tr th:only-of-type {\n",
       "        vertical-align: middle;\n",
       "    }\n",
       "\n",
       "    .dataframe tbody tr th {\n",
       "        vertical-align: top;\n",
       "    }\n",
       "\n",
       "    .dataframe thead th {\n",
       "        text-align: right;\n",
       "    }\n",
       "</style>\n",
       "<table border=\"1\" class=\"dataframe\">\n",
       "  <thead>\n",
       "    <tr style=\"text-align: right;\">\n",
       "      <th></th>\n",
       "      <th>id</th>\n",
       "      <th>knownName</th>\n",
       "      <th>gender</th>\n",
       "      <th>birth</th>\n",
       "      <th>nobelPrizes</th>\n",
       "      <th>en</th>\n",
       "      <th>se</th>\n",
       "      <th>no</th>\n",
       "      <th>date</th>\n",
       "      <th>place.city.en</th>\n",
       "      <th>...</th>\n",
       "      <th>motivation.se</th>\n",
       "      <th>links.rel</th>\n",
       "      <th>links.href</th>\n",
       "      <th>links.action</th>\n",
       "      <th>links.types</th>\n",
       "      <th>dateAwarded</th>\n",
       "      <th>residences</th>\n",
       "      <th>motivation.no</th>\n",
       "      <th>topMotivation.en</th>\n",
       "      <th>topMotivation.se</th>\n",
       "    </tr>\n",
       "  </thead>\n",
       "  <tbody>\n",
       "    <tr>\n",
       "      <th>0</th>\n",
       "      <td>293</td>\n",
       "      <td>{'en': 'Emil von Behring', 'se': 'Emil von Beh...</td>\n",
       "      <td>male</td>\n",
       "      <td>{'date': '1854-03-15', 'place': {'city': {'en'...</td>\n",
       "      <td>{'awardYear': '1901', 'category': {'en': 'Phys...</td>\n",
       "      <td>Emil von Behring</td>\n",
       "      <td>Emil von Behring</td>\n",
       "      <td>NaN</td>\n",
       "      <td>1854-03-15</td>\n",
       "      <td>Hansdorf</td>\n",
       "      <td>...</td>\n",
       "      <td>för hans arbete rörande serumterapien och särs...</td>\n",
       "      <td>nobelPrize</td>\n",
       "      <td>https://api.nobelprize.org/2/nobelPrize/med/1901</td>\n",
       "      <td>Get</td>\n",
       "      <td>application/json</td>\n",
       "      <td>NaN</td>\n",
       "      <td>NaN</td>\n",
       "      <td>NaN</td>\n",
       "      <td>NaN</td>\n",
       "      <td>NaN</td>\n",
       "    </tr>\n",
       "  </tbody>\n",
       "</table>\n",
       "<p>1 rows × 51 columns</p>\n",
       "</div>"
      ],
      "text/plain": [
       "    id                                          knownName gender  \\\n",
       "0  293  {'en': 'Emil von Behring', 'se': 'Emil von Beh...   male   \n",
       "\n",
       "                                               birth  \\\n",
       "0  {'date': '1854-03-15', 'place': {'city': {'en'...   \n",
       "\n",
       "                                         nobelPrizes                en  \\\n",
       "0  {'awardYear': '1901', 'category': {'en': 'Phys...  Emil von Behring   \n",
       "\n",
       "                 se   no        date place.city.en  ...  \\\n",
       "0  Emil von Behring  NaN  1854-03-15      Hansdorf  ...   \n",
       "\n",
       "                                       motivation.se   links.rel  \\\n",
       "0  för hans arbete rörande serumterapien och särs...  nobelPrize   \n",
       "\n",
       "                                         links.href links.action  \\\n",
       "0  https://api.nobelprize.org/2/nobelPrize/med/1901          Get   \n",
       "\n",
       "        links.types dateAwarded residences motivation.no topMotivation.en  \\\n",
       "0  application/json         NaN        NaN           NaN              NaN   \n",
       "\n",
       "  topMotivation.se  \n",
       "0              NaN  \n",
       "\n",
       "[1 rows x 51 columns]"
      ]
     },
     "execution_count": 57,
     "metadata": {},
     "output_type": "execute_result"
    }
   ],
   "source": [
    "extracted_df.head(1)"
   ]
  },
  {
   "cell_type": "code",
   "execution_count": 58,
   "metadata": {},
   "outputs": [],
   "source": [
    "# drop columns with dictionaries\n",
    "extracted_df = extracted_df.drop(['knownName', 'birth', 'nobelPrizes'], axis = 1)"
   ]
  },
  {
   "cell_type": "code",
   "execution_count": 59,
   "metadata": {},
   "outputs": [],
   "source": [
    "# select variables to keep\n",
    "filtered_df = extracted_df[['id', 'gender', 'en', 'date', 'place.countryNow.en', 'awardYear', 'portion', 'prizeAmountAdjusted', 'affiliations', 'category.en']]"
   ]
  },
  {
   "cell_type": "code",
   "execution_count": 60,
   "metadata": {},
   "outputs": [],
   "source": [
    "# replace nan values with 'missing' so that we can still use those observations for some exploratory charts\n",
    "filtered_df = filtered_df.fillna(value={'affiliations': 'missing'})"
   ]
  },
  {
   "cell_type": "code",
   "execution_count": 61,
   "metadata": {},
   "outputs": [],
   "source": [
    "# extract dictionaries from list in the affiliations column\n",
    "filtered_df['affiliations'] = [filtered_df['affiliations'][i][0] for i in range(0, len(filtered_df))]"
   ]
  },
  {
   "cell_type": "code",
   "execution_count": 62,
   "metadata": {},
   "outputs": [],
   "source": [
    "# extract variables from dictionary in affiliations column to a new dataframe\n",
    "aff_df = pd.DataFrame()\n",
    "for row in range(0, len(filtered_df)):\n",
    "    if len(filtered_df['affiliations'][row]) == 1: # if the value is 'm' (=missing) then go to the next row\n",
    "        next\n",
    "    else: \n",
    "        temp_df = pd.json_normalize(filtered_df['affiliations'][row])\n",
    "        index = pd.DataFrame({'id': [filtered_df['id'][row]]}) # get id of laureate so that we can join it back later\n",
    "        aff_df = aff_df.append(temp_df.join(index), ignore_index=True)"
   ]
  },
  {
   "cell_type": "code",
   "execution_count": 63,
   "metadata": {},
   "outputs": [],
   "source": [
    "# choose columns to keep from the affiliations and join them to the filtered_df to create a new df\n",
    "nobel_df = pd.merge(filtered_df, aff_df[['id', 'nameNow.en', 'countryNow.en']], on = 'id', how = 'left')"
   ]
  },
  {
   "cell_type": "code",
   "execution_count": 64,
   "metadata": {},
   "outputs": [],
   "source": [
    "# drop affiliations column and rename variables\n",
    "nobel_df = nobel_df.drop(['affiliations'], axis = 1)\n",
    "nobel_df.rename(columns={'en': 'name', 'date': 'birth_date', 'place.countryNow.en': 'birth_place', 'awardYear': 'award_year', 'prizeAmountAdjusted': 'prize_amount', 'category.en': 'category', 'nameNow.en': 'university', 'countryNow.en': 'university_country'}, inplace=True)"
   ]
  },
  {
   "cell_type": "code",
   "execution_count": 65,
   "metadata": {},
   "outputs": [],
   "source": [
    "# save df to csv\n",
    "nobel_df.to_csv('nobel.csv', encoding = 'utf-8', index=False)"
   ]
  },
  {
   "cell_type": "markdown",
   "metadata": {},
   "source": [
    "## 3. Exploratory Data Analysis"
   ]
  },
  {
   "cell_type": "markdown",
   "metadata": {},
   "source": [
    "##### Import Data"
   ]
  },
  {
   "cell_type": "code",
   "execution_count": 66,
   "metadata": {},
   "outputs": [],
   "source": [
    "# import df from csv\n",
    "nobel_df = pd.read_csv('nobel.csv')"
   ]
  },
  {
   "cell_type": "code",
   "execution_count": 67,
   "metadata": {},
   "outputs": [
    {
     "data": {
      "text/html": [
       "<div>\n",
       "<style scoped>\n",
       "    .dataframe tbody tr th:only-of-type {\n",
       "        vertical-align: middle;\n",
       "    }\n",
       "\n",
       "    .dataframe tbody tr th {\n",
       "        vertical-align: top;\n",
       "    }\n",
       "\n",
       "    .dataframe thead th {\n",
       "        text-align: right;\n",
       "    }\n",
       "</style>\n",
       "<table border=\"1\" class=\"dataframe\">\n",
       "  <thead>\n",
       "    <tr style=\"text-align: right;\">\n",
       "      <th></th>\n",
       "      <th>id</th>\n",
       "      <th>gender</th>\n",
       "      <th>name</th>\n",
       "      <th>birth_date</th>\n",
       "      <th>birth_place</th>\n",
       "      <th>award_year</th>\n",
       "      <th>portion</th>\n",
       "      <th>prize_amount</th>\n",
       "      <th>category</th>\n",
       "      <th>university</th>\n",
       "      <th>university_country</th>\n",
       "    </tr>\n",
       "  </thead>\n",
       "  <tbody>\n",
       "    <tr>\n",
       "      <th>0</th>\n",
       "      <td>293</td>\n",
       "      <td>male</td>\n",
       "      <td>Emil von Behring</td>\n",
       "      <td>1854-03-15</td>\n",
       "      <td>Poland</td>\n",
       "      <td>1901</td>\n",
       "      <td>1</td>\n",
       "      <td>8722510</td>\n",
       "      <td>Physiology or Medicine</td>\n",
       "      <td>Marburg University</td>\n",
       "      <td>Germany</td>\n",
       "    </tr>\n",
       "    <tr>\n",
       "      <th>1</th>\n",
       "      <td>463</td>\n",
       "      <td>male</td>\n",
       "      <td>Frédéric Passy</td>\n",
       "      <td>1822-05-20</td>\n",
       "      <td>France</td>\n",
       "      <td>1901</td>\n",
       "      <td>1/2</td>\n",
       "      <td>8722510</td>\n",
       "      <td>Peace</td>\n",
       "      <td>NaN</td>\n",
       "      <td>NaN</td>\n",
       "    </tr>\n",
       "  </tbody>\n",
       "</table>\n",
       "</div>"
      ],
      "text/plain": [
       "    id gender              name  birth_date birth_place  award_year portion  \\\n",
       "0  293   male  Emil von Behring  1854-03-15      Poland        1901       1   \n",
       "1  463   male    Frédéric Passy  1822-05-20      France        1901     1/2   \n",
       "\n",
       "   prize_amount                category          university university_country  \n",
       "0       8722510  Physiology or Medicine  Marburg University            Germany  \n",
       "1       8722510                   Peace                 NaN                NaN  "
      ]
     },
     "execution_count": 67,
     "metadata": {},
     "output_type": "execute_result"
    }
   ],
   "source": [
    "nobel_df.head(2)"
   ]
  },
  {
   "cell_type": "markdown",
   "metadata": {},
   "source": [
    "##### Check Data Types"
   ]
  },
  {
   "cell_type": "code",
   "execution_count": 68,
   "metadata": {},
   "outputs": [
    {
     "data": {
      "text/plain": [
       "id                     int64\n",
       "gender                object\n",
       "name                  object\n",
       "birth_date            object\n",
       "birth_place           object\n",
       "award_year             int64\n",
       "portion               object\n",
       "prize_amount           int64\n",
       "category              object\n",
       "university            object\n",
       "university_country    object\n",
       "dtype: object"
      ]
     },
     "execution_count": 68,
     "metadata": {},
     "output_type": "execute_result"
    }
   ],
   "source": [
    "nobel_df.dtypes"
   ]
  },
  {
   "cell_type": "markdown",
   "metadata": {},
   "source": [
    "There are two variables where the data types are incorrect and need to be fixed. These are the birth_date which is stored as a string and the portion which is also stored as a string."
   ]
  },
  {
   "cell_type": "code",
   "execution_count": 69,
   "metadata": {},
   "outputs": [],
   "source": [
    "# extract year from birth_date and convert it to integer\n",
    "nobel_df['birth_date'] = nobel_df['birth_date'].apply(lambda x: int(x.split('-')[0]))"
   ]
  },
  {
   "cell_type": "code",
   "execution_count": 70,
   "metadata": {},
   "outputs": [],
   "source": [
    "# add new column with age at award\n",
    "nobel_df['age_at_award'] = nobel_df['award_year'] - nobel_df['birth_date']"
   ]
  },
  {
   "cell_type": "code",
   "execution_count": 71,
   "metadata": {},
   "outputs": [],
   "source": [
    "# define function to convert portion from string to integer\n",
    "def portion_int(row):\n",
    "    if len(row['portion']) == 1:\n",
    "        portion = int(row['portion'])\n",
    "    else:\n",
    "        portion = int(row['portion'].split('/')[1])\n",
    "        \n",
    "    return portion"
   ]
  },
  {
   "cell_type": "code",
   "execution_count": 72,
   "metadata": {},
   "outputs": [],
   "source": [
    "# apply function\n",
    "nobel_df['portion'] = nobel_df.apply(lambda x: portion_int(x), axis=1)"
   ]
  },
  {
   "cell_type": "code",
   "execution_count": 73,
   "metadata": {},
   "outputs": [],
   "source": [
    "# add new column with actual prize amounts\n",
    "nobel_df['prize_amount_actual'] = nobel_df['prize_amount'] / nobel_df['portion']"
   ]
  },
  {
   "cell_type": "markdown",
   "metadata": {},
   "source": [
    "##### Check for Duplicates and Missing Values"
   ]
  },
  {
   "cell_type": "code",
   "execution_count": 74,
   "metadata": {},
   "outputs": [
    {
     "data": {
      "text/plain": [
       "10"
      ]
     },
     "execution_count": 74,
     "metadata": {},
     "output_type": "execute_result"
    }
   ],
   "source": [
    "# check if there are duplicates\n",
    "nobel_df.duplicated().sum()"
   ]
  },
  {
   "cell_type": "markdown",
   "metadata": {},
   "source": [
    "There are 10 duplicates in the data, we drop them."
   ]
  },
  {
   "cell_type": "code",
   "execution_count": 75,
   "metadata": {},
   "outputs": [],
   "source": [
    "# drop duplicated rows\n",
    "nobel_df.drop_duplicates(inplace=True)"
   ]
  },
  {
   "cell_type": "code",
   "execution_count": 76,
   "metadata": {},
   "outputs": [
    {
     "data": {
      "text/plain": [
       "id                       0\n",
       "gender                   0\n",
       "name                     0\n",
       "birth_date               0\n",
       "birth_place              1\n",
       "award_year               0\n",
       "portion                  0\n",
       "prize_amount             0\n",
       "category                 0\n",
       "university             227\n",
       "university_country     231\n",
       "age_at_award             0\n",
       "prize_amount_actual      0\n",
       "dtype: int64"
      ]
     },
     "execution_count": 76,
     "metadata": {},
     "output_type": "execute_result"
    }
   ],
   "source": [
    "# check missing values by variables\n",
    "nobel_df.isnull().sum()"
   ]
  },
  {
   "cell_type": "code",
   "execution_count": 77,
   "metadata": {},
   "outputs": [
    {
     "data": {
      "text/html": [
       "<div>\n",
       "<style scoped>\n",
       "    .dataframe tbody tr th:only-of-type {\n",
       "        vertical-align: middle;\n",
       "    }\n",
       "\n",
       "    .dataframe tbody tr th {\n",
       "        vertical-align: top;\n",
       "    }\n",
       "\n",
       "    .dataframe thead th {\n",
       "        text-align: right;\n",
       "    }\n",
       "</style>\n",
       "<table border=\"1\" class=\"dataframe\">\n",
       "  <thead>\n",
       "    <tr style=\"text-align: right;\">\n",
       "      <th></th>\n",
       "      <th>id</th>\n",
       "      <th>gender</th>\n",
       "      <th>name</th>\n",
       "      <th>birth_date</th>\n",
       "      <th>birth_place</th>\n",
       "      <th>award_year</th>\n",
       "      <th>portion</th>\n",
       "      <th>prize_amount</th>\n",
       "      <th>category</th>\n",
       "      <th>university</th>\n",
       "      <th>university_country</th>\n",
       "      <th>age_at_award</th>\n",
       "      <th>prize_amount_actual</th>\n",
       "    </tr>\n",
       "  </thead>\n",
       "  <tbody>\n",
       "    <tr>\n",
       "      <th>935</th>\n",
       "      <td>986</td>\n",
       "      <td>male</td>\n",
       "      <td>Michael Houghton</td>\n",
       "      <td>1949</td>\n",
       "      <td>NaN</td>\n",
       "      <td>2020</td>\n",
       "      <td>3</td>\n",
       "      <td>10000000</td>\n",
       "      <td>Physiology or Medicine</td>\n",
       "      <td>University of Alberta</td>\n",
       "      <td>Canada</td>\n",
       "      <td>71</td>\n",
       "      <td>3.333333e+06</td>\n",
       "    </tr>\n",
       "  </tbody>\n",
       "</table>\n",
       "</div>"
      ],
      "text/plain": [
       "      id gender              name  birth_date birth_place  award_year  \\\n",
       "935  986   male  Michael Houghton        1949         NaN        2020   \n",
       "\n",
       "     portion  prize_amount                category             university  \\\n",
       "935        3      10000000  Physiology or Medicine  University of Alberta   \n",
       "\n",
       "    university_country  age_at_award  prize_amount_actual  \n",
       "935             Canada            71         3.333333e+06  "
      ]
     },
     "execution_count": 77,
     "metadata": {},
     "output_type": "execute_result"
    }
   ],
   "source": [
    "# look up the laureate for who the birth_place is missing\n",
    "nobel_df[nobel_df['birth_place'].isnull()==True]"
   ]
  },
  {
   "cell_type": "code",
   "execution_count": 78,
   "metadata": {},
   "outputs": [],
   "source": [
    "# fill it in manually to avoid losing this observation\n",
    "# source: https://en.wikipedia.org/wiki/Michael_Houghton_(virologist)#Early_life_and_education\n",
    "nobel_df['birth_place'] = np.where(nobel_df['birth_place'].isnull(), 'United Kingdom', nobel_df['birth_place'])"
   ]
  },
  {
   "cell_type": "markdown",
   "metadata": {},
   "source": [
    "As for the observations where the university or the country of the university is missing we decided not to drop them. This is because we would have liked to see some information about all the Nobel Prize Laureates along a few variables such as gender and place of birth which are not affected by the missing values. However, later on when we joined the university rankings table with the Nobel Prize table we had to exclude these observations since we joined on the 'university' column."
   ]
  },
  {
   "cell_type": "markdown",
   "metadata": {},
   "source": [
    "Then we checked some features of the Laureates for who the university was missing. It turned out that the vast majority of them were awarded in either the Literature or the Peace categories. As for the distribution of their birth dates the range is relatively large but based on the third quartile we can say that most of them were born before 1930."
   ]
  },
  {
   "cell_type": "code",
   "execution_count": 79,
   "metadata": {},
   "outputs": [
    {
     "data": {
      "text/plain": [
       "Literature                117\n",
       "Peace                     103\n",
       "Chemistry                   2\n",
       "Physics                     2\n",
       "Economic Sciences           2\n",
       "Physiology or Medicine      1\n",
       "Name: category, dtype: int64"
      ]
     },
     "execution_count": 79,
     "metadata": {},
     "output_type": "execute_result"
    }
   ],
   "source": [
    "# check features of laureates for who the university is missing\n",
    "# check the categories in which they were awarded\n",
    "nobel_missing = nobel_df[nobel_df['university'].isnull()==True]\n",
    "nobel_missing['category'].value_counts()"
   ]
  },
  {
   "cell_type": "code",
   "execution_count": 80,
   "metadata": {},
   "outputs": [
    {
     "data": {
      "text/plain": [
       "count     227.000000\n",
       "mean     1899.568282\n",
       "std        38.161840\n",
       "min      1817.000000\n",
       "25%      1866.500000\n",
       "50%      1902.000000\n",
       "75%      1931.000000\n",
       "max      1997.000000\n",
       "Name: birth_date, dtype: float64"
      ]
     },
     "execution_count": 80,
     "metadata": {},
     "output_type": "execute_result"
    }
   ],
   "source": [
    "# check the distribution of their birth dates\n",
    "nobel_missing['birth_date'].describe()"
   ]
  },
  {
   "cell_type": "markdown",
   "metadata": {},
   "source": [
    "##### Describe Data"
   ]
  },
  {
   "cell_type": "code",
   "execution_count": 81,
   "metadata": {},
   "outputs": [
    {
     "data": {
      "text/html": [
       "<div>\n",
       "<style scoped>\n",
       "    .dataframe tbody tr th:only-of-type {\n",
       "        vertical-align: middle;\n",
       "    }\n",
       "\n",
       "    .dataframe tbody tr th {\n",
       "        vertical-align: top;\n",
       "    }\n",
       "\n",
       "    .dataframe thead th {\n",
       "        text-align: right;\n",
       "    }\n",
       "</style>\n",
       "<table border=\"1\" class=\"dataframe\">\n",
       "  <thead>\n",
       "    <tr style=\"text-align: right;\">\n",
       "      <th></th>\n",
       "      <th>gender</th>\n",
       "      <th>name</th>\n",
       "      <th>birth_place</th>\n",
       "      <th>category</th>\n",
       "      <th>university</th>\n",
       "      <th>university_country</th>\n",
       "    </tr>\n",
       "  </thead>\n",
       "  <tbody>\n",
       "    <tr>\n",
       "      <th>count</th>\n",
       "      <td>930</td>\n",
       "      <td>930</td>\n",
       "      <td>930</td>\n",
       "      <td>930</td>\n",
       "      <td>703</td>\n",
       "      <td>699</td>\n",
       "    </tr>\n",
       "    <tr>\n",
       "      <th>unique</th>\n",
       "      <td>2</td>\n",
       "      <td>930</td>\n",
       "      <td>82</td>\n",
       "      <td>6</td>\n",
       "      <td>310</td>\n",
       "      <td>27</td>\n",
       "    </tr>\n",
       "    <tr>\n",
       "      <th>top</th>\n",
       "      <td>male</td>\n",
       "      <td>Edward Tatum</td>\n",
       "      <td>USA</td>\n",
       "      <td>Physiology or Medicine</td>\n",
       "      <td>University of California</td>\n",
       "      <td>USA</td>\n",
       "    </tr>\n",
       "    <tr>\n",
       "      <th>freq</th>\n",
       "      <td>873</td>\n",
       "      <td>1</td>\n",
       "      <td>279</td>\n",
       "      <td>222</td>\n",
       "      <td>34</td>\n",
       "      <td>362</td>\n",
       "    </tr>\n",
       "  </tbody>\n",
       "</table>\n",
       "</div>"
      ],
      "text/plain": [
       "       gender          name birth_place                category  \\\n",
       "count     930           930         930                     930   \n",
       "unique      2           930          82                       6   \n",
       "top      male  Edward Tatum         USA  Physiology or Medicine   \n",
       "freq      873             1         279                     222   \n",
       "\n",
       "                      university university_country  \n",
       "count                        703                699  \n",
       "unique                       310                 27  \n",
       "top     University of California                USA  \n",
       "freq                          34                362  "
      ]
     },
     "execution_count": 81,
     "metadata": {},
     "output_type": "execute_result"
    }
   ],
   "source": [
    "# summary of string columns\n",
    "nobel_df.describe(include=[object])"
   ]
  },
  {
   "cell_type": "markdown",
   "metadata": {},
   "source": [
    "Based on the summary statistics we can say that the majority of Laureates are men. Out of the 930 observations 873 are men. A large portion of Laureates were born in the United States and in general they come from 82 countries. Furthermore, there are six Nobel Prize categories out of which the one for Physiology and Medicine has been awarded the most times. As for the universities we have 310 distinct values, however these are located in 'only' 27 countries."
   ]
  },
  {
   "cell_type": "code",
   "execution_count": 82,
   "metadata": {},
   "outputs": [
    {
     "data": {
      "text/plain": [
       "Text(0.5, 0, 'Prize Amount Actual')"
      ]
     },
     "execution_count": 82,
     "metadata": {},
     "output_type": "execute_result"
    },
    {
     "data": {
      "image/png": "[encoded data removed]",
      "text/plain": [
       "<Figure size 576x396 with 1 Axes>"
      ]
     },
     "metadata": {
      "needs_background": "light"
     },
     "output_type": "display_data"
    }
   ],
   "source": [
    "# histogram for prize amount actual\n",
    "sns.histplot(data=nobel_df, x=\"prize_amount_actual\").set_title('Distribution of actually awarded prize amount', fontsize=14)\n",
    "plt.ticklabel_format(style='plain', axis='x')\n",
    "plt.xlabel('Prize Amount Actual')"
   ]
  },
  {
   "cell_type": "markdown",
   "metadata": {},
   "source": [
    "The distribution of the actual prize amount - the share of the total prize that a Laureate was actually given - is skewed with a long right tail. This means that the majority was awarded smaller while the minority larger prizes. A reason for this could be that in case a prize is won by multiple people then the prize is split among them, therefore the actual prize amount is smaller."
   ]
  },
  {
   "cell_type": "code",
   "execution_count": 84,
   "metadata": {},
   "outputs": [
    {
     "data": {
      "text/plain": [
       "Text(0.5, 0, 'Age at Award')"
      ]
     },
     "execution_count": 84,
     "metadata": {},
     "output_type": "execute_result"
    },
    {
     "data": {
      "image/png": "[encoded data removed]",
      "text/plain": [
       "<Figure size 576x396 with 1 Axes>"
      ]
     },
     "metadata": {
      "needs_background": "light"
     },
     "output_type": "display_data"
    }
   ],
   "source": [
    "# histogram for age at award\n",
    "sns.histplot(data=nobel_df, x=\"age_at_award\").set_title('Distribution of age of Laureates when receiving the award', fontsize=14)\n",
    "plt.xlabel('Age at Award')"
   ]
  },
  {
   "cell_type": "markdown",
   "metadata": {},
   "source": [
    "The age of Laureates when they received the Nobel Prize follows a relatively normal distribution. Interestingly, there are Laureates who are very young and also who are very old."
   ]
  },
  {
   "cell_type": "code",
   "execution_count": 85,
   "metadata": {},
   "outputs": [
    {
     "data": {
      "text/plain": [
       "birth_date    1817\n",
       "award_year    1901\n",
       "portion          1\n",
       "dtype: int64"
      ]
     },
     "execution_count": 85,
     "metadata": {},
     "output_type": "execute_result"
    }
   ],
   "source": [
    "# check minimum values of year variables and portion\n",
    "nobel_df[[\"birth_date\", \"award_year\", \"portion\"]].min()"
   ]
  },
  {
   "cell_type": "code",
   "execution_count": 86,
   "metadata": {},
   "outputs": [
    {
     "data": {
      "text/plain": [
       "birth_date    1997\n",
       "award_year    2020\n",
       "portion          4\n",
       "dtype: int64"
      ]
     },
     "execution_count": 86,
     "metadata": {},
     "output_type": "execute_result"
    }
   ],
   "source": [
    "# check maximum values of year variables and portion\n",
    "nobel_df[[\"birth_date\", \"award_year\", \"portion\"]].max()"
   ]
  },
  {
   "cell_type": "markdown",
   "metadata": {},
   "source": [
    "The Nobel Prize was first awarded in 1901. The oldest Laureate was born in 1817, while the youngest was born in 1997. The maximum number of people among who a prize has been split is 4."
   ]
  },
  {
   "cell_type": "code",
   "execution_count": 87,
   "metadata": {},
   "outputs": [
    {
     "data": {
      "text/plain": [
       "Physiology or Medicine    222\n",
       "Physics                   215\n",
       "Chemistry                 183\n",
       "Literature                117\n",
       "Peace                     107\n",
       "Economic Sciences          86\n",
       "Name: category, dtype: int64"
      ]
     },
     "execution_count": 87,
     "metadata": {},
     "output_type": "execute_result"
    }
   ],
   "source": [
    "# check the number of awarded prizes by category\n",
    "nobel_df['category'].value_counts()"
   ]
  },
  {
   "cell_type": "markdown",
   "metadata": {},
   "source": [
    "The number of Laureates in each category is relatively similar except for Economic Sciences where it is lower. This is because that category only exists since 1968."
   ]
  },
  {
   "cell_type": "code",
   "execution_count": 88,
   "metadata": {},
   "outputs": [
    {
     "data": {
      "text/plain": [
       "Text(0.5, 0, 'Category')"
      ]
     },
     "execution_count": 88,
     "metadata": {},
     "output_type": "execute_result"
    },
    {
     "data": {
      "image/png": "[encoded data removed]",
      "text/plain": [
       "<Figure size 720x360 with 1 Axes>"
      ]
     },
     "metadata": {
      "needs_background": "light"
     },
     "output_type": "display_data"
    }
   ],
   "source": [
    "# barchart about the number of awarded prizes by category distributed between genders\n",
    "fig, ax = plt.subplots(figsize=(10,5))\n",
    "sns.countplot(data=nobel_df, x='category', hue='gender').set_title('Number of awarded prizes by category and gender', fontsize=14)\n",
    "plt.ylabel('Number of Laureates')\n",
    "plt.xlabel('Category')"
   ]
  },
  {
   "cell_type": "markdown",
   "metadata": {},
   "source": [
    "If we look at the distribution of gender by category we can see that there are way more men in all of the catgories than women. The two categories where the number of women is somewhat higher are Peace and Literature."
   ]
  },
  {
   "cell_type": "code",
   "execution_count": 89,
   "metadata": {},
   "outputs": [],
   "source": [
    "# export df to csv\n",
    "nobel_df.to_csv('nobel2.csv', encoding = 'utf-8', index=False)"
   ]
  },
  {
   "cell_type": "markdown",
   "metadata": {},
   "source": [
    "<h1><code style=\"background:indigo;color:white\">Joined Data</h1></code>\n",
    "<hr>"
   ]
  },
  {
   "cell_type": "markdown",
   "metadata": {},
   "source": [
    "## 1. Join Tables"
   ]
  },
  {
   "cell_type": "code",
   "execution_count": 90,
   "metadata": {},
   "outputs": [],
   "source": [
    "# import data\n",
    "ranking = pd.read_csv('ranking.csv')\n",
    "nobel = pd.read_csv('nobel2.csv')"
   ]
  },
  {
   "cell_type": "code",
   "execution_count": 91,
   "metadata": {},
   "outputs": [],
   "source": [
    "# filter observations where university is missing in the Nobel Prize table\n",
    "nobel = nobel.dropna(subset=['university'])"
   ]
  },
  {
   "cell_type": "code",
   "execution_count": 92,
   "metadata": {},
   "outputs": [],
   "source": [
    "# replace ' University' and 'University of ' with '' to find more matches in ranking df\n",
    "ranking['uni'] = ranking['university_name'].apply(lambda x: x.replace(' University','')).apply(lambda x: x.replace('University of ',''))"
   ]
  },
  {
   "cell_type": "code",
   "execution_count": 93,
   "metadata": {},
   "outputs": [],
   "source": [
    "# replace ' University' and 'University of ', plus a few extra endings with '' to find more matches in nobel df\n",
    "nobel['uni'] = nobel['university'].apply(lambda x: x.replace(' University','')).apply(lambda x: x.replace('University of ','')).apply(lambda x: x.replace(' (MIT), Center for Cancer Research','')).apply(lambda x: x.replace(' (MIT)','')).apply(lambda x: x.replace(' (Caltech)',''))"
   ]
  },
  {
   "cell_type": "code",
   "execution_count": 94,
   "metadata": {},
   "outputs": [],
   "source": [
    "# merge df-s\n",
    "df = pd.merge(ranking, nobel, on='uni', how='inner')"
   ]
  },
  {
   "cell_type": "code",
   "execution_count": 95,
   "metadata": {},
   "outputs": [
    {
     "data": {
      "text/plain": [
       "1524"
      ]
     },
     "execution_count": 95,
     "metadata": {},
     "output_type": "execute_result"
    }
   ],
   "source": [
    "# check the number of universities in the ranking table\n",
    "len(ranking['university_name'].unique())"
   ]
  },
  {
   "cell_type": "code",
   "execution_count": 96,
   "metadata": {},
   "outputs": [
    {
     "data": {
      "text/plain": [
       "310"
      ]
     },
     "execution_count": 96,
     "metadata": {},
     "output_type": "execute_result"
    }
   ],
   "source": [
    "# check the number of universities in the Nobel table\n",
    "len(nobel['university'].unique())"
   ]
  },
  {
   "cell_type": "code",
   "execution_count": 97,
   "metadata": {},
   "outputs": [
    {
     "data": {
      "text/plain": [
       "99"
      ]
     },
     "execution_count": 97,
     "metadata": {},
     "output_type": "execute_result"
    }
   ],
   "source": [
    "# check the number of universities that remain\n",
    "len(df['university'].unique())"
   ]
  },
  {
   "cell_type": "code",
   "execution_count": 98,
   "metadata": {},
   "outputs": [
    {
     "data": {
      "text/plain": [
       "376"
      ]
     },
     "execution_count": 98,
     "metadata": {},
     "output_type": "execute_result"
    }
   ],
   "source": [
    "# check the number of laureates who were not matched\n",
    "len(nobel['name'].unique()) - len(df['name'].unique())"
   ]
  },
  {
   "cell_type": "code",
   "execution_count": 99,
   "metadata": {},
   "outputs": [
    {
     "data": {
      "text/plain": [
       "327"
      ]
     },
     "execution_count": 99,
     "metadata": {},
     "output_type": "execute_result"
    }
   ],
   "source": [
    "# check the number of laureates who were matched\n",
    "len(df['name'].unique())"
   ]
  },
  {
   "cell_type": "markdown",
   "metadata": {},
   "source": [
    "Having merged the two tables there are 99 different universities and 327 Laureates left. The number of unmatched Laureates is 376, therefore we can conclude that around half of them worked at top universities."
   ]
  },
  {
   "cell_type": "markdown",
   "metadata": {},
   "source": [
    "## 2. Answer Questions"
   ]
  },
  {
   "cell_type": "code",
   "execution_count": 100,
   "metadata": {},
   "outputs": [
    {
     "data": {
      "text/html": [
       "\n",
       "    <div class=\"bk-root\">\n",
       "        <a href=\"https://bokeh.org\" target=\"_blank\" class=\"bk-logo bk-logo-small bk-logo-notebook\"></a>\n",
       "        <span id=\"1001\">Loading BokehJS ...</span>\n",
       "    </div>"
      ]
     },
     "metadata": {},
     "output_type": "display_data"
    },
    {
     "data": {
      "application/javascript": [
       "\n",
       "(function(root) {\n",
       "  function now() {\n",
       "    return new Date();\n",
       "  }\n",
       "\n",
       "  var force = true;\n",
       "\n",
       "  if (typeof root._bokeh_onload_callbacks === \"undefined\" || force === true) {\n",
       "    root._bokeh_onload_callbacks = [];\n",
       "    root._bokeh_is_loading = undefined;\n",
       "  }\n",
       "\n",
       "  var JS_MIME_TYPE = 'application/javascript';\n",
       "  var HTML_MIME_TYPE = 'text/html';\n",
       "  var EXEC_MIME_TYPE = 'application/vnd.bokehjs_exec.v0+json';\n",
       "  var CLASS_NAME = 'output_bokeh rendered_html';\n",
       "\n",
       "  /**\n",
       "   * Render data to the DOM node\n",
       "   */\n",
       "  function render(props, node) {\n",
       "    var script = document.createElement(\"script\");\n",
       "    node.appendChild(script);\n",
       "  }\n",
       "\n",
       "  /**\n",
       "   * Handle when an output is cleared or removed\n",
       "   */\n",
       "  function handleClearOutput(event, handle) {\n",
       "    var cell = handle.cell;\n",
       "\n",
       "    var id = cell.output_area._bokeh_element_id;\n",
       "    var server_id = cell.output_area._bokeh_server_id;\n",
       "    // Clean up Bokeh references\n",
       "    if (id != null && id in Bokeh.index) {\n",
       "      Bokeh.index[id].model.document.clear();\n",
       "      delete Bokeh.index[id];\n",
       "    }\n",
       "\n",
       "    if (server_id !== undefined) {\n",
       "      // Clean up Bokeh references\n",
       "      var cmd = \"from bokeh.io.state import curstate; print(curstate().uuid_to_server['\" + server_id + \"'].get_sessions()[0].document.roots[0]._id)\";\n",
       "      cell.notebook.kernel.execute(cmd, {\n",
       "        iopub: {\n",
       "          output: function(msg) {\n",
       "            var id = msg.content.text.trim();\n",
       "            if (id in Bokeh.index) {\n",
       "              Bokeh.index[id].model.document.clear();\n",
       "              delete Bokeh.index[id];\n",
       "            }\n",
       "          }\n",
       "        }\n",
       "      });\n",
       "      // Destroy server and session\n",
       "      var cmd = \"import bokeh.io.notebook as ion; ion.destroy_server('\" + server_id + \"')\";\n",
       "      cell.notebook.kernel.execute(cmd);\n",
       "    }\n",
       "  }\n",
       "\n",
       "  /**\n",
       "   * Handle when a new output is added\n",
       "   */\n",
       "  function handleAddOutput(event, handle) {\n",
       "    var output_area = handle.output_area;\n",
       "    var output = handle.output;\n",
       "\n",
       "    // limit handleAddOutput to display_data with EXEC_MIME_TYPE content only\n",
       "    if ((output.output_type != \"display_data\") || (!output.data.hasOwnProperty(EXEC_MIME_TYPE))) {\n",
       "      return\n",
       "    }\n",
       "\n",
       "    var toinsert = output_area.element.find(\".\" + CLASS_NAME.split(' ')[0]);\n",
       "\n",
       "    if (output.metadata[EXEC_MIME_TYPE][\"id\"] !== undefined) {\n",
       "      toinsert[toinsert.length - 1].firstChild.textContent = output.data[JS_MIME_TYPE];\n",
       "      // store reference to embed id on output_area\n",
       "      output_area._bokeh_element_id = output.metadata[EXEC_MIME_TYPE][\"id\"];\n",
       "    }\n",
       "    if (output.metadata[EXEC_MIME_TYPE][\"server_id\"] !== undefined) {\n",
       "      var bk_div = document.createElement(\"div\");\n",
       "      bk_div.innerHTML = output.data[HTML_MIME_TYPE];\n",
       "      var script_attrs = bk_div.children[0].attributes;\n",
       "      for (var i = 0; i < script_attrs.length; i++) {\n",
       "        toinsert[toinsert.length - 1].firstChild.setAttribute(script_attrs[i].name, script_attrs[i].value);\n",
       "        toinsert[toinsert.length - 1].firstChild.textContent = bk_div.children[0].textContent\n",
       "      }\n",
       "      // store reference to server id on output_area\n",
       "      output_area._bokeh_server_id = output.metadata[EXEC_MIME_TYPE][\"server_id\"];\n",
       "    }\n",
       "  }\n",
       "\n",
       "  function register_renderer(events, OutputArea) {\n",
       "\n",
       "    function append_mime(data, metadata, element) {\n",
       "      // create a DOM node to render to\n",
       "      var toinsert = this.create_output_subarea(\n",
       "        metadata,\n",
       "        CLASS_NAME,\n",
       "        EXEC_MIME_TYPE\n",
       "      );\n",
       "      this.keyboard_manager.register_events(toinsert);\n",
       "      // Render to node\n",
       "      var props = {data: data, metadata: metadata[EXEC_MIME_TYPE]};\n",
       "      render(props, toinsert[toinsert.length - 1]);\n",
       "      element.append(toinsert);\n",
       "      return toinsert\n",
       "    }\n",
       "\n",
       "    /* Handle when an output is cleared or removed */\n",
       "    events.on('clear_output.CodeCell', handleClearOutput);\n",
       "    events.on('delete.Cell', handleClearOutput);\n",
       "\n",
       "    /* Handle when a new output is added */\n",
       "    events.on('output_added.OutputArea', handleAddOutput);\n",
       "\n",
       "    /**\n",
       "     * Register the mime type and append_mime function with output_area\n",
       "     */\n",
       "    OutputArea.prototype.register_mime_type(EXEC_MIME_TYPE, append_mime, {\n",
       "      /* Is output safe? */\n",
       "      safe: true,\n",
       "      /* Index of renderer in `output_area.display_order` */\n",
       "      index: 0\n",
       "    });\n",
       "  }\n",
       "\n",
       "  // register the mime type if in Jupyter Notebook environment and previously unregistered\n",
       "  if (root.Jupyter !== undefined) {\n",
       "    var events = require('base/js/events');\n",
       "    var OutputArea = require('notebook/js/outputarea').OutputArea;\n",
       "\n",
       "    if (OutputArea.prototype.mime_types().indexOf(EXEC_MIME_TYPE) == -1) {\n",
       "      register_renderer(events, OutputArea);\n",
       "    }\n",
       "  }\n",
       "\n",
       "  \n",
       "  if (typeof (root._bokeh_timeout) === \"undefined\" || force === true) {\n",
       "    root._bokeh_timeout = Date.now() + 5000;\n",
       "    root._bokeh_failed_load = false;\n",
       "  }\n",
       "\n",
       "  var NB_LOAD_WARNING = {'data': {'text/html':\n",
       "     \"<div style='background-color: #fdd'>\\n\"+\n",
       "     \"<p>\\n\"+\n",
       "     \"BokehJS does not appear to have successfully loaded. If loading BokehJS from CDN, this \\n\"+\n",
       "     \"may be due to a slow or bad network connection. Possible fixes:\\n\"+\n",
       "     \"</p>\\n\"+\n",
       "     \"<ul>\\n\"+\n",
       "     \"<li>re-rerun `output_notebook()` to attempt to load from CDN again, or</li>\\n\"+\n",
       "     \"<li>use INLINE resources instead, as so:</li>\\n\"+\n",
       "     \"</ul>\\n\"+\n",
       "     \"<code>\\n\"+\n",
       "     \"from bokeh.resources import INLINE\\n\"+\n",
       "     \"output_notebook(resources=INLINE)\\n\"+\n",
       "     \"</code>\\n\"+\n",
       "     \"</div>\"}};\n",
       "\n",
       "  function display_loaded() {\n",
       "    var el = document.getElementById(\"1001\");\n",
       "    if (el != null) {\n",
       "      el.textContent = \"BokehJS is loading...\";\n",
       "    }\n",
       "    if (root.Bokeh !== undefined) {\n",
       "      if (el != null) {\n",
       "        el.textContent = \"BokehJS \" + root.Bokeh.version + \" successfully loaded.\";\n",
       "      }\n",
       "    } else if (Date.now() < root._bokeh_timeout) {\n",
       "      setTimeout(display_loaded, 100)\n",
       "    }\n",
       "  }\n",
       "\n",
       "\n",
       "  function run_callbacks() {\n",
       "    try {\n",
       "      root._bokeh_onload_callbacks.forEach(function(callback) {\n",
       "        if (callback != null)\n",
       "          callback();\n",
       "      });\n",
       "    } finally {\n",
       "      delete root._bokeh_onload_callbacks\n",
       "    }\n",
       "    console.debug(\"Bokeh: all callbacks have finished\");\n",
       "  }\n",
       "\n",
       "  function load_libs(css_urls, js_urls, callback) {\n",
       "    if (css_urls == null) css_urls = [];\n",
       "    if (js_urls == null) js_urls = [];\n",
       "\n",
       "    root._bokeh_onload_callbacks.push(callback);\n",
       "    if (root._bokeh_is_loading > 0) {\n",
       "      console.debug(\"Bokeh: BokehJS is being loaded, scheduling callback at\", now());\n",
       "      return null;\n",
       "    }\n",
       "    if (js_urls == null || js_urls.length === 0) {\n",
       "      run_callbacks();\n",
       "      return null;\n",
       "    }\n",
       "    console.debug(\"Bokeh: BokehJS not loaded, scheduling load and callback at\", now());\n",
       "    root._bokeh_is_loading = css_urls.length + js_urls.length;\n",
       "\n",
       "    function on_load() {\n",
       "      root._bokeh_is_loading--;\n",
       "      if (root._bokeh_is_loading === 0) {\n",
       "        console.debug(\"Bokeh: all BokehJS libraries/stylesheets loaded\");\n",
       "        run_callbacks()\n",
       "      }\n",
       "    }\n",
       "\n",
       "    function on_error() {\n",
       "      console.error(\"failed to load \" + url);\n",
       "    }\n",
       "\n",
       "    for (var i = 0; i < css_urls.length; i++) {\n",
       "      var url = css_urls[i];\n",
       "      const element = document.createElement(\"link\");\n",
       "      element.onload = on_load;\n",
       "      element.onerror = on_error;\n",
       "      element.rel = \"stylesheet\";\n",
       "      element.type = \"text/css\";\n",
       "      element.href = url;\n",
       "      console.debug(\"Bokeh: injecting link tag for BokehJS stylesheet: \", url);\n",
       "      document.body.appendChild(element);\n",
       "    }\n",
       "\n",
       "    const hashes = {\"https://cdn.bokeh.org/bokeh/release/bokeh-2.2.3.min.js\": \"T2yuo9Oe71Cz/I4X9Ac5+gpEa5a8PpJCDlqKYO0CfAuEszu1JrXLl8YugMqYe3sM\", \"https://cdn.bokeh.org/bokeh/release/bokeh-widgets-2.2.3.min.js\": \"98GDGJ0kOMCUMUePhksaQ/GYgB3+NH9h996V88sh3aOiUNX3N+fLXAtry6xctSZ6\", \"https://cdn.bokeh.org/bokeh/release/bokeh-tables-2.2.3.min.js\": \"89bArO+nlbP3sgakeHjCo1JYxYR5wufVgA3IbUvDY+K7w4zyxJqssu7wVnfeKCq8\"};\n",
       "\n",
       "    for (var i = 0; i < js_urls.length; i++) {\n",
       "      var url = js_urls[i];\n",
       "      var element = document.createElement('script');\n",
       "      element.onload = on_load;\n",
       "      element.onerror = on_error;\n",
       "      element.async = false;\n",
       "      element.src = url;\n",
       "      if (url in hashes) {\n",
       "        element.crossOrigin = \"anonymous\";\n",
       "        element.integrity = \"sha384-\" + hashes[url];\n",
       "      }\n",
       "      console.debug(\"Bokeh: injecting script tag for BokehJS library: \", url);\n",
       "      document.head.appendChild(element);\n",
       "    }\n",
       "  };\n",
       "\n",
       "  function inject_raw_css(css) {\n",
       "    const element = document.createElement(\"style\");\n",
       "    element.appendChild(document.createTextNode(css));\n",
       "    document.body.appendChild(element);\n",
       "  }\n",
       "\n",
       "  \n",
       "  var js_urls = [\"https://cdn.bokeh.org/bokeh/release/bokeh-2.2.3.min.js\", \"https://cdn.bokeh.org/bokeh/release/bokeh-widgets-2.2.3.min.js\", \"https://cdn.bokeh.org/bokeh/release/bokeh-tables-2.2.3.min.js\"];\n",
       "  var css_urls = [];\n",
       "  \n",
       "\n",
       "  var inline_js = [\n",
       "    function(Bokeh) {\n",
       "      Bokeh.set_log_level(\"info\");\n",
       "    },\n",
       "    function(Bokeh) {\n",
       "    \n",
       "    \n",
       "    }\n",
       "  ];\n",
       "\n",
       "  function run_inline_js() {\n",
       "    \n",
       "    if (root.Bokeh !== undefined || force === true) {\n",
       "      \n",
       "    for (var i = 0; i < inline_js.length; i++) {\n",
       "      inline_js[i].call(root, root.Bokeh);\n",
       "    }\n",
       "    if (force === true) {\n",
       "        display_loaded();\n",
       "      }} else if (Date.now() < root._bokeh_timeout) {\n",
       "      setTimeout(run_inline_js, 100);\n",
       "    } else if (!root._bokeh_failed_load) {\n",
       "      console.log(\"Bokeh: BokehJS failed to load within specified timeout.\");\n",
       "      root._bokeh_failed_load = true;\n",
       "    } else if (force !== true) {\n",
       "      var cell = $(document.getElementById(\"1001\")).parents('.cell').data().cell;\n",
       "      cell.output_area.append_execute_result(NB_LOAD_WARNING)\n",
       "    }\n",
       "\n",
       "  }\n",
       "\n",
       "  if (root._bokeh_is_loading === 0) {\n",
       "    console.debug(\"Bokeh: BokehJS loaded, going straight to plotting\");\n",
       "    run_inline_js();\n",
       "  } else {\n",
       "    load_libs(css_urls, js_urls, function() {\n",
       "      console.debug(\"Bokeh: BokehJS plotting callback run at\", now());\n",
       "      run_inline_js();\n",
       "    });\n",
       "  }\n",
       "}(window));"
      ],
      "application/vnd.bokehjs_load.v0+json": "\n(function(root) {\n  function now() {\n    return new Date();\n  }\n\n  var force = true;\n\n  if (typeof root._bokeh_onload_callbacks === \"undefined\" || force === true) {\n    root._bokeh_onload_callbacks = [];\n    root._bokeh_is_loading = undefined;\n  }\n\n  \n\n  \n  if (typeof (root._bokeh_timeout) === \"undefined\" || force === true) {\n    root._bokeh_timeout = Date.now() + 5000;\n    root._bokeh_failed_load = false;\n  }\n\n  var NB_LOAD_WARNING = {'data': {'text/html':\n     \"<div style='background-color: #fdd'>\\n\"+\n     \"<p>\\n\"+\n     \"BokehJS does not appear to have successfully loaded. If loading BokehJS from CDN, this \\n\"+\n     \"may be due to a slow or bad network connection. Possible fixes:\\n\"+\n     \"</p>\\n\"+\n     \"<ul>\\n\"+\n     \"<li>re-rerun `output_notebook()` to attempt to load from CDN again, or</li>\\n\"+\n     \"<li>use INLINE resources instead, as so:</li>\\n\"+\n     \"</ul>\\n\"+\n     \"<code>\\n\"+\n     \"from bokeh.resources import INLINE\\n\"+\n     \"output_notebook(resources=INLINE)\\n\"+\n     \"</code>\\n\"+\n     \"</div>\"}};\n\n  function display_loaded() {\n    var el = document.getElementById(\"1001\");\n    if (el != null) {\n      el.textContent = \"BokehJS is loading...\";\n    }\n    if (root.Bokeh !== undefined) {\n      if (el != null) {\n        el.textContent = \"BokehJS \" + root.Bokeh.version + \" successfully loaded.\";\n      }\n    } else if (Date.now() < root._bokeh_timeout) {\n      setTimeout(display_loaded, 100)\n    }\n  }\n\n\n  function run_callbacks() {\n    try {\n      root._bokeh_onload_callbacks.forEach(function(callback) {\n        if (callback != null)\n          callback();\n      });\n    } finally {\n      delete root._bokeh_onload_callbacks\n    }\n    console.debug(\"Bokeh: all callbacks have finished\");\n  }\n\n  function load_libs(css_urls, js_urls, callback) {\n    if (css_urls == null) css_urls = [];\n    if (js_urls == null) js_urls = [];\n\n    root._bokeh_onload_callbacks.push(callback);\n    if (root._bokeh_is_loading > 0) {\n      console.debug(\"Bokeh: BokehJS is being loaded, scheduling callback at\", now());\n      return null;\n    }\n    if (js_urls == null || js_urls.length === 0) {\n      run_callbacks();\n      return null;\n    }\n    console.debug(\"Bokeh: BokehJS not loaded, scheduling load and callback at\", now());\n    root._bokeh_is_loading = css_urls.length + js_urls.length;\n\n    function on_load() {\n      root._bokeh_is_loading--;\n      if (root._bokeh_is_loading === 0) {\n        console.debug(\"Bokeh: all BokehJS libraries/stylesheets loaded\");\n        run_callbacks()\n      }\n    }\n\n    function on_error() {\n      console.error(\"failed to load \" + url);\n    }\n\n    for (var i = 0; i < css_urls.length; i++) {\n      var url = css_urls[i];\n      const element = document.createElement(\"link\");\n      element.onload = on_load;\n      element.onerror = on_error;\n      element.rel = \"stylesheet\";\n      element.type = \"text/css\";\n      element.href = url;\n      console.debug(\"Bokeh: injecting link tag for BokehJS stylesheet: \", url);\n      document.body.appendChild(element);\n    }\n\n    const hashes = {\"https://cdn.bokeh.org/bokeh/release/bokeh-2.2.3.min.js\": \"T2yuo9Oe71Cz/I4X9Ac5+gpEa5a8PpJCDlqKYO0CfAuEszu1JrXLl8YugMqYe3sM\", \"https://cdn.bokeh.org/bokeh/release/bokeh-widgets-2.2.3.min.js\": \"98GDGJ0kOMCUMUePhksaQ/GYgB3+NH9h996V88sh3aOiUNX3N+fLXAtry6xctSZ6\", \"https://cdn.bokeh.org/bokeh/release/bokeh-tables-2.2.3.min.js\": \"89bArO+nlbP3sgakeHjCo1JYxYR5wufVgA3IbUvDY+K7w4zyxJqssu7wVnfeKCq8\"};\n\n    for (var i = 0; i < js_urls.length; i++) {\n      var url = js_urls[i];\n      var element = document.createElement('script');\n      element.onload = on_load;\n      element.onerror = on_error;\n      element.async = false;\n      element.src = url;\n      if (url in hashes) {\n        element.crossOrigin = \"anonymous\";\n        element.integrity = \"sha384-\" + hashes[url];\n      }\n      console.debug(\"Bokeh: injecting script tag for BokehJS library: \", url);\n      document.head.appendChild(element);\n    }\n  };\n\n  function inject_raw_css(css) {\n    const element = document.createElement(\"style\");\n    element.appendChild(document.createTextNode(css));\n    document.body.appendChild(element);\n  }\n\n  \n  var js_urls = [\"https://cdn.bokeh.org/bokeh/release/bokeh-2.2.3.min.js\", \"https://cdn.bokeh.org/bokeh/release/bokeh-widgets-2.2.3.min.js\", \"https://cdn.bokeh.org/bokeh/release/bokeh-tables-2.2.3.min.js\"];\n  var css_urls = [];\n  \n\n  var inline_js = [\n    function(Bokeh) {\n      Bokeh.set_log_level(\"info\");\n    },\n    function(Bokeh) {\n    \n    \n    }\n  ];\n\n  function run_inline_js() {\n    \n    if (root.Bokeh !== undefined || force === true) {\n      \n    for (var i = 0; i < inline_js.length; i++) {\n      inline_js[i].call(root, root.Bokeh);\n    }\n    if (force === true) {\n        display_loaded();\n      }} else if (Date.now() < root._bokeh_timeout) {\n      setTimeout(run_inline_js, 100);\n    } else if (!root._bokeh_failed_load) {\n      console.log(\"Bokeh: BokehJS failed to load within specified timeout.\");\n      root._bokeh_failed_load = true;\n    } else if (force !== true) {\n      var cell = $(document.getElementById(\"1001\")).parents('.cell').data().cell;\n      cell.output_area.append_execute_result(NB_LOAD_WARNING)\n    }\n\n  }\n\n  if (root._bokeh_is_loading === 0) {\n    console.debug(\"Bokeh: BokehJS loaded, going straight to plotting\");\n    run_inline_js();\n  } else {\n    load_libs(css_urls, js_urls, function() {\n      console.debug(\"Bokeh: BokehJS plotting callback run at\", now());\n      run_inline_js();\n    });\n  }\n}(window));"
     },
     "metadata": {},
     "output_type": "display_data"
    }
   ],
   "source": [
    "# import Bokeh and plotly for interactive plots\n",
    "import bokeh\n",
    "from bokeh.io import show, output_notebook\n",
    "from bokeh.plotting import figure, ColumnDataSource\n",
    "from bokeh.models import HoverTool\n",
    "output_notebook()\n",
    "import plotly.express as px\n",
    "from bokeh.transform import factor_cmap\n",
    "from bokeh.palettes import Spectral6"
   ]
  },
  {
   "cell_type": "markdown",
   "metadata": {},
   "source": [
    "### 2.1 Does average age of Laureates differ for Nobel Prize categories?"
   ]
  },
  {
   "cell_type": "markdown",
   "metadata": {},
   "source": [
    "##### Data Transformation"
   ]
  },
  {
   "cell_type": "code",
   "execution_count": 101,
   "metadata": {},
   "outputs": [
    {
     "data": {
      "text/html": [
       "<div>\n",
       "<style scoped>\n",
       "    .dataframe tbody tr th:only-of-type {\n",
       "        vertical-align: middle;\n",
       "    }\n",
       "\n",
       "    .dataframe tbody tr th {\n",
       "        vertical-align: top;\n",
       "    }\n",
       "\n",
       "    .dataframe thead th {\n",
       "        text-align: right;\n",
       "    }\n",
       "</style>\n",
       "<table border=\"1\" class=\"dataframe\">\n",
       "  <thead>\n",
       "    <tr style=\"text-align: right;\">\n",
       "      <th></th>\n",
       "      <th>age_at_award</th>\n",
       "    </tr>\n",
       "    <tr>\n",
       "      <th>category</th>\n",
       "      <th></th>\n",
       "    </tr>\n",
       "  </thead>\n",
       "  <tbody>\n",
       "    <tr>\n",
       "      <th>Chemistry</th>\n",
       "      <td>59.4</td>\n",
       "    </tr>\n",
       "    <tr>\n",
       "      <th>Economic Sciences</th>\n",
       "      <td>65.5</td>\n",
       "    </tr>\n",
       "    <tr>\n",
       "      <th>Peace</th>\n",
       "      <td>56.7</td>\n",
       "    </tr>\n",
       "    <tr>\n",
       "      <th>Physics</th>\n",
       "      <td>55.8</td>\n",
       "    </tr>\n",
       "    <tr>\n",
       "      <th>Physiology or Medicine</th>\n",
       "      <td>57.9</td>\n",
       "    </tr>\n",
       "  </tbody>\n",
       "</table>\n",
       "</div>"
      ],
      "text/plain": [
       "                        age_at_award\n",
       "category                            \n",
       "Chemistry                       59.4\n",
       "Economic Sciences               65.5\n",
       "Peace                           56.7\n",
       "Physics                         55.8\n",
       "Physiology or Medicine          57.9"
      ]
     },
     "execution_count": 101,
     "metadata": {},
     "output_type": "execute_result"
    }
   ],
   "source": [
    "# get average age by category\n",
    "age_by_cat = df.groupby('category').agg({'age_at_award':'mean'})\n",
    "age_by_cat['age_at_award'] = age_by_cat['age_at_award'].round(decimals = 1)\n",
    "age_by_cat.head()"
   ]
  },
  {
   "cell_type": "markdown",
   "metadata": {},
   "source": [
    "##### Plotting"
   ]
  },
  {
   "cell_type": "code",
   "execution_count": 102,
   "metadata": {},
   "outputs": [
    {
     "data": {
      "image/png": "[encoded data removed]",
      "text/plain": [
       "<Figure size 576x396 with 1 Axes>"
      ]
     },
     "metadata": {
      "needs_background": "light"
     },
     "output_type": "display_data"
    }
   ],
   "source": [
    "x = ['Physiology or Medicine','Physics','Peace','Economic Sciences','Chemistry']\n",
    "y = age_by_cat['age_at_award'].tolist()\n",
    "\n",
    "ax = age_by_cat.plot(kind='barh', \n",
    "                    title='Mean age by prize category', \n",
    "                    color = ['#7fc97f'],\n",
    "                    edgecolor='white',\n",
    "                    legend = False)\n",
    "ax.set(ylabel='')\n",
    "ax.spines['top'].set_visible(False)\n",
    "ax.spines['right'].set_visible(False)\n",
    "\n",
    "for index, value in enumerate(y):\n",
    "    plt.text(value, index,\n",
    "             str(value))\n",
    "    \n",
    "plt.show()"
   ]
  },
  {
   "cell_type": "markdown",
   "metadata": {},
   "source": [
    "Based on the joined sample data, this bar chart confirms that there is some difference among Nobel-prize categories: Economic Sciences Laureates are the oldest on average (66.5 years old) while the youngest Laureates are from the field of Physics (55.8 years old)."
   ]
  },
  {
   "cell_type": "markdown",
   "metadata": {},
   "source": [
    "### 2.2 What is the distribution of prize amount by category?"
   ]
  },
  {
   "cell_type": "markdown",
   "metadata": {},
   "source": [
    "##### Data Transformation"
   ]
  },
  {
   "cell_type": "code",
   "execution_count": 103,
   "metadata": {},
   "outputs": [],
   "source": [
    "# import the complete Nobel Prize data again\n",
    "q2_df = pd.read_csv('nobel2.csv')"
   ]
  },
  {
   "cell_type": "markdown",
   "metadata": {},
   "source": [
    "##### Plotting"
   ]
  },
  {
   "cell_type": "code",
   "execution_count": 108,
   "metadata": {},
   "outputs": [
    {
     "data": {
      "application/vnd.plotly.v1+json": {
       "config": {
        "plotlyServerURL": "https://plot.ly"
       },
       "data": [
        {
         "alignmentgroup": "True",
         "customdata": [
          [
           "Emil von Behring"
          ],
          [
           "Frédéric Passy"
          ],
          [
           "Henry Dunant"
          ],
          [
           "Jacobus H. van 't Hoff"
          ],
          [
           "Sully Prudhomme"
          ],
          [
           "Wilhelm Conrad Röntgen"
          ],
          [
           "Albert Gobat"
          ],
          [
           "Élie Ducommun"
          ],
          [
           "Emil Fischer"
          ],
          [
           "Hendrik A. Lorentz"
          ],
          [
           "Pieter Zeeman"
          ],
          [
           "Ronald Ross"
          ],
          [
           "Theodor Mommsen"
          ],
          [
           "Bjørnstjerne Bjørnson"
          ],
          [
           "Henri Becquerel"
          ],
          [
           "Marie Curie"
          ],
          [
           "Niels Ryberg Finsen"
          ],
          [
           "Pierre Curie"
          ],
          [
           "Randal Cremer"
          ],
          [
           "Svante Arrhenius"
          ],
          [
           "Frédéric Mistral"
          ],
          [
           "Ivan Pavlov"
          ],
          [
           "José Echegaray"
          ],
          [
           "Lord Rayleigh"
          ],
          [
           "Sir William Ramsay"
          ],
          [
           "Adolf von Baeyer"
          ],
          [
           "Bertha von Suttner"
          ],
          [
           "Henryk Sienkiewicz"
          ],
          [
           "Philipp Lenard"
          ],
          [
           "Robert Koch"
          ],
          [
           "Camillo Golgi"
          ],
          [
           "Giosuè Carducci"
          ],
          [
           "Henri Moissan"
          ],
          [
           "J.J. Thomson"
          ],
          [
           "Santiago Ramón y Cajal"
          ],
          [
           "Theodore Roosevelt"
          ],
          [
           "Albert A. Michelson"
          ],
          [
           "Alphonse Laveran"
          ],
          [
           "Eduard Buchner"
          ],
          [
           "Ernesto Teodoro Moneta"
          ],
          [
           "Louis Renault"
          ],
          [
           "Rudyard Kipling"
          ],
          [
           "Ernest Rutherford"
          ],
          [
           "Fredrik Bajer"
          ],
          [
           "Gabriel Lippmann"
          ],
          [
           "Ilya Mechnikov"
          ],
          [
           "Klas Pontus Arnoldson"
          ],
          [
           "Paul Ehrlich"
          ],
          [
           "Rudolf Eucken"
          ],
          [
           "Auguste Beernaert"
          ],
          [
           "Ferdinand Braun"
          ],
          [
           "Guglielmo Marconi"
          ],
          [
           "Paul Henri d'Estournelles de Constant"
          ],
          [
           "Selma Lagerlöf"
          ],
          [
           "Theodor Kocher"
          ],
          [
           "Wilhelm Ostwald"
          ],
          [
           "Albrecht Kossel"
          ],
          [
           "Johannes Diderik van der Waals"
          ],
          [
           "Otto Wallach"
          ],
          [
           "Paul Heyse"
          ],
          [
           "Alfred Fried"
          ],
          [
           "Allvar Gullstrand"
          ],
          [
           "Maurice Maeterlinck"
          ],
          [
           "Tobias Asser"
          ],
          [
           "Wilhelm Wien"
          ],
          [
           "Alexis Carrel"
          ],
          [
           "Elihu Root"
          ],
          [
           "Gerhart Hauptmann"
          ],
          [
           "Gustaf Dalén"
          ],
          [
           "Paul Sabatier"
          ],
          [
           "Victor Grignard"
          ],
          [
           "Alfred Werner"
          ],
          [
           "Charles Richet"
          ],
          [
           "Heike Kamerlingh Onnes"
          ],
          [
           "Henri La Fontaine"
          ],
          [
           "Rabindranath Tagore"
          ],
          [
           "Max von Laue"
          ],
          [
           "Robert Bárány"
          ],
          [
           "Theodore W. Richards"
          ],
          [
           "Lawrence Bragg"
          ],
          [
           "Richard Willstätter"
          ],
          [
           "Romain Rolland"
          ],
          [
           "William Bragg"
          ],
          [
           "Verner von Heidenstam"
          ],
          [
           "Charles Glover Barkla"
          ],
          [
           "Henrik Pontoppidan"
          ],
          [
           "Karl Gjellerup"
          ],
          [
           "Fritz Haber"
          ],
          [
           "Max Planck"
          ],
          [
           "Carl Spitteler"
          ],
          [
           "Johannes Stark"
          ],
          [
           "Jules Bordet"
          ],
          [
           "Woodrow Wilson"
          ],
          [
           "August Krogh"
          ],
          [
           "Charles Edouard Guillaume"
          ],
          [
           "Knut Hamsun"
          ],
          [
           "Léon Bourgeois"
          ],
          [
           "Walther Nernst"
          ],
          [
           "Albert Einstein"
          ],
          [
           "Anatole France"
          ],
          [
           "Christian Lange"
          ],
          [
           "Frederick Soddy"
          ],
          [
           "Hjalmar Branting"
          ],
          [
           "Archibald V. Hill"
          ],
          [
           "Francis W. Aston"
          ],
          [
           "Fridtjof Nansen"
          ],
          [
           "Jacinto Benavente"
          ],
          [
           "Niels Bohr"
          ],
          [
           "Otto Meyerhof"
          ],
          [
           "Frederick G. Banting"
          ],
          [
           "Fritz Pregl"
          ],
          [
           "John Macleod"
          ],
          [
           "Robert A. Millikan"
          ],
          [
           "William Butler Yeats"
          ],
          [
           "Manne Siegbahn"
          ],
          [
           "Willem Einthoven"
          ],
          [
           "Wladyslaw Reymont"
          ],
          [
           "Charles G. Dawes"
          ],
          [
           "George Bernard Shaw"
          ],
          [
           "Gustav Hertz"
          ],
          [
           "James Franck"
          ],
          [
           "Richard Zsigmondy"
          ],
          [
           "Sir Austen Chamberlain"
          ],
          [
           "Aristide Briand"
          ],
          [
           "Grazia Deledda"
          ],
          [
           "Gustav Stresemann"
          ],
          [
           "Jean Baptiste Perrin"
          ],
          [
           "Johannes Fibiger"
          ],
          [
           "The Svedberg"
          ],
          [
           "Arthur H. Compton"
          ],
          [
           "C.T.R. Wilson"
          ],
          [
           "Ferdinand Buisson"
          ],
          [
           "Heinrich Wieland"
          ],
          [
           "Henri Bergson"
          ],
          [
           "Julius Wagner-Jauregg"
          ],
          [
           "Ludwig Quidde"
          ],
          [
           "Adolf Windaus"
          ],
          [
           "Charles Nicolle"
          ],
          [
           "Owen Willans Richardson"
          ],
          [
           "Sigrid Undset"
          ],
          [
           "Arthur Harden"
          ],
          [
           "Christiaan Eijkman"
          ],
          [
           "Frank B. Kellogg"
          ],
          [
           "Hans von Euler-Chelpin"
          ],
          [
           "Louis de Broglie"
          ],
          [
           "Sir Frederick Hopkins"
          ],
          [
           "Thomas Mann"
          ],
          [
           "Hans Fischer"
          ],
          [
           "Karl Landsteiner"
          ],
          [
           "Nathan Söderblom"
          ],
          [
           "Sinclair Lewis"
          ],
          [
           "Sir Chandrasekhara Venkata Raman"
          ],
          [
           "Carl Bosch"
          ],
          [
           "Erik Axel Karlfeldt"
          ],
          [
           "Friedrich Bergius"
          ],
          [
           "Jane Addams"
          ],
          [
           "Nicholas Murray Butler"
          ],
          [
           "Otto Warburg"
          ],
          [
           "Edgar Adrian"
          ],
          [
           "Irving Langmuir"
          ],
          [
           "John Galsworthy"
          ],
          [
           "Sir Charles Sherrington"
          ],
          [
           "Werner Heisenberg"
          ],
          [
           "Erwin Schrödinger"
          ],
          [
           "Ivan Bunin"
          ],
          [
           "Paul A.M. Dirac"
          ],
          [
           "Sir Norman Angell"
          ],
          [
           "Thomas H. Morgan"
          ],
          [
           "Arthur Henderson"
          ],
          [
           "George H. Whipple"
          ],
          [
           "George R. Minot"
          ],
          [
           "Harold C. Urey"
          ],
          [
           "Luigi Pirandello"
          ],
          [
           "William P. Murphy"
          ],
          [
           "Carl von Ossietzky"
          ],
          [
           "Frédéric Joliot"
          ],
          [
           "Hans Spemann"
          ],
          [
           "Irène Joliot-Curie"
          ],
          [
           "James Chadwick"
          ],
          [
           "Carl D. Anderson"
          ],
          [
           "Carlos Saavedra Lamas"
          ],
          [
           "Eugene O'Neill"
          ],
          [
           "Otto Loewi"
          ],
          [
           "Peter Debye"
          ],
          [
           "Sir Henry Dale"
          ],
          [
           "Victor F. Hess"
          ],
          [
           "Albert Szent-Györgyi"
          ],
          [
           "Clinton Davisson"
          ],
          [
           "George Paget Thomson"
          ],
          [
           "Norman Haworth"
          ],
          [
           "Paul Karrer"
          ],
          [
           "Robert Cecil, Viscount Cecil of Chelwood"
          ],
          [
           "Roger Martin du Gard"
          ],
          [
           "Corneille Heymans"
          ],
          [
           "Enrico Fermi"
          ],
          [
           "Pearl Buck"
          ],
          [
           "Richard Kuhn"
          ],
          [
           "Adolf Butenandt"
          ],
          [
           "Ernest Lawrence"
          ],
          [
           "Frans Eemil Sillanpää"
          ],
          [
           "Gerhard Domagk"
          ],
          [
           "Leopold Ruzicka"
          ],
          [
           "Edward A. Doisy"
          ],
          [
           "George de Hevesy"
          ],
          [
           "Henrik Dam"
          ],
          [
           "Otto Stern"
          ],
          [
           "Herbert S. Gasser"
          ],
          [
           "Isidor Isaac Rabi"
          ],
          [
           "Johannes V. Jensen"
          ],
          [
           "Joseph Erlanger"
          ],
          [
           "Otto Hahn"
          ],
          [
           "Artturi Virtanen"
          ],
          [
           "Cordell Hull"
          ],
          [
           "Ernst B. Chain"
          ],
          [
           "Gabriela Mistral"
          ],
          [
           "Sir Alexander Fleming"
          ],
          [
           "Sir Howard Florey"
          ],
          [
           "Wolfgang Pauli"
          ],
          [
           "Emily Greene Balch"
          ],
          [
           "Hermann Hesse"
          ],
          [
           "Hermann J. Muller"
          ],
          [
           "James B. Sumner"
          ],
          [
           "John H. Northrop"
          ],
          [
           "John R. Mott"
          ],
          [
           "Percy W. Bridgman"
          ],
          [
           "Wendell M. Stanley"
          ],
          [
           "André Gide"
          ],
          [
           "Bernardo Houssay"
          ],
          [
           "Carl Cori"
          ],
          [
           "Edward V. Appleton"
          ],
          [
           "Gerty Cori"
          ],
          [
           "Sir Robert Robinson"
          ],
          [
           "Arne Tiselius"
          ],
          [
           "Patrick M.S. Blackett"
          ],
          [
           "Paul Müller"
          ],
          [
           "T.S. Eliot"
          ],
          [
           "Egas Moniz"
          ],
          [
           "Hideki Yukawa"
          ],
          [
           "Lord Boyd Orr"
          ],
          [
           "Walter Hess"
          ],
          [
           "William F. Giauque"
          ],
          [
           "William Faulkner"
          ],
          [
           "Bertrand Russell"
          ],
          [
           "Cecil Powell"
          ],
          [
           "Edward C. Kendall"
          ],
          [
           "Kurt Alder"
          ],
          [
           "Otto Diels"
          ],
          [
           "Philip S. Hench"
          ],
          [
           "Ralph Bunche"
          ],
          [
           "Tadeus Reichstein"
          ],
          [
           "Edwin M. McMillan"
          ],
          [
           "Ernest T.S. Walton"
          ],
          [
           "Glenn T. Seaborg"
          ],
          [
           "John Cockcroft"
          ],
          [
           "Léon Jouhaux"
          ],
          [
           "Max Theiler"
          ],
          [
           "Pär Lagerkvist"
          ],
          [
           "Albert Schweitzer"
          ],
          [
           "Archer J.P. Martin"
          ],
          [
           "E. M. Purcell"
          ],
          [
           "Felix Bloch"
          ],
          [
           "François Mauriac"
          ],
          [
           "Richard L.M. Synge"
          ],
          [
           "Selman A. Waksman"
          ],
          [
           "Frits Zernike"
          ],
          [
           "Fritz Lipmann"
          ],
          [
           "George C. Marshall"
          ],
          [
           "Hans Krebs"
          ],
          [
           "Hermann Staudinger"
          ],
          [
           "Winston Churchill"
          ],
          [
           "Ernest Hemingway"
          ],
          [
           "Frederick C. Robbins"
          ],
          [
           "John F. Enders"
          ],
          [
           "Linus Pauling"
          ],
          [
           "Max Born"
          ],
          [
           "Thomas H. Weller"
          ],
          [
           "Walther Bothe"
          ],
          [
           "Halldór Laxness"
          ],
          [
           "Hugo Theorell"
          ],
          [
           "Polykarp Kusch"
          ],
          [
           "Vincent du Vigneaud"
          ],
          [
           "Willis E. Lamb"
          ],
          [
           "André F. Cournand"
          ],
          [
           "Dickinson W. Richards"
          ],
          [
           "John Bardeen"
          ],
          [
           "Juan Ramón Jiménez"
          ],
          [
           "Nikolay Semenov"
          ],
          [
           "Sir Cyril Hinshelwood"
          ],
          [
           "Walter H. Brattain"
          ],
          [
           "Werner Forssmann"
          ],
          [
           "William B. Shockley"
          ],
          [
           "Albert Camus"
          ],
          [
           "Chen Ning Yang"
          ],
          [
           "Daniel Bovet"
          ],
          [
           "Lester Bowles Pearson"
          ],
          [
           "Lord Todd"
          ],
          [
           "Tsung-Dao Lee"
          ],
          [
           "Boris Pasternak"
          ],
          [
           "Edward Tatum"
          ],
          [
           "Frederick Sanger"
          ],
          [
           "George Beadle"
          ],
          [
           "Georges Pire"
          ],
          [
           "Igor Y. Tamm"
          ],
          [
           "Il´ja M. Frank"
          ],
          [
           "Joshua Lederberg"
          ],
          [
           "Pavel A. Cherenkov"
          ],
          [
           "Arthur Kornberg"
          ],
          [
           "Emilio Segrè"
          ],
          [
           "Jaroslav Heyrovsky"
          ],
          [
           "Owen Chamberlain"
          ],
          [
           "Philip Noel-Baker"
          ],
          [
           "Salvatore Quasimodo"
          ],
          [
           "Severo Ochoa"
          ],
          [
           "Albert Luthuli"
          ],
          [
           "Donald A. Glaser"
          ],
          [
           "Peter Medawar"
          ],
          [
           "Saint-John Perse"
          ],
          [
           "Sir Frank Macfarlane Burnet"
          ],
          [
           "Willard F. Libby"
          ],
          [
           "Dag Hammarskjöld"
          ],
          [
           "Georg von Békésy"
          ],
          [
           "Ivo Andric"
          ],
          [
           "Melvin Calvin"
          ],
          [
           "Robert Hofstadter"
          ],
          [
           "Rudolf Mössbauer"
          ],
          [
           "Francis Crick"
          ],
          [
           "James Watson"
          ],
          [
           "John C. Kendrew"
          ],
          [
           "John Steinbeck"
          ],
          [
           "Lev Landau"
          ],
          [
           "Maurice Wilkins"
          ],
          [
           "Max F. Perutz"
          ],
          [
           "Alan Hodgkin"
          ],
          [
           "Andrew Huxley"
          ],
          [
           "Eugene Wigner"
          ],
          [
           "Giorgos Seferis"
          ],
          [
           "Giulio Natta"
          ],
          [
           "J. Hans D. Jensen"
          ],
          [
           "Karl Ziegler"
          ],
          [
           "Maria Goeppert Mayer"
          ],
          [
           "Sir John Eccles"
          ],
          [
           "Aleksandr M. Prokhorov"
          ],
          [
           "Charles H. Townes"
          ],
          [
           "Dorothy Crowfoot Hodgkin"
          ],
          [
           "Feodor Lynen"
          ],
          [
           "Jean-Paul Sartre"
          ],
          [
           "Konrad Bloch"
          ],
          [
           "Martin Luther King Jr."
          ],
          [
           "Nicolay G. Basov"
          ],
          [
           "André Lwoff"
          ],
          [
           "François Jacob"
          ],
          [
           "Jacques Monod"
          ],
          [
           "Julian Schwinger"
          ],
          [
           "Mikhail Sholokhov"
          ],
          [
           "Richard P. Feynman"
          ],
          [
           "Robert B. Woodward"
          ],
          [
           "Sin-Itiro Tomonaga"
          ],
          [
           "Alfred Kastler"
          ],
          [
           "Charles B. Huggins"
          ],
          [
           "Nelly Sachs"
          ],
          [
           "Peyton Rous"
          ],
          [
           "Robert S. Mulliken"
          ],
          [
           "Shmuel Agnon"
          ],
          [
           "George Porter"
          ],
          [
           "George Wald"
          ],
          [
           "Hans Bethe"
          ],
          [
           "Keffer Hartline"
          ],
          [
           "Manfred Eigen"
          ],
          [
           "Miguel Angel Asturias"
          ],
          [
           "Ragnar Granit"
          ],
          [
           "Ronald G.W. Norrish"
          ],
          [
           "H. Gobind Khorana"
          ],
          [
           "Lars Onsager"
          ],
          [
           "Luis Alvarez"
          ],
          [
           "Marshall W. Nirenberg"
          ],
          [
           "René Cassin"
          ],
          [
           "Robert W. Holley"
          ],
          [
           "Yasunari Kawabata"
          ],
          [
           "Alfred D. Hershey"
          ],
          [
           "Derek Barton"
          ],
          [
           "Jan Tinbergen"
          ],
          [
           "Max Delbrück"
          ],
          [
           "Murray Gell-Mann"
          ],
          [
           "Odd Hassel"
          ],
          [
           "Ragnar Frisch"
          ],
          [
           "Salvador E. Luria"
          ],
          [
           "Samuel Beckett"
          ],
          [
           "Alexandr Solzhenitsyn"
          ],
          [
           "Hannes Alfvén"
          ],
          [
           "Julius Axelrod"
          ],
          [
           "Louis Néel"
          ],
          [
           "Luis Leloir"
          ],
          [
           "Norman Borlaug"
          ],
          [
           "Paul A. Samuelson"
          ],
          [
           "Sir Bernard Katz"
          ],
          [
           "Ulf von Euler"
          ],
          [
           "Dennis Gabor"
          ],
          [
           "Earl W. Sutherland, Jr."
          ],
          [
           "Gerhard Herzberg"
          ],
          [
           "Pablo Neruda"
          ],
          [
           "Simon Kuznets"
          ],
          [
           "Willy Brandt"
          ],
          [
           "Christian Anfinsen"
          ],
          [
           "Gerald M. Edelman"
          ],
          [
           "Heinrich Böll"
          ],
          [
           "John R. Hicks"
          ],
          [
           "Kenneth J. Arrow"
          ],
          [
           "Leon N. Cooper"
          ],
          [
           "Robert Schrieffer"
          ],
          [
           "Rodney R. Porter"
          ],
          [
           "Stanford Moore"
          ],
          [
           "William H. Stein"
          ],
          [
           "Brian D. Josephson"
          ],
          [
           "Ernst Otto Fischer"
          ],
          [
           "Geoffrey Wilkinson"
          ],
          [
           "Henry Kissinger"
          ],
          [
           "Ivar Giaever"
          ],
          [
           "Karl von Frisch"
          ],
          [
           "Konrad Lorenz"
          ],
          [
           "Le Duc Tho "
          ],
          [
           "Leo Esaki"
          ],
          [
           "Nikolaas Tinbergen"
          ],
          [
           "Patrick White"
          ],
          [
           "Wassily Leontief"
          ],
          [
           "Albert Claude"
          ],
          [
           "Antony Hewish"
          ],
          [
           "Christian de Duve"
          ],
          [
           "Eisaku Sato"
          ],
          [
           "Eyvind Johnson"
          ],
          [
           "Friedrich von Hayek"
          ],
          [
           "George E. Palade"
          ],
          [
           "Gunnar Myrdal"
          ],
          [
           "Harry Martinson"
          ],
          [
           "Martin Ryle"
          ],
          [
           "Paul J. Flory"
          ],
          [
           "Seán MacBride"
          ],
          [
           "Aage N. Bohr"
          ],
          [
           "Andrei Sakharov"
          ],
          [
           "Ben R. Mottelson"
          ],
          [
           "David Baltimore"
          ],
          [
           "Eugenio Montale"
          ],
          [
           "Howard M. Temin"
          ],
          [
           "James Rainwater"
          ],
          [
           "John Cornforth"
          ],
          [
           "Leonid Vitaliyevich Kantorovich"
          ],
          [
           "Renato Dulbecco"
          ],
          [
           "Tjalling C. Koopmans"
          ],
          [
           "Vladimir Prelog"
          ],
          [
           "Baruch S. Blumberg"
          ],
          [
           "Betty Williams"
          ],
          [
           "Burton Richter"
          ],
          [
           "D. Carleton Gajdusek"
          ],
          [
           "Mairead Corrigan"
          ],
          [
           "Milton Friedman"
          ],
          [
           "Samuel C.C. Ting"
          ],
          [
           "Saul Bellow"
          ],
          [
           "William Lipscomb"
          ],
          [
           "Andrew V. Schally"
          ],
          [
           "Bertil Ohlin"
          ],
          [
           "Ilya Prigogine"
          ],
          [
           "James E. Meade"
          ],
          [
           "John H. Van Vleck"
          ],
          [
           "Philip W. Anderson"
          ],
          [
           "Roger Guillemin"
          ],
          [
           "Rosalyn Yalow"
          ],
          [
           "Sir Nevill F. Mott"
          ],
          [
           "Vicente Aleixandre"
          ],
          [
           "Anwar al-Sadat"
          ],
          [
           "Arno Penzias"
          ],
          [
           "Daniel Nathans"
          ],
          [
           "Hamilton O. Smith"
          ],
          [
           "Herbert Simon"
          ],
          [
           "Isaac Bashevis Singer"
          ],
          [
           "Menachem Begin"
          ],
          [
           "Peter Mitchell"
          ],
          [
           "Pyotr Kapitsa"
          ],
          [
           "Robert Woodrow Wilson"
          ],
          [
           "Werner Arber"
          ],
          [
           "Abdus Salam"
          ],
          [
           "Allan M. Cormack"
          ],
          [
           "Georg Wittig"
          ],
          [
           "Godfrey N. Hounsfield"
          ],
          [
           "Herbert C. Brown"
          ],
          [
           "Mother Teresa "
          ],
          [
           "Odysseus Elytis"
          ],
          [
           "Sheldon Glashow"
          ],
          [
           "Sir Arthur Lewis"
          ],
          [
           "Steven Weinberg"
          ],
          [
           "Theodore W. Schultz"
          ],
          [
           "Adolfo Pérez Esquivel"
          ],
          [
           "Baruj Benacerraf"
          ],
          [
           "Czeslaw Milosz"
          ],
          [
           "George D. Snell"
          ],
          [
           "James Cronin"
          ],
          [
           "Jean Dausset"
          ],
          [
           "Lawrence R. Klein"
          ],
          [
           "Paul Berg"
          ],
          [
           "Val Fitch"
          ],
          [
           "Walter Gilbert"
          ],
          [
           "Arthur L. Schawlow"
          ],
          [
           "David H. Hubel"
          ],
          [
           "Elias Canetti"
          ],
          [
           "James Tobin"
          ],
          [
           "Kai M. Siegbahn"
          ],
          [
           "Kenichi Fukui"
          ],
          [
           "Nicolaas Bloembergen"
          ],
          [
           "Roald Hoffmann"
          ],
          [
           "Roger W. Sperry"
          ],
          [
           "Torsten N. Wiesel"
          ],
          [
           "Aaron Klug"
          ],
          [
           "Alfonso García Robles"
          ],
          [
           "Alva Myrdal"
          ],
          [
           "Bengt I. Samuelsson"
          ],
          [
           "Gabriel García Márquez"
          ],
          [
           "George J. Stigler"
          ],
          [
           "John R. Vane"
          ],
          [
           "Kenneth G. Wilson"
          ],
          [
           "Sune K. Bergström"
          ],
          [
           "Barbara McClintock"
          ],
          [
           "Gerard Debreu"
          ],
          [
           "Henry Taube"
          ],
          [
           "Lech Walesa"
          ],
          [
           "Subramanyan Chandrasekhar"
          ],
          [
           "William A. Fowler"
          ],
          [
           "William Golding"
          ],
          [
           "Bruce Merrifield"
          ],
          [
           "Carlo Rubbia"
          ],
          [
           "César Milstein"
          ],
          [
           "Desmond Tutu"
          ],
          [
           "Georges J.F. Köhler"
          ],
          [
           "Jaroslav Seifert"
          ],
          [
           "Niels K. Jerne"
          ],
          [
           "Richard Stone"
          ],
          [
           "Simon van der Meer"
          ],
          [
           "Claude Simon"
          ],
          [
           "Franco Modigliani"
          ],
          [
           "Herbert A. Hauptman"
          ],
          [
           "Jerome Karle"
          ],
          [
           "Joseph L. Goldstein"
          ],
          [
           "Klaus von Klitzing"
          ],
          [
           "Michael S. Brown"
          ],
          [
           "Dudley R. Herschbach"
          ],
          [
           "Elie Wiesel"
          ],
          [
           "Ernst Ruska"
          ],
          [
           "Gerd Binnig"
          ],
          [
           "Heinrich Rohrer"
          ],
          [
           "James M. Buchanan Jr."
          ],
          [
           "John C. Polanyi"
          ],
          [
           "Rita Levi-Montalcini"
          ],
          [
           "Stanley Cohen"
          ],
          [
           "Wole Soyinka"
          ],
          [
           "Yuan T. Lee"
          ],
          [
           "Charles J. Pedersen"
          ],
          [
           "Donald J. Cram"
          ],
          [
           "J. Georg Bednorz"
          ],
          [
           "Jean-Marie Lehn"
          ],
          [
           "Joseph Brodsky"
          ],
          [
           "K. Alex Müller"
          ],
          [
           "Oscar Arias Sánchez"
          ],
          [
           "Robert M. Solow"
          ],
          [
           "Susumu Tonegawa"
          ],
          [
           "George H. Hitchings"
          ],
          [
           "Gertrude B. Elion"
          ],
          [
           "Hartmut Michel"
          ],
          [
           "Jack Steinberger"
          ],
          [
           "Johann Deisenhofer"
          ],
          [
           "Leon M. Lederman"
          ],
          [
           "Maurice Allais"
          ],
          [
           "Melvin Schwartz"
          ],
          [
           "Naguib Mahfouz"
          ],
          [
           "Robert Huber"
          ],
          [
           "Sir James W. Black"
          ],
          [
           "Camilo José Cela"
          ],
          [
           "Hans G. Dehmelt"
          ],
          [
           "Harold E. Varmus"
          ],
          [
           "J. Michael Bishop"
          ],
          [
           "Norman F. Ramsey"
          ],
          [
           "Sidney Altman"
          ],
          [
           "The 14th Dalai Lama "
          ],
          [
           "Thomas R. Cech"
          ],
          [
           "Trygve Haavelmo"
          ],
          [
           "Wolfgang Paul"
          ],
          [
           "E. Donnall Thomas"
          ],
          [
           "Elias James Corey"
          ],
          [
           "Harry M. Markowitz"
          ],
          [
           "Henry W. Kendall"
          ],
          [
           "Jerome I. Friedman"
          ],
          [
           "Joseph E. Murray"
          ],
          [
           "Merton H. Miller"
          ],
          [
           "Mikhail Gorbachev"
          ],
          [
           "Octavio Paz"
          ],
          [
           "Richard E. Taylor"
          ],
          [
           "William F. Sharpe"
          ],
          [
           "Aung San Suu Kyi "
          ],
          [
           "Bert Sakmann"
          ],
          [
           "Erwin Neher"
          ],
          [
           "Nadine Gordimer"
          ],
          [
           "Pierre-Gilles de Gennes"
          ],
          [
           "Richard R. Ernst"
          ],
          [
           "Ronald H. Coase"
          ],
          [
           "Derek Walcott"
          ],
          [
           "Edmond H. Fischer"
          ],
          [
           "Edwin G. Krebs"
          ],
          [
           "Gary Becker"
          ],
          [
           "Georges Charpak"
          ],
          [
           "Rigoberta Menchú Tum"
          ],
          [
           "Rudolph A. Marcus"
          ],
          [
           "Douglass C. North"
          ],
          [
           "F.W. de Klerk"
          ],
          [
           "Joseph H. Taylor Jr."
          ],
          [
           "Kary B. Mullis"
          ],
          [
           "Michael Smith"
          ],
          [
           "Nelson Mandela"
          ],
          [
           "Phillip A. Sharp"
          ],
          [
           "Richard J. Roberts"
          ],
          [
           "Robert W. Fogel"
          ],
          [
           "Russell A. Hulse"
          ],
          [
           "Toni Morrison"
          ],
          [
           "Alfred G. Gilman"
          ],
          [
           "Bertram N. Brockhouse"
          ],
          [
           "Clifford G. Shull"
          ],
          [
           "George A. Olah"
          ],
          [
           "John C. Harsanyi"
          ],
          [
           "John F. Nash Jr."
          ],
          [
           "Kenzaburo Oe"
          ],
          [
           "Martin Rodbell"
          ],
          [
           "Reinhard Selten"
          ],
          [
           "Shimon Peres"
          ],
          [
           "Yasser Arafat"
          ],
          [
           "Yitzhak Rabin"
          ],
          [
           "Christiane Nüsslein-Volhard"
          ],
          [
           "Edward B. Lewis"
          ],
          [
           "Eric F. Wieschaus"
          ],
          [
           "F. Sherwood Rowland"
          ],
          [
           "Frederick Reines"
          ],
          [
           "Joseph Rotblat"
          ],
          [
           "Mario J. Molina"
          ],
          [
           "Martin L. Perl"
          ],
          [
           "Paul J. Crutzen"
          ],
          [
           "Robert E. Lucas Jr."
          ],
          [
           "Seamus Heaney"
          ],
          [
           "Carlos Filipe Ximenes Belo"
          ],
          [
           "David M. Lee"
          ],
          [
           "Douglas D. Osheroff"
          ],
          [
           "James A. Mirrlees"
          ],
          [
           "José Ramos-Horta"
          ],
          [
           "Peter C. Doherty"
          ],
          [
           "Richard E. Smalley"
          ],
          [
           "Robert C. Richardson"
          ],
          [
           "Robert F. Curl Jr."
          ],
          [
           "Rolf M. Zinkernagel"
          ],
          [
           "Sir Harold Kroto"
          ],
          [
           "William Vickrey"
          ],
          [
           "Wislawa Szymborska"
          ],
          [
           "Claude Cohen-Tannoudji"
          ],
          [
           "Dario Fo"
          ],
          [
           "Jens C. Skou"
          ],
          [
           "Jody Williams"
          ],
          [
           "John E. Walker"
          ],
          [
           "Myron Scholes"
          ],
          [
           "Paul D. Boyer"
          ],
          [
           "Robert C. Merton"
          ],
          [
           "Stanley B. Prusiner"
          ],
          [
           "Steven Chu"
          ],
          [
           "William D. Phillips"
          ],
          [
           "Amartya Sen"
          ],
          [
           "Daniel C. Tsui"
          ],
          [
           "David Trimble"
          ],
          [
           "Ferid Murad"
          ],
          [
           "Horst L. Störmer"
          ],
          [
           "John Hume"
          ],
          [
           "John Pople"
          ],
          [
           "José Saramago"
          ],
          [
           "Louis J. Ignarro"
          ],
          [
           "Robert B. Laughlin"
          ],
          [
           "Robert F. Furchgott"
          ],
          [
           "Walter Kohn"
          ],
          [
           "Ahmed Zewail"
          ],
          [
           "Gerardus 't Hooft"
          ],
          [
           "Günter Blobel"
          ],
          [
           "Günter Grass"
          ],
          [
           "Martinus J.G. Veltman"
          ],
          [
           "Robert Mundell"
          ],
          [
           "Alan Heeger"
          ],
          [
           "Alan MacDiarmid"
          ],
          [
           "Arvid Carlsson"
          ],
          [
           "Daniel L. McFadden"
          ],
          [
           "Eric Kandel"
          ],
          [
           "Gao Xingjian"
          ],
          [
           "Herbert Kroemer"
          ],
          [
           "Hideki Shirakawa"
          ],
          [
           "Jack Kilby"
          ],
          [
           "James J. Heckman"
          ],
          [
           "Kim Dae-jung"
          ],
          [
           "Paul Greengard"
          ],
          [
           "Zhores Alferov"
          ],
          [
           "A. Michael Spence"
          ],
          [
           "Barry Sharpless"
          ],
          [
           "Carl Wieman"
          ],
          [
           "Eric Cornell"
          ],
          [
           "George A. Akerlof"
          ],
          [
           "Joseph E. Stiglitz"
          ],
          [
           "Kofi Annan"
          ],
          [
           "Leland Hartwell"
          ],
          [
           "Ryoji Noyori"
          ],
          [
           "Sir Paul Nurse"
          ],
          [
           "Tim Hunt"
          ],
          [
           "V. S. Naipaul"
          ],
          [
           "William Knowles"
          ],
          [
           "Wolfgang Ketterle"
          ],
          [
           "Daniel Kahneman"
          ],
          [
           "H. Robert Horvitz"
          ],
          [
           "Imre Kertész"
          ],
          [
           "Jimmy Carter"
          ],
          [
           "John B. Fenn"
          ],
          [
           "John E. Sulston"
          ],
          [
           "Koichi Tanaka"
          ],
          [
           "Kurt Wüthrich"
          ],
          [
           "Masatoshi Koshiba"
          ],
          [
           "Raymond Davis Jr."
          ],
          [
           "Riccardo Giacconi"
          ],
          [
           "Sydney Brenner"
          ],
          [
           "Vernon L. Smith"
          ],
          [
           "Alexei Abrikosov"
          ],
          [
           "Anthony J. Leggett"
          ],
          [
           "Clive W.J. Granger"
          ],
          [
           "J. M. Coetzee"
          ],
          [
           "Paul C. Lauterbur"
          ],
          [
           "Peter Agre"
          ],
          [
           "Robert F. Engle III"
          ],
          [
           "Roderick MacKinnon"
          ],
          [
           "Shirin Ebadi"
          ],
          [
           "Sir Peter Mansfield"
          ],
          [
           "Vitaly L. Ginzburg"
          ],
          [
           "Aaron Ciechanover"
          ],
          [
           "Avram Hershko"
          ],
          [
           "David J. Gross"
          ],
          [
           "Edward C. Prescott"
          ],
          [
           "Elfriede Jelinek"
          ],
          [
           "Finn E. Kydland"
          ],
          [
           "Frank Wilczek"
          ],
          [
           "H. David Politzer"
          ],
          [
           "Irwin Rose"
          ],
          [
           "Linda B. Buck"
          ],
          [
           "Richard Axel"
          ],
          [
           "Wangari Maathai"
          ],
          [
           "Barry J. Marshall"
          ],
          [
           "Harold Pinter"
          ],
          [
           "J. Robin Warren"
          ],
          [
           "John L. Hall"
          ],
          [
           "Mohamed ElBaradei"
          ],
          [
           "Richard R. Schrock"
          ],
          [
           "Robert H. Grubbs"
          ],
          [
           "Robert J. Aumann"
          ],
          [
           "Roy J. Glauber"
          ],
          [
           "Theodor W. Hänsch"
          ],
          [
           "Thomas C. Schelling"
          ],
          [
           "Yves Chauvin"
          ],
          [
           "Andrew Z. Fire"
          ],
          [
           "Craig C. Mello"
          ],
          [
           "Edmund S. Phelps"
          ],
          [
           "George F. Smoot"
          ],
          [
           "John C. Mather"
          ],
          [
           "Muhammad Yunus"
          ],
          [
           "Orhan Pamuk"
          ],
          [
           "Roger D. Kornberg"
          ],
          [
           "Al Gore"
          ],
          [
           "Albert Fert"
          ],
          [
           "Doris Lessing"
          ],
          [
           "Eric S. Maskin"
          ],
          [
           "Gerhard Ertl"
          ],
          [
           "Leonid Hurwicz"
          ],
          [
           "Mario R. Capecchi"
          ],
          [
           "Oliver Smithies"
          ],
          [
           "Peter Grünberg"
          ],
          [
           "Roger B. Myerson"
          ],
          [
           "Sir Martin J. Evans"
          ],
          [
           "Françoise Barré-Sinoussi"
          ],
          [
           "Harald zur Hausen"
          ],
          [
           "Jean-Marie Gustave Le Clézio"
          ],
          [
           "Luc Montagnier"
          ],
          [
           "Makoto Kobayashi"
          ],
          [
           "Martin Chalfie"
          ],
          [
           "Martti Ahtisaari"
          ],
          [
           "Osamu Shimomura"
          ],
          [
           "Paul Krugman"
          ],
          [
           "Roger Y. Tsien"
          ],
          [
           "Toshihide Maskawa"
          ],
          [
           "Yoichiro Nambu"
          ],
          [
           "Ada E. Yonath"
          ],
          [
           "Barack H. Obama"
          ],
          [
           "Carol W. Greider"
          ],
          [
           "Charles K. Kao"
          ],
          [
           "Elinor Ostrom"
          ],
          [
           "Elizabeth H. Blackburn"
          ],
          [
           "George E. Smith"
          ],
          [
           "Herta Müller"
          ],
          [
           "Jack W. Szostak"
          ],
          [
           "Oliver E. Williamson"
          ],
          [
           "Thomas A. Steitz"
          ],
          [
           "Venkatraman Ramakrishnan"
          ],
          [
           "Willard S. Boyle"
          ],
          [
           "Akira Suzuki"
          ],
          [
           "Andre Geim"
          ],
          [
           "Christopher A. Pissarides"
          ],
          [
           "Dale T. Mortensen"
          ],
          [
           "Ei-ichi Negishi"
          ],
          [
           "Konstantin Novoselov"
          ],
          [
           "Liu Xiaobo"
          ],
          [
           "Mario Vargas Llosa"
          ],
          [
           "Peter A. Diamond"
          ],
          [
           "Richard F. Heck"
          ],
          [
           "Robert G. Edwards"
          ],
          [
           "Adam G. Riess"
          ],
          [
           "Brian P. Schmidt"
          ],
          [
           "Bruce A. Beutler"
          ],
          [
           "Christopher A. Sims"
          ],
          [
           "Dan Shechtman"
          ],
          [
           "Ellen Johnson Sirleaf"
          ],
          [
           "Jules A. Hoffmann"
          ],
          [
           "Leymah Gbowee"
          ],
          [
           "Ralph M. Steinman"
          ],
          [
           "Saul Perlmutter"
          ],
          [
           "Tawakkol Karman"
          ],
          [
           "Thomas J. Sargent"
          ],
          [
           "Tomas Tranströmer"
          ],
          [
           "Alvin E. Roth"
          ],
          [
           "Brian Kobilka"
          ],
          [
           "David J. Wineland"
          ],
          [
           "Lloyd S. Shapley"
          ],
          [
           "Mo Yan"
          ],
          [
           "Robert J. Lefkowitz"
          ],
          [
           "Serge Haroche"
          ],
          [
           "Shinya Yamanaka"
          ],
          [
           "Sir John B. Gurdon"
          ],
          [
           "Alice Munro"
          ],
          [
           "Arieh Warshel"
          ],
          [
           "Eugene F. Fama"
          ],
          [
           "François Englert"
          ],
          [
           "James E. Rothman"
          ],
          [
           "Lars Peter Hansen"
          ],
          [
           "Martin Karplus"
          ],
          [
           "Michael Levitt"
          ],
          [
           "Peter Higgs"
          ],
          [
           "Randy W. Schekman"
          ],
          [
           "Robert J. Shiller"
          ],
          [
           "Thomas C. Südhof"
          ],
          [
           "Edvard I. Moser"
          ],
          [
           "Eric Betzig"
          ],
          [
           "Hiroshi Amano"
          ],
          [
           "Isamu Akasaki"
          ],
          [
           "Jean Tirole"
          ],
          [
           "John O'Keefe"
          ],
          [
           "Kailash Satyarthi"
          ],
          [
           "Malala Yousafzai"
          ],
          [
           "May-Britt Moser"
          ],
          [
           "Patrick Modiano"
          ],
          [
           "Shuji Nakamura"
          ],
          [
           "Stefan W. Hell"
          ],
          [
           "William E. Moerner"
          ],
          [
           "Angus Deaton"
          ],
          [
           "Arthur B. McDonald"
          ],
          [
           "Aziz Sancar"
          ],
          [
           "Paul Modrich"
          ],
          [
           "Satoshi &#332;mura"
          ],
          [
           "Svetlana Alexievich"
          ],
          [
           "Takaaki Kajita"
          ],
          [
           "Tomas Lindahl"
          ],
          [
           "Tu Youyou"
          ],
          [
           "William C. Campbell"
          ],
          [
           "Bengt Holmström"
          ],
          [
           "Bernard L. Feringa"
          ],
          [
           "Bob Dylan"
          ],
          [
           "David J. Thouless"
          ],
          [
           "F. Duncan M. Haldane"
          ],
          [
           "J. Michael Kosterlitz"
          ],
          [
           "Jean-Pierre Sauvage"
          ],
          [
           "Juan Manuel Santos"
          ],
          [
           "Oliver Hart"
          ],
          [
           "Sir J. Fraser Stoddart"
          ],
          [
           "Yoshinori Ohsumi"
          ],
          [
           "Barry C. Barish"
          ],
          [
           "Jacques Dubochet"
          ],
          [
           "Jeffrey C. Hall"
          ],
          [
           "Joachim Frank"
          ],
          [
           "Kazuo Ishiguro"
          ],
          [
           "Kip S. Thorne"
          ],
          [
           "Michael Rosbash"
          ],
          [
           "Michael W. Young"
          ],
          [
           "Rainer Weiss"
          ],
          [
           "Richard H. Thaler"
          ],
          [
           "Richard Henderson"
          ],
          [
           "Arthur Ashkin"
          ],
          [
           "Denis Mukwege"
          ],
          [
           "Donna Strickland"
          ],
          [
           "Frances H. Arnold"
          ],
          [
           "George P. Smith"
          ],
          [
           "Gérard Mourou"
          ],
          [
           "James P. Allison"
          ],
          [
           "Nadia Murad"
          ],
          [
           "Olga Tokarczuk"
          ],
          [
           "Paul M. Romer"
          ],
          [
           "Sir Gregory P. Winter"
          ],
          [
           "Tasuku Honjo"
          ],
          [
           "William D. Nordhaus"
          ],
          [
           "Abhijit Banerjee"
          ],
          [
           "Abiy Ahmed Ali"
          ],
          [
           "Akira Yoshino"
          ],
          [
           "Didier Queloz"
          ],
          [
           "Esther Duflo"
          ],
          [
           "Gregg L. Semenza"
          ],
          [
           "James Peebles"
          ],
          [
           "John B. Goodenough"
          ],
          [
           "M. Stanley Whittingham"
          ],
          [
           "Michael Kremer"
          ],
          [
           "Michel Mayor"
          ],
          [
           "Peter Handke"
          ],
          [
           "Sir Peter J. Ratcliffe"
          ],
          [
           "William G. Kaelin Jr"
          ],
          [
           "Andrea Ghez"
          ],
          [
           "Charles M. Rice"
          ],
          [
           "Emmanuelle Charpentier"
          ],
          [
           "Harvey J. Alter"
          ],
          [
           "Jennifer A. Doudna"
          ],
          [
           "Louise Glück"
          ],
          [
           "Michael Houghton"
          ],
          [
           "Paul R. Milgrom"
          ],
          [
           "Reinhard Genzel"
          ],
          [
           "Robert B. Wilson"
          ],
          [
           "Roger Penrose"
          ]
         ],
         "hovertemplate": "Category=%{x}<br>Actual Prize Amount=%{y}<br>name=%{customdata[0]}<extra></extra>",
         "legendgroup": "",
         "marker": {
          "color": "#636efa"
         },
         "name": "",
         "notched": false,
         "offsetgroup": "",
         "orientation": "v",
         "showlegend": false,
         "type": "box",
         "x": [
          "Physiology or Medicine",
          "Peace",
          "Peace",
          "Chemistry",
          "Literature",
          "Physics",
          "Peace",
          "Peace",
          "Chemistry",
          "Physics",
          "Physics",
          "Physiology or Medicine",
          "Literature",
          "Literature",
          "Physics",
          "Physics",
          "Physiology or Medicine",
          "Physics",
          "Peace",
          "Chemistry",
          "Literature",
          "Physiology or Medicine",
          "Literature",
          "Physics",
          "Chemistry",
          "Chemistry",
          "Peace",
          "Literature",
          "Physics",
          "Physiology or Medicine",
          "Physiology or Medicine",
          "Literature",
          "Chemistry",
          "Physics",
          "Physiology or Medicine",
          "Peace",
          "Physics",
          "Physiology or Medicine",
          "Chemistry",
          "Peace",
          "Peace",
          "Literature",
          "Chemistry",
          "Peace",
          "Physics",
          "Physiology or Medicine",
          "Peace",
          "Physiology or Medicine",
          "Literature",
          "Peace",
          "Physics",
          "Physics",
          "Peace",
          "Literature",
          "Physiology or Medicine",
          "Chemistry",
          "Physiology or Medicine",
          "Physics",
          "Chemistry",
          "Literature",
          "Peace",
          "Physiology or Medicine",
          "Literature",
          "Peace",
          "Physics",
          "Physiology or Medicine",
          "Peace",
          "Literature",
          "Physics",
          "Chemistry",
          "Chemistry",
          "Chemistry",
          "Physiology or Medicine",
          "Physics",
          "Peace",
          "Literature",
          "Physics",
          "Physiology or Medicine",
          "Chemistry",
          "Physics",
          "Chemistry",
          "Literature",
          "Physics",
          "Literature",
          "Physics",
          "Literature",
          "Literature",
          "Chemistry",
          "Physics",
          "Literature",
          "Physics",
          "Physiology or Medicine",
          "Peace",
          "Physiology or Medicine",
          "Physics",
          "Literature",
          "Peace",
          "Chemistry",
          "Physics",
          "Literature",
          "Peace",
          "Chemistry",
          "Peace",
          "Physiology or Medicine",
          "Chemistry",
          "Peace",
          "Literature",
          "Physics",
          "Physiology or Medicine",
          "Physiology or Medicine",
          "Chemistry",
          "Physiology or Medicine",
          "Physics",
          "Literature",
          "Physics",
          "Physiology or Medicine",
          "Literature",
          "Peace",
          "Literature",
          "Physics",
          "Physics",
          "Chemistry",
          "Peace",
          "Peace",
          "Literature",
          "Peace",
          "Physics",
          "Physiology or Medicine",
          "Chemistry",
          "Physics",
          "Physics",
          "Peace",
          "Chemistry",
          "Literature",
          "Physiology or Medicine",
          "Peace",
          "Chemistry",
          "Physiology or Medicine",
          "Physics",
          "Literature",
          "Chemistry",
          "Physiology or Medicine",
          "Peace",
          "Chemistry",
          "Physics",
          "Physiology or Medicine",
          "Literature",
          "Chemistry",
          "Physiology or Medicine",
          "Peace",
          "Literature",
          "Physics",
          "Chemistry",
          "Literature",
          "Chemistry",
          "Peace",
          "Peace",
          "Physiology or Medicine",
          "Physiology or Medicine",
          "Chemistry",
          "Literature",
          "Physiology or Medicine",
          "Physics",
          "Physics",
          "Literature",
          "Physics",
          "Peace",
          "Physiology or Medicine",
          "Peace",
          "Physiology or Medicine",
          "Physiology or Medicine",
          "Chemistry",
          "Literature",
          "Physiology or Medicine",
          "Peace",
          "Chemistry",
          "Physiology or Medicine",
          "Chemistry",
          "Physics",
          "Physics",
          "Peace",
          "Literature",
          "Physiology or Medicine",
          "Chemistry",
          "Physiology or Medicine",
          "Physics",
          "Physiology or Medicine",
          "Physics",
          "Physics",
          "Chemistry",
          "Chemistry",
          "Peace",
          "Literature",
          "Physiology or Medicine",
          "Physics",
          "Literature",
          "Chemistry",
          "Chemistry",
          "Physics",
          "Literature",
          "Physiology or Medicine",
          "Chemistry",
          "Physiology or Medicine",
          "Chemistry",
          "Physiology or Medicine",
          "Physics",
          "Physiology or Medicine",
          "Physics",
          "Literature",
          "Physiology or Medicine",
          "Chemistry",
          "Chemistry",
          "Peace",
          "Physiology or Medicine",
          "Literature",
          "Physiology or Medicine",
          "Physiology or Medicine",
          "Physics",
          "Peace",
          "Literature",
          "Physiology or Medicine",
          "Chemistry",
          "Chemistry",
          "Peace",
          "Physics",
          "Chemistry",
          "Literature",
          "Physiology or Medicine",
          "Physiology or Medicine",
          "Physics",
          "Physiology or Medicine",
          "Chemistry",
          "Chemistry",
          "Physics",
          "Physiology or Medicine",
          "Literature",
          "Physiology or Medicine",
          "Physics",
          "Peace",
          "Physiology or Medicine",
          "Chemistry",
          "Literature",
          "Literature",
          "Physics",
          "Physiology or Medicine",
          "Chemistry",
          "Chemistry",
          "Physiology or Medicine",
          "Peace",
          "Physiology or Medicine",
          "Chemistry",
          "Physics",
          "Chemistry",
          "Physics",
          "Peace",
          "Physiology or Medicine",
          "Literature",
          "Peace",
          "Chemistry",
          "Physics",
          "Physics",
          "Literature",
          "Chemistry",
          "Physiology or Medicine",
          "Physics",
          "Physiology or Medicine",
          "Peace",
          "Physiology or Medicine",
          "Chemistry",
          "Literature",
          "Literature",
          "Physiology or Medicine",
          "Physiology or Medicine",
          "Peace",
          "Physics",
          "Physiology or Medicine",
          "Physics",
          "Literature",
          "Physiology or Medicine",
          "Physics",
          "Chemistry",
          "Physics",
          "Physiology or Medicine",
          "Physiology or Medicine",
          "Physics",
          "Literature",
          "Chemistry",
          "Chemistry",
          "Physics",
          "Physiology or Medicine",
          "Physics",
          "Literature",
          "Physics",
          "Physiology or Medicine",
          "Peace",
          "Chemistry",
          "Physics",
          "Literature",
          "Physiology or Medicine",
          "Chemistry",
          "Physiology or Medicine",
          "Peace",
          "Physics",
          "Physics",
          "Physiology or Medicine",
          "Physics",
          "Physiology or Medicine",
          "Physics",
          "Chemistry",
          "Physics",
          "Peace",
          "Literature",
          "Physiology or Medicine",
          "Peace",
          "Physics",
          "Physiology or Medicine",
          "Literature",
          "Physiology or Medicine",
          "Chemistry",
          "Peace",
          "Physiology or Medicine",
          "Literature",
          "Chemistry",
          "Physics",
          "Physics",
          "Physiology or Medicine",
          "Physiology or Medicine",
          "Chemistry",
          "Literature",
          "Physics",
          "Physiology or Medicine",
          "Chemistry",
          "Physiology or Medicine",
          "Physiology or Medicine",
          "Physics",
          "Literature",
          "Chemistry",
          "Physics",
          "Chemistry",
          "Physics",
          "Physiology or Medicine",
          "Physics",
          "Physics",
          "Chemistry",
          "Physiology or Medicine",
          "Literature",
          "Physiology or Medicine",
          "Peace",
          "Physics",
          "Physiology or Medicine",
          "Physiology or Medicine",
          "Physiology or Medicine",
          "Physics",
          "Literature",
          "Physics",
          "Chemistry",
          "Physics",
          "Physics",
          "Physiology or Medicine",
          "Literature",
          "Physiology or Medicine",
          "Chemistry",
          "Literature",
          "Chemistry",
          "Physiology or Medicine",
          "Physics",
          "Physiology or Medicine",
          "Chemistry",
          "Literature",
          "Physiology or Medicine",
          "Chemistry",
          "Physiology or Medicine",
          "Chemistry",
          "Physics",
          "Physiology or Medicine",
          "Peace",
          "Physiology or Medicine",
          "Literature",
          "Physiology or Medicine",
          "Chemistry",
          "Economic Sciences",
          "Physiology or Medicine",
          "Physics",
          "Chemistry",
          "Economic Sciences",
          "Physiology or Medicine",
          "Literature",
          "Literature",
          "Physics",
          "Physiology or Medicine",
          "Physics",
          "Chemistry",
          "Peace",
          "Economic Sciences",
          "Physiology or Medicine",
          "Physiology or Medicine",
          "Physics",
          "Physiology or Medicine",
          "Chemistry",
          "Literature",
          "Economic Sciences",
          "Peace",
          "Chemistry",
          "Physiology or Medicine",
          "Literature",
          "Economic Sciences",
          "Economic Sciences",
          "Physics",
          "Physics",
          "Physiology or Medicine",
          "Chemistry",
          "Chemistry",
          "Physics",
          "Chemistry",
          "Chemistry",
          "Peace",
          "Physics",
          "Physiology or Medicine",
          "Physiology or Medicine",
          "Peace",
          "Physics",
          "Physiology or Medicine",
          "Literature",
          "Economic Sciences",
          "Physiology or Medicine",
          "Physics",
          "Physiology or Medicine",
          "Peace",
          "Literature",
          "Economic Sciences",
          "Physiology or Medicine",
          "Economic Sciences",
          "Literature",
          "Physics",
          "Chemistry",
          "Peace",
          "Physics",
          "Peace",
          "Physics",
          "Physiology or Medicine",
          "Literature",
          "Physiology or Medicine",
          "Physics",
          "Chemistry",
          "Economic Sciences",
          "Physiology or Medicine",
          "Economic Sciences",
          "Chemistry",
          "Physiology or Medicine",
          "Peace",
          "Physics",
          "Physiology or Medicine",
          "Peace",
          "Economic Sciences",
          "Physics",
          "Literature",
          "Chemistry",
          "Physiology or Medicine",
          "Economic Sciences",
          "Chemistry",
          "Economic Sciences",
          "Physics",
          "Physics",
          "Physiology or Medicine",
          "Physiology or Medicine",
          "Physics",
          "Literature",
          "Peace",
          "Physics",
          "Physiology or Medicine",
          "Physiology or Medicine",
          "Economic Sciences",
          "Literature",
          "Peace",
          "Chemistry",
          "Physics",
          "Physics",
          "Physiology or Medicine",
          "Physics",
          "Physiology or Medicine",
          "Chemistry",
          "Physiology or Medicine",
          "Chemistry",
          "Peace",
          "Literature",
          "Physics",
          "Economic Sciences",
          "Physics",
          "Economic Sciences",
          "Peace",
          "Physiology or Medicine",
          "Literature",
          "Physiology or Medicine",
          "Physics",
          "Physiology or Medicine",
          "Economic Sciences",
          "Chemistry",
          "Physics",
          "Chemistry",
          "Physics",
          "Physiology or Medicine",
          "Literature",
          "Economic Sciences",
          "Physics",
          "Chemistry",
          "Physics",
          "Chemistry",
          "Physiology or Medicine",
          "Physiology or Medicine",
          "Chemistry",
          "Peace",
          "Peace",
          "Physiology or Medicine",
          "Literature",
          "Economic Sciences",
          "Physiology or Medicine",
          "Physics",
          "Physiology or Medicine",
          "Physiology or Medicine",
          "Economic Sciences",
          "Chemistry",
          "Peace",
          "Physics",
          "Physics",
          "Literature",
          "Chemistry",
          "Physics",
          "Physiology or Medicine",
          "Peace",
          "Physiology or Medicine",
          "Literature",
          "Physiology or Medicine",
          "Economic Sciences",
          "Physics",
          "Literature",
          "Economic Sciences",
          "Chemistry",
          "Chemistry",
          "Physiology or Medicine",
          "Physics",
          "Physiology or Medicine",
          "Chemistry",
          "Peace",
          "Physics",
          "Physics",
          "Physics",
          "Economic Sciences",
          "Chemistry",
          "Physiology or Medicine",
          "Physiology or Medicine",
          "Literature",
          "Chemistry",
          "Chemistry",
          "Chemistry",
          "Physics",
          "Chemistry",
          "Literature",
          "Physics",
          "Peace",
          "Economic Sciences",
          "Physiology or Medicine",
          "Physiology or Medicine",
          "Physiology or Medicine",
          "Chemistry",
          "Physics",
          "Chemistry",
          "Physics",
          "Economic Sciences",
          "Physics",
          "Literature",
          "Chemistry",
          "Physiology or Medicine",
          "Literature",
          "Physics",
          "Physiology or Medicine",
          "Physiology or Medicine",
          "Physics",
          "Chemistry",
          "Peace",
          "Chemistry",
          "Economic Sciences",
          "Physics",
          "Physiology or Medicine",
          "Chemistry",
          "Economic Sciences",
          "Physics",
          "Physics",
          "Physiology or Medicine",
          "Economic Sciences",
          "Peace",
          "Literature",
          "Physics",
          "Economic Sciences",
          "Peace",
          "Physiology or Medicine",
          "Physiology or Medicine",
          "Literature",
          "Physics",
          "Chemistry",
          "Economic Sciences",
          "Literature",
          "Physiology or Medicine",
          "Physiology or Medicine",
          "Economic Sciences",
          "Physics",
          "Peace",
          "Chemistry",
          "Economic Sciences",
          "Peace",
          "Physics",
          "Chemistry",
          "Chemistry",
          "Peace",
          "Physiology or Medicine",
          "Physiology or Medicine",
          "Economic Sciences",
          "Physics",
          "Literature",
          "Physiology or Medicine",
          "Physics",
          "Physics",
          "Chemistry",
          "Economic Sciences",
          "Economic Sciences",
          "Literature",
          "Physiology or Medicine",
          "Economic Sciences",
          "Peace",
          "Peace",
          "Peace",
          "Physiology or Medicine",
          "Physiology or Medicine",
          "Physiology or Medicine",
          "Chemistry",
          "Physics",
          "Peace",
          "Chemistry",
          "Physics",
          "Chemistry",
          "Economic Sciences",
          "Literature",
          "Peace",
          "Physics",
          "Physics",
          "Economic Sciences",
          "Peace",
          "Physiology or Medicine",
          "Chemistry",
          "Physics",
          "Chemistry",
          "Physiology or Medicine",
          "Chemistry",
          "Economic Sciences",
          "Literature",
          "Physics",
          "Literature",
          "Chemistry",
          "Peace",
          "Chemistry",
          "Economic Sciences",
          "Chemistry",
          "Economic Sciences",
          "Physiology or Medicine",
          "Physics",
          "Physics",
          "Economic Sciences",
          "Physics",
          "Peace",
          "Physiology or Medicine",
          "Physics",
          "Peace",
          "Chemistry",
          "Literature",
          "Physiology or Medicine",
          "Physics",
          "Physiology or Medicine",
          "Chemistry",
          "Chemistry",
          "Physics",
          "Physiology or Medicine",
          "Literature",
          "Physics",
          "Economic Sciences",
          "Chemistry",
          "Chemistry",
          "Physiology or Medicine",
          "Economic Sciences",
          "Physiology or Medicine",
          "Literature",
          "Physics",
          "Chemistry",
          "Physics",
          "Economic Sciences",
          "Peace",
          "Physiology or Medicine",
          "Physics",
          "Economic Sciences",
          "Chemistry",
          "Physics",
          "Physics",
          "Economic Sciences",
          "Economic Sciences",
          "Peace",
          "Physiology or Medicine",
          "Chemistry",
          "Physiology or Medicine",
          "Physiology or Medicine",
          "Literature",
          "Chemistry",
          "Physics",
          "Economic Sciences",
          "Physiology or Medicine",
          "Literature",
          "Peace",
          "Chemistry",
          "Physiology or Medicine",
          "Chemistry",
          "Chemistry",
          "Physics",
          "Physics",
          "Physics",
          "Physiology or Medicine",
          "Economic Sciences",
          "Physics",
          "Physics",
          "Economic Sciences",
          "Literature",
          "Physiology or Medicine",
          "Chemistry",
          "Economic Sciences",
          "Chemistry",
          "Peace",
          "Physiology or Medicine",
          "Physics",
          "Chemistry",
          "Chemistry",
          "Physics",
          "Economic Sciences",
          "Literature",
          "Economic Sciences",
          "Physics",
          "Physics",
          "Chemistry",
          "Physiology or Medicine",
          "Physiology or Medicine",
          "Peace",
          "Physiology or Medicine",
          "Literature",
          "Physiology or Medicine",
          "Physics",
          "Peace",
          "Chemistry",
          "Chemistry",
          "Economic Sciences",
          "Physics",
          "Physics",
          "Economic Sciences",
          "Chemistry",
          "Physiology or Medicine",
          "Physiology or Medicine",
          "Economic Sciences",
          "Physics",
          "Physics",
          "Peace",
          "Literature",
          "Chemistry",
          "Peace",
          "Physics",
          "Literature",
          "Economic Sciences",
          "Chemistry",
          "Economic Sciences",
          "Physiology or Medicine",
          "Physiology or Medicine",
          "Physics",
          "Economic Sciences",
          "Physiology or Medicine",
          "Physiology or Medicine",
          "Physiology or Medicine",
          "Literature",
          "Physiology or Medicine",
          "Physics",
          "Chemistry",
          "Peace",
          "Chemistry",
          "Economic Sciences",
          "Chemistry",
          "Physics",
          "Physics",
          "Chemistry",
          "Peace",
          "Physiology or Medicine",
          "Physics",
          "Economic Sciences",
          "Physiology or Medicine",
          "Physics",
          "Literature",
          "Physiology or Medicine",
          "Economic Sciences",
          "Chemistry",
          "Chemistry",
          "Physics",
          "Chemistry",
          "Physics",
          "Economic Sciences",
          "Economic Sciences",
          "Chemistry",
          "Physics",
          "Peace",
          "Literature",
          "Economic Sciences",
          "Chemistry",
          "Physiology or Medicine",
          "Physics",
          "Physics",
          "Physiology or Medicine",
          "Economic Sciences",
          "Chemistry",
          "Peace",
          "Physiology or Medicine",
          "Peace",
          "Physiology or Medicine",
          "Physics",
          "Peace",
          "Economic Sciences",
          "Literature",
          "Economic Sciences",
          "Chemistry",
          "Physics",
          "Economic Sciences",
          "Literature",
          "Chemistry",
          "Physics",
          "Physiology or Medicine",
          "Physiology or Medicine",
          "Literature",
          "Chemistry",
          "Economic Sciences",
          "Physics",
          "Physiology or Medicine",
          "Economic Sciences",
          "Chemistry",
          "Chemistry",
          "Physics",
          "Physiology or Medicine",
          "Economic Sciences",
          "Physiology or Medicine",
          "Physiology or Medicine",
          "Chemistry",
          "Physics",
          "Physics",
          "Economic Sciences",
          "Physiology or Medicine",
          "Peace",
          "Peace",
          "Physiology or Medicine",
          "Literature",
          "Physics",
          "Chemistry",
          "Chemistry",
          "Economic Sciences",
          "Physics",
          "Chemistry",
          "Chemistry",
          "Physiology or Medicine",
          "Literature",
          "Physics",
          "Chemistry",
          "Physiology or Medicine",
          "Physiology or Medicine",
          "Economic Sciences",
          "Chemistry",
          "Literature",
          "Physics",
          "Physics",
          "Physics",
          "Chemistry",
          "Peace",
          "Economic Sciences",
          "Chemistry",
          "Physiology or Medicine",
          "Physics",
          "Chemistry",
          "Physiology or Medicine",
          "Chemistry",
          "Literature",
          "Physics",
          "Physiology or Medicine",
          "Physiology or Medicine",
          "Physics",
          "Economic Sciences",
          "Chemistry",
          "Physics",
          "Peace",
          "Physics",
          "Chemistry",
          "Chemistry",
          "Physics",
          "Physiology or Medicine",
          "Peace",
          "Literature",
          "Economic Sciences",
          "Chemistry",
          "Physiology or Medicine",
          "Economic Sciences",
          "Economic Sciences",
          "Peace",
          "Chemistry",
          "Physics",
          "Economic Sciences",
          "Physiology or Medicine",
          "Physics",
          "Chemistry",
          "Chemistry",
          "Economic Sciences",
          "Physics",
          "Literature",
          "Physiology or Medicine",
          "Physiology or Medicine",
          "Physics",
          "Physiology or Medicine",
          "Chemistry",
          "Physiology or Medicine",
          "Chemistry",
          "Literature",
          "Physiology or Medicine",
          "Economic Sciences",
          "Physics",
          "Economic Sciences",
          "Physics"
         ],
         "x0": " ",
         "xaxis": "x",
         "y": [
          8722510,
          4361255,
          4361255,
          8722510,
          8722510,
          8722510,
          4102817,
          4102817,
          8205634,
          4102817,
          4102817,
          8205634,
          8205634,
          7936836,
          3968418,
          1984209,
          7936836,
          1984209,
          7936836,
          7936836,
          3954409.5,
          7908819,
          3954409.5,
          7908819,
          7908819,
          7753291,
          7753291,
          7753291,
          7753291,
          7753291,
          3778074.5,
          7556149,
          7556149,
          7556149,
          3778074.5,
          7556149,
          7161123,
          7161123,
          7161123,
          3580561.5,
          3580561.5,
          7161123,
          7212924,
          3606462,
          7212924,
          3606462,
          3606462,
          3606462,
          7212924,
          3606462,
          3606462,
          3606462,
          3606462,
          7212924,
          7212924,
          7212924,
          7259514,
          7259514,
          7259514,
          7259514,
          3730371.5,
          7460743,
          7460743,
          3730371.5,
          7460743,
          6876120,
          6876120,
          6876120,
          6876120,
          3438060,
          3438060,
          7000156,
          7000156,
          7000156,
          7000156,
          7000156,
          7190567,
          7190567,
          7190567,
          3165185.5,
          6330371,
          6330371,
          3165185.5,
          4933193,
          3991689,
          1995844.5,
          1995844.5,
          2899121,
          2899121,
          2420376,
          2420376,
          2420376,
          2420376,
          2438066,
          2438066,
          2438066,
          2438066,
          2438066,
          2578698,
          2578698,
          1289349,
          2578698,
          1289349,
          1601507,
          3203014,
          3203014,
          3203014,
          3203014,
          1601507,
          1613315.5,
          3226631,
          1613315.5,
          3226631,
          3226631,
          3276714,
          3276714,
          3276714,
          1634616,
          3269232,
          1634616,
          1634616,
          3269232,
          1634616,
          1666243.5,
          3332487,
          1666243.5,
          3332487,
          3332487,
          3332487,
          1829473,
          1829473,
          1829473,
          3658946,
          3658946,
          3658946,
          1829473,
          4539342,
          4539342,
          4539342,
          4539342,
          2498476,
          2498476,
          4996952,
          2498476,
          4996952,
          2498476,
          4996952,
          5158685,
          5158685,
          5158685,
          5158685,
          5158685,
          2666534.5,
          5333069,
          2666534.5,
          2666534.5,
          2666534.5,
          5333069,
          2687512,
          5375024,
          5375024,
          2687512,
          5375024,
          2755625.5,
          5511251,
          2755625.5,
          5511251,
          5511251,
          5261333,
          1753777.666666667,
          1753777.666666667,
          5261333,
          5261333,
          1753777.666666667,
          5088026,
          2544013,
          5088026,
          2544013,
          5088026,
          2501259.5,
          5002519,
          5002519,
          2501259.5,
          5002519,
          2501259.5,
          2501259.5,
          4801680,
          2400840,
          2400840,
          2400840,
          2400840,
          4801680,
          4801680,
          4625656,
          4625656,
          4625656,
          4625656,
          2152282,
          4304564,
          4304564,
          4304564,
          2152282,
          1283294,
          2566588,
          1283294,
          2566588,
          1277991.5,
          2555983,
          2555983,
          1277991.5,
          2555983,
          2545326,
          2545326,
          848442,
          2545326,
          848442,
          848442,
          2545326,
          1274666.5,
          2549333,
          2549333,
          1274666.5,
          637333.25,
          1274666.5,
          2549333,
          637333.25,
          2967378,
          1483689,
          741844.5,
          2967378,
          741844.5,
          2967378,
          3112313,
          3112313,
          3112313,
          3112313,
          1491788,
          2983576,
          2983576,
          1491788,
          2983576,
          2983576,
          3105508,
          3105508,
          1035169.3333333335,
          1552754,
          1552754,
          1035169.3333333335,
          3105508,
          1035169.3333333335,
          1367399,
          1367399,
          1367399,
          1367399,
          2734798,
          2734798,
          2734798,
          2592831,
          1296415.5,
          1296415.5,
          1296415.5,
          2592831,
          1296415.5,
          2592831,
          2614331,
          1307165.5,
          2614331,
          1307165.5,
          2614331,
          2614331,
          2688094,
          896031.3333333335,
          896031.3333333335,
          2888429,
          1344047,
          896031.3333333335,
          1344047,
          2730214,
          2730214,
          1365107,
          2730214,
          1365107,
          916150.6666666665,
          916150.6666666665,
          916150.6666666665,
          2748452,
          1374226,
          1374226,
          916150.6666666665,
          916150.6666666665,
          916150.6666666665,
          2746709,
          1373354.5,
          2746709,
          2746709,
          2746709,
          1373354.5,
          2694692,
          673673,
          2694692,
          673673,
          2694692,
          898230.6666666665,
          898230.6666666665,
          1347346,
          898230.6666666665,
          1376713.5,
          1376713.5,
          2753427,
          1376713.5,
          2753427,
          2753427,
          1376713.5,
          2713265,
          2713265,
          1356632.5,
          2713265,
          1356632.5,
          2713265,
          2930643,
          2930643,
          2930643,
          2930643,
          1465321.5,
          1465321.5,
          962809.6666666665,
          962809.6666666665,
          1444214.5,
          2888429,
          2888429,
          962809.6666666665,
          1444214.5,
          963590.3333333335,
          963590.3333333335,
          1445385.5,
          2890771,
          1445385.5,
          722692.75,
          1445385.5,
          722692.75,
          963590.3333333335,
          719830,
          1439660,
          2879320,
          1439660,
          2879320,
          1439660,
          2879320,
          719830,
          944452.6666666665,
          944452.6666666665,
          944452.6666666665,
          944452.6666666665,
          2833358,
          944452.6666666665,
          2833358,
          944452.6666666665,
          2835149,
          1417574.5,
          1417574.5,
          1417574.5,
          2835149,
          1417574.5,
          723791.5,
          965055.3333333335,
          2895166,
          965055.3333333335,
          1447583,
          2895166,
          965055.3333333335,
          723791.5,
          1035891.3333333335,
          3107674,
          3107674,
          1035891.3333333335,
          3107674,
          1035891.3333333335,
          3107674,
          1079751,
          1619626.5,
          1619626.5,
          1079751,
          3239253,
          1619626.5,
          1619626.5,
          1079751,
          3239253,
          3235593,
          1617796.5,
          1078531,
          1617796.5,
          3235593,
          3235593,
          3235593,
          1078531,
          1078531,
          3382087,
          3382087,
          3382087,
          3382087,
          3382087,
          3382087,
          1703197,
          1703197,
          3406394,
          1703197,
          1703197,
          1135464.666666667,
          1135464.666666667,
          1703197,
          851598.5,
          851598.5,
          1696150,
          1696150,
          1696150,
          1696150,
          848075,
          1130766.666666667,
          1130766.666666667,
          1696150,
          848075,
          1130766.666666667,
          3392300,
          3392300,
          1107542.333333333,
          1661313.5,
          1107542.333333333,
          1661313.5,
          1661313.5,
          1661313.5,
          1107542.333333333,
          1661313.5,
          1661313.5,
          1661313.5,
          3322627,
          1661313.5,
          1155302.666666667,
          3465908,
          1155302.666666667,
          1155302.666666667,
          3465908,
          1155302.666666667,
          1155302.666666667,
          1732954,
          1732954,
          1155302.666666667,
          1732954,
          1732954,
          1701608.5,
          1701608.5,
          1701608.5,
          1701608.5,
          1701608.5,
          3403217,
          1701608.5,
          3403217,
          3403217,
          784213.5,
          1568427,
          3136854,
          1568427,
          1045618,
          1045618,
          784213.5,
          1568427,
          1045618,
          3136854,
          1475506.5,
          737753.25,
          983671,
          983671,
          2951013,
          2951013,
          1475506.5,
          2951013,
          1475506.5,
          737753.25,
          983671,
          1014077,
          1521115.5,
          1521115.5,
          1521115.5,
          1521115.5,
          3042231,
          3042231,
          1014077,
          1521115.5,
          1014077,
          1521115.5,
          2942067,
          980689,
          2942067,
          980689,
          1471033.5,
          980689,
          2942067,
          1471033.5,
          1471033.5,
          735516.75,
          745703.25,
          745703.25,
          2982813,
          2982813,
          1491406.5,
          1491406.5,
          745703.25,
          1491406.5,
          1491406.5,
          745703.25,
          3158777,
          1579388.5,
          1579388.5,
          1052925.666666667,
          3158777,
          3158777,
          1052925.666666667,
          3158777,
          1052925.666666667,
          3782695,
          3782695,
          3782695,
          3782695,
          1891347.5,
          1891347.5,
          3782695,
          3850672,
          1925336,
          1283557.333333333,
          3850672,
          1283557.333333333,
          3850672,
          1283557.333333333,
          3850672,
          1925336,
          3913667,
          3913667,
          1956833.5,
          1956833.5,
          1956833.5,
          3913667,
          1956833.5,
          1390892.666666667,
          4172678,
          2086339,
          1043169.5,
          1043169.5,
          4172678,
          1390892.666666667,
          2086339,
          2086339,
          4172678,
          1390892.666666667,
          1450760,
          1450760,
          2176140,
          1450760,
          4352280,
          2176140,
          4352280,
          4352280,
          4352280,
          1576643.666666667,
          1576643.666666667,
          1576643.666666667,
          1576643.666666667,
          1576643.666666667,
          1576643.666666667,
          4729931,
          1576643.666666667,
          4729931,
          1576643.666666667,
          1576643.666666667,
          5337372,
          1334343,
          2668686,
          2668686,
          2668686,
          2668686,
          5337372,
          2668686,
          5337372,
          1334343,
          3221941,
          6443882,
          2147960.666666666,
          2147960.666666666,
          2147960.666666666,
          3221941,
          2147960.666666666,
          6443882,
          6443882,
          2147960.666666666,
          2147960.666666666,
          8831149,
          4415574.5,
          4415574.5,
          8831149,
          8831149,
          8831149,
          8831149,
          9350791,
          4675395.5,
          4675395.5,
          9350791,
          9350791,
          9350791,
          9350791,
          4604139.5,
          4604139.5,
          4604139.5,
          4604139.5,
          4604139.5,
          4604139.5,
          4604139.5,
          4604139.5,
          4604139.5,
          4604139.5,
          9208279,
          4708597.5,
          4708597.5,
          4708597.5,
          9417195,
          3139065,
          3139065,
          9417195,
          4708597.5,
          3139065,
          3139065,
          3139065,
          3139065,
          3148866,
          3148866,
          3148866,
          3148866,
          4723299,
          4723299,
          3148866,
          4723299,
          3148866,
          9446598,
          9446598,
          4831258.5,
          3220839,
          3220839,
          4831258.5,
          4831258.5,
          4831258.5,
          3220839,
          3220839,
          3220839,
          4831258.5,
          3220839,
          4831258.5,
          9662517,
          3248808.666666666,
          9746426,
          4873213,
          4873213,
          2436606.5,
          4873213,
          2436606.5,
          4873213,
          9746426,
          3248808.666666666,
          3248808.666666666,
          9889843,
          3296614.333333333,
          4944921.5,
          3296614.333333333,
          3296614.333333333,
          4944921.5,
          4944921.5,
          9889843,
          3296614.333333333,
          3296614.333333333,
          3296614.333333333,
          4944921.5,
          10231411,
          5115705.5,
          10231411,
          10231411,
          5115705.5,
          10231411,
          3846205.666666666,
          3846205.666666666,
          3846205.666666666,
          5769308.5,
          3846205.666666666,
          11538617,
          2884654.25,
          3846205.666666666,
          5769308.5,
          5769308.5,
          11538617,
          3846205.666666666,
          2884654.25,
          4172677.666666666,
          6259016.5,
          4172677.666666666,
          4172677.666666666,
          4172677.666666666,
          4172677.666666666,
          6259016.5,
          4172677.666666666,
          3129508.25,
          4172677.666666666,
          4172677.666666666,
          12518033,
          3129508.25,
          4172677.666666666,
          6126444,
          4084296,
          12252888,
          12252888,
          3063222,
          4084296,
          3063222,
          6126444,
          3063222,
          3063222,
          6126444,
          4084296,
          6126444,
          4007137,
          4007137,
          6010705.5,
          12021411,
          6010705.5,
          6010705.5,
          6010705.5,
          6010705.5,
          12021411,
          6010705.5,
          4007137,
          3992053.666666666,
          3992053.666666666,
          3992053.666666666,
          5988080.5,
          11976161,
          5988080.5,
          3992053.666666666,
          3992053.666666666,
          3992053.666666666,
          5988080.5,
          5988080.5,
          11976161,
          5961899,
          11923798,
          5961899,
          2980949.5,
          5961899,
          3974599.333333334,
          3974599.333333334,
          5961899,
          5961899,
          2980949.5,
          5961899,
          3974599.333333334,
          5881084.5,
          5881084.5,
          11762169,
          5881084.5,
          5881084.5,
          5881084.5,
          11762169,
          11762169,
          5753466,
          5753466,
          11506932,
          3835644,
          11506932,
          3835644,
          3835644,
          3835644,
          5753466,
          3835644,
          3835644,
          2781177.25,
          5562354.5,
          11124709,
          2781177.25,
          2781177.25,
          3708236.333333334,
          11124709,
          3708236.333333334,
          11124709,
          3708236.333333334,
          2781177.25,
          5562354.5,
          3719072.666666666,
          11157218,
          3719072.666666666,
          5578609,
          5578609,
          3719072.666666666,
          2789304.5,
          11157218,
          3719072.666666666,
          5578609,
          3719072.666666666,
          3719072.666666666,
          2789304.5,
          3671860,
          5507790,
          3671860,
          3671860,
          3671860,
          5507790,
          11015580,
          11015580,
          3671860,
          3671860,
          11015580,
          2684195.75,
          2684195.75,
          2684195.75,
          5368391.5,
          10736783,
          3578927.666666666,
          2684195.75,
          3578927.666666666,
          5368391.5,
          5368391.5,
          3578927.666666666,
          5368391.5,
          10736783,
          4256410.5,
          4256410.5,
          4256410.5,
          4256410.5,
          8512821,
          4256410.5,
          4256410.5,
          4256410.5,
          4256410.5,
          8517568,
          2839189.333333333,
          2839189.333333333,
          4258784,
          2839189.333333333,
          2839189.333333333,
          2839189.333333333,
          2839189.333333333,
          4258784,
          2839189.333333333,
          2839189.333333333,
          2839189.333333333,
          2132961,
          2843948,
          2843948,
          2843948,
          8531844,
          4265922,
          4265922,
          4265922,
          2132961,
          8531844,
          2843948,
          2843948,
          2843948,
          8536613,
          4268306.5,
          2845537.666666666,
          2845537.666666666,
          2134153.25,
          8536613,
          4268306.5,
          2845537.666666666,
          4268306.5,
          2134153.25,
          4225788.5,
          2817192.333333333,
          8451577,
          4225788.5,
          2112894.25,
          2112894.25,
          2817192.333333333,
          8451577,
          4225788.5,
          2817192.333333333,
          8451577,
          2335644.25,
          3114192.333333333,
          3114192.333333333,
          3114192.333333333,
          9342577,
          2335644.25,
          3114192.333333333,
          3114192.333333333,
          4671288.5,
          9342577,
          3114192.333333333,
          4581600,
          4581600,
          2290800,
          4581600,
          2290800,
          2290800,
          4581600,
          4581600,
          9000000,
          4581600,
          2290800,
          4581600,
          4581600,
          3000000,
          9000000,
          3000000,
          2250000,
          3000000,
          3000000,
          4500000,
          3000000,
          3000000,
          3000000,
          2250000,
          9000000,
          3000000,
          3000000,
          2500000,
          3333333.333333333,
          5000000,
          3333333.333333333,
          5000000,
          10000000,
          3333333.333333333,
          5000000,
          2500000,
          5000000,
          5000000
         ],
         "y0": " ",
         "yaxis": "y"
        }
       ],
       "layout": {
        "boxmode": "group",
        "legend": {
         "tracegroupgap": 0
        },
        "template": {
         "data": {
          "bar": [
           {
            "error_x": {
             "color": "#2a3f5f"
            },
            "error_y": {
             "color": "#2a3f5f"
            },
            "marker": {
             "line": {
              "color": "#E5ECF6",
              "width": 0.5
             }
            },
            "type": "bar"
           }
          ],
          "barpolar": [
           {
            "marker": {
             "line": {
              "color": "#E5ECF6",
              "width": 0.5
             }
            },
            "type": "barpolar"
           }
          ],
          "carpet": [
           {
            "aaxis": {
             "endlinecolor": "#2a3f5f",
             "gridcolor": "white",
             "linecolor": "white",
             "minorgridcolor": "white",
             "startlinecolor": "#2a3f5f"
            },
            "baxis": {
             "endlinecolor": "#2a3f5f",
             "gridcolor": "white",
             "linecolor": "white",
             "minorgridcolor": "white",
             "startlinecolor": "#2a3f5f"
            },
            "type": "carpet"
           }
          ],
          "choropleth": [
           {
            "colorbar": {
             "outlinewidth": 0,
             "ticks": ""
            },
            "type": "choropleth"
           }
          ],
          "contour": [
           {
            "colorbar": {
             "outlinewidth": 0,
             "ticks": ""
            },
            "colorscale": [
             [
              0,
              "#0d0887"
             ],
             [
              0.1111111111111111,
              "#46039f"
             ],
             [
              0.2222222222222222,
              "#7201a8"
             ],
             [
              0.3333333333333333,
              "#9c179e"
             ],
             [
              0.4444444444444444,
              "#bd3786"
             ],
             [
              0.5555555555555556,
              "#d8576b"
             ],
             [
              0.6666666666666666,
              "#ed7953"
             ],
             [
              0.7777777777777778,
              "#fb9f3a"
             ],
             [
              0.8888888888888888,
              "#fdca26"
             ],
             [
              1,
              "#f0f921"
             ]
            ],
            "type": "contour"
           }
          ],
          "contourcarpet": [
           {
            "colorbar": {
             "outlinewidth": 0,
             "ticks": ""
            },
            "type": "contourcarpet"
           }
          ],
          "heatmap": [
           {
            "colorbar": {
             "outlinewidth": 0,
             "ticks": ""
            },
            "colorscale": [
             [
              0,
              "#0d0887"
             ],
             [
              0.1111111111111111,
              "#46039f"
             ],
             [
              0.2222222222222222,
              "#7201a8"
             ],
             [
              0.3333333333333333,
              "#9c179e"
             ],
             [
              0.4444444444444444,
              "#bd3786"
             ],
             [
              0.5555555555555556,
              "#d8576b"
             ],
             [
              0.6666666666666666,
              "#ed7953"
             ],
             [
              0.7777777777777778,
              "#fb9f3a"
             ],
             [
              0.8888888888888888,
              "#fdca26"
             ],
             [
              1,
              "#f0f921"
             ]
            ],
            "type": "heatmap"
           }
          ],
          "heatmapgl": [
           {
            "colorbar": {
             "outlinewidth": 0,
             "ticks": ""
            },
            "colorscale": [
             [
              0,
              "#0d0887"
             ],
             [
              0.1111111111111111,
              "#46039f"
             ],
             [
              0.2222222222222222,
              "#7201a8"
             ],
             [
              0.3333333333333333,
              "#9c179e"
             ],
             [
              0.4444444444444444,
              "#bd3786"
             ],
             [
              0.5555555555555556,
              "#d8576b"
             ],
             [
              0.6666666666666666,
              "#ed7953"
             ],
             [
              0.7777777777777778,
              "#fb9f3a"
             ],
             [
              0.8888888888888888,
              "#fdca26"
             ],
             [
              1,
              "#f0f921"
             ]
            ],
            "type": "heatmapgl"
           }
          ],
          "histogram": [
           {
            "marker": {
             "colorbar": {
              "outlinewidth": 0,
              "ticks": ""
             }
            },
            "type": "histogram"
           }
          ],
          "histogram2d": [
           {
            "colorbar": {
             "outlinewidth": 0,
             "ticks": ""
            },
            "colorscale": [
             [
              0,
              "#0d0887"
             ],
             [
              0.1111111111111111,
              "#46039f"
             ],
             [
              0.2222222222222222,
              "#7201a8"
             ],
             [
              0.3333333333333333,
              "#9c179e"
             ],
             [
              0.4444444444444444,
              "#bd3786"
             ],
             [
              0.5555555555555556,
              "#d8576b"
             ],
             [
              0.6666666666666666,
              "#ed7953"
             ],
             [
              0.7777777777777778,
              "#fb9f3a"
             ],
             [
              0.8888888888888888,
              "#fdca26"
             ],
             [
              1,
              "#f0f921"
             ]
            ],
            "type": "histogram2d"
           }
          ],
          "histogram2dcontour": [
           {
            "colorbar": {
             "outlinewidth": 0,
             "ticks": ""
            },
            "colorscale": [
             [
              0,
              "#0d0887"
             ],
             [
              0.1111111111111111,
              "#46039f"
             ],
             [
              0.2222222222222222,
              "#7201a8"
             ],
             [
              0.3333333333333333,
              "#9c179e"
             ],
             [
              0.4444444444444444,
              "#bd3786"
             ],
             [
              0.5555555555555556,
              "#d8576b"
             ],
             [
              0.6666666666666666,
              "#ed7953"
             ],
             [
              0.7777777777777778,
              "#fb9f3a"
             ],
             [
              0.8888888888888888,
              "#fdca26"
             ],
             [
              1,
              "#f0f921"
             ]
            ],
            "type": "histogram2dcontour"
           }
          ],
          "mesh3d": [
           {
            "colorbar": {
             "outlinewidth": 0,
             "ticks": ""
            },
            "type": "mesh3d"
           }
          ],
          "parcoords": [
           {
            "line": {
             "colorbar": {
              "outlinewidth": 0,
              "ticks": ""
             }
            },
            "type": "parcoords"
           }
          ],
          "pie": [
           {
            "automargin": true,
            "type": "pie"
           }
          ],
          "scatter": [
           {
            "marker": {
             "colorbar": {
              "outlinewidth": 0,
              "ticks": ""
             }
            },
            "type": "scatter"
           }
          ],
          "scatter3d": [
           {
            "line": {
             "colorbar": {
              "outlinewidth": 0,
              "ticks": ""
             }
            },
            "marker": {
             "colorbar": {
              "outlinewidth": 0,
              "ticks": ""
             }
            },
            "type": "scatter3d"
           }
          ],
          "scattercarpet": [
           {
            "marker": {
             "colorbar": {
              "outlinewidth": 0,
              "ticks": ""
             }
            },
            "type": "scattercarpet"
           }
          ],
          "scattergeo": [
           {
            "marker": {
             "colorbar": {
              "outlinewidth": 0,
              "ticks": ""
             }
            },
            "type": "scattergeo"
           }
          ],
          "scattergl": [
           {
            "marker": {
             "colorbar": {
              "outlinewidth": 0,
              "ticks": ""
             }
            },
            "type": "scattergl"
           }
          ],
          "scattermapbox": [
           {
            "marker": {
             "colorbar": {
              "outlinewidth": 0,
              "ticks": ""
             }
            },
            "type": "scattermapbox"
           }
          ],
          "scatterpolar": [
           {
            "marker": {
             "colorbar": {
              "outlinewidth": 0,
              "ticks": ""
             }
            },
            "type": "scatterpolar"
           }
          ],
          "scatterpolargl": [
           {
            "marker": {
             "colorbar": {
              "outlinewidth": 0,
              "ticks": ""
             }
            },
            "type": "scatterpolargl"
           }
          ],
          "scatterternary": [
           {
            "marker": {
             "colorbar": {
              "outlinewidth": 0,
              "ticks": ""
             }
            },
            "type": "scatterternary"
           }
          ],
          "surface": [
           {
            "colorbar": {
             "outlinewidth": 0,
             "ticks": ""
            },
            "colorscale": [
             [
              0,
              "#0d0887"
             ],
             [
              0.1111111111111111,
              "#46039f"
             ],
             [
              0.2222222222222222,
              "#7201a8"
             ],
             [
              0.3333333333333333,
              "#9c179e"
             ],
             [
              0.4444444444444444,
              "#bd3786"
             ],
             [
              0.5555555555555556,
              "#d8576b"
             ],
             [
              0.6666666666666666,
              "#ed7953"
             ],
             [
              0.7777777777777778,
              "#fb9f3a"
             ],
             [
              0.8888888888888888,
              "#fdca26"
             ],
             [
              1,
              "#f0f921"
             ]
            ],
            "type": "surface"
           }
          ],
          "table": [
           {
            "cells": {
             "fill": {
              "color": "#EBF0F8"
             },
             "line": {
              "color": "white"
             }
            },
            "header": {
             "fill": {
              "color": "#C8D4E3"
             },
             "line": {
              "color": "white"
             }
            },
            "type": "table"
           }
          ]
         },
         "layout": {
          "annotationdefaults": {
           "arrowcolor": "#2a3f5f",
           "arrowhead": 0,
           "arrowwidth": 1
          },
          "autotypenumbers": "strict",
          "coloraxis": {
           "colorbar": {
            "outlinewidth": 0,
            "ticks": ""
           }
          },
          "colorscale": {
           "diverging": [
            [
             0,
             "#8e0152"
            ],
            [
             0.1,
             "#c51b7d"
            ],
            [
             0.2,
             "#de77ae"
            ],
            [
             0.3,
             "#f1b6da"
            ],
            [
             0.4,
             "#fde0ef"
            ],
            [
             0.5,
             "#f7f7f7"
            ],
            [
             0.6,
             "#e6f5d0"
            ],
            [
             0.7,
             "#b8e186"
            ],
            [
             0.8,
             "#7fbc41"
            ],
            [
             0.9,
             "#4d9221"
            ],
            [
             1,
             "#276419"
            ]
           ],
           "sequential": [
            [
             0,
             "#0d0887"
            ],
            [
             0.1111111111111111,
             "#46039f"
            ],
            [
             0.2222222222222222,
             "#7201a8"
            ],
            [
             0.3333333333333333,
             "#9c179e"
            ],
            [
             0.4444444444444444,
             "#bd3786"
            ],
            [
             0.5555555555555556,
             "#d8576b"
            ],
            [
             0.6666666666666666,
             "#ed7953"
            ],
            [
             0.7777777777777778,
             "#fb9f3a"
            ],
            [
             0.8888888888888888,
             "#fdca26"
            ],
            [
             1,
             "#f0f921"
            ]
           ],
           "sequentialminus": [
            [
             0,
             "#0d0887"
            ],
            [
             0.1111111111111111,
             "#46039f"
            ],
            [
             0.2222222222222222,
             "#7201a8"
            ],
            [
             0.3333333333333333,
             "#9c179e"
            ],
            [
             0.4444444444444444,
             "#bd3786"
            ],
            [
             0.5555555555555556,
             "#d8576b"
            ],
            [
             0.6666666666666666,
             "#ed7953"
            ],
            [
             0.7777777777777778,
             "#fb9f3a"
            ],
            [
             0.8888888888888888,
             "#fdca26"
            ],
            [
             1,
             "#f0f921"
            ]
           ]
          },
          "colorway": [
           "#636efa",
           "#EF553B",
           "#00cc96",
           "#ab63fa",
           "#FFA15A",
           "#19d3f3",
           "#FF6692",
           "#B6E880",
           "#FF97FF",
           "#FECB52"
          ],
          "font": {
           "color": "#2a3f5f"
          },
          "geo": {
           "bgcolor": "white",
           "lakecolor": "white",
           "landcolor": "#E5ECF6",
           "showlakes": true,
           "showland": true,
           "subunitcolor": "white"
          },
          "hoverlabel": {
           "align": "left"
          },
          "hovermode": "closest",
          "mapbox": {
           "style": "light"
          },
          "paper_bgcolor": "white",
          "plot_bgcolor": "#E5ECF6",
          "polar": {
           "angularaxis": {
            "gridcolor": "white",
            "linecolor": "white",
            "ticks": ""
           },
           "bgcolor": "#E5ECF6",
           "radialaxis": {
            "gridcolor": "white",
            "linecolor": "white",
            "ticks": ""
           }
          },
          "scene": {
           "xaxis": {
            "backgroundcolor": "#E5ECF6",
            "gridcolor": "white",
            "gridwidth": 2,
            "linecolor": "white",
            "showbackground": true,
            "ticks": "",
            "zerolinecolor": "white"
           },
           "yaxis": {
            "backgroundcolor": "#E5ECF6",
            "gridcolor": "white",
            "gridwidth": 2,
            "linecolor": "white",
            "showbackground": true,
            "ticks": "",
            "zerolinecolor": "white"
           },
           "zaxis": {
            "backgroundcolor": "#E5ECF6",
            "gridcolor": "white",
            "gridwidth": 2,
            "linecolor": "white",
            "showbackground": true,
            "ticks": "",
            "zerolinecolor": "white"
           }
          },
          "shapedefaults": {
           "line": {
            "color": "#2a3f5f"
           }
          },
          "ternary": {
           "aaxis": {
            "gridcolor": "white",
            "linecolor": "white",
            "ticks": ""
           },
           "baxis": {
            "gridcolor": "white",
            "linecolor": "white",
            "ticks": ""
           },
           "bgcolor": "#E5ECF6",
           "caxis": {
            "gridcolor": "white",
            "linecolor": "white",
            "ticks": ""
           }
          },
          "title": {
           "x": 0.05
          },
          "xaxis": {
           "automargin": true,
           "gridcolor": "white",
           "linecolor": "white",
           "ticks": "",
           "title": {
            "standoff": 15
           },
           "zerolinecolor": "white",
           "zerolinewidth": 2
          },
          "yaxis": {
           "automargin": true,
           "gridcolor": "white",
           "linecolor": "white",
           "ticks": "",
           "title": {
            "standoff": 15
           },
           "zerolinecolor": "white",
           "zerolinewidth": 2
          }
         }
        },
        "title": {
         "text": "Distribution of prize amount by category"
        },
        "xaxis": {
         "anchor": "y",
         "domain": [
          0,
          1
         ],
         "title": {
          "text": "Category"
         }
        },
        "yaxis": {
         "anchor": "x",
         "domain": [
          0,
          1
         ],
         "title": {
          "text": "Actual Prize Amount"
         }
        }
       }
      },
      "text/html": [
       "<div>                            <div id=\"ed669e20-038a-4112-a524-e20e137729a6\" class=\"plotly-graph-div\" style=\"height:525px; width:100%;\"></div>            <script type=\"text/javascript\">                require([\"plotly\"], function(Plotly) {                    window.PLOTLYENV=window.PLOTLYENV || {};                                    if (document.getElementById(\"ed669e20-038a-4112-a524-e20e137729a6\")) {                    Plotly.newPlot(                        \"ed669e20-038a-4112-a524-e20e137729a6\",                        [{\"alignmentgroup\": \"True\", \"customdata\": [[\"Emil von Behring\"], [\"Fr\\u00e9d\\u00e9ric Passy\"], [\"Henry Dunant\"], [\"Jacobus H. van 't Hoff\"], [\"Sully Prudhomme\"], [\"Wilhelm Conrad R\\u00f6ntgen\"], [\"Albert Gobat\"], [\"\\u00c9lie Ducommun\"], [\"Emil Fischer\"], [\"Hendrik A. Lorentz\"], [\"Pieter Zeeman\"], [\"Ronald Ross\"], [\"Theodor Mommsen\"], [\"Bj\\u00f8rnstjerne Bj\\u00f8rnson\"], [\"Henri Becquerel\"], [\"Marie Curie\"], [\"Niels Ryberg Finsen\"], [\"Pierre Curie\"], [\"Randal Cremer\"], [\"Svante Arrhenius\"], [\"Fr\\u00e9d\\u00e9ric Mistral\"], [\"Ivan Pavlov\"], [\"Jos\\u00e9 Echegaray\"], [\"Lord Rayleigh\"], [\"Sir William Ramsay\"], [\"Adolf von Baeyer\"], [\"Bertha von Suttner\"], [\"Henryk Sienkiewicz\"], [\"Philipp Lenard\"], [\"Robert Koch\"], [\"Camillo Golgi\"], [\"Giosu\\u00e8 Carducci\"], [\"Henri Moissan\"], [\"J.J. Thomson\"], [\"Santiago Ram\\u00f3n y Cajal\"], [\"Theodore Roosevelt\"], [\"Albert A. Michelson\"], [\"Alphonse Laveran\"], [\"Eduard Buchner\"], [\"Ernesto Teodoro Moneta\"], [\"Louis Renault\"], [\"Rudyard Kipling\"], [\"Ernest Rutherford\"], [\"Fredrik Bajer\"], [\"Gabriel Lippmann\"], [\"Ilya Mechnikov\"], [\"Klas Pontus Arnoldson\"], [\"Paul Ehrlich\"], [\"Rudolf Eucken\"], [\"Auguste Beernaert\"], [\"Ferdinand Braun\"], [\"Guglielmo Marconi\"], [\"Paul Henri d'Estournelles de Constant\"], [\"Selma Lagerl\\u00f6f\"], [\"Theodor Kocher\"], [\"Wilhelm Ostwald\"], [\"Albrecht Kossel\"], [\"Johannes Diderik van der Waals\"], [\"Otto Wallach\"], [\"Paul Heyse\"], [\"Alfred Fried\"], [\"Allvar Gullstrand\"], [\"Maurice Maeterlinck\"], [\"Tobias Asser\"], [\"Wilhelm Wien\"], [\"Alexis Carrel\"], [\"Elihu Root\"], [\"Gerhart Hauptmann\"], [\"Gustaf Dal\\u00e9n\"], [\"Paul Sabatier\"], [\"Victor Grignard\"], [\"Alfred Werner\"], [\"Charles Richet\"], [\"Heike Kamerlingh Onnes\"], [\"Henri La Fontaine\"], [\"Rabindranath Tagore\"], [\"Max von Laue\"], [\"Robert B\\u00e1r\\u00e1ny\"], [\"Theodore W. Richards\"], [\"Lawrence Bragg\"], [\"Richard Willst\\u00e4tter\"], [\"Romain Rolland\"], [\"William Bragg\"], [\"Verner von Heidenstam\"], [\"Charles Glover Barkla\"], [\"Henrik Pontoppidan\"], [\"Karl Gjellerup\"], [\"Fritz Haber\"], [\"Max Planck\"], [\"Carl Spitteler\"], [\"Johannes Stark\"], [\"Jules Bordet\"], [\"Woodrow Wilson\"], [\"August Krogh\"], [\"Charles Edouard Guillaume\"], [\"Knut Hamsun\"], [\"L\\u00e9on Bourgeois\"], [\"Walther Nernst\"], [\"Albert Einstein\"], [\"Anatole France\"], [\"Christian Lange\"], [\"Frederick Soddy\"], [\"Hjalmar Branting\"], [\"Archibald V. Hill\"], [\"Francis W. Aston\"], [\"Fridtjof Nansen\"], [\"Jacinto Benavente\"], [\"Niels Bohr\"], [\"Otto Meyerhof\"], [\"Frederick G. Banting\"], [\"Fritz Pregl\"], [\"John Macleod\"], [\"Robert A. Millikan\"], [\"William Butler Yeats\"], [\"Manne Siegbahn\"], [\"Willem Einthoven\"], [\"Wladyslaw Reymont\"], [\"Charles G. Dawes\"], [\"George Bernard Shaw\"], [\"Gustav Hertz\"], [\"James Franck\"], [\"Richard Zsigmondy\"], [\"Sir Austen Chamberlain\"], [\"Aristide Briand\"], [\"Grazia Deledda\"], [\"Gustav Stresemann\"], [\"Jean Baptiste Perrin\"], [\"Johannes Fibiger\"], [\"The Svedberg\"], [\"Arthur H. Compton\"], [\"C.T.R. Wilson\"], [\"Ferdinand Buisson\"], [\"Heinrich Wieland\"], [\"Henri Bergson\"], [\"Julius Wagner-Jauregg\"], [\"Ludwig Quidde\"], [\"Adolf Windaus\"], [\"Charles Nicolle\"], [\"Owen Willans Richardson\"], [\"Sigrid Undset\"], [\"Arthur Harden\"], [\"Christiaan Eijkman\"], [\"Frank B. Kellogg\"], [\"Hans von Euler-Chelpin\"], [\"Louis de Broglie\"], [\"Sir Frederick Hopkins\"], [\"Thomas Mann\"], [\"Hans Fischer\"], [\"Karl Landsteiner\"], [\"Nathan S\\u00f6derblom\"], [\"Sinclair Lewis\"], [\"Sir Chandrasekhara Venkata Raman\"], [\"Carl Bosch\"], [\"Erik Axel Karlfeldt\"], [\"Friedrich Bergius\"], [\"Jane Addams\"], [\"Nicholas Murray Butler\"], [\"Otto Warburg\"], [\"Edgar Adrian\"], [\"Irving Langmuir\"], [\"John Galsworthy\"], [\"Sir Charles Sherrington\"], [\"Werner Heisenberg\"], [\"Erwin Schr\\u00f6dinger\"], [\"Ivan Bunin\"], [\"Paul A.M. Dirac\"], [\"Sir Norman Angell\"], [\"Thomas H. Morgan\"], [\"Arthur Henderson\"], [\"George H. Whipple\"], [\"George R. Minot\"], [\"Harold C. Urey\"], [\"Luigi Pirandello\"], [\"William P. Murphy\"], [\"Carl von Ossietzky\"], [\"Fr\\u00e9d\\u00e9ric Joliot\"], [\"Hans Spemann\"], [\"Ir\\u00e8ne Joliot-Curie\"], [\"James Chadwick\"], [\"Carl D. Anderson\"], [\"Carlos Saavedra Lamas\"], [\"Eugene O'Neill\"], [\"Otto Loewi\"], [\"Peter Debye\"], [\"Sir Henry Dale\"], [\"Victor F. Hess\"], [\"Albert Szent-Gy\\u00f6rgyi\"], [\"Clinton Davisson\"], [\"George Paget Thomson\"], [\"Norman Haworth\"], [\"Paul Karrer\"], [\"Robert Cecil, Viscount Cecil of Chelwood\"], [\"Roger Martin du Gard\"], [\"Corneille Heymans\"], [\"Enrico Fermi\"], [\"Pearl Buck\"], [\"Richard Kuhn\"], [\"Adolf Butenandt\"], [\"Ernest Lawrence\"], [\"Frans Eemil Sillanp\\u00e4\\u00e4\"], [\"Gerhard Domagk\"], [\"Leopold Ruzicka\"], [\"Edward A. Doisy\"], [\"George de Hevesy\"], [\"Henrik Dam\"], [\"Otto Stern\"], [\"Herbert S. Gasser\"], [\"Isidor Isaac Rabi\"], [\"Johannes V. Jensen\"], [\"Joseph Erlanger\"], [\"Otto Hahn\"], [\"Artturi Virtanen\"], [\"Cordell Hull\"], [\"Ernst B. Chain\"], [\"Gabriela Mistral\"], [\"Sir Alexander Fleming\"], [\"Sir Howard Florey\"], [\"Wolfgang Pauli\"], [\"Emily Greene Balch\"], [\"Hermann Hesse\"], [\"Hermann J. Muller\"], [\"James B. Sumner\"], [\"John H. Northrop\"], [\"John R. Mott\"], [\"Percy W. Bridgman\"], [\"Wendell M. Stanley\"], [\"Andr\\u00e9 Gide\"], [\"Bernardo Houssay\"], [\"Carl Cori\"], [\"Edward V. Appleton\"], [\"Gerty Cori\"], [\"Sir Robert Robinson\"], [\"Arne Tiselius\"], [\"Patrick M.S. Blackett\"], [\"Paul M\\u00fcller\"], [\"T.S. Eliot\"], [\"Egas Moniz\"], [\"Hideki Yukawa\"], [\"Lord Boyd Orr\"], [\"Walter Hess\"], [\"William F. Giauque\"], [\"William Faulkner\"], [\"Bertrand Russell\"], [\"Cecil Powell\"], [\"Edward C. Kendall\"], [\"Kurt Alder\"], [\"Otto Diels\"], [\"Philip S. Hench\"], [\"Ralph Bunche\"], [\"Tadeus Reichstein\"], [\"Edwin M. McMillan\"], [\"Ernest T.S. Walton\"], [\"Glenn T. Seaborg\"], [\"John Cockcroft\"], [\"L\\u00e9on Jouhaux\"], [\"Max Theiler\"], [\"P\\u00e4r Lagerkvist\"], [\"Albert Schweitzer\"], [\"Archer J.P. Martin\"], [\"E. M. Purcell\"], [\"Felix Bloch\"], [\"Fran\\u00e7ois Mauriac\"], [\"Richard L.M. Synge\"], [\"Selman A. Waksman\"], [\"Frits Zernike\"], [\"Fritz Lipmann\"], [\"George C. Marshall\"], [\"Hans Krebs\"], [\"Hermann Staudinger\"], [\"Winston Churchill\"], [\"Ernest Hemingway\"], [\"Frederick C. Robbins\"], [\"John F. Enders\"], [\"Linus Pauling\"], [\"Max Born\"], [\"Thomas H. Weller\"], [\"Walther Bothe\"], [\"Halld\\u00f3r Laxness\"], [\"Hugo Theorell\"], [\"Polykarp Kusch\"], [\"Vincent du Vigneaud\"], [\"Willis E. Lamb\"], [\"Andr\\u00e9 F. Cournand\"], [\"Dickinson W. Richards\"], [\"John Bardeen\"], [\"Juan Ram\\u00f3n Jim\\u00e9nez\"], [\"Nikolay Semenov\"], [\"Sir Cyril Hinshelwood\"], [\"Walter H. Brattain\"], [\"Werner Forssmann\"], [\"William B. Shockley\"], [\"Albert Camus\"], [\"Chen Ning Yang\"], [\"Daniel Bovet\"], [\"Lester Bowles Pearson\"], [\"Lord Todd\"], [\"Tsung-Dao Lee\"], [\"Boris Pasternak\"], [\"Edward Tatum\"], [\"Frederick Sanger\"], [\"George Beadle\"], [\"Georges Pire\"], [\"Igor Y. Tamm\"], [\"Il\\u00b4ja M. Frank\"], [\"Joshua Lederberg\"], [\"Pavel A. Cherenkov\"], [\"Arthur Kornberg\"], [\"Emilio Segr\\u00e8\"], [\"Jaroslav Heyrovsky\"], [\"Owen Chamberlain\"], [\"Philip Noel-Baker\"], [\"Salvatore Quasimodo\"], [\"Severo Ochoa\"], [\"Albert Luthuli\"], [\"Donald A. Glaser\"], [\"Peter Medawar\"], [\"Saint-John Perse\"], [\"Sir Frank Macfarlane Burnet\"], [\"Willard F. Libby\"], [\"Dag Hammarskj\\u00f6ld\"], [\"Georg von B\\u00e9k\\u00e9sy\"], [\"Ivo Andric\"], [\"Melvin Calvin\"], [\"Robert Hofstadter\"], [\"Rudolf M\\u00f6ssbauer\"], [\"Francis Crick\"], [\"James Watson\"], [\"John C. Kendrew\"], [\"John Steinbeck\"], [\"Lev Landau\"], [\"Maurice Wilkins\"], [\"Max F. Perutz\"], [\"Alan Hodgkin\"], [\"Andrew Huxley\"], [\"Eugene Wigner\"], [\"Giorgos Seferis\"], [\"Giulio Natta\"], [\"J. Hans D. Jensen\"], [\"Karl Ziegler\"], [\"Maria Goeppert Mayer\"], [\"Sir John Eccles\"], [\"Aleksandr M. Prokhorov\"], [\"Charles H. Townes\"], [\"Dorothy Crowfoot Hodgkin\"], [\"Feodor Lynen\"], [\"Jean-Paul Sartre\"], [\"Konrad Bloch\"], [\"Martin Luther King Jr.\"], [\"Nicolay G. Basov\"], [\"Andr\\u00e9 Lwoff\"], [\"Fran\\u00e7ois Jacob\"], [\"Jacques Monod\"], [\"Julian Schwinger\"], [\"Mikhail Sholokhov\"], [\"Richard P. Feynman\"], [\"Robert B. Woodward\"], [\"Sin-Itiro Tomonaga\"], [\"Alfred Kastler\"], [\"Charles B. Huggins\"], [\"Nelly Sachs\"], [\"Peyton Rous\"], [\"Robert S. Mulliken\"], [\"Shmuel Agnon\"], [\"George Porter\"], [\"George Wald\"], [\"Hans Bethe\"], [\"Keffer Hartline\"], [\"Manfred Eigen\"], [\"Miguel Angel Asturias\"], [\"Ragnar Granit\"], [\"Ronald G.W. Norrish\"], [\"H. Gobind Khorana\"], [\"Lars Onsager\"], [\"Luis Alvarez\"], [\"Marshall W. Nirenberg\"], [\"Ren\\u00e9 Cassin\"], [\"Robert W. Holley\"], [\"Yasunari Kawabata\"], [\"Alfred D. Hershey\"], [\"Derek Barton\"], [\"Jan Tinbergen\"], [\"Max Delbr\\u00fcck\"], [\"Murray Gell-Mann\"], [\"Odd Hassel\"], [\"Ragnar Frisch\"], [\"Salvador E. Luria\"], [\"Samuel Beckett\"], [\"Alexandr Solzhenitsyn\"], [\"Hannes Alfv\\u00e9n\"], [\"Julius Axelrod\"], [\"Louis N\\u00e9el\"], [\"Luis Leloir\"], [\"Norman Borlaug\"], [\"Paul A. Samuelson\"], [\"Sir Bernard Katz\"], [\"Ulf von Euler\"], [\"Dennis Gabor\"], [\"Earl W. Sutherland, Jr.\"], [\"Gerhard Herzberg\"], [\"Pablo Neruda\"], [\"Simon Kuznets\"], [\"Willy Brandt\"], [\"Christian Anfinsen\"], [\"Gerald M. Edelman\"], [\"Heinrich B\\u00f6ll\"], [\"John R. Hicks\"], [\"Kenneth J. Arrow\"], [\"Leon N. Cooper\"], [\"Robert Schrieffer\"], [\"Rodney R. Porter\"], [\"Stanford Moore\"], [\"William H. Stein\"], [\"Brian D. Josephson\"], [\"Ernst Otto Fischer\"], [\"Geoffrey Wilkinson\"], [\"Henry Kissinger\"], [\"Ivar Giaever\"], [\"Karl von Frisch\"], [\"Konrad Lorenz\"], [\"Le Duc Tho \"], [\"Leo Esaki\"], [\"Nikolaas Tinbergen\"], [\"Patrick White\"], [\"Wassily Leontief\"], [\"Albert Claude\"], [\"Antony Hewish\"], [\"Christian de Duve\"], [\"Eisaku Sato\"], [\"Eyvind Johnson\"], [\"Friedrich von Hayek\"], [\"George E. Palade\"], [\"Gunnar Myrdal\"], [\"Harry Martinson\"], [\"Martin Ryle\"], [\"Paul J. Flory\"], [\"Se\\u00e1n MacBride\"], [\"Aage N. Bohr\"], [\"Andrei Sakharov\"], [\"Ben R. Mottelson\"], [\"David Baltimore\"], [\"Eugenio Montale\"], [\"Howard M. Temin\"], [\"James Rainwater\"], [\"John Cornforth\"], [\"Leonid Vitaliyevich Kantorovich\"], [\"Renato Dulbecco\"], [\"Tjalling C. Koopmans\"], [\"Vladimir Prelog\"], [\"Baruch S. Blumberg\"], [\"Betty Williams\"], [\"Burton Richter\"], [\"D. Carleton Gajdusek\"], [\"Mairead Corrigan\"], [\"Milton Friedman\"], [\"Samuel C.C. Ting\"], [\"Saul Bellow\"], [\"William Lipscomb\"], [\"Andrew V. Schally\"], [\"Bertil Ohlin\"], [\"Ilya Prigogine\"], [\"James E. Meade\"], [\"John H. Van Vleck\"], [\"Philip W. Anderson\"], [\"Roger Guillemin\"], [\"Rosalyn Yalow\"], [\"Sir Nevill F. Mott\"], [\"Vicente Aleixandre\"], [\"Anwar al-Sadat\"], [\"Arno Penzias\"], [\"Daniel Nathans\"], [\"Hamilton O. Smith\"], [\"Herbert Simon\"], [\"Isaac Bashevis Singer\"], [\"Menachem Begin\"], [\"Peter Mitchell\"], [\"Pyotr Kapitsa\"], [\"Robert Woodrow Wilson\"], [\"Werner Arber\"], [\"Abdus Salam\"], [\"Allan M. Cormack\"], [\"Georg Wittig\"], [\"Godfrey N. Hounsfield\"], [\"Herbert C. Brown\"], [\"Mother Teresa \"], [\"Odysseus Elytis\"], [\"Sheldon Glashow\"], [\"Sir Arthur Lewis\"], [\"Steven Weinberg\"], [\"Theodore W. Schultz\"], [\"Adolfo P\\u00e9rez Esquivel\"], [\"Baruj Benacerraf\"], [\"Czeslaw Milosz\"], [\"George D. Snell\"], [\"James Cronin\"], [\"Jean Dausset\"], [\"Lawrence R. Klein\"], [\"Paul Berg\"], [\"Val Fitch\"], [\"Walter Gilbert\"], [\"Arthur L. Schawlow\"], [\"David H. Hubel\"], [\"Elias Canetti\"], [\"James Tobin\"], [\"Kai M. Siegbahn\"], [\"Kenichi Fukui\"], [\"Nicolaas Bloembergen\"], [\"Roald Hoffmann\"], [\"Roger W. Sperry\"], [\"Torsten N. Wiesel\"], [\"Aaron Klug\"], [\"Alfonso Garc\\u00eda Robles\"], [\"Alva Myrdal\"], [\"Bengt I. Samuelsson\"], [\"Gabriel Garc\\u00eda M\\u00e1rquez\"], [\"George J. Stigler\"], [\"John R. Vane\"], [\"Kenneth G. Wilson\"], [\"Sune K. Bergstr\\u00f6m\"], [\"Barbara McClintock\"], [\"Gerard Debreu\"], [\"Henry Taube\"], [\"Lech Walesa\"], [\"Subramanyan Chandrasekhar\"], [\"William A. Fowler\"], [\"William Golding\"], [\"Bruce Merrifield\"], [\"Carlo Rubbia\"], [\"C\\u00e9sar Milstein\"], [\"Desmond Tutu\"], [\"Georges J.F. K\\u00f6hler\"], [\"Jaroslav Seifert\"], [\"Niels K. Jerne\"], [\"Richard Stone\"], [\"Simon van der Meer\"], [\"Claude Simon\"], [\"Franco Modigliani\"], [\"Herbert A. Hauptman\"], [\"Jerome Karle\"], [\"Joseph L. Goldstein\"], [\"Klaus von Klitzing\"], [\"Michael S. Brown\"], [\"Dudley R. Herschbach\"], [\"Elie Wiesel\"], [\"Ernst Ruska\"], [\"Gerd Binnig\"], [\"Heinrich Rohrer\"], [\"James M. Buchanan Jr.\"], [\"John C. Polanyi\"], [\"Rita Levi-Montalcini\"], [\"Stanley Cohen\"], [\"Wole Soyinka\"], [\"Yuan T. Lee\"], [\"Charles J. Pedersen\"], [\"Donald J. Cram\"], [\"J. Georg Bednorz\"], [\"Jean-Marie Lehn\"], [\"Joseph Brodsky\"], [\"K. Alex M\\u00fcller\"], [\"Oscar Arias S\\u00e1nchez\"], [\"Robert M. Solow\"], [\"Susumu Tonegawa\"], [\"George H. Hitchings\"], [\"Gertrude B. Elion\"], [\"Hartmut Michel\"], [\"Jack Steinberger\"], [\"Johann Deisenhofer\"], [\"Leon M. Lederman\"], [\"Maurice Allais\"], [\"Melvin Schwartz\"], [\"Naguib Mahfouz\"], [\"Robert Huber\"], [\"Sir James W. Black\"], [\"Camilo Jos\\u00e9 Cela\"], [\"Hans G. Dehmelt\"], [\"Harold E. Varmus\"], [\"J. Michael Bishop\"], [\"Norman F. Ramsey\"], [\"Sidney Altman\"], [\"The 14th Dalai Lama \"], [\"Thomas R. Cech\"], [\"Trygve Haavelmo\"], [\"Wolfgang Paul\"], [\"E. Donnall Thomas\"], [\"Elias James Corey\"], [\"Harry M. Markowitz\"], [\"Henry W. Kendall\"], [\"Jerome I. Friedman\"], [\"Joseph E. Murray\"], [\"Merton H. Miller\"], [\"Mikhail Gorbachev\"], [\"Octavio Paz\"], [\"Richard E. Taylor\"], [\"William F. Sharpe\"], [\"Aung San Suu Kyi \"], [\"Bert Sakmann\"], [\"Erwin Neher\"], [\"Nadine Gordimer\"], [\"Pierre-Gilles de Gennes\"], [\"Richard R. Ernst\"], [\"Ronald H. Coase\"], [\"Derek Walcott\"], [\"Edmond H. Fischer\"], [\"Edwin G. Krebs\"], [\"Gary Becker\"], [\"Georges Charpak\"], [\"Rigoberta Mench\\u00fa Tum\"], [\"Rudolph A. Marcus\"], [\"Douglass C. North\"], [\"F.W. de Klerk\"], [\"Joseph H. Taylor Jr.\"], [\"Kary B. Mullis\"], [\"Michael Smith\"], [\"Nelson Mandela\"], [\"Phillip A. Sharp\"], [\"Richard J. Roberts\"], [\"Robert W. Fogel\"], [\"Russell A. Hulse\"], [\"Toni Morrison\"], [\"Alfred G. Gilman\"], [\"Bertram N. Brockhouse\"], [\"Clifford G. Shull\"], [\"George A. Olah\"], [\"John C. Harsanyi\"], [\"John F. Nash Jr.\"], [\"Kenzaburo Oe\"], [\"Martin Rodbell\"], [\"Reinhard Selten\"], [\"Shimon Peres\"], [\"Yasser Arafat\"], [\"Yitzhak Rabin\"], [\"Christiane N\\u00fcsslein-Volhard\"], [\"Edward B. Lewis\"], [\"Eric F. Wieschaus\"], [\"F. Sherwood Rowland\"], [\"Frederick Reines\"], [\"Joseph Rotblat\"], [\"Mario J. Molina\"], [\"Martin L. Perl\"], [\"Paul J. Crutzen\"], [\"Robert E. Lucas Jr.\"], [\"Seamus Heaney\"], [\"Carlos Filipe Ximenes Belo\"], [\"David M. Lee\"], [\"Douglas D. Osheroff\"], [\"James A. Mirrlees\"], [\"Jos\\u00e9 Ramos-Horta\"], [\"Peter C. Doherty\"], [\"Richard E. Smalley\"], [\"Robert C. Richardson\"], [\"Robert F. Curl Jr.\"], [\"Rolf M. Zinkernagel\"], [\"Sir Harold Kroto\"], [\"William Vickrey\"], [\"Wislawa Szymborska\"], [\"Claude Cohen-Tannoudji\"], [\"Dario Fo\"], [\"Jens C. Skou\"], [\"Jody Williams\"], [\"John E. Walker\"], [\"Myron Scholes\"], [\"Paul D. Boyer\"], [\"Robert C. Merton\"], [\"Stanley B. Prusiner\"], [\"Steven Chu\"], [\"William D. Phillips\"], [\"Amartya Sen\"], [\"Daniel C. Tsui\"], [\"David Trimble\"], [\"Ferid Murad\"], [\"Horst L. St\\u00f6rmer\"], [\"John Hume\"], [\"John Pople\"], [\"Jos\\u00e9 Saramago\"], [\"Louis J. Ignarro\"], [\"Robert B. Laughlin\"], [\"Robert F. Furchgott\"], [\"Walter Kohn\"], [\"Ahmed Zewail\"], [\"Gerardus 't Hooft\"], [\"G\\u00fcnter Blobel\"], [\"G\\u00fcnter Grass\"], [\"Martinus J.G. Veltman\"], [\"Robert Mundell\"], [\"Alan Heeger\"], [\"Alan MacDiarmid\"], [\"Arvid Carlsson\"], [\"Daniel L. McFadden\"], [\"Eric Kandel\"], [\"Gao Xingjian\"], [\"Herbert Kroemer\"], [\"Hideki Shirakawa\"], [\"Jack Kilby\"], [\"James J. Heckman\"], [\"Kim Dae-jung\"], [\"Paul Greengard\"], [\"Zhores Alferov\"], [\"A. Michael Spence\"], [\"Barry Sharpless\"], [\"Carl Wieman\"], [\"Eric Cornell\"], [\"George A. Akerlof\"], [\"Joseph E. Stiglitz\"], [\"Kofi Annan\"], [\"Leland Hartwell\"], [\"Ryoji Noyori\"], [\"Sir Paul Nurse\"], [\"Tim Hunt\"], [\"V. S. Naipaul\"], [\"William Knowles\"], [\"Wolfgang Ketterle\"], [\"Daniel Kahneman\"], [\"H. Robert Horvitz\"], [\"Imre Kert\\u00e9sz\"], [\"Jimmy Carter\"], [\"John B. Fenn\"], [\"John E. Sulston\"], [\"Koichi Tanaka\"], [\"Kurt W\\u00fcthrich\"], [\"Masatoshi Koshiba\"], [\"Raymond Davis Jr.\"], [\"Riccardo Giacconi\"], [\"Sydney Brenner\"], [\"Vernon L. Smith\"], [\"Alexei Abrikosov\"], [\"Anthony J. Leggett\"], [\"Clive W.J. Granger\"], [\"J. M. Coetzee\"], [\"Paul C. Lauterbur\"], [\"Peter Agre\"], [\"Robert F. Engle III\"], [\"Roderick MacKinnon\"], [\"Shirin Ebadi\"], [\"Sir Peter Mansfield\"], [\"Vitaly L. Ginzburg\"], [\"Aaron Ciechanover\"], [\"Avram Hershko\"], [\"David J. Gross\"], [\"Edward C. Prescott\"], [\"Elfriede Jelinek\"], [\"Finn E. Kydland\"], [\"Frank Wilczek\"], [\"H. David Politzer\"], [\"Irwin Rose\"], [\"Linda B. Buck\"], [\"Richard Axel\"], [\"Wangari Maathai\"], [\"Barry J. Marshall\"], [\"Harold Pinter\"], [\"J. Robin Warren\"], [\"John L. Hall\"], [\"Mohamed ElBaradei\"], [\"Richard R. Schrock\"], [\"Robert H. Grubbs\"], [\"Robert J. Aumann\"], [\"Roy J. Glauber\"], [\"Theodor W. H\\u00e4nsch\"], [\"Thomas C. Schelling\"], [\"Yves Chauvin\"], [\"Andrew Z. Fire\"], [\"Craig C. Mello\"], [\"Edmund S. Phelps\"], [\"George F. Smoot\"], [\"John C. Mather\"], [\"Muhammad Yunus\"], [\"Orhan Pamuk\"], [\"Roger D. Kornberg\"], [\"Al Gore\"], [\"Albert Fert\"], [\"Doris Lessing\"], [\"Eric S. Maskin\"], [\"Gerhard Ertl\"], [\"Leonid Hurwicz\"], [\"Mario R. Capecchi\"], [\"Oliver Smithies\"], [\"Peter Gr\\u00fcnberg\"], [\"Roger B. Myerson\"], [\"Sir Martin J. Evans\"], [\"Fran\\u00e7oise Barr\\u00e9-Sinoussi\"], [\"Harald zur Hausen\"], [\"Jean-Marie Gustave Le Cl\\u00e9zio\"], [\"Luc Montagnier\"], [\"Makoto Kobayashi\"], [\"Martin Chalfie\"], [\"Martti Ahtisaari\"], [\"Osamu Shimomura\"], [\"Paul Krugman\"], [\"Roger Y. Tsien\"], [\"Toshihide Maskawa\"], [\"Yoichiro Nambu\"], [\"Ada E. Yonath\"], [\"Barack H. Obama\"], [\"Carol W. Greider\"], [\"Charles K. Kao\"], [\"Elinor Ostrom\"], [\"Elizabeth H. Blackburn\"], [\"George E. Smith\"], [\"Herta M\\u00fcller\"], [\"Jack W. Szostak\"], [\"Oliver E. Williamson\"], [\"Thomas A. Steitz\"], [\"Venkatraman Ramakrishnan\"], [\"Willard S. Boyle\"], [\"Akira Suzuki\"], [\"Andre Geim\"], [\"Christopher A. Pissarides\"], [\"Dale T. Mortensen\"], [\"Ei-ichi Negishi\"], [\"Konstantin Novoselov\"], [\"Liu Xiaobo\"], [\"Mario Vargas Llosa\"], [\"Peter A. Diamond\"], [\"Richard F. Heck\"], [\"Robert G. Edwards\"], [\"Adam G. Riess\"], [\"Brian P. Schmidt\"], [\"Bruce A. Beutler\"], [\"Christopher A. Sims\"], [\"Dan Shechtman\"], [\"Ellen Johnson Sirleaf\"], [\"Jules A. Hoffmann\"], [\"Leymah Gbowee\"], [\"Ralph M. Steinman\"], [\"Saul Perlmutter\"], [\"Tawakkol Karman\"], [\"Thomas J. Sargent\"], [\"Tomas Transtr\\u00f6mer\"], [\"Alvin E. Roth\"], [\"Brian Kobilka\"], [\"David J. Wineland\"], [\"Lloyd S. Shapley\"], [\"Mo Yan\"], [\"Robert J. Lefkowitz\"], [\"Serge Haroche\"], [\"Shinya Yamanaka\"], [\"Sir John B. Gurdon\"], [\"Alice Munro\"], [\"Arieh Warshel\"], [\"Eugene F. Fama\"], [\"Fran\\u00e7ois Englert\"], [\"James E. Rothman\"], [\"Lars Peter Hansen\"], [\"Martin Karplus\"], [\"Michael Levitt\"], [\"Peter Higgs\"], [\"Randy W. Schekman\"], [\"Robert J. Shiller\"], [\"Thomas C. S\\u00fcdhof\"], [\"Edvard I. Moser\"], [\"Eric Betzig\"], [\"Hiroshi Amano\"], [\"Isamu Akasaki\"], [\"Jean Tirole\"], [\"John O'Keefe\"], [\"Kailash Satyarthi\"], [\"Malala Yousafzai\"], [\"May-Britt Moser\"], [\"Patrick Modiano\"], [\"Shuji Nakamura\"], [\"Stefan W. Hell\"], [\"William E. Moerner\"], [\"Angus Deaton\"], [\"Arthur B. McDonald\"], [\"Aziz Sancar\"], [\"Paul Modrich\"], [\"Satoshi &#332;mura\"], [\"Svetlana Alexievich\"], [\"Takaaki Kajita\"], [\"Tomas Lindahl\"], [\"Tu Youyou\"], [\"William C. Campbell\"], [\"Bengt Holmstr\\u00f6m\"], [\"Bernard L. Feringa\"], [\"Bob Dylan\"], [\"David J. Thouless\"], [\"F. Duncan M. Haldane\"], [\"J. Michael Kosterlitz\"], [\"Jean-Pierre Sauvage\"], [\"Juan Manuel Santos\"], [\"Oliver Hart\"], [\"Sir J. Fraser Stoddart\"], [\"Yoshinori Ohsumi\"], [\"Barry C. Barish\"], [\"Jacques Dubochet\"], [\"Jeffrey C. Hall\"], [\"Joachim Frank\"], [\"Kazuo Ishiguro\"], [\"Kip S. Thorne\"], [\"Michael Rosbash\"], [\"Michael W. Young\"], [\"Rainer Weiss\"], [\"Richard H. Thaler\"], [\"Richard Henderson\"], [\"Arthur Ashkin\"], [\"Denis Mukwege\"], [\"Donna Strickland\"], [\"Frances H. Arnold\"], [\"George P. Smith\"], [\"G\\u00e9rard Mourou\"], [\"James P. Allison\"], [\"Nadia Murad\"], [\"Olga Tokarczuk\"], [\"Paul M. Romer\"], [\"Sir Gregory P. Winter\"], [\"Tasuku Honjo\"], [\"William D. Nordhaus\"], [\"Abhijit Banerjee\"], [\"Abiy Ahmed Ali\"], [\"Akira Yoshino\"], [\"Didier Queloz\"], [\"Esther Duflo\"], [\"Gregg L. Semenza\"], [\"James Peebles\"], [\"John B. Goodenough\"], [\"M. Stanley Whittingham\"], [\"Michael Kremer\"], [\"Michel Mayor\"], [\"Peter Handke\"], [\"Sir Peter J. Ratcliffe\"], [\"William G. Kaelin Jr\"], [\"Andrea Ghez\"], [\"Charles M. Rice\"], [\"Emmanuelle Charpentier\"], [\"Harvey J. Alter\"], [\"Jennifer A. Doudna\"], [\"Louise Gl\\u00fcck\"], [\"Michael Houghton\"], [\"Paul R. Milgrom\"], [\"Reinhard Genzel\"], [\"Robert B. Wilson\"], [\"Roger Penrose\"]], \"hovertemplate\": \"Category=%{x}<br>Actual Prize Amount=%{y}<br>name=%{customdata[0]}<extra></extra>\", \"legendgroup\": \"\", \"marker\": {\"color\": \"#636efa\"}, \"name\": \"\", \"notched\": false, \"offsetgroup\": \"\", \"orientation\": \"v\", \"showlegend\": false, \"type\": \"box\", \"x\": [\"Physiology or Medicine\", \"Peace\", \"Peace\", \"Chemistry\", \"Literature\", \"Physics\", \"Peace\", \"Peace\", \"Chemistry\", \"Physics\", \"Physics\", \"Physiology or Medicine\", \"Literature\", \"Literature\", \"Physics\", \"Physics\", \"Physiology or Medicine\", \"Physics\", \"Peace\", \"Chemistry\", \"Literature\", \"Physiology or Medicine\", \"Literature\", \"Physics\", \"Chemistry\", \"Chemistry\", \"Peace\", \"Literature\", \"Physics\", \"Physiology or Medicine\", \"Physiology or Medicine\", \"Literature\", \"Chemistry\", \"Physics\", \"Physiology or Medicine\", \"Peace\", \"Physics\", \"Physiology or Medicine\", \"Chemistry\", \"Peace\", \"Peace\", \"Literature\", \"Chemistry\", \"Peace\", \"Physics\", \"Physiology or Medicine\", \"Peace\", \"Physiology or Medicine\", \"Literature\", \"Peace\", \"Physics\", \"Physics\", \"Peace\", \"Literature\", \"Physiology or Medicine\", \"Chemistry\", \"Physiology or Medicine\", \"Physics\", \"Chemistry\", \"Literature\", \"Peace\", \"Physiology or Medicine\", \"Literature\", \"Peace\", \"Physics\", \"Physiology or Medicine\", \"Peace\", \"Literature\", \"Physics\", \"Chemistry\", \"Chemistry\", \"Chemistry\", \"Physiology or Medicine\", \"Physics\", \"Peace\", \"Literature\", \"Physics\", \"Physiology or Medicine\", \"Chemistry\", \"Physics\", \"Chemistry\", \"Literature\", \"Physics\", \"Literature\", \"Physics\", \"Literature\", \"Literature\", \"Chemistry\", \"Physics\", \"Literature\", \"Physics\", \"Physiology or Medicine\", \"Peace\", \"Physiology or Medicine\", \"Physics\", \"Literature\", \"Peace\", \"Chemistry\", \"Physics\", \"Literature\", \"Peace\", \"Chemistry\", \"Peace\", \"Physiology or Medicine\", \"Chemistry\", \"Peace\", \"Literature\", \"Physics\", \"Physiology or Medicine\", \"Physiology or Medicine\", \"Chemistry\", \"Physiology or Medicine\", \"Physics\", \"Literature\", \"Physics\", \"Physiology or Medicine\", \"Literature\", \"Peace\", \"Literature\", \"Physics\", \"Physics\", \"Chemistry\", \"Peace\", \"Peace\", \"Literature\", \"Peace\", \"Physics\", \"Physiology or Medicine\", \"Chemistry\", \"Physics\", \"Physics\", \"Peace\", \"Chemistry\", \"Literature\", \"Physiology or Medicine\", \"Peace\", \"Chemistry\", \"Physiology or Medicine\", \"Physics\", \"Literature\", \"Chemistry\", \"Physiology or Medicine\", \"Peace\", \"Chemistry\", \"Physics\", \"Physiology or Medicine\", \"Literature\", \"Chemistry\", \"Physiology or Medicine\", \"Peace\", \"Literature\", \"Physics\", \"Chemistry\", \"Literature\", \"Chemistry\", \"Peace\", \"Peace\", \"Physiology or Medicine\", \"Physiology or Medicine\", \"Chemistry\", \"Literature\", \"Physiology or Medicine\", \"Physics\", \"Physics\", \"Literature\", \"Physics\", \"Peace\", \"Physiology or Medicine\", \"Peace\", \"Physiology or Medicine\", \"Physiology or Medicine\", \"Chemistry\", \"Literature\", \"Physiology or Medicine\", \"Peace\", \"Chemistry\", \"Physiology or Medicine\", \"Chemistry\", \"Physics\", \"Physics\", \"Peace\", \"Literature\", \"Physiology or Medicine\", \"Chemistry\", \"Physiology or Medicine\", \"Physics\", \"Physiology or Medicine\", \"Physics\", \"Physics\", \"Chemistry\", \"Chemistry\", \"Peace\", \"Literature\", \"Physiology or Medicine\", \"Physics\", \"Literature\", \"Chemistry\", \"Chemistry\", \"Physics\", \"Literature\", \"Physiology or Medicine\", \"Chemistry\", \"Physiology or Medicine\", \"Chemistry\", \"Physiology or Medicine\", \"Physics\", \"Physiology or Medicine\", \"Physics\", \"Literature\", \"Physiology or Medicine\", \"Chemistry\", \"Chemistry\", \"Peace\", \"Physiology or Medicine\", \"Literature\", \"Physiology or Medicine\", \"Physiology or Medicine\", \"Physics\", \"Peace\", \"Literature\", \"Physiology or Medicine\", \"Chemistry\", \"Chemistry\", \"Peace\", \"Physics\", \"Chemistry\", \"Literature\", \"Physiology or Medicine\", \"Physiology or Medicine\", \"Physics\", \"Physiology or Medicine\", \"Chemistry\", \"Chemistry\", \"Physics\", \"Physiology or Medicine\", \"Literature\", \"Physiology or Medicine\", \"Physics\", \"Peace\", \"Physiology or Medicine\", \"Chemistry\", \"Literature\", \"Literature\", \"Physics\", \"Physiology or Medicine\", \"Chemistry\", \"Chemistry\", \"Physiology or Medicine\", \"Peace\", \"Physiology or Medicine\", \"Chemistry\", \"Physics\", \"Chemistry\", \"Physics\", \"Peace\", \"Physiology or Medicine\", \"Literature\", \"Peace\", \"Chemistry\", \"Physics\", \"Physics\", \"Literature\", \"Chemistry\", \"Physiology or Medicine\", \"Physics\", \"Physiology or Medicine\", \"Peace\", \"Physiology or Medicine\", \"Chemistry\", \"Literature\", \"Literature\", \"Physiology or Medicine\", \"Physiology or Medicine\", \"Peace\", \"Physics\", \"Physiology or Medicine\", \"Physics\", \"Literature\", \"Physiology or Medicine\", \"Physics\", \"Chemistry\", \"Physics\", \"Physiology or Medicine\", \"Physiology or Medicine\", \"Physics\", \"Literature\", \"Chemistry\", \"Chemistry\", \"Physics\", \"Physiology or Medicine\", \"Physics\", \"Literature\", \"Physics\", \"Physiology or Medicine\", \"Peace\", \"Chemistry\", \"Physics\", \"Literature\", \"Physiology or Medicine\", \"Chemistry\", \"Physiology or Medicine\", \"Peace\", \"Physics\", \"Physics\", \"Physiology or Medicine\", \"Physics\", \"Physiology or Medicine\", \"Physics\", \"Chemistry\", \"Physics\", \"Peace\", \"Literature\", \"Physiology or Medicine\", \"Peace\", \"Physics\", \"Physiology or Medicine\", \"Literature\", \"Physiology or Medicine\", \"Chemistry\", \"Peace\", \"Physiology or Medicine\", \"Literature\", \"Chemistry\", \"Physics\", \"Physics\", \"Physiology or Medicine\", \"Physiology or Medicine\", \"Chemistry\", \"Literature\", \"Physics\", \"Physiology or Medicine\", \"Chemistry\", \"Physiology or Medicine\", \"Physiology or Medicine\", \"Physics\", \"Literature\", \"Chemistry\", \"Physics\", \"Chemistry\", \"Physics\", \"Physiology or Medicine\", \"Physics\", \"Physics\", \"Chemistry\", \"Physiology or Medicine\", \"Literature\", \"Physiology or Medicine\", \"Peace\", \"Physics\", \"Physiology or Medicine\", \"Physiology or Medicine\", \"Physiology or Medicine\", \"Physics\", \"Literature\", \"Physics\", \"Chemistry\", \"Physics\", \"Physics\", \"Physiology or Medicine\", \"Literature\", \"Physiology or Medicine\", \"Chemistry\", \"Literature\", \"Chemistry\", \"Physiology or Medicine\", \"Physics\", \"Physiology or Medicine\", \"Chemistry\", \"Literature\", \"Physiology or Medicine\", \"Chemistry\", \"Physiology or Medicine\", \"Chemistry\", \"Physics\", \"Physiology or Medicine\", \"Peace\", \"Physiology or Medicine\", \"Literature\", \"Physiology or Medicine\", \"Chemistry\", \"Economic Sciences\", \"Physiology or Medicine\", \"Physics\", \"Chemistry\", \"Economic Sciences\", \"Physiology or Medicine\", \"Literature\", \"Literature\", \"Physics\", \"Physiology or Medicine\", \"Physics\", \"Chemistry\", \"Peace\", \"Economic Sciences\", \"Physiology or Medicine\", \"Physiology or Medicine\", \"Physics\", \"Physiology or Medicine\", \"Chemistry\", \"Literature\", \"Economic Sciences\", \"Peace\", \"Chemistry\", \"Physiology or Medicine\", \"Literature\", \"Economic Sciences\", \"Economic Sciences\", \"Physics\", \"Physics\", \"Physiology or Medicine\", \"Chemistry\", \"Chemistry\", \"Physics\", \"Chemistry\", \"Chemistry\", \"Peace\", \"Physics\", \"Physiology or Medicine\", \"Physiology or Medicine\", \"Peace\", \"Physics\", \"Physiology or Medicine\", \"Literature\", \"Economic Sciences\", \"Physiology or Medicine\", \"Physics\", \"Physiology or Medicine\", \"Peace\", \"Literature\", \"Economic Sciences\", \"Physiology or Medicine\", \"Economic Sciences\", \"Literature\", \"Physics\", \"Chemistry\", \"Peace\", \"Physics\", \"Peace\", \"Physics\", \"Physiology or Medicine\", \"Literature\", \"Physiology or Medicine\", \"Physics\", \"Chemistry\", \"Economic Sciences\", \"Physiology or Medicine\", \"Economic Sciences\", \"Chemistry\", \"Physiology or Medicine\", \"Peace\", \"Physics\", \"Physiology or Medicine\", \"Peace\", \"Economic Sciences\", \"Physics\", \"Literature\", \"Chemistry\", \"Physiology or Medicine\", \"Economic Sciences\", \"Chemistry\", \"Economic Sciences\", \"Physics\", \"Physics\", \"Physiology or Medicine\", \"Physiology or Medicine\", \"Physics\", \"Literature\", \"Peace\", \"Physics\", \"Physiology or Medicine\", \"Physiology or Medicine\", \"Economic Sciences\", \"Literature\", \"Peace\", \"Chemistry\", \"Physics\", \"Physics\", \"Physiology or Medicine\", \"Physics\", \"Physiology or Medicine\", \"Chemistry\", \"Physiology or Medicine\", \"Chemistry\", \"Peace\", \"Literature\", \"Physics\", \"Economic Sciences\", \"Physics\", \"Economic Sciences\", \"Peace\", \"Physiology or Medicine\", \"Literature\", \"Physiology or Medicine\", \"Physics\", \"Physiology or Medicine\", \"Economic Sciences\", \"Chemistry\", \"Physics\", \"Chemistry\", \"Physics\", \"Physiology or Medicine\", \"Literature\", \"Economic Sciences\", \"Physics\", \"Chemistry\", \"Physics\", \"Chemistry\", \"Physiology or Medicine\", \"Physiology or Medicine\", \"Chemistry\", \"Peace\", \"Peace\", \"Physiology or Medicine\", \"Literature\", \"Economic Sciences\", \"Physiology or Medicine\", \"Physics\", \"Physiology or Medicine\", \"Physiology or Medicine\", \"Economic Sciences\", \"Chemistry\", \"Peace\", \"Physics\", \"Physics\", \"Literature\", \"Chemistry\", \"Physics\", \"Physiology or Medicine\", \"Peace\", \"Physiology or Medicine\", \"Literature\", \"Physiology or Medicine\", \"Economic Sciences\", \"Physics\", \"Literature\", \"Economic Sciences\", \"Chemistry\", \"Chemistry\", \"Physiology or Medicine\", \"Physics\", \"Physiology or Medicine\", \"Chemistry\", \"Peace\", \"Physics\", \"Physics\", \"Physics\", \"Economic Sciences\", \"Chemistry\", \"Physiology or Medicine\", \"Physiology or Medicine\", \"Literature\", \"Chemistry\", \"Chemistry\", \"Chemistry\", \"Physics\", \"Chemistry\", \"Literature\", \"Physics\", \"Peace\", \"Economic Sciences\", \"Physiology or Medicine\", \"Physiology or Medicine\", \"Physiology or Medicine\", \"Chemistry\", \"Physics\", \"Chemistry\", \"Physics\", \"Economic Sciences\", \"Physics\", \"Literature\", \"Chemistry\", \"Physiology or Medicine\", \"Literature\", \"Physics\", \"Physiology or Medicine\", \"Physiology or Medicine\", \"Physics\", \"Chemistry\", \"Peace\", \"Chemistry\", \"Economic Sciences\", \"Physics\", \"Physiology or Medicine\", \"Chemistry\", \"Economic Sciences\", \"Physics\", \"Physics\", \"Physiology or Medicine\", \"Economic Sciences\", \"Peace\", \"Literature\", \"Physics\", \"Economic Sciences\", \"Peace\", \"Physiology or Medicine\", \"Physiology or Medicine\", \"Literature\", \"Physics\", \"Chemistry\", \"Economic Sciences\", \"Literature\", \"Physiology or Medicine\", \"Physiology or Medicine\", \"Economic Sciences\", \"Physics\", \"Peace\", \"Chemistry\", \"Economic Sciences\", \"Peace\", \"Physics\", \"Chemistry\", \"Chemistry\", \"Peace\", \"Physiology or Medicine\", \"Physiology or Medicine\", \"Economic Sciences\", \"Physics\", \"Literature\", \"Physiology or Medicine\", \"Physics\", \"Physics\", \"Chemistry\", \"Economic Sciences\", \"Economic Sciences\", \"Literature\", \"Physiology or Medicine\", \"Economic Sciences\", \"Peace\", \"Peace\", \"Peace\", \"Physiology or Medicine\", \"Physiology or Medicine\", \"Physiology or Medicine\", \"Chemistry\", \"Physics\", \"Peace\", \"Chemistry\", \"Physics\", \"Chemistry\", \"Economic Sciences\", \"Literature\", \"Peace\", \"Physics\", \"Physics\", \"Economic Sciences\", \"Peace\", \"Physiology or Medicine\", \"Chemistry\", \"Physics\", \"Chemistry\", \"Physiology or Medicine\", \"Chemistry\", \"Economic Sciences\", \"Literature\", \"Physics\", \"Literature\", \"Chemistry\", \"Peace\", \"Chemistry\", \"Economic Sciences\", \"Chemistry\", \"Economic Sciences\", \"Physiology or Medicine\", \"Physics\", \"Physics\", \"Economic Sciences\", \"Physics\", \"Peace\", \"Physiology or Medicine\", \"Physics\", \"Peace\", \"Chemistry\", \"Literature\", \"Physiology or Medicine\", \"Physics\", \"Physiology or Medicine\", \"Chemistry\", \"Chemistry\", \"Physics\", \"Physiology or Medicine\", \"Literature\", \"Physics\", \"Economic Sciences\", \"Chemistry\", \"Chemistry\", \"Physiology or Medicine\", \"Economic Sciences\", \"Physiology or Medicine\", \"Literature\", \"Physics\", \"Chemistry\", \"Physics\", \"Economic Sciences\", \"Peace\", \"Physiology or Medicine\", \"Physics\", \"Economic Sciences\", \"Chemistry\", \"Physics\", \"Physics\", \"Economic Sciences\", \"Economic Sciences\", \"Peace\", \"Physiology or Medicine\", \"Chemistry\", \"Physiology or Medicine\", \"Physiology or Medicine\", \"Literature\", \"Chemistry\", \"Physics\", \"Economic Sciences\", \"Physiology or Medicine\", \"Literature\", \"Peace\", \"Chemistry\", \"Physiology or Medicine\", \"Chemistry\", \"Chemistry\", \"Physics\", \"Physics\", \"Physics\", \"Physiology or Medicine\", \"Economic Sciences\", \"Physics\", \"Physics\", \"Economic Sciences\", \"Literature\", \"Physiology or Medicine\", \"Chemistry\", \"Economic Sciences\", \"Chemistry\", \"Peace\", \"Physiology or Medicine\", \"Physics\", \"Chemistry\", \"Chemistry\", \"Physics\", \"Economic Sciences\", \"Literature\", \"Economic Sciences\", \"Physics\", \"Physics\", \"Chemistry\", \"Physiology or Medicine\", \"Physiology or Medicine\", \"Peace\", \"Physiology or Medicine\", \"Literature\", \"Physiology or Medicine\", \"Physics\", \"Peace\", \"Chemistry\", \"Chemistry\", \"Economic Sciences\", \"Physics\", \"Physics\", \"Economic Sciences\", \"Chemistry\", \"Physiology or Medicine\", \"Physiology or Medicine\", \"Economic Sciences\", \"Physics\", \"Physics\", \"Peace\", \"Literature\", \"Chemistry\", \"Peace\", \"Physics\", \"Literature\", \"Economic Sciences\", \"Chemistry\", \"Economic Sciences\", \"Physiology or Medicine\", \"Physiology or Medicine\", \"Physics\", \"Economic Sciences\", \"Physiology or Medicine\", \"Physiology or Medicine\", \"Physiology or Medicine\", \"Literature\", \"Physiology or Medicine\", \"Physics\", \"Chemistry\", \"Peace\", \"Chemistry\", \"Economic Sciences\", \"Chemistry\", \"Physics\", \"Physics\", \"Chemistry\", \"Peace\", \"Physiology or Medicine\", \"Physics\", \"Economic Sciences\", \"Physiology or Medicine\", \"Physics\", \"Literature\", \"Physiology or Medicine\", \"Economic Sciences\", \"Chemistry\", \"Chemistry\", \"Physics\", \"Chemistry\", \"Physics\", \"Economic Sciences\", \"Economic Sciences\", \"Chemistry\", \"Physics\", \"Peace\", \"Literature\", \"Economic Sciences\", \"Chemistry\", \"Physiology or Medicine\", \"Physics\", \"Physics\", \"Physiology or Medicine\", \"Economic Sciences\", \"Chemistry\", \"Peace\", \"Physiology or Medicine\", \"Peace\", \"Physiology or Medicine\", \"Physics\", \"Peace\", \"Economic Sciences\", \"Literature\", \"Economic Sciences\", \"Chemistry\", \"Physics\", \"Economic Sciences\", \"Literature\", \"Chemistry\", \"Physics\", \"Physiology or Medicine\", \"Physiology or Medicine\", \"Literature\", \"Chemistry\", \"Economic Sciences\", \"Physics\", \"Physiology or Medicine\", \"Economic Sciences\", \"Chemistry\", \"Chemistry\", \"Physics\", \"Physiology or Medicine\", \"Economic Sciences\", \"Physiology or Medicine\", \"Physiology or Medicine\", \"Chemistry\", \"Physics\", \"Physics\", \"Economic Sciences\", \"Physiology or Medicine\", \"Peace\", \"Peace\", \"Physiology or Medicine\", \"Literature\", \"Physics\", \"Chemistry\", \"Chemistry\", \"Economic Sciences\", \"Physics\", \"Chemistry\", \"Chemistry\", \"Physiology or Medicine\", \"Literature\", \"Physics\", \"Chemistry\", \"Physiology or Medicine\", \"Physiology or Medicine\", \"Economic Sciences\", \"Chemistry\", \"Literature\", \"Physics\", \"Physics\", \"Physics\", \"Chemistry\", \"Peace\", \"Economic Sciences\", \"Chemistry\", \"Physiology or Medicine\", \"Physics\", \"Chemistry\", \"Physiology or Medicine\", \"Chemistry\", \"Literature\", \"Physics\", \"Physiology or Medicine\", \"Physiology or Medicine\", \"Physics\", \"Economic Sciences\", \"Chemistry\", \"Physics\", \"Peace\", \"Physics\", \"Chemistry\", \"Chemistry\", \"Physics\", \"Physiology or Medicine\", \"Peace\", \"Literature\", \"Economic Sciences\", \"Chemistry\", \"Physiology or Medicine\", \"Economic Sciences\", \"Economic Sciences\", \"Peace\", \"Chemistry\", \"Physics\", \"Economic Sciences\", \"Physiology or Medicine\", \"Physics\", \"Chemistry\", \"Chemistry\", \"Economic Sciences\", \"Physics\", \"Literature\", \"Physiology or Medicine\", \"Physiology or Medicine\", \"Physics\", \"Physiology or Medicine\", \"Chemistry\", \"Physiology or Medicine\", \"Chemistry\", \"Literature\", \"Physiology or Medicine\", \"Economic Sciences\", \"Physics\", \"Economic Sciences\", \"Physics\"], \"x0\": \" \", \"xaxis\": \"x\", \"y\": [8722510.0, 4361255.0, 4361255.0, 8722510.0, 8722510.0, 8722510.0, 4102817.0, 4102817.0, 8205634.0, 4102817.0, 4102817.0, 8205634.0, 8205634.0, 7936836.0, 3968418.0, 1984209.0, 7936836.0, 1984209.0, 7936836.0, 7936836.0, 3954409.5, 7908819.0, 3954409.5, 7908819.0, 7908819.0, 7753291.0, 7753291.0, 7753291.0, 7753291.0, 7753291.0, 3778074.5, 7556149.0, 7556149.0, 7556149.0, 3778074.5, 7556149.0, 7161123.0, 7161123.0, 7161123.0, 3580561.5, 3580561.5, 7161123.0, 7212924.0, 3606462.0, 7212924.0, 3606462.0, 3606462.0, 3606462.0, 7212924.0, 3606462.0, 3606462.0, 3606462.0, 3606462.0, 7212924.0, 7212924.0, 7212924.0, 7259514.0, 7259514.0, 7259514.0, 7259514.0, 3730371.5, 7460743.0, 7460743.0, 3730371.5, 7460743.0, 6876120.0, 6876120.0, 6876120.0, 6876120.0, 3438060.0, 3438060.0, 7000156.0, 7000156.0, 7000156.0, 7000156.0, 7000156.0, 7190567.0, 7190567.0, 7190567.0, 3165185.5, 6330371.0, 6330371.0, 3165185.5, 4933193.0, 3991689.0, 1995844.5, 1995844.5, 2899121.0, 2899121.0, 2420376.0, 2420376.0, 2420376.0, 2420376.0, 2438066.0, 2438066.0, 2438066.0, 2438066.0, 2438066.0, 2578698.0, 2578698.0, 1289349.0, 2578698.0, 1289349.0, 1601507.0, 3203014.0, 3203014.0, 3203014.0, 3203014.0, 1601507.0, 1613315.5, 3226631.0, 1613315.5, 3226631.0, 3226631.0, 3276714.0, 3276714.0, 3276714.0, 1634616.0, 3269232.0, 1634616.0, 1634616.0, 3269232.0, 1634616.0, 1666243.5, 3332487.0, 1666243.5, 3332487.0, 3332487.0, 3332487.0, 1829473.0, 1829473.0, 1829473.0, 3658946.0, 3658946.0, 3658946.0, 1829473.0, 4539342.0, 4539342.0, 4539342.0, 4539342.0, 2498476.0, 2498476.0, 4996952.0, 2498476.0, 4996952.0, 2498476.0, 4996952.0, 5158685.0, 5158685.0, 5158685.0, 5158685.0, 5158685.0, 2666534.5, 5333069.0, 2666534.5, 2666534.5, 2666534.5, 5333069.0, 2687512.0, 5375024.0, 5375024.0, 2687512.0, 5375024.0, 2755625.5, 5511251.0, 2755625.5, 5511251.0, 5511251.0, 5261333.0, 1753777.666666667, 1753777.666666667, 5261333.0, 5261333.0, 1753777.666666667, 5088026.0, 2544013.0, 5088026.0, 2544013.0, 5088026.0, 2501259.5, 5002519.0, 5002519.0, 2501259.5, 5002519.0, 2501259.5, 2501259.5, 4801680.0, 2400840.0, 2400840.0, 2400840.0, 2400840.0, 4801680.0, 4801680.0, 4625656.0, 4625656.0, 4625656.0, 4625656.0, 2152282.0, 4304564.0, 4304564.0, 4304564.0, 2152282.0, 1283294.0, 2566588.0, 1283294.0, 2566588.0, 1277991.5, 2555983.0, 2555983.0, 1277991.5, 2555983.0, 2545326.0, 2545326.0, 848442.0, 2545326.0, 848442.0, 848442.0, 2545326.0, 1274666.5, 2549333.0, 2549333.0, 1274666.5, 637333.25, 1274666.5, 2549333.0, 637333.25, 2967378.0, 1483689.0, 741844.5, 2967378.0, 741844.5, 2967378.0, 3112313.0, 3112313.0, 3112313.0, 3112313.0, 1491788.0, 2983576.0, 2983576.0, 1491788.0, 2983576.0, 2983576.0, 3105508.0, 3105508.0, 1035169.3333333335, 1552754.0, 1552754.0, 1035169.3333333335, 3105508.0, 1035169.3333333335, 1367399.0, 1367399.0, 1367399.0, 1367399.0, 2734798.0, 2734798.0, 2734798.0, 2592831.0, 1296415.5, 1296415.5, 1296415.5, 2592831.0, 1296415.5, 2592831.0, 2614331.0, 1307165.5, 2614331.0, 1307165.5, 2614331.0, 2614331.0, 2688094.0, 896031.3333333335, 896031.3333333335, 2888429.0, 1344047.0, 896031.3333333335, 1344047.0, 2730214.0, 2730214.0, 1365107.0, 2730214.0, 1365107.0, 916150.6666666665, 916150.6666666665, 916150.6666666665, 2748452.0, 1374226.0, 1374226.0, 916150.6666666665, 916150.6666666665, 916150.6666666665, 2746709.0, 1373354.5, 2746709.0, 2746709.0, 2746709.0, 1373354.5, 2694692.0, 673673.0, 2694692.0, 673673.0, 2694692.0, 898230.6666666665, 898230.6666666665, 1347346.0, 898230.6666666665, 1376713.5, 1376713.5, 2753427.0, 1376713.5, 2753427.0, 2753427.0, 1376713.5, 2713265.0, 2713265.0, 1356632.5, 2713265.0, 1356632.5, 2713265.0, 2930643.0, 2930643.0, 2930643.0, 2930643.0, 1465321.5, 1465321.5, 962809.6666666665, 962809.6666666665, 1444214.5, 2888429.0, 2888429.0, 962809.6666666665, 1444214.5, 963590.3333333335, 963590.3333333335, 1445385.5, 2890771.0, 1445385.5, 722692.75, 1445385.5, 722692.75, 963590.3333333335, 719830.0, 1439660.0, 2879320.0, 1439660.0, 2879320.0, 1439660.0, 2879320.0, 719830.0, 944452.6666666665, 944452.6666666665, 944452.6666666665, 944452.6666666665, 2833358.0, 944452.6666666665, 2833358.0, 944452.6666666665, 2835149.0, 1417574.5, 1417574.5, 1417574.5, 2835149.0, 1417574.5, 723791.5, 965055.3333333335, 2895166.0, 965055.3333333335, 1447583.0, 2895166.0, 965055.3333333335, 723791.5, 1035891.3333333335, 3107674.0, 3107674.0, 1035891.3333333335, 3107674.0, 1035891.3333333335, 3107674.0, 1079751.0, 1619626.5, 1619626.5, 1079751.0, 3239253.0, 1619626.5, 1619626.5, 1079751.0, 3239253.0, 3235593.0, 1617796.5, 1078531.0, 1617796.5, 3235593.0, 3235593.0, 3235593.0, 1078531.0, 1078531.0, 3382087.0, 3382087.0, 3382087.0, 3382087.0, 3382087.0, 3382087.0, 1703197.0, 1703197.0, 3406394.0, 1703197.0, 1703197.0, 1135464.666666667, 1135464.666666667, 1703197.0, 851598.5, 851598.5, 1696150.0, 1696150.0, 1696150.0, 1696150.0, 848075.0, 1130766.666666667, 1130766.666666667, 1696150.0, 848075.0, 1130766.666666667, 3392300.0, 3392300.0, 1107542.333333333, 1661313.5, 1107542.333333333, 1661313.5, 1661313.5, 1661313.5, 1107542.333333333, 1661313.5, 1661313.5, 1661313.5, 3322627.0, 1661313.5, 1155302.666666667, 3465908.0, 1155302.666666667, 1155302.666666667, 3465908.0, 1155302.666666667, 1155302.666666667, 1732954.0, 1732954.0, 1155302.666666667, 1732954.0, 1732954.0, 1701608.5, 1701608.5, 1701608.5, 1701608.5, 1701608.5, 3403217.0, 1701608.5, 3403217.0, 3403217.0, 784213.5, 1568427.0, 3136854.0, 1568427.0, 1045618.0, 1045618.0, 784213.5, 1568427.0, 1045618.0, 3136854.0, 1475506.5, 737753.25, 983671.0, 983671.0, 2951013.0, 2951013.0, 1475506.5, 2951013.0, 1475506.5, 737753.25, 983671.0, 1014077.0, 1521115.5, 1521115.5, 1521115.5, 1521115.5, 3042231.0, 3042231.0, 1014077.0, 1521115.5, 1014077.0, 1521115.5, 2942067.0, 980689.0, 2942067.0, 980689.0, 1471033.5, 980689.0, 2942067.0, 1471033.5, 1471033.5, 735516.75, 745703.25, 745703.25, 2982813.0, 2982813.0, 1491406.5, 1491406.5, 745703.25, 1491406.5, 1491406.5, 745703.25, 3158777.0, 1579388.5, 1579388.5, 1052925.666666667, 3158777.0, 3158777.0, 1052925.666666667, 3158777.0, 1052925.666666667, 3782695.0, 3782695.0, 3782695.0, 3782695.0, 1891347.5, 1891347.5, 3782695.0, 3850672.0, 1925336.0, 1283557.333333333, 3850672.0, 1283557.333333333, 3850672.0, 1283557.333333333, 3850672.0, 1925336.0, 3913667.0, 3913667.0, 1956833.5, 1956833.5, 1956833.5, 3913667.0, 1956833.5, 1390892.666666667, 4172678.0, 2086339.0, 1043169.5, 1043169.5, 4172678.0, 1390892.666666667, 2086339.0, 2086339.0, 4172678.0, 1390892.666666667, 1450760.0, 1450760.0, 2176140.0, 1450760.0, 4352280.0, 2176140.0, 4352280.0, 4352280.0, 4352280.0, 1576643.666666667, 1576643.666666667, 1576643.666666667, 1576643.666666667, 1576643.666666667, 1576643.666666667, 4729931.0, 1576643.666666667, 4729931.0, 1576643.666666667, 1576643.666666667, 5337372.0, 1334343.0, 2668686.0, 2668686.0, 2668686.0, 2668686.0, 5337372.0, 2668686.0, 5337372.0, 1334343.0, 3221941.0, 6443882.0, 2147960.666666666, 2147960.666666666, 2147960.666666666, 3221941.0, 2147960.666666666, 6443882.0, 6443882.0, 2147960.666666666, 2147960.666666666, 8831149.0, 4415574.5, 4415574.5, 8831149.0, 8831149.0, 8831149.0, 8831149.0, 9350791.0, 4675395.5, 4675395.5, 9350791.0, 9350791.0, 9350791.0, 9350791.0, 4604139.5, 4604139.5, 4604139.5, 4604139.5, 4604139.5, 4604139.5, 4604139.5, 4604139.5, 4604139.5, 4604139.5, 9208279.0, 4708597.5, 4708597.5, 4708597.5, 9417195.0, 3139065.0, 3139065.0, 9417195.0, 4708597.5, 3139065.0, 3139065.0, 3139065.0, 3139065.0, 3148866.0, 3148866.0, 3148866.0, 3148866.0, 4723299.0, 4723299.0, 3148866.0, 4723299.0, 3148866.0, 9446598.0, 9446598.0, 4831258.5, 3220839.0, 3220839.0, 4831258.5, 4831258.5, 4831258.5, 3220839.0, 3220839.0, 3220839.0, 4831258.5, 3220839.0, 4831258.5, 9662517.0, 3248808.666666666, 9746426.0, 4873213.0, 4873213.0, 2436606.5, 4873213.0, 2436606.5, 4873213.0, 9746426.0, 3248808.666666666, 3248808.666666666, 9889843.0, 3296614.333333333, 4944921.5, 3296614.333333333, 3296614.333333333, 4944921.5, 4944921.5, 9889843.0, 3296614.333333333, 3296614.333333333, 3296614.333333333, 4944921.5, 10231411.0, 5115705.5, 10231411.0, 10231411.0, 5115705.5, 10231411.0, 3846205.666666666, 3846205.666666666, 3846205.666666666, 5769308.5, 3846205.666666666, 11538617.0, 2884654.25, 3846205.666666666, 5769308.5, 5769308.5, 11538617.0, 3846205.666666666, 2884654.25, 4172677.666666666, 6259016.5, 4172677.666666666, 4172677.666666666, 4172677.666666666, 4172677.666666666, 6259016.5, 4172677.666666666, 3129508.25, 4172677.666666666, 4172677.666666666, 12518033.0, 3129508.25, 4172677.666666666, 6126444.0, 4084296.0, 12252888.0, 12252888.0, 3063222.0, 4084296.0, 3063222.0, 6126444.0, 3063222.0, 3063222.0, 6126444.0, 4084296.0, 6126444.0, 4007137.0, 4007137.0, 6010705.5, 12021411.0, 6010705.5, 6010705.5, 6010705.5, 6010705.5, 12021411.0, 6010705.5, 4007137.0, 3992053.666666666, 3992053.666666666, 3992053.666666666, 5988080.5, 11976161.0, 5988080.5, 3992053.666666666, 3992053.666666666, 3992053.666666666, 5988080.5, 5988080.5, 11976161.0, 5961899.0, 11923798.0, 5961899.0, 2980949.5, 5961899.0, 3974599.333333334, 3974599.333333334, 5961899.0, 5961899.0, 2980949.5, 5961899.0, 3974599.333333334, 5881084.5, 5881084.5, 11762169.0, 5881084.5, 5881084.5, 5881084.5, 11762169.0, 11762169.0, 5753466.0, 5753466.0, 11506932.0, 3835644.0, 11506932.0, 3835644.0, 3835644.0, 3835644.0, 5753466.0, 3835644.0, 3835644.0, 2781177.25, 5562354.5, 11124709.0, 2781177.25, 2781177.25, 3708236.333333334, 11124709.0, 3708236.333333334, 11124709.0, 3708236.333333334, 2781177.25, 5562354.5, 3719072.666666666, 11157218.0, 3719072.666666666, 5578609.0, 5578609.0, 3719072.666666666, 2789304.5, 11157218.0, 3719072.666666666, 5578609.0, 3719072.666666666, 3719072.666666666, 2789304.5, 3671860.0, 5507790.0, 3671860.0, 3671860.0, 3671860.0, 5507790.0, 11015580.0, 11015580.0, 3671860.0, 3671860.0, 11015580.0, 2684195.75, 2684195.75, 2684195.75, 5368391.5, 10736783.0, 3578927.666666666, 2684195.75, 3578927.666666666, 5368391.5, 5368391.5, 3578927.666666666, 5368391.5, 10736783.0, 4256410.5, 4256410.5, 4256410.5, 4256410.5, 8512821.0, 4256410.5, 4256410.5, 4256410.5, 4256410.5, 8517568.0, 2839189.333333333, 2839189.333333333, 4258784.0, 2839189.333333333, 2839189.333333333, 2839189.333333333, 2839189.333333333, 4258784.0, 2839189.333333333, 2839189.333333333, 2839189.333333333, 2132961.0, 2843948.0, 2843948.0, 2843948.0, 8531844.0, 4265922.0, 4265922.0, 4265922.0, 2132961.0, 8531844.0, 2843948.0, 2843948.0, 2843948.0, 8536613.0, 4268306.5, 2845537.666666666, 2845537.666666666, 2134153.25, 8536613.0, 4268306.5, 2845537.666666666, 4268306.5, 2134153.25, 4225788.5, 2817192.333333333, 8451577.0, 4225788.5, 2112894.25, 2112894.25, 2817192.333333333, 8451577.0, 4225788.5, 2817192.333333333, 8451577.0, 2335644.25, 3114192.333333333, 3114192.333333333, 3114192.333333333, 9342577.0, 2335644.25, 3114192.333333333, 3114192.333333333, 4671288.5, 9342577.0, 3114192.333333333, 4581600.0, 4581600.0, 2290800.0, 4581600.0, 2290800.0, 2290800.0, 4581600.0, 4581600.0, 9000000.0, 4581600.0, 2290800.0, 4581600.0, 4581600.0, 3000000.0, 9000000.0, 3000000.0, 2250000.0, 3000000.0, 3000000.0, 4500000.0, 3000000.0, 3000000.0, 3000000.0, 2250000.0, 9000000.0, 3000000.0, 3000000.0, 2500000.0, 3333333.333333333, 5000000.0, 3333333.333333333, 5000000.0, 10000000.0, 3333333.333333333, 5000000.0, 2500000.0, 5000000.0, 5000000.0], \"y0\": \" \", \"yaxis\": \"y\"}],                        {\"boxmode\": \"group\", \"legend\": {\"tracegroupgap\": 0}, \"template\": {\"data\": {\"bar\": [{\"error_x\": {\"color\": \"#2a3f5f\"}, \"error_y\": {\"color\": \"#2a3f5f\"}, \"marker\": {\"line\": {\"color\": \"#E5ECF6\", \"width\": 0.5}}, \"type\": \"bar\"}], \"barpolar\": [{\"marker\": {\"line\": {\"color\": \"#E5ECF6\", \"width\": 0.5}}, \"type\": \"barpolar\"}], \"carpet\": [{\"aaxis\": {\"endlinecolor\": \"#2a3f5f\", \"gridcolor\": \"white\", \"linecolor\": \"white\", \"minorgridcolor\": \"white\", \"startlinecolor\": \"#2a3f5f\"}, \"baxis\": {\"endlinecolor\": \"#2a3f5f\", \"gridcolor\": \"white\", \"linecolor\": \"white\", \"minorgridcolor\": \"white\", \"startlinecolor\": \"#2a3f5f\"}, \"type\": \"carpet\"}], \"choropleth\": [{\"colorbar\": {\"outlinewidth\": 0, \"ticks\": \"\"}, \"type\": \"choropleth\"}], \"contour\": [{\"colorbar\": {\"outlinewidth\": 0, \"ticks\": \"\"}, \"colorscale\": [[0.0, \"#0d0887\"], [0.1111111111111111, \"#46039f\"], [0.2222222222222222, \"#7201a8\"], [0.3333333333333333, \"#9c179e\"], [0.4444444444444444, \"#bd3786\"], [0.5555555555555556, \"#d8576b\"], [0.6666666666666666, \"#ed7953\"], [0.7777777777777778, \"#fb9f3a\"], [0.8888888888888888, \"#fdca26\"], [1.0, \"#f0f921\"]], \"type\": \"contour\"}], \"contourcarpet\": [{\"colorbar\": {\"outlinewidth\": 0, \"ticks\": \"\"}, \"type\": \"contourcarpet\"}], \"heatmap\": [{\"colorbar\": {\"outlinewidth\": 0, \"ticks\": \"\"}, \"colorscale\": [[0.0, \"#0d0887\"], [0.1111111111111111, \"#46039f\"], [0.2222222222222222, \"#7201a8\"], [0.3333333333333333, \"#9c179e\"], [0.4444444444444444, \"#bd3786\"], [0.5555555555555556, \"#d8576b\"], [0.6666666666666666, \"#ed7953\"], [0.7777777777777778, \"#fb9f3a\"], [0.8888888888888888, \"#fdca26\"], [1.0, \"#f0f921\"]], \"type\": \"heatmap\"}], \"heatmapgl\": [{\"colorbar\": {\"outlinewidth\": 0, \"ticks\": \"\"}, \"colorscale\": [[0.0, \"#0d0887\"], [0.1111111111111111, \"#46039f\"], [0.2222222222222222, \"#7201a8\"], [0.3333333333333333, \"#9c179e\"], [0.4444444444444444, \"#bd3786\"], [0.5555555555555556, \"#d8576b\"], [0.6666666666666666, \"#ed7953\"], [0.7777777777777778, \"#fb9f3a\"], [0.8888888888888888, \"#fdca26\"], [1.0, \"#f0f921\"]], \"type\": \"heatmapgl\"}], \"histogram\": [{\"marker\": {\"colorbar\": {\"outlinewidth\": 0, \"ticks\": \"\"}}, \"type\": \"histogram\"}], \"histogram2d\": [{\"colorbar\": {\"outlinewidth\": 0, \"ticks\": \"\"}, \"colorscale\": [[0.0, \"#0d0887\"], [0.1111111111111111, \"#46039f\"], [0.2222222222222222, \"#7201a8\"], [0.3333333333333333, \"#9c179e\"], [0.4444444444444444, \"#bd3786\"], [0.5555555555555556, \"#d8576b\"], [0.6666666666666666, \"#ed7953\"], [0.7777777777777778, \"#fb9f3a\"], [0.8888888888888888, \"#fdca26\"], [1.0, \"#f0f921\"]], \"type\": \"histogram2d\"}], \"histogram2dcontour\": [{\"colorbar\": {\"outlinewidth\": 0, \"ticks\": \"\"}, \"colorscale\": [[0.0, \"#0d0887\"], [0.1111111111111111, \"#46039f\"], [0.2222222222222222, \"#7201a8\"], [0.3333333333333333, \"#9c179e\"], [0.4444444444444444, \"#bd3786\"], [0.5555555555555556, \"#d8576b\"], [0.6666666666666666, \"#ed7953\"], [0.7777777777777778, \"#fb9f3a\"], [0.8888888888888888, \"#fdca26\"], [1.0, \"#f0f921\"]], \"type\": \"histogram2dcontour\"}], \"mesh3d\": [{\"colorbar\": {\"outlinewidth\": 0, \"ticks\": \"\"}, \"type\": \"mesh3d\"}], \"parcoords\": [{\"line\": {\"colorbar\": {\"outlinewidth\": 0, \"ticks\": \"\"}}, \"type\": \"parcoords\"}], \"pie\": [{\"automargin\": true, \"type\": \"pie\"}], \"scatter\": [{\"marker\": {\"colorbar\": {\"outlinewidth\": 0, \"ticks\": \"\"}}, \"type\": \"scatter\"}], \"scatter3d\": [{\"line\": {\"colorbar\": {\"outlinewidth\": 0, \"ticks\": \"\"}}, \"marker\": {\"colorbar\": {\"outlinewidth\": 0, \"ticks\": \"\"}}, \"type\": \"scatter3d\"}], \"scattercarpet\": [{\"marker\": {\"colorbar\": {\"outlinewidth\": 0, \"ticks\": \"\"}}, \"type\": \"scattercarpet\"}], \"scattergeo\": [{\"marker\": {\"colorbar\": {\"outlinewidth\": 0, \"ticks\": \"\"}}, \"type\": \"scattergeo\"}], \"scattergl\": [{\"marker\": {\"colorbar\": {\"outlinewidth\": 0, \"ticks\": \"\"}}, \"type\": \"scattergl\"}], \"scattermapbox\": [{\"marker\": {\"colorbar\": {\"outlinewidth\": 0, \"ticks\": \"\"}}, \"type\": \"scattermapbox\"}], \"scatterpolar\": [{\"marker\": {\"colorbar\": {\"outlinewidth\": 0, \"ticks\": \"\"}}, \"type\": \"scatterpolar\"}], \"scatterpolargl\": [{\"marker\": {\"colorbar\": {\"outlinewidth\": 0, \"ticks\": \"\"}}, \"type\": \"scatterpolargl\"}], \"scatterternary\": [{\"marker\": {\"colorbar\": {\"outlinewidth\": 0, \"ticks\": \"\"}}, \"type\": \"scatterternary\"}], \"surface\": [{\"colorbar\": {\"outlinewidth\": 0, \"ticks\": \"\"}, \"colorscale\": [[0.0, \"#0d0887\"], [0.1111111111111111, \"#46039f\"], [0.2222222222222222, \"#7201a8\"], [0.3333333333333333, \"#9c179e\"], [0.4444444444444444, \"#bd3786\"], [0.5555555555555556, \"#d8576b\"], [0.6666666666666666, \"#ed7953\"], [0.7777777777777778, \"#fb9f3a\"], [0.8888888888888888, \"#fdca26\"], [1.0, \"#f0f921\"]], \"type\": \"surface\"}], \"table\": [{\"cells\": {\"fill\": {\"color\": \"#EBF0F8\"}, \"line\": {\"color\": \"white\"}}, \"header\": {\"fill\": {\"color\": \"#C8D4E3\"}, \"line\": {\"color\": \"white\"}}, \"type\": \"table\"}]}, \"layout\": {\"annotationdefaults\": {\"arrowcolor\": \"#2a3f5f\", \"arrowhead\": 0, \"arrowwidth\": 1}, \"autotypenumbers\": \"strict\", \"coloraxis\": {\"colorbar\": {\"outlinewidth\": 0, \"ticks\": \"\"}}, \"colorscale\": {\"diverging\": [[0, \"#8e0152\"], [0.1, \"#c51b7d\"], [0.2, \"#de77ae\"], [0.3, \"#f1b6da\"], [0.4, \"#fde0ef\"], [0.5, \"#f7f7f7\"], [0.6, \"#e6f5d0\"], [0.7, \"#b8e186\"], [0.8, \"#7fbc41\"], [0.9, \"#4d9221\"], [1, \"#276419\"]], \"sequential\": [[0.0, \"#0d0887\"], [0.1111111111111111, \"#46039f\"], [0.2222222222222222, \"#7201a8\"], [0.3333333333333333, \"#9c179e\"], [0.4444444444444444, \"#bd3786\"], [0.5555555555555556, \"#d8576b\"], [0.6666666666666666, \"#ed7953\"], [0.7777777777777778, \"#fb9f3a\"], [0.8888888888888888, \"#fdca26\"], [1.0, \"#f0f921\"]], \"sequentialminus\": [[0.0, \"#0d0887\"], [0.1111111111111111, \"#46039f\"], [0.2222222222222222, \"#7201a8\"], [0.3333333333333333, \"#9c179e\"], [0.4444444444444444, \"#bd3786\"], [0.5555555555555556, \"#d8576b\"], [0.6666666666666666, \"#ed7953\"], [0.7777777777777778, \"#fb9f3a\"], [0.8888888888888888, \"#fdca26\"], [1.0, \"#f0f921\"]]}, \"colorway\": [\"#636efa\", \"#EF553B\", \"#00cc96\", \"#ab63fa\", \"#FFA15A\", \"#19d3f3\", \"#FF6692\", \"#B6E880\", \"#FF97FF\", \"#FECB52\"], \"font\": {\"color\": \"#2a3f5f\"}, \"geo\": {\"bgcolor\": \"white\", \"lakecolor\": \"white\", \"landcolor\": \"#E5ECF6\", \"showlakes\": true, \"showland\": true, \"subunitcolor\": \"white\"}, \"hoverlabel\": {\"align\": \"left\"}, \"hovermode\": \"closest\", \"mapbox\": {\"style\": \"light\"}, \"paper_bgcolor\": \"white\", \"plot_bgcolor\": \"#E5ECF6\", \"polar\": {\"angularaxis\": {\"gridcolor\": \"white\", \"linecolor\": \"white\", \"ticks\": \"\"}, \"bgcolor\": \"#E5ECF6\", \"radialaxis\": {\"gridcolor\": \"white\", \"linecolor\": \"white\", \"ticks\": \"\"}}, \"scene\": {\"xaxis\": {\"backgroundcolor\": \"#E5ECF6\", \"gridcolor\": \"white\", \"gridwidth\": 2, \"linecolor\": \"white\", \"showbackground\": true, \"ticks\": \"\", \"zerolinecolor\": \"white\"}, \"yaxis\": {\"backgroundcolor\": \"#E5ECF6\", \"gridcolor\": \"white\", \"gridwidth\": 2, \"linecolor\": \"white\", \"showbackground\": true, \"ticks\": \"\", \"zerolinecolor\": \"white\"}, \"zaxis\": {\"backgroundcolor\": \"#E5ECF6\", \"gridcolor\": \"white\", \"gridwidth\": 2, \"linecolor\": \"white\", \"showbackground\": true, \"ticks\": \"\", \"zerolinecolor\": \"white\"}}, \"shapedefaults\": {\"line\": {\"color\": \"#2a3f5f\"}}, \"ternary\": {\"aaxis\": {\"gridcolor\": \"white\", \"linecolor\": \"white\", \"ticks\": \"\"}, \"baxis\": {\"gridcolor\": \"white\", \"linecolor\": \"white\", \"ticks\": \"\"}, \"bgcolor\": \"#E5ECF6\", \"caxis\": {\"gridcolor\": \"white\", \"linecolor\": \"white\", \"ticks\": \"\"}}, \"title\": {\"x\": 0.05}, \"xaxis\": {\"automargin\": true, \"gridcolor\": \"white\", \"linecolor\": \"white\", \"ticks\": \"\", \"title\": {\"standoff\": 15}, \"zerolinecolor\": \"white\", \"zerolinewidth\": 2}, \"yaxis\": {\"automargin\": true, \"gridcolor\": \"white\", \"linecolor\": \"white\", \"ticks\": \"\", \"title\": {\"standoff\": 15}, \"zerolinecolor\": \"white\", \"zerolinewidth\": 2}}}, \"title\": {\"text\": \"Distribution of prize amount by category\"}, \"xaxis\": {\"anchor\": \"y\", \"domain\": [0.0, 1.0], \"title\": {\"text\": \"Category\"}}, \"yaxis\": {\"anchor\": \"x\", \"domain\": [0.0, 1.0], \"title\": {\"text\": \"Actual Prize Amount\"}}},                        {\"responsive\": true}                    ).then(function(){\n",
       "                            \n",
       "var gd = document.getElementById('ed669e20-038a-4112-a524-e20e137729a6');\n",
       "var x = new MutationObserver(function (mutations, observer) {{\n",
       "        var display = window.getComputedStyle(gd).display;\n",
       "        if (!display || display === 'none') {{\n",
       "            console.log([gd, 'removed!']);\n",
       "            Plotly.purge(gd);\n",
       "            observer.disconnect();\n",
       "        }}\n",
       "}});\n",
       "\n",
       "// Listen for the removal of the full notebook cells\n",
       "var notebookContainer = gd.closest('#notebook-container');\n",
       "if (notebookContainer) {{\n",
       "    x.observe(notebookContainer, {childList: true});\n",
       "}}\n",
       "\n",
       "// Listen for the clearing of the current output cell\n",
       "var outputEl = gd.closest('.output');\n",
       "if (outputEl) {{\n",
       "    x.observe(outputEl, {childList: true});\n",
       "}}\n",
       "\n",
       "                        })                };                });            </script>        </div>"
      ]
     },
     "metadata": {},
     "output_type": "display_data"
    }
   ],
   "source": [
    "# draw boxplot\n",
    "fig = px.box(q2_df,\n",
    "             x=\"category\",\n",
    "             y=\"prize_amount_actual\",\n",
    "             title='Distribution of prize amount by category',\n",
    "             labels={\n",
    "                     \"prize_amount_actual\": \"Actual Prize Amount\",\n",
    "                     \"category\": \"Category\"\n",
    "                 },\n",
    "             hover_data=[\"name\"])\n",
    "fig.show()"
   ]
  },
  {
   "cell_type": "markdown",
   "metadata": {},
   "source": [
    "We wanted to find out whether there is a significant difference regarding the prize amount by categories. In the boxplot above we can see that the means are relatively close to each other. The one category which stands out to some extent is Literature where the third quartile is around 8.5 million SEK. A possible reason for this can be that the Literature prize was awarded less times than the rest. If we look back at the Exploratory Data Analysis section of the API data we can see that it was actually awarded fewer times than Physiology or Medicine, Chemistry and Physics. A further reason could be that it is less common for the Literature prize to be shared between multiple Laureates which makes the amounts higher."
   ]
  },
  {
   "cell_type": "markdown",
   "metadata": {},
   "source": [
    "### 2.3 What is the relationship between a university's total score and its student-staff ratio?"
   ]
  },
  {
   "cell_type": "markdown",
   "metadata": {},
   "source": [
    "##### Data Transformation"
   ]
  },
  {
   "cell_type": "code",
   "execution_count": 109,
   "metadata": {},
   "outputs": [],
   "source": [
    "# create df for plotting\n",
    "q1_df = df.groupby(['year', 'university']).agg({'total_score':'mean', 'student_staff_ratio':'mean', 'num_students':'mean'}).reset_index()"
   ]
  },
  {
   "cell_type": "markdown",
   "metadata": {},
   "source": [
    "##### Plotting"
   ]
  },
  {
   "cell_type": "code",
   "execution_count": 110,
   "metadata": {},
   "outputs": [
    {
     "data": {
      "text/html": [
       "\n",
       "\n",
       "\n",
       "\n",
       "\n",
       "\n",
       "  <div class=\"bk-root\" id=\"b87bada2-92a9-4d12-9dc6-4f9efe1652a6\" data-root-id=\"1002\"></div>\n"
      ]
     },
     "metadata": {},
     "output_type": "display_data"
    },
    {
     "data": {
      "application/javascript": [
       "(function(root) {\n",
       "  function embed_document(root) {\n",
       "    \n",
       "  var docs_json = {\"9f33342a-7fd3-4203-9892-d4213860b7a0\":{\"roots\":{\"references\":[{\"attributes\":{\"below\":[{\"id\":\"1011\"}],\"center\":[{\"id\":\"1014\"},{\"id\":\"1018\"},{\"id\":\"1049\"}],\"left\":[{\"id\":\"1015\"}],\"plot_height\":400,\"renderers\":[{\"id\":\"1038\"},{\"id\":\"1055\"},{\"id\":\"1072\"},{\"id\":\"1092\"},{\"id\":\"1113\"},{\"id\":\"1137\"},{\"id\":\"1162\"},{\"id\":\"1190\"}],\"title\":{\"id\":\"1033\"},\"toolbar\":{\"id\":\"1026\"},\"x_range\":{\"id\":\"1003\"},\"x_scale\":{\"id\":\"1007\"},\"y_range\":{\"id\":\"1005\"},\"y_scale\":{\"id\":\"1009\"}},\"id\":\"1002\",\"subtype\":\"Figure\",\"type\":\"Plot\"},{\"attributes\":{},\"id\":\"1005\",\"type\":\"DataRange1d\"},{\"attributes\":{},\"id\":\"1085\",\"type\":\"UnionRenderers\"},{\"attributes\":{},\"id\":\"1003\",\"type\":\"DataRange1d\"},{\"attributes\":{\"line_color\":\"#a6611a\",\"x\":{\"field\":\"x\"},\"y\":{\"field\":\"y\"}},\"id\":\"1036\",\"type\":\"Line\"},{\"attributes\":{},\"id\":\"1084\",\"type\":\"Selection\"},{\"attributes\":{},\"id\":\"1009\",\"type\":\"LinearScale\"},{\"attributes\":{},\"id\":\"1043\",\"type\":\"BasicTickFormatter\"},{\"attributes\":{},\"id\":\"1156\",\"type\":\"UnionRenderers\"},{\"attributes\":{\"axis_label\":\"Student Staff Ratio\",\"formatter\":{\"id\":\"1045\"},\"ticker\":{\"id\":\"1016\"}},\"id\":\"1015\",\"type\":\"LinearAxis\"},{\"attributes\":{\"axis_label\":\"Total Score\",\"formatter\":{\"id\":\"1043\"},\"ticker\":{\"id\":\"1012\"}},\"id\":\"1011\",\"type\":\"LinearAxis\"},{\"attributes\":{},\"id\":\"1007\",\"type\":\"LinearScale\"},{\"attributes\":{},\"id\":\"1045\",\"type\":\"BasicTickFormatter\"},{\"attributes\":{},\"id\":\"1024\",\"type\":\"HelpTool\"},{\"attributes\":{},\"id\":\"1012\",\"type\":\"BasicTicker\"},{\"attributes\":{\"axis\":{\"id\":\"1011\"},\"ticker\":null},\"id\":\"1014\",\"type\":\"Grid\"},{\"attributes\":{\"fill_alpha\":{\"value\":0.1},\"fill_color\":{\"value\":\"#a6611a\"},\"line_alpha\":{\"value\":0.1},\"line_color\":{\"value\":\"#a6611a\"},\"size\":{\"units\":\"screen\",\"value\":15},\"x\":{\"field\":\"total_score\"},\"y\":{\"field\":\"student_staff_ratio\"}},\"id\":\"1053\",\"type\":\"Scatter\"},{\"attributes\":{},\"id\":\"1022\",\"type\":\"SaveTool\"},{\"attributes\":{\"source\":{\"id\":\"1068\"}},\"id\":\"1093\",\"type\":\"CDSView\"},{\"attributes\":{\"data_source\":{\"id\":\"1068\"},\"glyph\":{\"id\":\"1089\"},\"hover_glyph\":null,\"muted_glyph\":{\"id\":\"1091\"},\"name\":\"scatter\",\"nonselection_glyph\":{\"id\":\"1090\"},\"selection_glyph\":null,\"view\":{\"id\":\"1093\"}},\"id\":\"1092\",\"type\":\"GlyphRenderer\"},{\"attributes\":{},\"id\":\"1046\",\"type\":\"Selection\"},{\"attributes\":{\"axis\":{\"id\":\"1015\"},\"dimension\":1,\"ticker\":null},\"id\":\"1018\",\"type\":\"Grid\"},{\"attributes\":{},\"id\":\"1047\",\"type\":\"UnionRenderers\"},{\"attributes\":{},\"id\":\"1016\",\"type\":\"BasicTicker\"},{\"attributes\":{\"fill_alpha\":{\"value\":0.2},\"fill_color\":{\"value\":\"#dfc27d\"},\"line_alpha\":{\"value\":0.2},\"line_color\":{\"value\":\"#dfc27d\"},\"size\":{\"units\":\"screen\",\"value\":15},\"x\":{\"field\":\"total_score\"},\"y\":{\"field\":\"student_staff_ratio\"}},\"id\":\"1091\",\"type\":\"Scatter\"},{\"attributes\":{},\"id\":\"1023\",\"type\":\"ResetTool\"},{\"attributes\":{\"fill_alpha\":{\"value\":0.1},\"fill_color\":{\"value\":\"#dfc27d\"},\"line_alpha\":{\"value\":0.1},\"line_color\":{\"value\":\"#dfc27d\"},\"size\":{\"units\":\"screen\",\"value\":15},\"x\":{\"field\":\"total_score\"},\"y\":{\"field\":\"student_staff_ratio\"}},\"id\":\"1090\",\"type\":\"Scatter\"},{\"attributes\":{\"line_alpha\":0.1,\"line_color\":\"#80cdc1\",\"x\":{\"field\":\"x\"},\"y\":{\"field\":\"y\"}},\"id\":\"1112\",\"type\":\"Line\"},{\"attributes\":{\"data\":{\"x\":{\"__ndarray__\":\"ZmZmZmYmTkBmZmZmZgZRQGZmZmZmBlJAMzMzMzMzT0ApXI/C9RBCQDMzMzMzc05AuB6F61EoSUCamZmZmZlPQAAAAAAAgFFAAAAAAACgV0BmZmZmZuZKQDMzMzMzU1RAMzMzMzNzTEAAAAAAAMBVQM3MzMzMDE9AZ2ZmZmZGVUCamZmZmdlTQClcj8L1CEhAmpmZmZnZTUAWrkfheuRBQFyPwvUoJENAZmZmZmZGUEAAAAAAAEBXQHsUrkfhkkNAMzMzMzMzTUAfhetRuOZEQM3MzMzMTFZA4XoUrkc5SEDXo3A9CtcxQM3MzMzM7FBAzczMzMysUEBmZmZmZiZMQGZmZmZmJktAMzMzMzNTVECamZmZmfFGQGRmZmZmZldAZmZmZmZmV0CamZmZmVlQQGZmZmZmBixACtejcD0KR0BmZmZmZkZUQAAAAAAA4FRA7FG4HoXTQ0DPzMzMzExXQM3MzMzMzE5AzczMzMwMTkAAAAAAAABQQDEzMzMzk1dAMzMzMzOzS0DsUbgehftDQOxRuB6FOzpAUrgehetxR0AAAAAAAABNQJqZmZmZGU1AzczMzMzMTkAzMzMzMxNTQJuZmZmZmVdAUrgeheuhR0CamZmZmdlTQGZmZmZmpk9AzczMzMzMTEBmZmZmZkZQQAAAAAAAYFJAZmZmZmYmT0BmZmZmZuZKQJqZmZmZqUJAzczMzMxsUUBmZmZmZgZQQJuZmZmZWU1AmZmZmZnZV0BmZmZmZmZWQM3MzMzMzEtAZmZmZmYGUUDsUbgehftDQDMzMzMzs0xAAAAAAABgVUBcj8L1KHRDQDUzMzMz20lAZmZmZmZmVEAK16NwPTpJQGVmZmZmZk9AmpmZmZmZTECPwvUoXJdJQDMzMzMz805AzczMzMwsUECamZmZmRlOQHsUrkfhQkVAMzMzMzMzTUBmZmZmZmZUQGZmZmZmZkxAzszMzMzsVkAAAAAAAEBPQA==\",\"dtype\":\"float64\",\"order\":\"little\",\"shape\":[92]},\"y\":[17.087633100655424,15.60880295775717,14.850428525501657,16.68948652372128,21.669636623539205,16.973876935817096,18.98072527717325,16.537811637270174,15.248575102435801,10.603531704870775,18.319991553070633,13.106167331313973,17.73225136807261,12.025483765349865,16.74636460614044,12.385711620671234,13.46639518663534,19.406362927276653,17.20138926549375,21.7355204023414,21.262010366201867,16.177583781948805,10.887922116966596,21.098011895226612,17.447860955976793,20.594640865817013,11.608377827609331,19.33479134023254,25.137777699047703,15.68464040098272,15.8742340090466,17.84600753291094,18.225194749038693,13.106167331313973,19.82015097687607,10.774165952128275,10.774165952128268,16.12070569952964,25.863447233912197,19.783654207323774,13.14408605292675,12.689061393573441,21.002267123154354,10.850003395353813,16.84116141017238,17.1255518222682,16.38613675081907,10.641450426483559,18.016641780168428,20.94301912063439,23.546613343371604,19.63008338479203,17.523698399202342,17.485779677589566,16.84116141017238,14.054135371633366,10.62249106567716,19.55898578176808,13.46639518663534,16.51885227646379,17.599535842427894,16.177583781948805,14.584997474212226,16.708445884527663,18.319991553070633,21.44354624592303,15.305453184854963,16.367177390012685,17.390982873557626,10.432897457613286,11.532540384383783,17.97872305855565,15.60880295775717,20.94301912063439,17.63745456404067,12.309874177445682,21.14351436116194,18.715768209903977,13.04928924889481,18.954182172044305,16.613649080495726,17.675373285653443,18.816252822177837,16.784283327753215,16.253421225174357,17.10659246146181,20.45813346801102,17.447860955976793,13.04928924889481,17.751210728878995,11.134393807449634,16.670527162914887]},\"selected\":{\"id\":\"1046\"},\"selection_policy\":{\"id\":\"1047\"}},\"id\":\"1035\",\"type\":\"ColumnDataSource\"},{\"attributes\":{\"line_alpha\":0.1,\"line_color\":\"#a6611a\",\"x\":{\"field\":\"x\"},\"y\":{\"field\":\"y\"}},\"id\":\"1037\",\"type\":\"Line\"},{\"attributes\":{\"data_source\":{\"id\":\"1035\"},\"glyph\":{\"id\":\"1036\"},\"hover_glyph\":null,\"muted_glyph\":null,\"nonselection_glyph\":{\"id\":\"1037\"},\"selection_glyph\":null,\"view\":{\"id\":\"1039\"}},\"id\":\"1038\",\"type\":\"GlyphRenderer\"},{\"attributes\":{\"click_policy\":\"hide\",\"items\":[{\"id\":\"1050\"},{\"id\":\"1087\"},{\"id\":\"1132\"},{\"id\":\"1185\"}]},\"id\":\"1049\",\"type\":\"Legend\"},{\"attributes\":{},\"id\":\"1106\",\"type\":\"Selection\"},{\"attributes\":{},\"id\":\"1107\",\"type\":\"UnionRenderers\"},{\"attributes\":{\"data\":{\"x\":{\"__ndarray__\":\"MzMzMzOzTUCamZmZmRlRQGZmZmZm5lFAMzMzMzNzTkDXo3A9CvdCQGZmZmZmZkxA43oUrkc5SUAzMzMzMzNQQDMzMzMzs1FAzczMzMwcNEAAAAAAAEBXQGZmZmZmZktAmpmZmZl5VEAzMzMzMzNMQAAAAAAAgFVAMzMzMzOzTUDNzMzMzAxVQM3MzMzMzFNAFK5H4XqURUBmZmZmZuZNQDMzMzMzM0JAZWZmZmYeQ0BmZmZmZmZPQDMzMzMz81ZAH4XrUbguQ0CamZmZmVlNQArXo3A9qkZAAAAAAACgVUD1KFyPwi1JQBSuR+F61DFAmpmZmZk5UEAAAAAAAIBQQDMzMzMz80pAZmZmZmYmSkCamZmZmdlTQB+F61G4FkdAAAAAAAAgV0AAAAAAACBXQDMzMzMzs09AhOtRuB4lKUCamZmZmYFGQM3MzMzMzFNAMzMzMzPTVEBI4XoUrn9EQGVmZmZmxlZAmpmZmZkZT0AzMzMzM8tCQM3MzMzMDE5AAAAAAABAV0AAAAAAAMBMQB+F61G4vkRAw/UoXI9SOECF61G4HoVHQAAAAAAAQEtAzczMzMxMTUAAAAAAAEBOQM3MzMzMDFNAz8zMzMxMV0CPwvUoXI9IQM3MzMzMzFNAMzMzMzNzT0BmZmZmZuZMQGZmZmZmZk9AMzMzMzMTUkCamZmZmdlOQJqZmZmZ2UtAuB6F61FIQUAAAAAAAGBRQAAAAAAAQFFAZWZmZmYmTEAyMzMzM5NXQM3MzMzM7FVAzczMzMzMS0AzMzMzM7NQQB+F61G4vkRAmpmZmZkZTEAzMzMzM7NUQITrUbgePUJAcj0K16PISUCamZmZmdlTQM3MzMzMnElAMzMzMzOzTEAAAAAAAABNQAAAAAAAAEtAmpmZmZkZT0AzMzMzM3NQQAAAAAAAAE5ANDMzMzM/RUCamZmZmVlLQJqZmZmZ2VNAmpmZmZlZS0BnZmZmZuZVQM3MzMzMjE1A\",\"dtype\":\"float64\",\"order\":\"little\",\"shape\":[93]},\"y\":[17.324376894386056,15.632858764682029,15.03143009634282,17.04245720610205,21.35958736602444,17.813037687411665,19.00696756729442,16.30946601656364,15.181787263427623,24.708323396691274,11.009375876824357,18.18893060512367,13.095581570125988,17.888216270954064,12.325001088816379,17.324376894386056,12.663304714757182,13.603037009037196,20.376627386207545,17.249198310843653,21.647145448074124,21.301793829926222,16.685358934275648,11.23491162745156,21.27783065642208,17.455939415585256,19.968783570490018,12.231027859388377,19.023882748591465,25.1373111890301,16.29067137067804,16.083930265936438,18.35808241809407,18.658796752263676,13.565447717265995,19.809498946609555,11.103349106252356,11.103349106252356,16.572591058962047,26.125439696465534,20.028456571176797,13.603037009037196,12.832456527727585,20.783061603483652,11.366474148650767,16.79812680958925,21.423959028182622,17.192814373186856,11.009375876824357,17.68147516621246,20.69049797249707,23.9170688049075,19.647395125846252,18.24531454278047,17.47473406147086,17.117635789644453,14.166876385605205,10.971786585053149,19.25646649142577,13.603037009037196,16.666564288390045,17.62509122855566,16.685358934275648,14.899867575143618,16.89210003901725,18.019778792153268,21.99202720007489,15.426117659940425,15.520090889368428,17.907010916839667,10.765045480311557,12.005492108761171,18.038573438038867,15.933573098851635,20.69049797249707,17.925805562725266,12.926429757155587,21.632579597512787,18.796467533375697,13.565447717265995,18.860839195533877,17.700269812098064,17.58750193678446,18.339287772208472,16.79812680958925,16.121519557707636,17.211609019072455,20.501846714420356,18.207725251009272,13.565447717265995,18.207725251009272,12.02428675464677,17.380760832042856]},\"selected\":{\"id\":\"1129\"},\"selection_policy\":{\"id\":\"1130\"}},\"id\":\"1110\",\"type\":\"ColumnDataSource\"},{\"attributes\":{\"line_alpha\":0.1,\"line_color\":\"#dfc27d\",\"x\":{\"field\":\"x\"},\"y\":{\"field\":\"y\"}},\"id\":\"1071\",\"type\":\"Line\"},{\"attributes\":{\"bottom_units\":\"screen\",\"fill_alpha\":0.5,\"fill_color\":\"lightgrey\",\"left_units\":\"screen\",\"level\":\"overlay\",\"line_alpha\":1.0,\"line_color\":\"black\",\"line_dash\":[4,4],\"line_width\":2,\"right_units\":\"screen\",\"top_units\":\"screen\"},\"id\":\"1025\",\"type\":\"BoxAnnotation\"},{\"attributes\":{\"fill_alpha\":{\"value\":0.2},\"fill_color\":{\"value\":\"#a6611a\"},\"line_alpha\":{\"value\":0.2},\"line_color\":{\"value\":\"#a6611a\"},\"size\":{\"units\":\"screen\",\"value\":15},\"x\":{\"field\":\"total_score\"},\"y\":{\"field\":\"student_staff_ratio\"}},\"id\":\"1054\",\"type\":\"Scatter\"},{\"attributes\":{\"data\":{\"index\":[565,566,567,568,569,570,571,572,573,574,575,576,577,578,579,580,581,582,583,584,585,586,587,588,589,590,591,592,593,594,595,596,597,598,599,600,601,602,603,604,605,606,607,608,609,610,611,612,613,614,615,616,617,618,619,620,621,622,623,624,625,626,627,628,629,630,631,632,633,634,635,636,637,638,639,640,641,642,643,644,645,646,647,648,649,650,651,652,653,654,655,656,657],\"num_students\":{\"__ndarray__\":\"AAAAAMCT2EAAAAAAwPHWQAAAAAAAOc9AAAAAAIDcyEAAAAAAgNXQQAAAAABAbdpAAAAAAAD0tUAAAAAAwIbTQAAAAAAAYcFAAAAAAIB60kAAAAAAAEKhQAAAAACAntdAAAAAAADCyEAAAAAA4APmQAAAAADA9tlAAAAAAMCu3UAAAAAAgFbVQAAAAADAIdpAAAAAAEAZ20AAAAAAoIjhQAAAAABAj9RAAAAAAIA0xUAAAAAAQJXZQAAAAACA2dNAAAAAAICd0UAAAAAAMFHwQAAAAAAAYcxAAAAAAABFzkAAAAAAAMzYQAAAAACAtcBAAAAAAED01UAAAAAAQD7YQAAAAADAWdNAAAAAAACN3EAAAAAAgKjDQAAAAACAc9lAAAAAAIDUxUAAAAAAgNTFQAAAAABAI9dAAAAAAIA+zkAAAAAAAHXOQAAAAACAauVAAAAAAIAO0UAAAAAAABTXQAAAAAAAE79AAAAAAAApuUAAAAAAAHDFQAAAAABAAdhAAAAAAIDyzkAAAAAAgDDgQAAAAADgNuRAAAAAAABg1EAAAAAAALHCQAAAAACAb8RAAAAAAMCs30AAAAAAYGThQAAAAAAgVulAAAAAAED10UAAAAAAQKfTQAAAAADAIdpAAAAAAMBh1EAAAAAAgGrPQAAAAABAldlAAAAAAAAz3EAAAAAAAAHWQAAAAACAhMlAAAAAAEBC6EAAAAAAwD7hQAAAAACgwu1AAAAAAIAU20AAAAAAQO7TQAAAAABA4tNAAAAAAADSwkAAAAAAgL3iQAAAAADgNuRAAAAAAAAwyEAAAAAAMPPwQAAAAACAINBAAAAAAABW3UAAAAAAIPLlQAAAAAAAQN9AAAAAAMC+2UAAAAAAwODXQAAAAADAv9hAAAAAAICV2EAAAAAAgMjeQAAAAACAdcdAAAAAAOAz0EAAAAAA4EXhQAAAAAAg8uVAAAAAAEAC1kAAAAAAgL3HQAAAAAAA3qVA\",\"dtype\":\"float64\",\"order\":\"little\",\"shape\":[93]},\"student_staff_ratio\":{\"__ndarray__\":\"mpmZmZmZLECamZmZmZkoQM3MzMzMTDNAMzMzMzOzMUAzMzMzM7M3QAAAAAAAAC5AzczMzMzMKUBmZmZmZmYrQGZmZmZmZiVAAAAAAAAAQkAAAAAAAAAaQAAAAAAAACtAAAAAAAAAK0AzMzMzM3NJQGVmZmZmZhhAZmZmZmZmEECZmZmZmZkjQAAAAAAAAClAAAAAAACAMUAzMzMzM/NBQGZmZmZm5jZAzczMzMzMNECamZmZmRk4QM/MzMzMzCFAAAAAAAAAIEAzMzMzMzMsQDMzMzMzMypAMzMzMzMzEUBlZmZmZmY3QAAAAAAAABZAZmZmZmZmIUAzMzMzMzMyQGZmZmZmZidAMzMzMzMzHUBmZmZmZmYoQDMzMzMzs0JAZmZmZmZmIUBmZmZmZmYhQDMzMzMzszhAZmZmZmbmP0CamZmZmZkfQDMzMzMzMyNAm5mZmZmZKUCamZmZmZlCQJmZmZmZmSBAAAAAAAAAIkAzMzMzMzMbQM3MzMzMzC1AAAAAAAAAHkBlZmZmZuY4QAAAAAAAgDBAMzMzMzMzKkAzMzMzMzMdQJqZmZmZmSJAmpmZmZmZNUCamZmZmXlTQJqZmZmZGTJAz8zMzMzMJUDNzMzMzMwwQAAAAAAAAClAZmZmZmYmREAzMzMzMzMuQJqZmZmZGThAMzMzMzMzN0AzMzMzMzMwQDMzMzMzMytAmpmZmZmZMkAzMzMzMzMtQGZmZmZmZjFAmpmZmZmZMkBnZmZmZmYmQAAAAAAAABpAMzMzMzMzEUCamZmZmZkpQAAAAAAAgDBAzczMzMzMLkAzMzMzM7MyQAAAAAAAACpAAAAAAAAALUDNzMzMzMwmQJqZmZmZGTpAm5mZmZmZF0BmZmZmZuZCQDMzMzMzs0VAzczMzMxMMUBmZmZmZmYuQGZmZmZmZgpAmZmZmZkZO0DNzMzMzMw0QM3MzMzMzCZAMzMzMzPzQEAzMzMzMzMRQGZmZmZmZhRA\",\"dtype\":\"float64\",\"order\":\"little\",\"shape\":[93]},\"total_score\":{\"__ndarray__\":\"MzMzMzOzTUCamZmZmRlRQGZmZmZm5lFAMzMzMzNzTkDXo3A9CvdCQGZmZmZmZkxA43oUrkc5SUAzMzMzMzNQQDMzMzMzs1FAzczMzMwcNEAAAAAAAEBXQGZmZmZmZktAmpmZmZl5VEAzMzMzMzNMQAAAAAAAgFVAMzMzMzOzTUDNzMzMzAxVQM3MzMzMzFNAFK5H4XqURUBmZmZmZuZNQDMzMzMzM0JAZWZmZmYeQ0BmZmZmZmZPQDMzMzMz81ZAH4XrUbguQ0CamZmZmVlNQArXo3A9qkZAAAAAAACgVUD1KFyPwi1JQBSuR+F61DFAmpmZmZk5UEAAAAAAAIBQQDMzMzMz80pAZmZmZmYmSkCamZmZmdlTQB+F61G4FkdAAAAAAAAgV0AAAAAAACBXQDMzMzMzs09AhOtRuB4lKUCamZmZmYFGQM3MzMzMzFNAMzMzMzPTVEBI4XoUrn9EQGVmZmZmxlZAmpmZmZkZT0AzMzMzM8tCQM3MzMzMDE5AAAAAAABAV0AAAAAAAMBMQB+F61G4vkRAw/UoXI9SOECF61G4HoVHQAAAAAAAQEtAzczMzMxMTUAAAAAAAEBOQM3MzMzMDFNAz8zMzMxMV0CPwvUoXI9IQM3MzMzMzFNAMzMzMzNzT0BmZmZmZuZMQGZmZmZmZk9AMzMzMzMTUkCamZmZmdlOQJqZmZmZ2UtAuB6F61FIQUAAAAAAAGBRQAAAAAAAQFFAZWZmZmYmTEAyMzMzM5NXQM3MzMzM7FVAzczMzMzMS0AzMzMzM7NQQB+F61G4vkRAmpmZmZkZTEAzMzMzM7NUQITrUbgePUJAcj0K16PISUCamZmZmdlTQM3MzMzMnElAMzMzMzOzTEAAAAAAAABNQAAAAAAAAEtAmpmZmZkZT0AzMzMzM3NQQAAAAAAAAE5ANDMzMzM/RUCamZmZmVlLQJqZmZmZ2VNAmpmZmZlZS0BnZmZmZuZVQM3MzMzMjE1A\",\"dtype\":\"float64\",\"order\":\"little\",\"shape\":[93]},\"university\":[\"Aarhus University\",\"Amsterdam University\",\"Australian National University\",\"Basel University\",\"Binghamton University, State University of New York\",\"Birmingham University\",\"Brandeis University\",\"Bristol University\",\"Brown University\",\"Calcutta University\",\"California Institute of Technology (Caltech)\",\"Cardiff University\",\"Carnegie Mellon University\",\"Cologne University\",\"Columbia University\",\"Copenhagen University\",\"Cornell University\",\"Edinburgh University\",\"George Mason University\",\"Ghent University\",\"Graz University\",\"Greifswald University\",\"Groningen University\",\"Harvard University\",\"Hokkaido University\",\"Indiana University\",\"Innsbruck University\",\"Johns Hopkins University\",\"Kiel University\",\"Kitasato University\",\"Kyoto University\",\"Leiden University\",\"Liverpool University\",\"Lomonosov Moscow State University\",\"London School of Economics and Political Science\",\"Marburg University\",\"Massachusetts Institute of Technology (MIT)\",\"Massachusetts Institute of Technology (MIT), Center for Cancer Research\",\"McMaster University\",\"Meijo University\",\"Nagoya University\",\"New York University\",\"Northwestern University\",\"Pavia University\",\"Princeton University\",\"Rice University\",\"Saint Louis University\",\"Sheffield University\",\"Stanford University\",\"Stockholm University\",\"Strasbourg University\",\"Szeged University\",\"Tokyo Institute of Technology\",\"Tufts University\",\"University of Alberta\",\"University of Bonn\",\"University of British Columbia\",\"University of Cambridge\",\"University of Delaware\",\"University of Edinburgh\",\"University of Freiburg\",\"University of Geneva\",\"University of Groningen\",\"University of Heidelberg\",\"University of Helsinki\",\"University of Lausanne\",\"University of Lisbon\",\"University of Manchester\",\"University of Minnesota\",\"University of Oslo\",\"University of Oxford\",\"University of Pennsylvania\",\"University of Rochester\",\"University of Southern California\",\"University of Strasbourg\",\"University of Sussex\",\"University of Toronto\",\"University of Tsukuba\",\"University of Utah\",\"University of Washington\",\"University of Waterloo\",\"University of Zurich\",\"Universit\\u00e9 Catholique de Louvain\",\"Universit\\u00e9 Libre de Bruxelles\",\"Uppsala University\",\"Utrecht University\",\"Vanderbilt University\",\"Victoria University\",\"Vienna University\",\"Washington University\",\"W\\u00fcrzburg University\",\"Yale University\",\"\\u00c9cole Polytechnique\"],\"year\":[2018,2018,2018,2018,2018,2018,2018,2018,2018,2018,2018,2018,2018,2018,2018,2018,2018,2018,2018,2018,2018,2018,2018,2018,2018,2018,2018,2018,2018,2018,2018,2018,2018,2018,2018,2018,2018,2018,2018,2018,2018,2018,2018,2018,2018,2018,2018,2018,2018,2018,2018,2018,2018,2018,2018,2018,2018,2018,2018,2018,2018,2018,2018,2018,2018,2018,2018,2018,2018,2018,2018,2018,2018,2018,2018,2018,2018,2018,2018,2018,2018,2018,2018,2018,2018,2018,2018,2018,2018,2018,2018,2018,2018]},\"selected\":{\"id\":\"1155\"},\"selection_policy\":{\"id\":\"1156\"}},\"id\":\"1109\",\"type\":\"ColumnDataSource\"},{\"attributes\":{\"source\":{\"id\":\"1034\"}},\"id\":\"1056\",\"type\":\"CDSView\"},{\"attributes\":{\"fill_alpha\":{\"value\":0.8},\"fill_color\":{\"value\":\"#80cdc1\"},\"line_alpha\":{\"value\":0.8},\"line_color\":{\"value\":\"#80cdc1\"},\"size\":{\"units\":\"screen\",\"value\":15},\"x\":{\"field\":\"total_score\"},\"y\":{\"field\":\"student_staff_ratio\"}},\"id\":\"1134\",\"type\":\"Scatter\"},{\"attributes\":{\"data_source\":{\"id\":\"1034\"},\"glyph\":{\"id\":\"1052\"},\"hover_glyph\":null,\"muted_glyph\":{\"id\":\"1054\"},\"name\":\"scatter\",\"nonselection_glyph\":{\"id\":\"1053\"},\"selection_glyph\":null,\"view\":{\"id\":\"1056\"}},\"id\":\"1055\",\"type\":\"GlyphRenderer\"},{\"attributes\":{\"data_source\":{\"id\":\"1110\"},\"glyph\":{\"id\":\"1111\"},\"hover_glyph\":null,\"muted_glyph\":null,\"nonselection_glyph\":{\"id\":\"1112\"},\"selection_glyph\":null,\"view\":{\"id\":\"1114\"}},\"id\":\"1113\",\"type\":\"GlyphRenderer\"},{\"attributes\":{\"label\":{\"value\":\"2018\"},\"renderers\":[{\"id\":\"1113\"},{\"id\":\"1137\"}]},\"id\":\"1132\",\"type\":\"LegendItem\"},{\"attributes\":{\"source\":{\"id\":\"1110\"}},\"id\":\"1114\",\"type\":\"CDSView\"},{\"attributes\":{\"data\":{\"index\":[473,474,475,476,477,478,479,480,481,482,483,484,485,486,487,488,489,490,491,492,493,494,495,496,497,498,499,500,501,502,503,504,505,506,507,508,509,510,511,512,513,514,515,516,517,518,519,520,521,522,523,524,525,526,527,528,529,530,531,532,533,534,535,536,537,538,539,540,541,542,543,544,545,546,547,548,549,550,551,552,553,554,555,556,557,558,559,560,561,562,563,564],\"num_students\":{\"__ndarray__\":\"AAAAAEAO2EAAAAAAAMDYQAAAAAAAFc5AAAAAAACIyEAAAAAAAD3QQAAAAACAvtlAAAAAAACctUAAAAAAABzSQAAAAAAA+8BAAAAAAMBw0kAAAAAAAAqhQAAAAABA/9ZAAAAAAIALyEAAAAAAQOrlQAAAAADADtlAAAAAAAAZ3UAAAAAAQBbVQAAAAADAr9hAAAAAAECy2kAAAAAAwEXhQAAAAACASNRAAAAAAADawEAAAAAAQLDYQAAAAACAbNNAAAAAAMCh0UAAAAAAkCDwQAAAAAAADMxAAAAAAIDjzUAAAAAAQB/YQAAAAADABNZAAAAAAEAL10AAAAAAQKPSQAAAAADA3txAAAAAAIBcwkAAAAAAQHnZQAAAAAAA3MVAAAAAAADcxUAAAAAAwGHXQAAAAACAgc5AAAAAAKAB5UAAAAAAgCLSQAAAAACAftVAAAAAAAD1vkAAAAAAAC+5QAAAAACAR8dAAAAAAEBm10AAAAAAAJXOQAAAAAAAit5AAAAAAKBX5UAAAAAAAOvUQAAAAACAucJAAAAAAABvxEAAAAAA4DDgQAAAAABgkuBAAAAAACBW6UAAAAAAQCvSQAAAAACA+NJAAAAAAMCv2EAAAAAAgEjZQAAAAACAcc5AAAAAAECw2EAAAAAAwNXcQAAAAABA0tZAAAAAAICzyEAAAAAAgFHnQAAAAADgm+BAAAAAACDE5kAAAAAAwJPaQAAAAACAQdNAAAAAAMDj00AAAAAAAM7CQAAAAABAyOJAAAAAAKBX5UAAAAAAgALIQAAAAADQn/BAAAAAAIDHz0AAAAAAQHzdQAAAAABADeZAAAAAAAAI30AAAAAAgG7ZQAAAAAAAW9dAAAAAAAAo10AAAAAAwK7YQAAAAACAad5AAAAAAIDAx0AAAAAAQELQQAAAAADg8uBAAAAAAEAN5kAAAAAAQMbVQAAAAAAAVcdAAAAAAAAwmEAAAAAAANqkQA==\",\"dtype\":\"float64\",\"order\":\"little\",\"shape\":[92]},\"student_staff_ratio\":{\"__ndarray__\":\"zczMzMzMK0CamZmZmZksQGZmZmZm5jNAZmZmZmZmMUAzMzMzM7M3QDMzMzMzszBAMzMzMzMzKkAzMzMzMzMrQGZmZmZmZiRAzczMzMwMQUDPzMzMzMwaQJqZmZmZmSxAZmZmZmZmKkBmZmZmZqZEQAAAAAAAABhAzczMzMzMEEDNzMzMzMwjQDMzMzMzMylAZmZmZmZmMUAAAAAAAIBCQJqZmZmZmTdAAAAAAAAAMUBmZmZmZmY4QJyZmZmZmSFAMzMzMzMzIEBmZmZmZmYsQJqZmZmZmSpAAAAAAAAADEDNzMzMzEw3QAAAAAAAABZAzczMzMzMMUBmZmZmZmYnQJqZmZmZmR1AmpmZmZmZJ0AAAAAAAIBDQJqZmZmZmSFAmpmZmZmZIUBmZmZmZmY0QAAAAAAAACBAZmZmZmZmGkAAAAAAAAAsQJqZmZmZWUNAzszMzMzMIEAAAAAAAAAiQM3MzMzMzBZAmpmZmZmZLkDNzMzMzMweQAAAAAAAgDdAMzMzMzMzMUAzMzMzMzMqQJqZmZmZmR1AMzMzMzMzJECamZmZmRk1QDMzMzMzU1JAMzMzMzMzMkCbmZmZmZkmQDMzMzMzMzBAMzMzMzMzKUCamZmZmdlAQAAAAAAAAC5AZmZmZmZmOEBnZmZmZuY4QAAAAAAAADFAAAAAAAAAK0DNzMzMzMwxQM3MzMzMzCxAAAAAAACAMUAzMzMzM7MyQM7MzMzMzCVAAAAAAAAAGkAAAAAAAAASQDMzMzMzMytAMzMzMzMzMUCamZmZmZkvQM3MzMzMzDJAMzMzMzMzKUCamZmZmZktQM3MzMzMzCdAzczMzMzMOEBlZmZmZmYYQM3MzMzMDENAAAAAAACAQUCamZmZmZkwQDMzMzMzMy9AzczMzMzMCEAAAAAAAEA7QM3MzMzMTDRAzczMzMzMJ0AAAAAAAMBAQJmZmZmZmRFAMzMzMzMzI0AAAAAAAAAUQA==\",\"dtype\":\"float64\",\"order\":\"little\",\"shape\":[92]},\"total_score\":{\"__ndarray__\":\"ZmZmZmYmTkBmZmZmZsZQQDMzMzMz01FAZmZmZmYmTkBxPQrXo/BCQM3MzMzMzExAZmZmZmZmSUCamZmZmRlQQJqZmZmZmVFACtejcD36M0AxMzMzM5NXQJqZmZmZ2UlAMzMzMzNzVEDNzMzMzIxKQGVmZmZmhlVAm5mZmZkZTUBnZmZmZiZVQM3MzMzMzFNAcT0K16PIREAAAAAAAEBNQI/C9Shcd0FAXo/C9Si0QkCamZmZmRlPQM3MzMzMLFdANTMzMzMzQkAAAAAAAIBLQBSuR+F6fEVAmpmZmZl5VUCPwvUoXMdIQJuZmZmZmU5AZWZmZmamT0BmZmZmZiZLQAAAAAAAwElAzczMzMwMVEAK16NwPbpGQJyZmZmZWVdAmpmZmZlZV0CamZmZmVlNQJHC9ShcN0VAzczMzMwsU0DNzMzMzOxUQKRwPQrXg0RAz8zMzMyMVkCamZmZmdlOQHE9CtejwERAzczMzMyMTUAxMzMzM3NXQGVmZmZm5ktAuB6F61GAREDhehSuRzE3QAAAAAAAIEdAAAAAAABATEAzMzMzM7NNQJqZmZmZWU1AmpmZmZn5UkBlZmZmZmZXQOpRuB6FE0hAzczMzMzMU0AzMzMzM3NOQDMzMzMzM0xAmpmZmZkZT0AAAAAAAEBSQJqZmZmZmU5AMzMzMzNzS0DXo3A9CqdCQM3MzMzMbFFAMzMzMzOTUUAzMzMzM3NMQAAAAAAAwFdAZmZmZmbGVUAzMzMzM3NLQM3MzMzMzFBAuB6F61GAREDNzMzMzIxLQAAAAAAAwFRANTMzMzMbQkDNzMzMzBRJQM3MzMzMDFRAMzMzMzNzSkAAAAAAAMBNQGZmZmZm5kxAFK5H4Xo0SUDNzMzMzIxOQDMzMzMz805AZmZmZmamTUDD9Shcj7pEQDMzMzMz80pAzczMzMwMVEDNzMzMzMxJQM7MzMzMDFZAMzMzMzNzUEDNzMzMzExNQA==\",\"dtype\":\"float64\",\"order\":\"little\",\"shape\":[92]},\"university\":[\"Aarhus University\",\"Amsterdam University\",\"Australian National University\",\"Basel University\",\"Binghamton University, State University of New York\",\"Birmingham University\",\"Brandeis University\",\"Bristol University\",\"Brown University\",\"Calcutta University\",\"California Institute of Technology (Caltech)\",\"Cardiff University\",\"Carnegie Mellon University\",\"Cologne University\",\"Columbia University\",\"Copenhagen University\",\"Cornell University\",\"Edinburgh University\",\"George Mason University\",\"Ghent University\",\"Graz University\",\"Greifswald University\",\"Groningen University\",\"Harvard University\",\"Hokkaido University\",\"Indiana University\",\"Innsbruck University\",\"Johns Hopkins University\",\"Kiel University\",\"Kyoto University\",\"Leiden University\",\"Liverpool University\",\"Lomonosov Moscow State University\",\"London School of Economics and Political Science\",\"Marburg University\",\"Massachusetts Institute of Technology (MIT)\",\"Massachusetts Institute of Technology (MIT), Center for Cancer Research\",\"McMaster University\",\"Nagoya University\",\"New York University\",\"Northwestern University\",\"Pavia University\",\"Princeton University\",\"Rice University\",\"Saint Louis University\",\"Sheffield University\",\"Stanford University\",\"Stockholm University\",\"Strasbourg University\",\"Szeged University\",\"Tokyo Institute of Technology\",\"Tufts University\",\"University of Alberta\",\"University of Bonn\",\"University of British Columbia\",\"University of Cambridge\",\"University of Delaware\",\"University of Edinburgh\",\"University of Freiburg\",\"University of Geneva\",\"University of Groningen\",\"University of Heidelberg\",\"University of Helsinki\",\"University of Lausanne\",\"University of Lisbon\",\"University of Manchester\",\"University of Minnesota\",\"University of Oslo\",\"University of Oxford\",\"University of Pennsylvania\",\"University of Rochester\",\"University of Southern California\",\"University of Strasbourg\",\"University of Sussex\",\"University of Toronto\",\"University of Tsukuba\",\"University of Utah\",\"University of Washington\",\"University of Waterloo\",\"University of Zurich\",\"Universit\\u00e9 Catholique de Louvain\",\"Universit\\u00e9 Libre de Bruxelles\",\"Uppsala University\",\"Utrecht University\",\"Vanderbilt University\",\"Victoria University\",\"Vienna University\",\"Washington University\",\"W\\u00fcrzburg University\",\"Yale University\",\"\\u00c9cole Normale Sup\\u00e9rieure\",\"\\u00c9cole Polytechnique\"],\"year\":[2017,2017,2017,2017,2017,2017,2017,2017,2017,2017,2017,2017,2017,2017,2017,2017,2017,2017,2017,2017,2017,2017,2017,2017,2017,2017,2017,2017,2017,2017,2017,2017,2017,2017,2017,2017,2017,2017,2017,2017,2017,2017,2017,2017,2017,2017,2017,2017,2017,2017,2017,2017,2017,2017,2017,2017,2017,2017,2017,2017,2017,2017,2017,2017,2017,2017,2017,2017,2017,2017,2017,2017,2017,2017,2017,2017,2017,2017,2017,2017,2017,2017,2017,2017,2017,2017,2017,2017,2017,2017,2017,2017]},\"selected\":{\"id\":\"1212\"},\"selection_policy\":{\"id\":\"1213\"}},\"id\":\"1158\",\"type\":\"ColumnDataSource\"},{\"attributes\":{},\"id\":\"1065\",\"type\":\"Selection\"},{\"attributes\":{},\"id\":\"1066\",\"type\":\"UnionRenderers\"},{\"attributes\":{\"active_drag\":\"auto\",\"active_inspect\":\"auto\",\"active_multi\":null,\"active_scroll\":\"auto\",\"active_tap\":\"auto\",\"tools\":[{\"id\":\"1019\"},{\"id\":\"1020\"},{\"id\":\"1021\"},{\"id\":\"1022\"},{\"id\":\"1023\"},{\"id\":\"1024\"},{\"id\":\"1215\"}]},\"id\":\"1026\",\"type\":\"Toolbar\"},{\"attributes\":{\"fill_alpha\":{\"value\":0.2},\"fill_color\":{\"value\":\"#80cdc1\"},\"line_alpha\":{\"value\":0.2},\"line_color\":{\"value\":\"#80cdc1\"},\"size\":{\"units\":\"screen\",\"value\":15},\"x\":{\"field\":\"total_score\"},\"y\":{\"field\":\"student_staff_ratio\"}},\"id\":\"1136\",\"type\":\"Scatter\"},{\"attributes\":{\"line_color\":\"#80cdc1\",\"x\":{\"field\":\"x\"},\"y\":{\"field\":\"y\"}},\"id\":\"1111\",\"type\":\"Line\"},{\"attributes\":{},\"id\":\"1020\",\"type\":\"WheelZoomTool\"},{\"attributes\":{\"overlay\":{\"id\":\"1025\"}},\"id\":\"1021\",\"type\":\"BoxZoomTool\"},{\"attributes\":{\"source\":{\"id\":\"1035\"}},\"id\":\"1039\",\"type\":\"CDSView\"},{\"attributes\":{},\"id\":\"1129\",\"type\":\"Selection\"},{\"attributes\":{\"data\":{\"index\":[658,659,660,661,662,663,664,665,666,667,668,669,670,671,672,673,674,675,676,677,678,679,680,681,682,683,684,685,686,687,688,689,690,691,692,693,694,695,696,697,698,699,700,701,702,703,704,705,706,707,708,709,710,711,712,713,714,715,716,717,718,719,720,721,722,723,724,725,726,727,728,729,730,731,732,733,734,735,736,737,738,739,740,741,742,743,744,745,746,747,748,749,750],\"num_students\":{\"__ndarray__\":\"AAAAAMA82kAAAAAAgDjXQAAAAAAActBAAAAAAAAayUAAAAAAgCvRQAAAAACAsNtAAAAAAAAJtUAAAAAAgBbUQAAAAAAAvcFAAAAAAACeoUAAAAAAQK3XQAAAAACAdMlAAAAAAGBN4kAAAAAAgPbZQAAAAABAZ99AAAAAAABk1UAAAAAAQH7bQAAAAABAmdtAAAAAAGB/4UAAAAAAgBrUQAAAAAAAV8RAAAAAAMCR2UAAAAAAwBzUQAAAAACAsNFAAAAAALAK8EAAAAAAAF7MQAAAAAAAic9AAAAAAEBZ2UAAAAAAgK3AQAAAAAAA5dVAAAAAAEC02UAAAAAAwBXVQAAAAADAYdxAAAAAAACWw0AAAAAAgFXZQAAAAACA78VAAAAAAIDvxUAAAAAAgAbYQAAAAAAAH85AAAAAAACHzkAAAAAAILLlQAAAAAAAMNFAAAAAAAB410AAAAAAADy/QAAAAAAAmrlAAAAAAADqxUAAAAAAQPrYQAAAAAAg1+RAAAAAAAADz0AAAAAAAMPeQAAAAABANeZAAAAAAADp00AAAAAAAMbCQAAAAACA0cRAAAAAAAAZ30AAAAAAgGniQAAAAADAJ+pAAAAAAEBP0kAAAAAAAN/TQAAAAABAfttAAAAAAEB91UAAAAAAgCTQQAAAAADAkdlAAAAAAEB21EAAAAAAgOTVQAAAAACAWsdAAAAAAEB/6EAAAAAAQNbhQAAAAACAme1AAAAAAAAS1EAAAAAAgNLTQAAAAADA9tNAAAAAAIDowkAAAAAAwFbhQAAAAABANeZAAAAAAIAhy0AAAAAAoKDxQAAAAABAU9BAAAAAAABV3UAAAAAAgDTmQAAAAADAot9AAAAAAAC52UAAAAAAAFjZQAAAAAAATtpAAAAAAEB52EAAAAAAwM/eQAAAAAAAg8dAAAAAAODQ0EAAAAAAIDTgQAAAAACANOZAAAAAAAC+1UAAAAAAAA/IQAAAAAAAuKZA\",\"dtype\":\"float64\",\"order\":\"little\",\"shape\":[93]},\"student_staff_ratio\":{\"__ndarray__\":\"mpmZmZmZLUCamZmZmZkoQAAAAAAAgDJAAAAAAAAAMkAAAAAAAAA3QDMzMzMzMy5AAAAAAAAAKUBmZmZmZmYqQGZmZmZmZiVAAAAAAAAAGkCamZmZmZkpQJqZmZmZmSpAMzMzMzPzQkAAAAAAAAAYQJqZmZmZmRFAmZmZmZmZI0BmZmZmZmYpQDMzMzMzszFAmpmZmZmZQUAzMzMzMzM2QDMzMzMzszNAzczMzMzMN0AxMzMzMzMiQJqZmZmZmR9AmpmZmZmZK0AAAAAAAAAqQGZmZmZmZhJAMzMzMzMzNkAzMzMzMzMVQJqZmZmZmSFAAAAAAAAAMkCamZmZmZkrQM3MzMzMzBxAmpmZmZmZJ0CamZmZmdlBQGZmZmZmZiFAZmZmZmZmIUDNzMzMzEw7QM3MzMzMTEBAZmZmZmZmIkDNzMzMzMwhQAAAAAAAACpAmpmZmZmZQ0BnZmZmZmYgQM3MzMzMzCFAMzMzMzMzHUDNzMzMzMwtQJqZmZmZmSxAnZmZmZmZHUAAAAAAAAA3QAAAAAAAgDJAMzMzMzMzKkAAAAAAAAAeQDMzMzMzMyRAAAAAAAAANUDNzMzMzIxRQJqZmZmZmTJAz8zMzMzMJUBmZmZmZuYwQGZmZmZmZilAAAAAAABARkBmZmZmZmYuQM3MzMzMzDdAmZmZmZmZMECamZmZmZkwQDMzMzMzMyNAMzMzMzOzMkAAAAAAAAAtQJqZmZmZmShAm5mZmZmZKkAAAAAAAAAmQJqZmZmZmRlAzczMzMzMEEAzMzMzMzMnQAAAAAAAgDJAAAAAAACAMEAAAAAAAAAzQJqZmZmZmSpAMzMzMzMzLECamZmZmZkmQDMzMzMzszdAZWZmZmZmLUDNzMzMzMxDQDMzMzMz80FAZmZmZmbmMECamZmZmZksQM3MzMzMzAhAAQAAAABAO0DNzMzMzEwzQJqZmZmZmSZAzczMzMxMPkDNzMzMzMwUQGZmZmZmZhZA\",\"dtype\":\"float64\",\"order\":\"little\",\"shape\":[93]},\"total_score\":{\"__ndarray__\":\"AAAAAACATUCamZmZmflQQJqZmZmZGVJAAAAAAADATkD2KFyPwkVCQJqZmZmZ2U1Aw/UoXI8ySUAzMzMzMxNQQJqZmZmZ2VFAZWZmZmaGV0CamZmZmRlLQAAAAAAAgFRAZmZmZmamTEDPzMzMzMxVQJuZmZmZ2U1AZ2ZmZmZGVUAzMzMzM/NTQPYoXI/CNUZAzczMzMzMTEBSuB6F68lAQK5H4XoUPkNAZmZmZmYGUEBkZmZmZmZXQLoehetRAERAZmZmZmamTEDD9Shcj9pFQAAAAAAAQFZA16NwPQoPSUDLzMzMzKwxQDMzMzMz01BAMzMzMzOTUEAAAAAAAEBLQM3MzMzMjEpAMzMzMzNTVECPwvUoXOdHQM/MzMzMjFdAzczMzMyMV0CamZmZmRlQQIXrUbgeJSlA7FG4HoUTR0AAAAAAAEBUQM3MzMzMbFRAhetRuB4tREAxMzMzMxNXQAAAAAAAwE9Aw/UoXI9SQkCamZmZmZlOQGZmZmZmRlBAz8zMzMysV0DNzMzMzExMQOF6FK5HIURAAQAAAACAOkCF61G4Hl1IQGZmZmZmZkxAAAAAAABATUBmZmZmZiZOQAAAAAAAAFNAMTMzMzOzV0DXo3A9Cl9IQDMzMzMz81NAzczMzMwsUEBmZmZmZiZNQGZmZmZmBlBAzczMzMxMUkAzMzMzMzNPQDMzMzMzc0tAFK5H4XqcQUCamZmZmXlRQDMzMzMzU1BAzczMzMyMTUAAAAAAAABYQAAAAAAAQFZAMzMzMzPzS0AAAAAAAMBQQOF6FK5HIURAAAAAAAAATEAAAAAAAABVQFG4HoXr2UJAuB6F61GgSUCamZmZmRlUQEjhehSuz0hAAAAAAACAT0AzMzMzM3NNQGZmZmZmbkpAZmZmZmamT0AAAAAAAEBQQM3MzMzMjE1AmZmZmZklRkDNzMzMzMxMQJqZmZmZGVRAmpmZmZkZTEAyMzMzM9NWQGZmZmZmZk5A\",\"dtype\":\"float64\",\"order\":\"little\",\"shape\":[93]},\"university\":[\"Aarhus University\",\"Amsterdam University\",\"Australian National University\",\"Basel University\",\"Binghamton University, State University of New York\",\"Birmingham University\",\"Brandeis University\",\"Bristol University\",\"Brown University\",\"California Institute of Technology (Caltech)\",\"Cardiff University\",\"Carnegie Mellon University\",\"Cologne University\",\"Columbia University\",\"Copenhagen University\",\"Cornell University\",\"Edinburgh University\",\"George Mason University\",\"Ghent University\",\"Graz University\",\"Greifswald University\",\"Groningen University\",\"Harvard University\",\"Hokkaido University\",\"Indiana University\",\"Innsbruck University\",\"Johns Hopkins University\",\"Kiel University\",\"Kitasato University\",\"Kyoto University\",\"Leiden University\",\"Liverpool University\",\"Lomonosov Moscow State University\",\"London School of Economics and Political Science\",\"Marburg University\",\"Massachusetts Institute of Technology (MIT)\",\"Massachusetts Institute of Technology (MIT), Center for Cancer Research\",\"McMaster University\",\"Meijo University\",\"Nagoya University\",\"New York University\",\"Northwestern University\",\"Pavia University\",\"Princeton University\",\"Rice University\",\"Saint Louis University\",\"Sheffield University\",\"Sorbonne University\",\"Stanford University\",\"Stockholm University\",\"Strasbourg University\",\"Szeged University\",\"Tokyo Institute of Technology\",\"Tufts University\",\"University of Alberta\",\"University of Bonn\",\"University of British Columbia\",\"University of Cambridge\",\"University of Delaware\",\"University of Edinburgh\",\"University of Freiburg\",\"University of Geneva\",\"University of Groningen\",\"University of Heidelberg\",\"University of Helsinki\",\"University of Lausanne\",\"University of Lisbon\",\"University of Manchester\",\"University of Minnesota\",\"University of Oslo\",\"University of Oxford\",\"University of Pennsylvania\",\"University of Rochester\",\"University of Southern California\",\"University of Strasbourg\",\"University of Sussex\",\"University of Toronto\",\"University of Tsukuba\",\"University of Utah\",\"University of Washington\",\"University of Waterloo\",\"University of Zurich\",\"Universit\\u00e9 Catholique de Louvain\",\"Universit\\u00e9 Libre de Bruxelles\",\"Uppsala University\",\"Utrecht University\",\"Vanderbilt University\",\"Victoria University\",\"Vienna University\",\"Washington University\",\"W\\u00fcrzburg University\",\"Yale University\",\"\\u00c9cole Polytechnique\"],\"year\":[2019,2019,2019,2019,2019,2019,2019,2019,2019,2019,2019,2019,2019,2019,2019,2019,2019,2019,2019,2019,2019,2019,2019,2019,2019,2019,2019,2019,2019,2019,2019,2019,2019,2019,2019,2019,2019,2019,2019,2019,2019,2019,2019,2019,2019,2019,2019,2019,2019,2019,2019,2019,2019,2019,2019,2019,2019,2019,2019,2019,2019,2019,2019,2019,2019,2019,2019,2019,2019,2019,2019,2019,2019,2019,2019,2019,2019,2019,2019,2019,2019,2019,2019,2019,2019,2019,2019,2019,2019,2019,2019,2019,2019]},\"selected\":{\"id\":\"1106\"},\"selection_policy\":{\"id\":\"1107\"}},\"id\":\"1068\",\"type\":\"ColumnDataSource\"},{\"attributes\":{\"label\":{\"value\":\"2020\"},\"renderers\":[{\"id\":\"1038\"},{\"id\":\"1055\"}]},\"id\":\"1050\",\"type\":\"LegendItem\"},{\"attributes\":{\"fill_alpha\":{\"value\":0.8},\"fill_color\":{\"value\":\"#dfc27d\"},\"line_alpha\":{\"value\":0.8},\"line_color\":{\"value\":\"#dfc27d\"},\"size\":{\"units\":\"screen\",\"value\":15},\"x\":{\"field\":\"total_score\"},\"y\":{\"field\":\"student_staff_ratio\"}},\"id\":\"1089\",\"type\":\"Scatter\"},{\"attributes\":{\"fill_alpha\":{\"value\":0.8},\"fill_color\":{\"value\":\"#a6611a\"},\"line_alpha\":{\"value\":0.8},\"line_color\":{\"value\":\"#a6611a\"},\"size\":{\"units\":\"screen\",\"value\":15},\"x\":{\"field\":\"total_score\"},\"y\":{\"field\":\"student_staff_ratio\"}},\"id\":\"1052\",\"type\":\"Scatter\"},{\"attributes\":{},\"id\":\"1130\",\"type\":\"UnionRenderers\"},{\"attributes\":{\"data\":{\"x\":{\"__ndarray__\":\"AAAAAACATUCamZmZmflQQJqZmZmZGVJAAAAAAADATkD2KFyPwkVCQJqZmZmZ2U1Aw/UoXI8ySUAzMzMzMxNQQJqZmZmZ2VFAZWZmZmaGV0CamZmZmRlLQAAAAAAAgFRAZmZmZmamTEDPzMzMzMxVQJuZmZmZ2U1AZ2ZmZmZGVUAzMzMzM/NTQPYoXI/CNUZAzczMzMzMTEBSuB6F68lAQK5H4XoUPkNAZmZmZmYGUEBkZmZmZmZXQLoehetRAERAZmZmZmamTEDD9Shcj9pFQAAAAAAAQFZA16NwPQoPSUDLzMzMzKwxQDMzMzMz01BAMzMzMzOTUEAAAAAAAEBLQM3MzMzMjEpAMzMzMzNTVECPwvUoXOdHQM/MzMzMjFdAzczMzMyMV0CamZmZmRlQQIXrUbgeJSlA7FG4HoUTR0AAAAAAAEBUQM3MzMzMbFRAhetRuB4tREAxMzMzMxNXQAAAAAAAwE9Aw/UoXI9SQkCamZmZmZlOQGZmZmZmRlBAz8zMzMysV0DNzMzMzExMQOF6FK5HIURAAQAAAACAOkCF61G4Hl1IQGZmZmZmZkxAAAAAAABATUBmZmZmZiZOQAAAAAAAAFNAMTMzMzOzV0DXo3A9Cl9IQDMzMzMz81NAzczMzMwsUEBmZmZmZiZNQGZmZmZmBlBAzczMzMxMUkAzMzMzMzNPQDMzMzMzc0tAFK5H4XqcQUCamZmZmXlRQDMzMzMzU1BAzczMzMyMTUAAAAAAAABYQAAAAAAAQFZAMzMzMzPzS0AAAAAAAMBQQOF6FK5HIURAAAAAAAAATEAAAAAAAABVQFG4HoXr2UJAuB6F61GgSUCamZmZmRlUQEjhehSuz0hAAAAAAACAT0AzMzMzM3NNQGZmZmZmbkpAZmZmZmamT0AAAAAAAEBQQM3MzMzMjE1AmZmZmZklRkDNzMzMzMxMQJqZmZmZGVRAmpmZmZkZTEAyMzMzM9NWQGZmZmZmZk5A\",\"dtype\":\"float64\",\"order\":\"little\",\"shape\":[93]},\"y\":[16.901313124752498,15.36746453299822,14.591923110201115,16.470456778754105,20.77126482451005,16.78067334787295,18.38432066767896,15.987897671235906,14.764265648600471,10.852090026935077,17.72855730906941,12.93743474156729,17.194295440031404,12.04125354189063,16.780673347872945,12.403172872529284,13.316588326045876,19.41406733461512,17.142592678511598,21.282691307210143,20.436920300015302,16.022366178915778,10.938261296134758,20.175390497994275,17.194295440031404,19.536861393224658,11.731036972771793,18.432145722084783,24.023368524105916,15.470870056037835,15.643212594437193,17.676854547549603,17.918134101308702,13.05807451844684,18.830256985787297,10.834855773095132,10.83485577309514,15.970663417395969,24.902746326288632,19.11548388683823,13.109777279966647,12.989137503087097,20.1150706095545,11.162306596053922,16.12577170195539,20.754030570670118,16.52215954027391,15.85002364051642,10.748684503895454,17.314935216910953,20.13101229435644,22.50244562273159,18.67170185045989,17.28046670923108,16.987484393952172,16.677267824833333,13.97148997196343,10.73145025005553,18.669116712383897,13.316588326045876,15.918960655876162,17.021952901632048,16.022366178915778,14.45404907948163,16.315348494194684,17.60791753218986,20.999187831543203,15.022779456199506,15.815555132836549,16.88407887091256,10.524639203976296,11.731036972771793,17.435574993790503,15.522572817557641,20.13101229435644,17.418340739950565,12.592749664768577,20.571778336312796,18.23653694100151,13.21318280300626,18.517455278592465,16.211942971155068,16.918547378592432,17.95906545417855,16.160240209635262,15.867257894356355,16.88407887091256,19.435825580088036,17.142592678511598,13.21318280300626,17.383872232270697,11.334649134453276,16.591096555633655]},\"selected\":{\"id\":\"1084\"},\"selection_policy\":{\"id\":\"1085\"}},\"id\":\"1069\",\"type\":\"ColumnDataSource\"},{\"attributes\":{\"data_source\":{\"id\":\"1069\"},\"glyph\":{\"id\":\"1070\"},\"hover_glyph\":null,\"muted_glyph\":null,\"nonselection_glyph\":{\"id\":\"1071\"},\"selection_glyph\":null,\"view\":{\"id\":\"1073\"}},\"id\":\"1072\",\"type\":\"GlyphRenderer\"},{\"attributes\":{\"label\":{\"value\":\"2019\"},\"renderers\":[{\"id\":\"1072\"},{\"id\":\"1092\"}]},\"id\":\"1087\",\"type\":\"LegendItem\"},{\"attributes\":{\"source\":{\"id\":\"1109\"}},\"id\":\"1138\",\"type\":\"CDSView\"},{\"attributes\":{\"source\":{\"id\":\"1069\"}},\"id\":\"1073\",\"type\":\"CDSView\"},{\"attributes\":{\"data_source\":{\"id\":\"1109\"},\"glyph\":{\"id\":\"1134\"},\"hover_glyph\":null,\"muted_glyph\":{\"id\":\"1136\"},\"name\":\"scatter\",\"nonselection_glyph\":{\"id\":\"1135\"},\"selection_glyph\":null,\"view\":{\"id\":\"1138\"}},\"id\":\"1137\",\"type\":\"GlyphRenderer\"},{\"attributes\":{\"line_color\":\"#dfc27d\",\"x\":{\"field\":\"x\"},\"y\":{\"field\":\"y\"}},\"id\":\"1070\",\"type\":\"Line\"},{\"attributes\":{},\"id\":\"1155\",\"type\":\"Selection\"},{\"attributes\":{\"fill_alpha\":{\"value\":0.1},\"fill_color\":{\"value\":\"#80cdc1\"},\"line_alpha\":{\"value\":0.1},\"line_color\":{\"value\":\"#80cdc1\"},\"size\":{\"units\":\"screen\",\"value\":15},\"x\":{\"field\":\"total_score\"},\"y\":{\"field\":\"student_staff_ratio\"}},\"id\":\"1135\",\"type\":\"Scatter\"},{\"attributes\":{},\"id\":\"1019\",\"type\":\"PanTool\"},{\"attributes\":{\"fill_alpha\":{\"value\":0.8},\"fill_color\":{\"value\":\"#018571\"},\"line_alpha\":{\"value\":0.8},\"line_color\":{\"value\":\"#018571\"},\"size\":{\"units\":\"screen\",\"value\":15},\"x\":{\"field\":\"total_score\"},\"y\":{\"field\":\"student_staff_ratio\"}},\"id\":\"1187\",\"type\":\"Scatter\"},{\"attributes\":{\"line_alpha\":0.1,\"line_color\":\"#018571\",\"x\":{\"field\":\"x\"},\"y\":{\"field\":\"y\"}},\"id\":\"1161\",\"type\":\"Line\"},{\"attributes\":{\"data\":{\"x\":{\"__ndarray__\":\"ZmZmZmYmTkBmZmZmZsZQQDMzMzMz01FAZmZmZmYmTkBxPQrXo/BCQM3MzMzMzExAZmZmZmZmSUCamZmZmRlQQJqZmZmZmVFACtejcD36M0AxMzMzM5NXQJqZmZmZ2UlAMzMzMzNzVEDNzMzMzIxKQGVmZmZmhlVAm5mZmZkZTUBnZmZmZiZVQM3MzMzMzFNAcT0K16PIREAAAAAAAEBNQI/C9Shcd0FAXo/C9Si0QkCamZmZmRlPQM3MzMzMLFdANTMzMzMzQkAAAAAAAIBLQBSuR+F6fEVAmpmZmZl5VUCPwvUoXMdIQJuZmZmZmU5AZWZmZmamT0BmZmZmZiZLQAAAAAAAwElAzczMzMwMVEAK16NwPbpGQJyZmZmZWVdAmpmZmZlZV0CamZmZmVlNQJHC9ShcN0VAzczMzMwsU0DNzMzMzOxUQKRwPQrXg0RAz8zMzMyMVkCamZmZmdlOQHE9CtejwERAzczMzMyMTUAxMzMzM3NXQGVmZmZm5ktAuB6F61GAREDhehSuRzE3QAAAAAAAIEdAAAAAAABATEAzMzMzM7NNQJqZmZmZWU1AmpmZmZn5UkBlZmZmZmZXQOpRuB6FE0hAzczMzMzMU0AzMzMzM3NOQDMzMzMzM0xAmpmZmZkZT0AAAAAAAEBSQJqZmZmZmU5AMzMzMzNzS0DXo3A9CqdCQM3MzMzMbFFAMzMzMzOTUUAzMzMzM3NMQAAAAAAAwFdAZmZmZmbGVUAzMzMzM3NLQM3MzMzMzFBAuB6F61GAREDNzMzMzIxLQAAAAAAAwFRANTMzMzMbQkDNzMzMzBRJQM3MzMzMDFRAMzMzMzNzSkAAAAAAAMBNQGZmZmZm5kxAFK5H4Xo0SUDNzMzMzIxOQDMzMzMz805AZmZmZmamTUDD9Shcj7pEQDMzMzMz80pAzczMzMwMVEDNzMzMzMxJQM7MzMzMDFZAMzMzMzNzUEDNzMzMzExNQA==\",\"dtype\":\"float64\",\"order\":\"little\",\"shape\":[92]},\"y\":[16.788408299261945,15.382589680689973,14.514289945689637,16.788408299261945,21.423474979906594,17.346600986047875,18.75241960461985,15.9407823674759,14.700354174618278,25.12460260034553,9.75931520640209,18.566355375691202,12.343540608188796,18.27692213069109,11.454567069974171,17.222558166762113,11.76467411818857,12.881059491760432,20.661128486379514,17.16053675711923,22.032835329647902,21.52115870009413,16.395606038190365,10.090096057830781,21.72944726747814,17.88411986961951,20.37066155121869,11.495914676402752,19.009291609557447,16.6023440703333,16.168194202833135,18.028836492119567,18.60770298211979,12.674321459617495,19.857434386423847,9.945379435330718,9.945379435330725,17.119189150690644,20.482300088575872,13.397904572117774,11.950738347117216,20.772250178656343,10.606941138188116,16.498975054261834,20.674049613388448,17.03649393783347,9.862684222473558,17.718729443905165,20.777935474540275,24.459939827005986,19.69307765087021,17.574012821405105,16.97447252819059,17.119189150690644,13.563294997832124,9.904031828902141,19.299758544718276,12.881059491760432,16.664365479976183,17.5946866246194,16.395606038190365,14.162835291046642,16.602344070333302,17.904793672833804,21.542349348388782,14.845070797118336,14.721027977832573,17.49131760854793,9.614598583902026,11.247829037831231,17.904793672833804,15.361915877475678,20.777935474540275,17.863446066405217,12.095454969617272,21.76821064850494,18.88421510011097,12.674321459617495,18.318269737119678,16.953798724976295,17.305253379619288,18.833047437155592,16.623017873547596,16.457627447833246,16.995146331404882,20.68386966991524,18.11153170497674,12.674321459617495,18.587029178905496,11.020417202473993,15.651349122475791,17.139862953904938]},\"selected\":{\"id\":\"1182\"},\"selection_policy\":{\"id\":\"1183\"}},\"id\":\"1159\",\"type\":\"ColumnDataSource\"},{\"attributes\":{\"callback\":null,\"names\":[\"scatter\"],\"tooltips\":[[\"Name\",\"@university\"],[\"Total Score\",\"@total_score\"],[\"Student-Staff Ratio\",\"@student_staff_ratio\"],[\"Number of Students\",\"@num_students\"]]},\"id\":\"1215\",\"type\":\"HoverTool\"},{\"attributes\":{\"data_source\":{\"id\":\"1159\"},\"glyph\":{\"id\":\"1160\"},\"hover_glyph\":null,\"muted_glyph\":null,\"nonselection_glyph\":{\"id\":\"1161\"},\"selection_glyph\":null,\"view\":{\"id\":\"1163\"}},\"id\":\"1162\",\"type\":\"GlyphRenderer\"},{\"attributes\":{\"source\":{\"id\":\"1159\"}},\"id\":\"1163\",\"type\":\"CDSView\"},{\"attributes\":{\"label\":{\"value\":\"2017\"},\"renderers\":[{\"id\":\"1162\"},{\"id\":\"1190\"}]},\"id\":\"1185\",\"type\":\"LegendItem\"},{\"attributes\":{\"line_color\":\"#018571\",\"x\":{\"field\":\"x\"},\"y\":{\"field\":\"y\"}},\"id\":\"1160\",\"type\":\"Line\"},{\"attributes\":{\"fill_alpha\":{\"value\":0.2},\"fill_color\":{\"value\":\"#018571\"},\"line_alpha\":{\"value\":0.2},\"line_color\":{\"value\":\"#018571\"},\"size\":{\"units\":\"screen\",\"value\":15},\"x\":{\"field\":\"total_score\"},\"y\":{\"field\":\"student_staff_ratio\"}},\"id\":\"1189\",\"type\":\"Scatter\"},{\"attributes\":{},\"id\":\"1182\",\"type\":\"Selection\"},{\"attributes\":{},\"id\":\"1183\",\"type\":\"UnionRenderers\"},{\"attributes\":{\"source\":{\"id\":\"1158\"}},\"id\":\"1191\",\"type\":\"CDSView\"},{\"attributes\":{\"data_source\":{\"id\":\"1158\"},\"glyph\":{\"id\":\"1187\"},\"hover_glyph\":null,\"muted_glyph\":{\"id\":\"1189\"},\"name\":\"scatter\",\"nonselection_glyph\":{\"id\":\"1188\"},\"selection_glyph\":null,\"view\":{\"id\":\"1191\"}},\"id\":\"1190\",\"type\":\"GlyphRenderer\"},{\"attributes\":{\"fill_alpha\":{\"value\":0.1},\"fill_color\":{\"value\":\"#018571\"},\"line_alpha\":{\"value\":0.1},\"line_color\":{\"value\":\"#018571\"},\"size\":{\"units\":\"screen\",\"value\":15},\"x\":{\"field\":\"total_score\"},\"y\":{\"field\":\"student_staff_ratio\"}},\"id\":\"1188\",\"type\":\"Scatter\"},{\"attributes\":{},\"id\":\"1212\",\"type\":\"Selection\"},{\"attributes\":{},\"id\":\"1213\",\"type\":\"UnionRenderers\"},{\"attributes\":{\"text\":\"Pattern of associtation between total score and student-staff ratio\"},\"id\":\"1033\",\"type\":\"Title\"},{\"attributes\":{\"data\":{\"index\":[751,752,753,754,755,756,757,758,759,760,761,762,763,764,765,766,767,768,769,770,771,772,773,774,775,776,777,778,779,780,781,782,783,784,785,786,787,788,789,790,791,792,793,794,795,796,797,798,799,800,801,802,803,804,805,806,807,808,809,810,811,812,813,814,815,816,817,818,819,820,821,822,823,824,825,826,827,828,829,830,831,832,833,834,835,836,837,838,839,840,841,842],\"num_students\":{\"__ndarray__\":\"AAAAAIA22kAAAAAAwBjaQAAAAADA89BAAAAAAAB/xkAAAAAAAG7RQAAAAACA2dxAAAAAAAD/tEAAAAAAwEXVQAAAAACAV8JAAAAAAACAoUAAAAAAQOfYQAAAAAAAO8pAAAAAAKAM4kAAAAAAgPbZQAAAAADAfN5AAAAAAMDL1UAAAAAAQL7cQAAAAABAsNxAAAAAAACY4kAAAAAAANbTQAAAAACAA8RAAAAAAACX2kAAAAAAwFXUQAAAAABAzNFAAAAAAIBT8EAAAAAAAJjLQAAAAACAlc9AAAAAAADL2UAAAAAAgJvAQAAAAACACdZAAAAAAEAR3EAAAAAAQITWQAAAAADAjNxAAAAAAAClxEAAAAAAQPHYQAAAAACA98VAAAAAAID3xUAAAAAAANfXQAAAAAAAGs5AAAAAAACezkAAAAAAQLblQAAAAADAh9FAAAAAAMAL2EAAAAAAAC+/QAAAAAAAC7pAAAAAAICa2UAAAAAAgAjlQAAAAACAg89AAAAAAECM2kAAAAAAQObmQAAAAAAAPdNAAAAAAAAMw0AAAAAAgITFQAAAAADAK99AAAAAAADA4UAAAAAAgHHpQAAAAACAiNJAAAAAAIAV1EAAAAAAQL7cQAAAAADA+NRAAAAAAMCJ0EAAAAAAAJfaQAAAAAAAUNRAAAAAAACO1UAAAAAAgNLHQAAAAADAYedAAAAAAMAV4kAAAAAAANjtQAAAAADAS9RAAAAAAAAu1EAAAAAAgBjUQAAAAAAAMMNAAAAAACAI4kAAAAAAQObmQAAAAAAAQc1AAAAAAKDp8UAAAAAAAHPQQAAAAABAp91AAAAAAIBP5kAAAAAA4F3gQAAAAABAFNZAAAAAAMCe2UAAAAAAgI7aQAAAAACA19hAAAAAAEAW30AAAAAAAHPHQAAAAAAAktFAAAAAAGBh4EAAAAAAgE/mQAAAAACAhNdAAAAAAAA5yEAAAAAAAKynQA==\",\"dtype\":\"float64\",\"order\":\"little\",\"shape\":[92]},\"student_staff_ratio\":{\"__ndarray__\":\"zczMzMzMLEAAAAAAAAArQM3MzMzMzDFAmpmZmZmZL0DNzMzMzEw3QAAAAAAAAC9AZmZmZmZmKEAzMzMzMzMrQJqZmZmZmSVAm5mZmZmZGUAAAAAAAAArQDMzMzMzMytAAAAAAABAQkAxMzMzMzMXQDMzMzMzMxFAmZmZmZmZI0CamZmZmZkpQAAAAAAAADJAAAAAAACAQkBmZmZmZuY1QJqZmZmZGTVAzczMzMzMN0BkZmZmZmYiQDMzMzMzMyBAMzMzMzMzK0AzMzMzMzMpQAAAAAAAABJAMzMzMzMzNkCamZmZmZkVQAAAAAAAACJAMzMzMzOzMkCamZmZmZkrQDMzMzMzMx1AMzMzMzMzKECamZmZmVlBQDIzMzMzMyFAMzMzMzMzIUCamZmZmRk8QGZmZmZmZj9AZmZmZmZmIkDNzMzMzMwhQJuZmZmZmSlAAAAAAADAREAyMzMzMzMgQM3MzMzMzCFAAAAAAAAALkAAAAAAAAArQDMzMzMzMx1AAAAAAACAM0DNzMzMzMwyQAAAAAAAAClAzczMzMzMHkCamZmZmZkjQAAAAAAAADVAzczMzMzsUECamZmZmRkyQM/MzMzMzCVAAAAAAAAAMUCamZmZmZkpQGZmZmZmZkVAMzMzMzMzL0DNzMzMzMw3QJmZmZmZGTBAmpmZmZmZMEAzMzMzMzMjQDMzMzMzszFAzczMzMzMLEDNzMzMzMwoQDMzMzMzMylAZ2ZmZmZmJkAAAAAAAAAaQM3MzMzMzBBAZmZmZmZmJ0DNzMzMzMwyQJqZmZmZGTBAmpmZmZkZNEAzMzMzMzMrQGZmZmZmZixAMzMzMzMzJkCamZmZmZk3QJuZmZmZmShAZmZmZmamQ0CamZmZmRlCQDMzMzMzszBAZmZmZmZmLEAAAAAAAAAIQDMzMzMz8zxAmpmZmZkZREAzMzMzMzMmQM3MzMzMTEJAmZmZmZmZFUDNzMzMzMwWQA==\",\"dtype\":\"float64\",\"order\":\"little\",\"shape\":[92]},\"total_score\":{\"__ndarray__\":\"ZmZmZmYmTkBmZmZmZgZRQGZmZmZmBlJAMzMzMzMzT0ApXI/C9RBCQDMzMzMzc05AuB6F61EoSUCamZmZmZlPQAAAAAAAgFFAAAAAAACgV0BmZmZmZuZKQDMzMzMzU1RAMzMzMzNzTEAAAAAAAMBVQM3MzMzMDE9AZ2ZmZmZGVUCamZmZmdlTQClcj8L1CEhAmpmZmZnZTUAWrkfheuRBQFyPwvUoJENAZmZmZmZGUEAAAAAAAEBXQHsUrkfhkkNAMzMzMzMzTUAfhetRuOZEQM3MzMzMTFZA4XoUrkc5SEDXo3A9CtcxQM3MzMzM7FBAzczMzMysUEBmZmZmZiZMQGZmZmZmJktAMzMzMzNTVECamZmZmfFGQGRmZmZmZldAZmZmZmZmV0CamZmZmVlQQGZmZmZmBixACtejcD0KR0BmZmZmZkZUQAAAAAAA4FRA7FG4HoXTQ0DPzMzMzExXQM3MzMzMzE5AzczMzMwMTkAAAAAAAABQQDEzMzMzk1dAMzMzMzOzS0DsUbgehftDQOxRuB6FOzpAUrgehetxR0AAAAAAAABNQJqZmZmZGU1AzczMzMzMTkAzMzMzMxNTQJuZmZmZmVdAUrgeheuhR0CamZmZmdlTQGZmZmZmpk9AzczMzMzMTEBmZmZmZkZQQAAAAAAAYFJAZmZmZmYmT0BmZmZmZuZKQJqZmZmZqUJAzczMzMxsUUBmZmZmZgZQQJuZmZmZWU1AmZmZmZnZV0BmZmZmZmZWQM3MzMzMzEtAZmZmZmYGUUDsUbgehftDQDMzMzMzs0xAAAAAAABgVUBcj8L1KHRDQDUzMzMz20lAZmZmZmZmVEAK16NwPTpJQGVmZmZmZk9AmpmZmZmZTECPwvUoXJdJQDMzMzMz805AzczMzMwsUECamZmZmRlOQHsUrkfhQkVAMzMzMzMzTUBmZmZmZmZUQGZmZmZmZkxAzszMzMzsVkAAAAAAAEBPQA==\",\"dtype\":\"float64\",\"order\":\"little\",\"shape\":[92]},\"university\":[\"Aarhus University\",\"Amsterdam University\",\"Australian National University\",\"Basel University\",\"Binghamton University, State University of New York\",\"Birmingham University\",\"Brandeis University\",\"Bristol University\",\"Brown University\",\"California Institute of Technology (Caltech)\",\"Cardiff University\",\"Carnegie Mellon University\",\"Cologne University\",\"Columbia University\",\"Copenhagen University\",\"Cornell University\",\"Edinburgh University\",\"George Mason University\",\"Ghent University\",\"Graz University\",\"Greifswald University\",\"Groningen University\",\"Harvard University\",\"Hokkaido University\",\"Indiana University\",\"Innsbruck University\",\"Johns Hopkins University\",\"Kiel University\",\"Kitasato University\",\"Kyoto University\",\"Leiden University\",\"Liverpool University\",\"Lomonosov Moscow State University\",\"London School of Economics and Political Science\",\"Marburg University\",\"Massachusetts Institute of Technology (MIT)\",\"Massachusetts Institute of Technology (MIT), Center for Cancer Research\",\"McMaster University\",\"Meijo University\",\"Nagoya University\",\"New York University\",\"Northwestern University\",\"Pavia University\",\"Princeton University\",\"Rice University\",\"Sheffield University\",\"Sorbonne University\",\"Stanford University\",\"Stockholm University\",\"Strasbourg University\",\"Szeged University\",\"Tokyo Institute of Technology\",\"Tufts University\",\"University of Alberta\",\"University of Bonn\",\"University of British Columbia\",\"University of Cambridge\",\"University of Delaware\",\"University of Edinburgh\",\"University of Freiburg\",\"University of Geneva\",\"University of Groningen\",\"University of Heidelberg\",\"University of Helsinki\",\"University of Lausanne\",\"University of Lisbon\",\"University of Manchester\",\"University of Minnesota\",\"University of Oslo\",\"University of Oxford\",\"University of Pennsylvania\",\"University of Rochester\",\"University of Southern California\",\"University of Strasbourg\",\"University of Sussex\",\"University of Toronto\",\"University of Tsukuba\",\"University of Utah\",\"University of Washington\",\"University of Waterloo\",\"University of Zurich\",\"Universit\\u00e9 Catholique de Louvain\",\"Universit\\u00e9 Libre de Bruxelles\",\"Uppsala University\",\"Utrecht University\",\"Vanderbilt University\",\"Victoria University\",\"Vienna University\",\"Washington University\",\"W\\u00fcrzburg University\",\"Yale University\",\"\\u00c9cole Polytechnique\"],\"year\":[2020,2020,2020,2020,2020,2020,2020,2020,2020,2020,2020,2020,2020,2020,2020,2020,2020,2020,2020,2020,2020,2020,2020,2020,2020,2020,2020,2020,2020,2020,2020,2020,2020,2020,2020,2020,2020,2020,2020,2020,2020,2020,2020,2020,2020,2020,2020,2020,2020,2020,2020,2020,2020,2020,2020,2020,2020,2020,2020,2020,2020,2020,2020,2020,2020,2020,2020,2020,2020,2020,2020,2020,2020,2020,2020,2020,2020,2020,2020,2020,2020,2020,2020,2020,2020,2020,2020,2020,2020,2020,2020,2020]},\"selected\":{\"id\":\"1065\"},\"selection_policy\":{\"id\":\"1066\"}},\"id\":\"1034\",\"type\":\"ColumnDataSource\"}],\"root_ids\":[\"1002\"]},\"title\":\"Bokeh Application\",\"version\":\"2.2.3\"}};\n",
       "  var render_items = [{\"docid\":\"9f33342a-7fd3-4203-9892-d4213860b7a0\",\"root_ids\":[\"1002\"],\"roots\":{\"1002\":\"b87bada2-92a9-4d12-9dc6-4f9efe1652a6\"}}];\n",
       "  root.Bokeh.embed.embed_items_notebook(docs_json, render_items);\n",
       "\n",
       "  }\n",
       "  if (root.Bokeh !== undefined) {\n",
       "    embed_document(root);\n",
       "  } else {\n",
       "    var attempts = 0;\n",
       "    var timer = setInterval(function(root) {\n",
       "      if (root.Bokeh !== undefined) {\n",
       "        clearInterval(timer);\n",
       "        embed_document(root);\n",
       "      } else {\n",
       "        attempts++;\n",
       "        if (attempts > 100) {\n",
       "          clearInterval(timer);\n",
       "          console.log(\"Bokeh: ERROR: Unable to run BokehJS code because BokehJS library is missing\");\n",
       "        }\n",
       "      }\n",
       "    }, 10, root)\n",
       "  }\n",
       "})(window);"
      ],
      "application/vnd.bokehjs_exec.v0+json": ""
     },
     "metadata": {
      "application/vnd.bokehjs_exec.v0+json": {
       "id": "1002"
      }
     },
     "output_type": "display_data"
    }
   ],
   "source": [
    "# create interactive plot between 2017 and 2020\n",
    "p = figure( plot_width=600, plot_height=400)\n",
    "p.title.text = \"Pattern of associtation between total score and student-staff ratio\"\n",
    "\n",
    "### 2020\n",
    "df_2020 = q1_df[q1_df['year']==2020]\n",
    "source = ColumnDataSource(df_2020)\n",
    "\n",
    "# add regression line\n",
    "x=np.array(df_2020['total_score'])\n",
    "y=np.array(df_2020['student_staff_ratio'])\n",
    "\n",
    "par = np.polyfit(x, y, 1, full=True)\n",
    "slope=par[0][0]\n",
    "intercept=par[0][1]\n",
    "y_predicted = [slope*i + intercept  for i in x]\n",
    "\n",
    "p.line(x,y_predicted,color='#a6611a', legend_label='2020')\n",
    "\n",
    "# add scatter plot\n",
    "p.scatter(x= 'total_score',\n",
    "          y='student_staff_ratio',\n",
    "          color='#a6611a', \n",
    "          alpha=0.8, legend_label='2020',\n",
    "          muted_color='#a6611a', \n",
    "          muted_alpha=0.2,\n",
    "          marker='circle', size=15,\n",
    "          name = \"scatter\",\n",
    "          source = source)\n",
    "\n",
    "\n",
    "### 2019\n",
    "df_2019 = q1_df[q1_df['year']==2019]\n",
    "source = ColumnDataSource(df_2019)\n",
    "\n",
    "# add regression line\n",
    "x=np.array(df_2019['total_score'])\n",
    "y=np.array(df_2019['student_staff_ratio'])\n",
    "\n",
    "par = np.polyfit(x, y, 1, full=True)\n",
    "slope=par[0][0]\n",
    "intercept=par[0][1]\n",
    "y_predicted = [slope*i + intercept  for i in x]\n",
    "\n",
    "p.line(x,y_predicted,color='#dfc27d', legend_label='2019')\n",
    "\n",
    "# add scatter plot\n",
    "p.scatter(x= 'total_score',\n",
    "          y='student_staff_ratio',\n",
    "          color='#dfc27d', \n",
    "          alpha=0.8, legend_label='2019',\n",
    "          muted_color='#dfc27d', \n",
    "          muted_alpha=0.2,\n",
    "          marker='circle', size=15,\n",
    "          name = \"scatter\",\n",
    "          source = source)\n",
    "\n",
    "### 2018\n",
    "df_2018 = q1_df[q1_df['year']==2018]\n",
    "source = ColumnDataSource(df_2018)\n",
    "\n",
    "# add regression line\n",
    "x=np.array(df_2018['total_score'])\n",
    "y=np.array(df_2018['student_staff_ratio'])\n",
    "\n",
    "par = np.polyfit(x, y, 1, full=True)\n",
    "slope=par[0][0]\n",
    "intercept=par[0][1]\n",
    "y_predicted = [slope*i + intercept  for i in x]\n",
    "\n",
    "p.line(x,y_predicted,color='#80cdc1', legend_label='2018')\n",
    "\n",
    "# add scatter plot\n",
    "p.scatter(x= 'total_score',\n",
    "          y='student_staff_ratio',\n",
    "          color='#80cdc1', \n",
    "          alpha=0.8, legend_label='2018',\n",
    "          muted_color='#80cdc1', \n",
    "          muted_alpha=0.2,\n",
    "          marker='circle', size=15,\n",
    "          name = \"scatter\",\n",
    "          source = source)\n",
    "\n",
    "### 2017\n",
    "df_2017 = q1_df[q1_df['year']==2017]\n",
    "source = ColumnDataSource(df_2017)\n",
    "\n",
    "# add regression line\n",
    "x=np.array(df_2017['total_score'])\n",
    "y=np.array(df_2017['student_staff_ratio'])\n",
    "\n",
    "par = np.polyfit(x, y, 1, full=True)\n",
    "slope=par[0][0]\n",
    "intercept=par[0][1]\n",
    "y_predicted = [slope*i + intercept  for i in x]\n",
    "\n",
    "p.line(x,y_predicted,color='#018571', legend_label='2017')\n",
    "\n",
    "# add scatter plot\n",
    "p.scatter(x= 'total_score',\n",
    "          y='student_staff_ratio',\n",
    "          color='#018571', \n",
    "          alpha=0.8, legend_label='2017',\n",
    "          muted_color='#018571', \n",
    "          muted_alpha=0.2,\n",
    "          marker='circle', size=15,\n",
    "          name = \"scatter\",\n",
    "          source = source)\n",
    "\n",
    "# set tooltip\n",
    "hover = HoverTool(names=[\"scatter\"], tooltips=[(\"Name\", \"@university\"),\n",
    "                            ('Total Score', '@total_score'),\n",
    "                            ('Student-Staff Ratio', '@student_staff_ratio'),\n",
    "                            ('Number of Students', '@num_students')])\n",
    "p.add_tools(hover)\n",
    "\n",
    "# set axis labels, legend position and click policy\n",
    "p.xaxis.axis_label = 'Total Score'\n",
    "p.yaxis.axis_label = 'Student Staff Ratio'\n",
    "p.legend.location = \"top_right\"\n",
    "p.legend.click_policy=\"hide\"\n",
    "\n",
    "show(p)"
   ]
  },
  {
   "cell_type": "markdown",
   "metadata": {},
   "source": [
    "In this question our aim was to find out whether a top university with a lower student-staff ratio has a higher total score. Based on the plot above we can conclude that this is indeed the case. On the plot we can see the values for four consecutive years and the pattern is the same for all of them. The reason for this is probably that if the student-staff ratio is lower then the teachers can give more attention to students which helps them perform better and as a result the university gets a higher total score which places it higher in the ranking. There is one outlier university: University of Bonn where the student-staff ratio is unusually high, however it still has a total score of around 60 out of 100."
   ]
  },
  {
   "cell_type": "markdown",
   "metadata": {},
   "source": [
    "### 2.4 Is there a positive relationship between total score and number of Nobel Prize Laureates?"
   ]
  },
  {
   "cell_type": "markdown",
   "metadata": {},
   "source": [
    "##### Data Transformation"
   ]
  },
  {
   "cell_type": "code",
   "execution_count": 111,
   "metadata": {},
   "outputs": [],
   "source": [
    "# filter df for 2020\n",
    "only_2020 = df[df['year']==2020]"
   ]
  },
  {
   "cell_type": "code",
   "execution_count": 112,
   "metadata": {},
   "outputs": [
    {
     "data": {
      "text/html": [
       "<div>\n",
       "<style scoped>\n",
       "    .dataframe tbody tr th:only-of-type {\n",
       "        vertical-align: middle;\n",
       "    }\n",
       "\n",
       "    .dataframe tbody tr th {\n",
       "        vertical-align: top;\n",
       "    }\n",
       "\n",
       "    .dataframe thead th {\n",
       "        text-align: right;\n",
       "    }\n",
       "</style>\n",
       "<table border=\"1\" class=\"dataframe\">\n",
       "  <thead>\n",
       "    <tr style=\"text-align: right;\">\n",
       "      <th></th>\n",
       "      <th>year</th>\n",
       "      <th>university_name</th>\n",
       "      <th>total_score</th>\n",
       "      <th>nb_laureates</th>\n",
       "    </tr>\n",
       "  </thead>\n",
       "  <tbody>\n",
       "    <tr>\n",
       "      <th>0</th>\n",
       "      <td>2020</td>\n",
       "      <td>Aarhus University</td>\n",
       "      <td>60.3</td>\n",
       "      <td>1</td>\n",
       "    </tr>\n",
       "    <tr>\n",
       "      <th>1</th>\n",
       "      <td>2020</td>\n",
       "      <td>Australian National University</td>\n",
       "      <td>72.1</td>\n",
       "      <td>2</td>\n",
       "    </tr>\n",
       "  </tbody>\n",
       "</table>\n",
       "</div>"
      ],
      "text/plain": [
       "   year                 university_name  total_score  nb_laureates\n",
       "0  2020               Aarhus University         60.3             1\n",
       "1  2020  Australian National University         72.1             2"
      ]
     },
     "execution_count": 112,
     "metadata": {},
     "output_type": "execute_result"
    }
   ],
   "source": [
    "# get number of laureates by university\n",
    "by_year = only_2020.groupby(['year','university_name', 'total_score']).size().reset_index(name='nb_laureates')\n",
    "by_year.head(2)"
   ]
  },
  {
   "cell_type": "markdown",
   "metadata": {},
   "source": [
    "##### Plotting"
   ]
  },
  {
   "cell_type": "code",
   "execution_count": 113,
   "metadata": {},
   "outputs": [
    {
     "data": {
      "image/png": "[encoded data removed]",
      "text/plain": [
       "<Figure size 720x504 with 1 Axes>"
      ]
     },
     "metadata": {
      "needs_background": "light"
     },
     "output_type": "display_data"
    }
   ],
   "source": [
    "# create plot\n",
    "# set size\n",
    "fig, ax1 = plt.subplots()\n",
    "fig.set_size_inches(10, 7)\n",
    "\n",
    "sns.regplot(x=\"total_score\", y=\"nb_laureates\", data=by_year, lowess=True, scatter_kws = {'color': '#7fc97f', 'alpha': 0.7}, line_kws={\"color\": \"lightblue\"})\n",
    "\n",
    "#labels\n",
    "ax1.set_xlabel('Total university score')\n",
    "ax1.set_ylabel('Number of Laureates')\n",
    "ax1.set_title('Relationship Between Total University Score and Number of Laureates', fontsize=14)\n",
    "\n",
    "ax1.spines['top'].set_visible(False)\n",
    "ax1.spines['right'].set_visible(False)"
   ]
  },
  {
   "cell_type": "markdown",
   "metadata": {},
   "source": [
    "Originally we expected a growing trend between the university total score and the number of affiliated Laureates, and this graph shows that it is not a linear relationship, but an increasing one indeed. It seems that above score 60, there are less universities and more laureates (more than 5 per uni). The number of laureates jumps actually when the university score is higher than 85. We should think about other influencing factors, for instance number of students at a certain university since that increases the chances and also internationality can positively affect the number of laureates."
   ]
  },
  {
   "cell_type": "markdown",
   "metadata": {},
   "source": [
    "### 2.5 Which are the top 5 universities based on awarded prize amount?"
   ]
  },
  {
   "cell_type": "markdown",
   "metadata": {},
   "source": [
    "##### Data Transformation"
   ]
  },
  {
   "cell_type": "code",
   "execution_count": 114,
   "metadata": {},
   "outputs": [
    {
     "data": {
      "text/html": [
       "<div>\n",
       "<style scoped>\n",
       "    .dataframe tbody tr th:only-of-type {\n",
       "        vertical-align: middle;\n",
       "    }\n",
       "\n",
       "    .dataframe tbody tr th {\n",
       "        vertical-align: top;\n",
       "    }\n",
       "\n",
       "    .dataframe thead th {\n",
       "        text-align: right;\n",
       "    }\n",
       "</style>\n",
       "<table border=\"1\" class=\"dataframe\">\n",
       "  <thead>\n",
       "    <tr style=\"text-align: right;\">\n",
       "      <th></th>\n",
       "      <th>university_name</th>\n",
       "      <th>prize_per_uni</th>\n",
       "    </tr>\n",
       "  </thead>\n",
       "  <tbody>\n",
       "    <tr>\n",
       "      <th>0</th>\n",
       "      <td>Harvard University</td>\n",
       "      <td>75232328.4</td>\n",
       "    </tr>\n",
       "    <tr>\n",
       "      <th>1</th>\n",
       "      <td>Massachusetts Institute of Technology</td>\n",
       "      <td>68108941.7</td>\n",
       "    </tr>\n",
       "    <tr>\n",
       "      <th>2</th>\n",
       "      <td>Columbia University</td>\n",
       "      <td>66244610.7</td>\n",
       "    </tr>\n",
       "    <tr>\n",
       "      <th>3</th>\n",
       "      <td>Stanford University</td>\n",
       "      <td>65229082.6</td>\n",
       "    </tr>\n",
       "    <tr>\n",
       "      <th>4</th>\n",
       "      <td>Princeton University</td>\n",
       "      <td>63544736.6</td>\n",
       "    </tr>\n",
       "  </tbody>\n",
       "</table>\n",
       "</div>"
      ],
      "text/plain": [
       "                         university_name  prize_per_uni\n",
       "0                     Harvard University     75232328.4\n",
       "1  Massachusetts Institute of Technology     68108941.7\n",
       "2                    Columbia University     66244610.7\n",
       "3                    Stanford University     65229082.6\n",
       "4                   Princeton University     63544736.6"
      ]
     },
     "execution_count": 114,
     "metadata": {},
     "output_type": "execute_result"
    }
   ],
   "source": [
    "# calculate total prize amount by university\n",
    "prize_per_table = only_2020.groupby('university_name')['prize_amount_actual'].sum().sort_values(ascending=False).reset_index(name='prize_per_uni').head(5)\n",
    "\n",
    "# round sum\n",
    "prize_per_table['prize_per_uni'] = prize_per_table['prize_per_uni'].round(decimals = 1)\n",
    "\n",
    "prize_per_table"
   ]
  },
  {
   "cell_type": "code",
   "execution_count": 115,
   "metadata": {},
   "outputs": [
    {
     "data": {
      "text/html": [
       "<div>\n",
       "<style scoped>\n",
       "    .dataframe tbody tr th:only-of-type {\n",
       "        vertical-align: middle;\n",
       "    }\n",
       "\n",
       "    .dataframe tbody tr th {\n",
       "        vertical-align: top;\n",
       "    }\n",
       "\n",
       "    .dataframe thead th {\n",
       "        text-align: right;\n",
       "    }\n",
       "</style>\n",
       "<table border=\"1\" class=\"dataframe\">\n",
       "  <thead>\n",
       "    <tr style=\"text-align: right;\">\n",
       "      <th></th>\n",
       "      <th>world_rank</th>\n",
       "      <th>university_name</th>\n",
       "    </tr>\n",
       "  </thead>\n",
       "  <tbody>\n",
       "    <tr>\n",
       "      <th>3480</th>\n",
       "      <td>1</td>\n",
       "      <td>University of Oxford</td>\n",
       "    </tr>\n",
       "    <tr>\n",
       "      <th>3481</th>\n",
       "      <td>2</td>\n",
       "      <td>California Institute of Technology</td>\n",
       "    </tr>\n",
       "    <tr>\n",
       "      <th>3482</th>\n",
       "      <td>3</td>\n",
       "      <td>University of Cambridge</td>\n",
       "    </tr>\n",
       "    <tr>\n",
       "      <th>3483</th>\n",
       "      <td>4</td>\n",
       "      <td>Stanford University</td>\n",
       "    </tr>\n",
       "    <tr>\n",
       "      <th>3484</th>\n",
       "      <td>5</td>\n",
       "      <td>Massachusetts Institute of Technology</td>\n",
       "    </tr>\n",
       "  </tbody>\n",
       "</table>\n",
       "</div>"
      ],
      "text/plain": [
       "      world_rank                        university_name\n",
       "3480           1                   University of Oxford\n",
       "3481           2     California Institute of Technology\n",
       "3482           3                University of Cambridge\n",
       "3483           4                    Stanford University\n",
       "3484           5  Massachusetts Institute of Technology"
      ]
     },
     "execution_count": 115,
     "metadata": {},
     "output_type": "execute_result"
    }
   ],
   "source": [
    "# get top 5 ranked universities in 2020\n",
    "rank_2020 = ranking[ranking['year']==2020]\n",
    "rank_per_table = rank_2020.iloc[:, : 2].head()\n",
    "rank_per_table"
   ]
  },
  {
   "cell_type": "code",
   "execution_count": 116,
   "metadata": {},
   "outputs": [
    {
     "data": {
      "text/html": [
       "<div>\n",
       "<style scoped>\n",
       "    .dataframe tbody tr th:only-of-type {\n",
       "        vertical-align: middle;\n",
       "    }\n",
       "\n",
       "    .dataframe tbody tr th {\n",
       "        vertical-align: top;\n",
       "    }\n",
       "\n",
       "    .dataframe thead th {\n",
       "        text-align: right;\n",
       "    }\n",
       "</style>\n",
       "<table border=\"1\" class=\"dataframe\">\n",
       "  <thead>\n",
       "    <tr style=\"text-align: right;\">\n",
       "      <th></th>\n",
       "      <th>world_rank</th>\n",
       "      <th>university_name</th>\n",
       "      <th>prize_per_uni</th>\n",
       "    </tr>\n",
       "  </thead>\n",
       "  <tbody>\n",
       "    <tr>\n",
       "      <th>0</th>\n",
       "      <td>Not in Top 5</td>\n",
       "      <td>Harvard University</td>\n",
       "      <td>75232328.4</td>\n",
       "    </tr>\n",
       "    <tr>\n",
       "      <th>1</th>\n",
       "      <td>5.0</td>\n",
       "      <td>Massachusetts Institute of Technology</td>\n",
       "      <td>68108941.7</td>\n",
       "    </tr>\n",
       "    <tr>\n",
       "      <th>2</th>\n",
       "      <td>Not in Top 5</td>\n",
       "      <td>Columbia University</td>\n",
       "      <td>66244610.7</td>\n",
       "    </tr>\n",
       "    <tr>\n",
       "      <th>3</th>\n",
       "      <td>4.0</td>\n",
       "      <td>Stanford University</td>\n",
       "      <td>65229082.6</td>\n",
       "    </tr>\n",
       "    <tr>\n",
       "      <th>4</th>\n",
       "      <td>Not in Top 5</td>\n",
       "      <td>Princeton University</td>\n",
       "      <td>63544736.6</td>\n",
       "    </tr>\n",
       "  </tbody>\n",
       "</table>\n",
       "</div>"
      ],
      "text/plain": [
       "     world_rank                        university_name  prize_per_uni\n",
       "0  Not in Top 5                     Harvard University     75232328.4\n",
       "1           5.0  Massachusetts Institute of Technology     68108941.7\n",
       "2  Not in Top 5                    Columbia University     66244610.7\n",
       "3           4.0                    Stanford University     65229082.6\n",
       "4  Not in Top 5                   Princeton University     63544736.6"
      ]
     },
     "execution_count": 116,
     "metadata": {},
     "output_type": "execute_result"
    }
   ],
   "source": [
    "# join the two tables\n",
    "df2 = pd.merge(rank_per_table, prize_per_table, on='university_name',how='right')\n",
    "\n",
    "# sort based on sum of prize amount\n",
    "df2 = df2.sort_values(by = 'prize_per_uni', ascending=False).reset_index(drop=True)\n",
    "\n",
    "# replace nan with 'not in top 5'\n",
    "df2['world_rank'] = np.where(df2['world_rank'].isnull()==True, 'Not in Top 5', df2['world_rank'])\n",
    "\n",
    "df2"
   ]
  },
  {
   "cell_type": "markdown",
   "metadata": {},
   "source": [
    "##### Plotting"
   ]
  },
  {
   "cell_type": "code",
   "execution_count": 118,
   "metadata": {
    "scrolled": false
   },
   "outputs": [
    {
     "data": {
      "text/html": [
       "\n",
       "\n",
       "\n",
       "\n",
       "\n",
       "\n",
       "  <div class=\"bk-root\" id=\"9558967d-443e-4c33-9337-53696ddf03b2\" data-root-id=\"1473\"></div>\n"
      ]
     },
     "metadata": {},
     "output_type": "display_data"
    },
    {
     "data": {
      "application/javascript": [
       "(function(root) {\n",
       "  function embed_document(root) {\n",
       "    \n",
       "  var docs_json = {\"f4c2c9ac-ba59-424b-95b5-173db168d89b\":{\"roots\":{\"references\":[{\"attributes\":{\"below\":[{\"id\":\"1482\"}],\"center\":[{\"id\":\"1485\"},{\"id\":\"1488\"}],\"left\":[{\"id\":\"1486\"}],\"plot_height\":400,\"renderers\":[{\"id\":\"1509\"}],\"title\":{\"id\":\"1503\"},\"toolbar\":{\"id\":\"1496\"},\"x_range\":{\"id\":\"1474\"},\"x_scale\":{\"id\":\"1478\"},\"y_range\":{\"id\":\"1476\"},\"y_scale\":{\"id\":\"1480\"}},\"id\":\"1473\",\"subtype\":\"Figure\",\"type\":\"Plot\"},{\"attributes\":{},\"id\":\"1493\",\"type\":\"ResetTool\"},{\"attributes\":{\"bottom_units\":\"screen\",\"fill_alpha\":0.5,\"fill_color\":\"lightgrey\",\"left_units\":\"screen\",\"level\":\"overlay\",\"line_alpha\":1.0,\"line_color\":\"black\",\"line_dash\":[4,4],\"line_width\":2,\"right_units\":\"screen\",\"top_units\":\"screen\"},\"id\":\"1495\",\"type\":\"BoxAnnotation\"},{\"attributes\":{\"use_scientific\":false},\"id\":\"1511\",\"type\":\"BasicTickFormatter\"},{\"attributes\":{\"data\":{\"index\":[0,1,2,3,4],\"prize_per_uni\":{\"__ndarray__\":\"mpmZIdHvkUHNzMw2Cj2QQZqZmRWAlo9BzczM1Igaj0HNzMwE7UyOQQ==\",\"dtype\":\"float64\",\"order\":\"little\",\"shape\":[5]},\"university_name\":[\"Harvard University\",\"Massachusetts Institute of Technology\",\"Columbia University\",\"Stanford University\",\"Princeton University\"],\"world_rank\":[\"Not in Top 5\",\"5.0\",\"Not in Top 5\",\"4.0\",\"Not in Top 5\"]},\"selected\":{\"id\":\"1552\"},\"selection_policy\":{\"id\":\"1553\"}},\"id\":\"1504\",\"type\":\"ColumnDataSource\"},{\"attributes\":{},\"id\":\"1489\",\"type\":\"PanTool\"},{\"attributes\":{},\"id\":\"1478\",\"type\":\"LinearScale\"},{\"attributes\":{},\"id\":\"1494\",\"type\":\"HelpTool\"},{\"attributes\":{\"overlay\":{\"id\":\"1495\"}},\"id\":\"1491\",\"type\":\"BoxZoomTool\"},{\"attributes\":{},\"id\":\"1551\",\"type\":\"CategoricalTickFormatter\"},{\"attributes\":{},\"id\":\"1474\",\"type\":\"DataRange1d\"},{\"attributes\":{\"axis\":{\"id\":\"1482\"},\"ticker\":null},\"id\":\"1485\",\"type\":\"Grid\"},{\"attributes\":{\"text\":\"Hover over bars to see rank of university\"},\"id\":\"1503\",\"type\":\"Title\"},{\"attributes\":{\"factors\":[\"Harvard University\",\"Massachusetts Institute of Technology\",\"Columbia University\",\"Stanford University\",\"Princeton University\"]},\"id\":\"1476\",\"type\":\"FactorRange\"},{\"attributes\":{},\"id\":\"1490\",\"type\":\"WheelZoomTool\"},{\"attributes\":{\"callback\":null,\"tooltips\":[[\"prize per university (SEK)\",\"@prize_per_uni\"],[\"world rank\",\"@world_rank\"]]},\"id\":\"1512\",\"type\":\"HoverTool\"},{\"attributes\":{\"fill_alpha\":{\"value\":0.9},\"fill_color\":{\"field\":\"university_name\",\"transform\":{\"id\":\"1505\"}},\"height\":{\"value\":0.5},\"line_alpha\":{\"value\":0.9},\"line_color\":{\"value\":\"white\"},\"right\":{\"field\":\"prize_per_uni\"},\"y\":{\"field\":\"university_name\"}},\"id\":\"1507\",\"type\":\"HBar\"},{\"attributes\":{},\"id\":\"1552\",\"type\":\"Selection\"},{\"attributes\":{\"source\":{\"id\":\"1504\"}},\"id\":\"1510\",\"type\":\"CDSView\"},{\"attributes\":{},\"id\":\"1480\",\"type\":\"CategoricalScale\"},{\"attributes\":{},\"id\":\"1553\",\"type\":\"UnionRenderers\"},{\"attributes\":{\"factors\":[\"Harvard University\",\"Massachusetts Institute of Technology\",\"Columbia University\",\"Stanford University\",\"Princeton University\"],\"palette\":[\"#3288bd\",\"#99d594\",\"#e6f598\",\"#fee08b\",\"#fc8d59\",\"#d53e4f\"]},\"id\":\"1505\",\"type\":\"CategoricalColorMapper\"},{\"attributes\":{\"axis_label\":\"Total Prize Amount Won by Laureates\",\"formatter\":{\"id\":\"1511\"},\"ticker\":{\"id\":\"1483\"}},\"id\":\"1482\",\"type\":\"LinearAxis\"},{\"attributes\":{\"fill_alpha\":{\"value\":0.1},\"fill_color\":{\"field\":\"university_name\",\"transform\":{\"id\":\"1505\"}},\"height\":{\"value\":0.5},\"line_alpha\":{\"value\":0.1},\"line_color\":{\"value\":\"white\"},\"right\":{\"field\":\"prize_per_uni\"},\"y\":{\"field\":\"university_name\"}},\"id\":\"1508\",\"type\":\"HBar\"},{\"attributes\":{\"formatter\":{\"id\":\"1551\"},\"ticker\":{\"id\":\"1487\"}},\"id\":\"1486\",\"type\":\"CategoricalAxis\"},{\"attributes\":{},\"id\":\"1483\",\"type\":\"BasicTicker\"},{\"attributes\":{\"active_drag\":\"auto\",\"active_inspect\":\"auto\",\"active_multi\":null,\"active_scroll\":\"auto\",\"active_tap\":\"auto\",\"tools\":[{\"id\":\"1489\"},{\"id\":\"1490\"},{\"id\":\"1491\"},{\"id\":\"1492\"},{\"id\":\"1493\"},{\"id\":\"1494\"},{\"id\":\"1512\"}]},\"id\":\"1496\",\"type\":\"Toolbar\"},{\"attributes\":{\"data_source\":{\"id\":\"1504\"},\"glyph\":{\"id\":\"1507\"},\"hover_glyph\":null,\"muted_glyph\":null,\"nonselection_glyph\":{\"id\":\"1508\"},\"selection_glyph\":null,\"view\":{\"id\":\"1510\"}},\"id\":\"1509\",\"type\":\"GlyphRenderer\"},{\"attributes\":{\"axis\":{\"id\":\"1486\"},\"dimension\":1,\"ticker\":null},\"id\":\"1488\",\"type\":\"Grid\"},{\"attributes\":{},\"id\":\"1492\",\"type\":\"SaveTool\"},{\"attributes\":{},\"id\":\"1487\",\"type\":\"CategoricalTicker\"}],\"root_ids\":[\"1473\"]},\"title\":\"Bokeh Application\",\"version\":\"2.2.3\"}};\n",
       "  var render_items = [{\"docid\":\"f4c2c9ac-ba59-424b-95b5-173db168d89b\",\"root_ids\":[\"1473\"],\"roots\":{\"1473\":\"9558967d-443e-4c33-9337-53696ddf03b2\"}}];\n",
       "  root.Bokeh.embed.embed_items_notebook(docs_json, render_items);\n",
       "\n",
       "  }\n",
       "  if (root.Bokeh !== undefined) {\n",
       "    embed_document(root);\n",
       "  } else {\n",
       "    var attempts = 0;\n",
       "    var timer = setInterval(function(root) {\n",
       "      if (root.Bokeh !== undefined) {\n",
       "        clearInterval(timer);\n",
       "        embed_document(root);\n",
       "      } else {\n",
       "        attempts++;\n",
       "        if (attempts > 100) {\n",
       "          clearInterval(timer);\n",
       "          console.log(\"Bokeh: ERROR: Unable to run BokehJS code because BokehJS library is missing\");\n",
       "        }\n",
       "      }\n",
       "    }, 10, root)\n",
       "  }\n",
       "})(window);"
      ],
      "application/vnd.bokehjs_exec.v0+json": ""
     },
     "metadata": {
      "application/vnd.bokehjs_exec.v0+json": {
       "id": "1473"
      }
     },
     "output_type": "display_data"
    }
   ],
   "source": [
    "# create horizontal bar chart\n",
    "p = figure(plot_width=600, plot_height=400, y_range=df2[\"university_name\"])\n",
    "p.title.text = 'Hover over bars to see rank of university'\n",
    "\n",
    "source = ColumnDataSource(df2)\n",
    "\n",
    "p.hbar(y='university_name',\n",
    "       alpha=0.9,\n",
    "       line_color='white', fill_color=factor_cmap('university_name', palette=Spectral6, factors=df2['university_name']),\n",
    "       right=\"prize_per_uni\", height=0.5, source=source)\n",
    "\n",
    "p.xaxis.formatter.use_scientific = False\n",
    "\n",
    "hover = HoverTool(tooltips=[(\"prize per university (SEK)\", \"@prize_per_uni\"),\n",
    "                           (\"world rank\", \"@world_rank\")])\n",
    "\n",
    "p.add_tools(hover)\n",
    "p.xaxis.axis_label = 'Total Prize Amount Won by Laureates'\n",
    "\n",
    "show(p)"
   ]
  },
  {
   "cell_type": "markdown",
   "metadata": {},
   "source": [
    "We analysed the last year available in the dataset (2020) since we were interested in the most recent available sum of prizes so here we see the latest ranking as well. It turned out that the top 5 universities are not the ones whose laureates won the top 5 sums. There are only 2 universities - Stanford and MIT with rankings of 4 and 5 respectively - which made it to the top 5 total prizes won. The laureates from Harvard won the most of the amount in total until 2020 in which year the university ranked \"only\" 7th in the world list."
   ]
  },
  {
   "cell_type": "markdown",
   "metadata": {},
   "source": [
    "### 2.6 Is the age at award distribution different for those Laureates who worked in their home countries as opposed to who did not?"
   ]
  },
  {
   "cell_type": "markdown",
   "metadata": {},
   "source": [
    "##### Data Transformation"
   ]
  },
  {
   "cell_type": "code",
   "execution_count": 119,
   "metadata": {},
   "outputs": [
    {
     "data": {
      "text/plain": [
       "{'Netherlands',\n",
       " 'Russian Federation',\n",
       " 'United States',\n",
       " 'United States of America'}"
      ]
     },
     "execution_count": 119,
     "metadata": {},
     "output_type": "execute_result"
    }
   ],
   "source": [
    "# check if country names match in joined and nobel df-s\n",
    "diff = set(df['country'].unique()) - set(nobel['birth_place'].unique())\n",
    "diff"
   ]
  },
  {
   "cell_type": "code",
   "execution_count": 120,
   "metadata": {},
   "outputs": [
    {
     "data": {
      "text/plain": [
       "[array(['the Netherlands'], dtype=object),\n",
       " array(['Russia'], dtype=object),\n",
       " array(['USA'], dtype=object)]"
      ]
     },
     "execution_count": 120,
     "metadata": {},
     "output_type": "execute_result"
    }
   ],
   "source": [
    "# check the names of these countries in the nobel df\n",
    "list([nobel[nobel['birth_place'].str.contains(r'Netherlands')]['birth_place'].unique(),\n",
    "nobel[nobel['birth_place'].str.contains(r'Russia')]['birth_place'].unique(),\n",
    "nobel[nobel['birth_place'].str.contains(r'USA')]['birth_place'].unique()])"
   ]
  },
  {
   "cell_type": "code",
   "execution_count": 121,
   "metadata": {},
   "outputs": [],
   "source": [
    "# synchronize the country names in the country and birthplace columns\n",
    "df['country'] = np.where(df['country'] == 'Russian Federation', 'Russia', df['country'])\n",
    "df['country'] = np.where(df['country'] == 'Netherlands', 'the Netherlands', df['country'])\n",
    "df['country'] = np.where((df['country'] == 'United States') | (df['country'] == 'United States of America'), 'USA', df['country'])"
   ]
  },
  {
   "cell_type": "code",
   "execution_count": 122,
   "metadata": {},
   "outputs": [],
   "source": [
    "# create column to indicate whether laureate worked in their home country or not\n",
    "df['stayed'] = np.where(df['country'] == df['birth_place'], True, False)"
   ]
  },
  {
   "cell_type": "code",
   "execution_count": 123,
   "metadata": {},
   "outputs": [],
   "source": [
    "# create df for plotting\n",
    "q3_df = df.groupby(['name', 'stayed'])['age_at_award'].mean().reset_index().rename(columns ={0:'age_at_award'})"
   ]
  },
  {
   "cell_type": "markdown",
   "metadata": {},
   "source": [
    "##### Plotting"
   ]
  },
  {
   "cell_type": "code",
   "execution_count": 129,
   "metadata": {},
   "outputs": [
    {
     "data": {
      "text/plain": [
       "Text(0, 0.5, 'Number of Laureates')"
      ]
     },
     "execution_count": 129,
     "metadata": {},
     "output_type": "execute_result"
    },
    {
     "data": {
      "image/png": "[encoded data removed]",
      "text/plain": [
       "<Figure size 504x504 with 1 Axes>"
      ]
     },
     "metadata": {
      "needs_background": "light"
     },
     "output_type": "display_data"
    }
   ],
   "source": [
    "# create histogram\n",
    "fig, ax = plt.subplots(figsize=(7,7))\n",
    "\n",
    "sns.histplot(data=q3_df,\n",
    "             x=\"age_at_award\",\n",
    "             hue='stayed', binwidth=3).set_title('Distribution of age when receiving the Nobel Prize split by stayed', fontsize=14) \n",
    "plt.xlabel('Age at Award')\n",
    "plt.ylabel('Number of Laureates')"
   ]
  },
  {
   "cell_type": "markdown",
   "metadata": {},
   "source": [
    "Our aim was to find out whether the age distribution when receiving the Nobel Prize is different for Laureates who had a career in their home countries compared to those who worked abroad. Our hypothesis was that those who leave their home countries might need more time to prove themselves, therefore they are older when they receive the award. Based on the joint histogram above we can say that the number of Laureates who left their home countries is lower in general than of those who did not. We can also see that among those who stayed there is a considerably higher number of Laureates with younger age while most of the Laureates who worked abroad received the award after their late forties. Therefore we can say that our hypothesis was true."
   ]
  }
 ],
 "metadata": {
  "kernelspec": {
   "display_name": "Python 3",
   "language": "python",
   "name": "python3"
  },
  "language_info": {
   "codemirror_mode": {
    "name": "ipython",
    "version": 3
   },
   "file_extension": ".py",
   "mimetype": "text/x-python",
   "name": "python",
   "nbconvert_exporter": "python",
   "pygments_lexer": "ipython3",
   "version": "3.8.5"
  }
 },
 "nbformat": 4,
 "nbformat_minor": 4
}
